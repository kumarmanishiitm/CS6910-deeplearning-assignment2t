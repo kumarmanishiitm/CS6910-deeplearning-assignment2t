{
  "nbformat": 4,
  "nbformat_minor": 0,
  "metadata": {
    "colab": {
      "name": "CS21M033_Assignment2_part_B.ipynb",
      "provenance": [],
      "collapsed_sections": []
    },
    "kernelspec": {
      "name": "python3",
      "display_name": "Python 3"
    },
    "language_info": {
      "name": "python"
    },
    "widgets": {
      "application/vnd.jupyter.widget-state+json": {
        "47acfb69f83042168bdf7f90155e51bc": {
          "model_module": "@jupyter-widgets/controls",
          "model_name": "VBoxModel",
          "model_module_version": "1.5.0",
          "state": {
            "_dom_classes": [],
            "_model_module": "@jupyter-widgets/controls",
            "_model_module_version": "1.5.0",
            "_model_name": "VBoxModel",
            "_view_count": null,
            "_view_module": "@jupyter-widgets/controls",
            "_view_module_version": "1.5.0",
            "_view_name": "VBoxView",
            "box_style": "",
            "children": [
              "IPY_MODEL_3e60c4cbe97a40dca1d5f3226a4d1cbd",
              "IPY_MODEL_7abd182844d14a80b47b7bbc899556ab"
            ],
            "layout": "IPY_MODEL_b658c119fdf0402b888983578bcba58d"
          }
        },
        "3e60c4cbe97a40dca1d5f3226a4d1cbd": {
          "model_module": "@jupyter-widgets/controls",
          "model_name": "LabelModel",
          "model_module_version": "1.5.0",
          "state": {
            "_dom_classes": [],
            "_model_module": "@jupyter-widgets/controls",
            "_model_module_version": "1.5.0",
            "_model_name": "LabelModel",
            "_view_count": null,
            "_view_module": "@jupyter-widgets/controls",
            "_view_module_version": "1.5.0",
            "_view_name": "LabelView",
            "description": "",
            "description_tooltip": null,
            "layout": "IPY_MODEL_d0c7aa5f23dc4d87a2c858adeed65ea6",
            "placeholder": "​",
            "style": "IPY_MODEL_19d8d436baf44ba99e07bbff730b2173",
            "value": "0.008 MB of 0.008 MB uploaded (0.000 MB deduped)\r"
          }
        },
        "7abd182844d14a80b47b7bbc899556ab": {
          "model_module": "@jupyter-widgets/controls",
          "model_name": "FloatProgressModel",
          "model_module_version": "1.5.0",
          "state": {
            "_dom_classes": [],
            "_model_module": "@jupyter-widgets/controls",
            "_model_module_version": "1.5.0",
            "_model_name": "FloatProgressModel",
            "_view_count": null,
            "_view_module": "@jupyter-widgets/controls",
            "_view_module_version": "1.5.0",
            "_view_name": "ProgressView",
            "bar_style": "",
            "description": "",
            "description_tooltip": null,
            "layout": "IPY_MODEL_e44a1f24aeee4756af537d56a678a4b9",
            "max": 1,
            "min": 0,
            "orientation": "horizontal",
            "style": "IPY_MODEL_765389c1e0ba4809a45a44b587a1e5b0",
            "value": 1
          }
        },
        "b658c119fdf0402b888983578bcba58d": {
          "model_module": "@jupyter-widgets/base",
          "model_name": "LayoutModel",
          "model_module_version": "1.2.0",
          "state": {
            "_model_module": "@jupyter-widgets/base",
            "_model_module_version": "1.2.0",
            "_model_name": "LayoutModel",
            "_view_count": null,
            "_view_module": "@jupyter-widgets/base",
            "_view_module_version": "1.2.0",
            "_view_name": "LayoutView",
            "align_content": null,
            "align_items": null,
            "align_self": null,
            "border": null,
            "bottom": null,
            "display": null,
            "flex": null,
            "flex_flow": null,
            "grid_area": null,
            "grid_auto_columns": null,
            "grid_auto_flow": null,
            "grid_auto_rows": null,
            "grid_column": null,
            "grid_gap": null,
            "grid_row": null,
            "grid_template_areas": null,
            "grid_template_columns": null,
            "grid_template_rows": null,
            "height": null,
            "justify_content": null,
            "justify_items": null,
            "left": null,
            "margin": null,
            "max_height": null,
            "max_width": null,
            "min_height": null,
            "min_width": null,
            "object_fit": null,
            "object_position": null,
            "order": null,
            "overflow": null,
            "overflow_x": null,
            "overflow_y": null,
            "padding": null,
            "right": null,
            "top": null,
            "visibility": null,
            "width": null
          }
        },
        "d0c7aa5f23dc4d87a2c858adeed65ea6": {
          "model_module": "@jupyter-widgets/base",
          "model_name": "LayoutModel",
          "model_module_version": "1.2.0",
          "state": {
            "_model_module": "@jupyter-widgets/base",
            "_model_module_version": "1.2.0",
            "_model_name": "LayoutModel",
            "_view_count": null,
            "_view_module": "@jupyter-widgets/base",
            "_view_module_version": "1.2.0",
            "_view_name": "LayoutView",
            "align_content": null,
            "align_items": null,
            "align_self": null,
            "border": null,
            "bottom": null,
            "display": null,
            "flex": null,
            "flex_flow": null,
            "grid_area": null,
            "grid_auto_columns": null,
            "grid_auto_flow": null,
            "grid_auto_rows": null,
            "grid_column": null,
            "grid_gap": null,
            "grid_row": null,
            "grid_template_areas": null,
            "grid_template_columns": null,
            "grid_template_rows": null,
            "height": null,
            "justify_content": null,
            "justify_items": null,
            "left": null,
            "margin": null,
            "max_height": null,
            "max_width": null,
            "min_height": null,
            "min_width": null,
            "object_fit": null,
            "object_position": null,
            "order": null,
            "overflow": null,
            "overflow_x": null,
            "overflow_y": null,
            "padding": null,
            "right": null,
            "top": null,
            "visibility": null,
            "width": null
          }
        },
        "19d8d436baf44ba99e07bbff730b2173": {
          "model_module": "@jupyter-widgets/controls",
          "model_name": "DescriptionStyleModel",
          "model_module_version": "1.5.0",
          "state": {
            "_model_module": "@jupyter-widgets/controls",
            "_model_module_version": "1.5.0",
            "_model_name": "DescriptionStyleModel",
            "_view_count": null,
            "_view_module": "@jupyter-widgets/base",
            "_view_module_version": "1.2.0",
            "_view_name": "StyleView",
            "description_width": ""
          }
        },
        "e44a1f24aeee4756af537d56a678a4b9": {
          "model_module": "@jupyter-widgets/base",
          "model_name": "LayoutModel",
          "model_module_version": "1.2.0",
          "state": {
            "_model_module": "@jupyter-widgets/base",
            "_model_module_version": "1.2.0",
            "_model_name": "LayoutModel",
            "_view_count": null,
            "_view_module": "@jupyter-widgets/base",
            "_view_module_version": "1.2.0",
            "_view_name": "LayoutView",
            "align_content": null,
            "align_items": null,
            "align_self": null,
            "border": null,
            "bottom": null,
            "display": null,
            "flex": null,
            "flex_flow": null,
            "grid_area": null,
            "grid_auto_columns": null,
            "grid_auto_flow": null,
            "grid_auto_rows": null,
            "grid_column": null,
            "grid_gap": null,
            "grid_row": null,
            "grid_template_areas": null,
            "grid_template_columns": null,
            "grid_template_rows": null,
            "height": null,
            "justify_content": null,
            "justify_items": null,
            "left": null,
            "margin": null,
            "max_height": null,
            "max_width": null,
            "min_height": null,
            "min_width": null,
            "object_fit": null,
            "object_position": null,
            "order": null,
            "overflow": null,
            "overflow_x": null,
            "overflow_y": null,
            "padding": null,
            "right": null,
            "top": null,
            "visibility": null,
            "width": null
          }
        },
        "765389c1e0ba4809a45a44b587a1e5b0": {
          "model_module": "@jupyter-widgets/controls",
          "model_name": "ProgressStyleModel",
          "model_module_version": "1.5.0",
          "state": {
            "_model_module": "@jupyter-widgets/controls",
            "_model_module_version": "1.5.0",
            "_model_name": "ProgressStyleModel",
            "_view_count": null,
            "_view_module": "@jupyter-widgets/base",
            "_view_module_version": "1.2.0",
            "_view_name": "StyleView",
            "bar_color": null,
            "description_width": ""
          }
        },
        "50f0af03e91448d79ef7a5028d99d7a4": {
          "model_module": "@jupyter-widgets/controls",
          "model_name": "VBoxModel",
          "model_module_version": "1.5.0",
          "state": {
            "_dom_classes": [],
            "_model_module": "@jupyter-widgets/controls",
            "_model_module_version": "1.5.0",
            "_model_name": "VBoxModel",
            "_view_count": null,
            "_view_module": "@jupyter-widgets/controls",
            "_view_module_version": "1.5.0",
            "_view_name": "VBoxView",
            "box_style": "",
            "children": [
              "IPY_MODEL_7cce673c255a492bbe46d25dee27025f",
              "IPY_MODEL_1c2fc1eebb804967894183507726036e"
            ],
            "layout": "IPY_MODEL_bddd2ac6e24446e8b618b36a219f9d87"
          }
        },
        "7cce673c255a492bbe46d25dee27025f": {
          "model_module": "@jupyter-widgets/controls",
          "model_name": "LabelModel",
          "model_module_version": "1.5.0",
          "state": {
            "_dom_classes": [],
            "_model_module": "@jupyter-widgets/controls",
            "_model_module_version": "1.5.0",
            "_model_name": "LabelModel",
            "_view_count": null,
            "_view_module": "@jupyter-widgets/controls",
            "_view_module_version": "1.5.0",
            "_view_name": "LabelView",
            "description": "",
            "description_tooltip": null,
            "layout": "IPY_MODEL_d963c22553a14d8f8406e8ea5b73b5db",
            "placeholder": "​",
            "style": "IPY_MODEL_ae56f8f761c9487ea4bc24e025d35a61",
            "value": "289.921 MB of 289.921 MB uploaded (0.000 MB deduped)\r"
          }
        },
        "1c2fc1eebb804967894183507726036e": {
          "model_module": "@jupyter-widgets/controls",
          "model_name": "FloatProgressModel",
          "model_module_version": "1.5.0",
          "state": {
            "_dom_classes": [],
            "_model_module": "@jupyter-widgets/controls",
            "_model_module_version": "1.5.0",
            "_model_name": "FloatProgressModel",
            "_view_count": null,
            "_view_module": "@jupyter-widgets/controls",
            "_view_module_version": "1.5.0",
            "_view_name": "ProgressView",
            "bar_style": "",
            "description": "",
            "description_tooltip": null,
            "layout": "IPY_MODEL_7119664f64464454a44636f11eb69dc6",
            "max": 1,
            "min": 0,
            "orientation": "horizontal",
            "style": "IPY_MODEL_5a612c45e4ec4131a973282685006de1",
            "value": 1
          }
        },
        "bddd2ac6e24446e8b618b36a219f9d87": {
          "model_module": "@jupyter-widgets/base",
          "model_name": "LayoutModel",
          "model_module_version": "1.2.0",
          "state": {
            "_model_module": "@jupyter-widgets/base",
            "_model_module_version": "1.2.0",
            "_model_name": "LayoutModel",
            "_view_count": null,
            "_view_module": "@jupyter-widgets/base",
            "_view_module_version": "1.2.0",
            "_view_name": "LayoutView",
            "align_content": null,
            "align_items": null,
            "align_self": null,
            "border": null,
            "bottom": null,
            "display": null,
            "flex": null,
            "flex_flow": null,
            "grid_area": null,
            "grid_auto_columns": null,
            "grid_auto_flow": null,
            "grid_auto_rows": null,
            "grid_column": null,
            "grid_gap": null,
            "grid_row": null,
            "grid_template_areas": null,
            "grid_template_columns": null,
            "grid_template_rows": null,
            "height": null,
            "justify_content": null,
            "justify_items": null,
            "left": null,
            "margin": null,
            "max_height": null,
            "max_width": null,
            "min_height": null,
            "min_width": null,
            "object_fit": null,
            "object_position": null,
            "order": null,
            "overflow": null,
            "overflow_x": null,
            "overflow_y": null,
            "padding": null,
            "right": null,
            "top": null,
            "visibility": null,
            "width": null
          }
        },
        "d963c22553a14d8f8406e8ea5b73b5db": {
          "model_module": "@jupyter-widgets/base",
          "model_name": "LayoutModel",
          "model_module_version": "1.2.0",
          "state": {
            "_model_module": "@jupyter-widgets/base",
            "_model_module_version": "1.2.0",
            "_model_name": "LayoutModel",
            "_view_count": null,
            "_view_module": "@jupyter-widgets/base",
            "_view_module_version": "1.2.0",
            "_view_name": "LayoutView",
            "align_content": null,
            "align_items": null,
            "align_self": null,
            "border": null,
            "bottom": null,
            "display": null,
            "flex": null,
            "flex_flow": null,
            "grid_area": null,
            "grid_auto_columns": null,
            "grid_auto_flow": null,
            "grid_auto_rows": null,
            "grid_column": null,
            "grid_gap": null,
            "grid_row": null,
            "grid_template_areas": null,
            "grid_template_columns": null,
            "grid_template_rows": null,
            "height": null,
            "justify_content": null,
            "justify_items": null,
            "left": null,
            "margin": null,
            "max_height": null,
            "max_width": null,
            "min_height": null,
            "min_width": null,
            "object_fit": null,
            "object_position": null,
            "order": null,
            "overflow": null,
            "overflow_x": null,
            "overflow_y": null,
            "padding": null,
            "right": null,
            "top": null,
            "visibility": null,
            "width": null
          }
        },
        "ae56f8f761c9487ea4bc24e025d35a61": {
          "model_module": "@jupyter-widgets/controls",
          "model_name": "DescriptionStyleModel",
          "model_module_version": "1.5.0",
          "state": {
            "_model_module": "@jupyter-widgets/controls",
            "_model_module_version": "1.5.0",
            "_model_name": "DescriptionStyleModel",
            "_view_count": null,
            "_view_module": "@jupyter-widgets/base",
            "_view_module_version": "1.2.0",
            "_view_name": "StyleView",
            "description_width": ""
          }
        },
        "7119664f64464454a44636f11eb69dc6": {
          "model_module": "@jupyter-widgets/base",
          "model_name": "LayoutModel",
          "model_module_version": "1.2.0",
          "state": {
            "_model_module": "@jupyter-widgets/base",
            "_model_module_version": "1.2.0",
            "_model_name": "LayoutModel",
            "_view_count": null,
            "_view_module": "@jupyter-widgets/base",
            "_view_module_version": "1.2.0",
            "_view_name": "LayoutView",
            "align_content": null,
            "align_items": null,
            "align_self": null,
            "border": null,
            "bottom": null,
            "display": null,
            "flex": null,
            "flex_flow": null,
            "grid_area": null,
            "grid_auto_columns": null,
            "grid_auto_flow": null,
            "grid_auto_rows": null,
            "grid_column": null,
            "grid_gap": null,
            "grid_row": null,
            "grid_template_areas": null,
            "grid_template_columns": null,
            "grid_template_rows": null,
            "height": null,
            "justify_content": null,
            "justify_items": null,
            "left": null,
            "margin": null,
            "max_height": null,
            "max_width": null,
            "min_height": null,
            "min_width": null,
            "object_fit": null,
            "object_position": null,
            "order": null,
            "overflow": null,
            "overflow_x": null,
            "overflow_y": null,
            "padding": null,
            "right": null,
            "top": null,
            "visibility": null,
            "width": null
          }
        },
        "5a612c45e4ec4131a973282685006de1": {
          "model_module": "@jupyter-widgets/controls",
          "model_name": "ProgressStyleModel",
          "model_module_version": "1.5.0",
          "state": {
            "_model_module": "@jupyter-widgets/controls",
            "_model_module_version": "1.5.0",
            "_model_name": "ProgressStyleModel",
            "_view_count": null,
            "_view_module": "@jupyter-widgets/base",
            "_view_module_version": "1.2.0",
            "_view_name": "StyleView",
            "bar_color": null,
            "description_width": ""
          }
        },
        "9f8a7b8b08c642ed977a4a7d58d63609": {
          "model_module": "@jupyter-widgets/controls",
          "model_name": "VBoxModel",
          "model_module_version": "1.5.0",
          "state": {
            "_dom_classes": [],
            "_model_module": "@jupyter-widgets/controls",
            "_model_module_version": "1.5.0",
            "_model_name": "VBoxModel",
            "_view_count": null,
            "_view_module": "@jupyter-widgets/controls",
            "_view_module_version": "1.5.0",
            "_view_name": "VBoxView",
            "box_style": "",
            "children": [
              "IPY_MODEL_92b847d3bf96402db31f53f00e27d906",
              "IPY_MODEL_7e686ec81b324968b5522ad81ac41595"
            ],
            "layout": "IPY_MODEL_a4f4e931ff5841448170ee5026aea45b"
          }
        },
        "92b847d3bf96402db31f53f00e27d906": {
          "model_module": "@jupyter-widgets/controls",
          "model_name": "LabelModel",
          "model_module_version": "1.5.0",
          "state": {
            "_dom_classes": [],
            "_model_module": "@jupyter-widgets/controls",
            "_model_module_version": "1.5.0",
            "_model_name": "LabelModel",
            "_view_count": null,
            "_view_module": "@jupyter-widgets/controls",
            "_view_module_version": "1.5.0",
            "_view_name": "LabelView",
            "description": "",
            "description_tooltip": null,
            "layout": "IPY_MODEL_38baefe31d7f467687fc3935ce2b0fb3",
            "placeholder": "​",
            "style": "IPY_MODEL_ef79b19c9bff4c3bbe60de1b46e25fde",
            "value": "148.657 MB of 148.657 MB uploaded (0.000 MB deduped)\r"
          }
        },
        "7e686ec81b324968b5522ad81ac41595": {
          "model_module": "@jupyter-widgets/controls",
          "model_name": "FloatProgressModel",
          "model_module_version": "1.5.0",
          "state": {
            "_dom_classes": [],
            "_model_module": "@jupyter-widgets/controls",
            "_model_module_version": "1.5.0",
            "_model_name": "FloatProgressModel",
            "_view_count": null,
            "_view_module": "@jupyter-widgets/controls",
            "_view_module_version": "1.5.0",
            "_view_name": "ProgressView",
            "bar_style": "",
            "description": "",
            "description_tooltip": null,
            "layout": "IPY_MODEL_139ba436e3dc4898853d9ccab03fa99b",
            "max": 1,
            "min": 0,
            "orientation": "horizontal",
            "style": "IPY_MODEL_64f0fec5590f498989700dfaa13229a0",
            "value": 1
          }
        },
        "a4f4e931ff5841448170ee5026aea45b": {
          "model_module": "@jupyter-widgets/base",
          "model_name": "LayoutModel",
          "model_module_version": "1.2.0",
          "state": {
            "_model_module": "@jupyter-widgets/base",
            "_model_module_version": "1.2.0",
            "_model_name": "LayoutModel",
            "_view_count": null,
            "_view_module": "@jupyter-widgets/base",
            "_view_module_version": "1.2.0",
            "_view_name": "LayoutView",
            "align_content": null,
            "align_items": null,
            "align_self": null,
            "border": null,
            "bottom": null,
            "display": null,
            "flex": null,
            "flex_flow": null,
            "grid_area": null,
            "grid_auto_columns": null,
            "grid_auto_flow": null,
            "grid_auto_rows": null,
            "grid_column": null,
            "grid_gap": null,
            "grid_row": null,
            "grid_template_areas": null,
            "grid_template_columns": null,
            "grid_template_rows": null,
            "height": null,
            "justify_content": null,
            "justify_items": null,
            "left": null,
            "margin": null,
            "max_height": null,
            "max_width": null,
            "min_height": null,
            "min_width": null,
            "object_fit": null,
            "object_position": null,
            "order": null,
            "overflow": null,
            "overflow_x": null,
            "overflow_y": null,
            "padding": null,
            "right": null,
            "top": null,
            "visibility": null,
            "width": null
          }
        },
        "38baefe31d7f467687fc3935ce2b0fb3": {
          "model_module": "@jupyter-widgets/base",
          "model_name": "LayoutModel",
          "model_module_version": "1.2.0",
          "state": {
            "_model_module": "@jupyter-widgets/base",
            "_model_module_version": "1.2.0",
            "_model_name": "LayoutModel",
            "_view_count": null,
            "_view_module": "@jupyter-widgets/base",
            "_view_module_version": "1.2.0",
            "_view_name": "LayoutView",
            "align_content": null,
            "align_items": null,
            "align_self": null,
            "border": null,
            "bottom": null,
            "display": null,
            "flex": null,
            "flex_flow": null,
            "grid_area": null,
            "grid_auto_columns": null,
            "grid_auto_flow": null,
            "grid_auto_rows": null,
            "grid_column": null,
            "grid_gap": null,
            "grid_row": null,
            "grid_template_areas": null,
            "grid_template_columns": null,
            "grid_template_rows": null,
            "height": null,
            "justify_content": null,
            "justify_items": null,
            "left": null,
            "margin": null,
            "max_height": null,
            "max_width": null,
            "min_height": null,
            "min_width": null,
            "object_fit": null,
            "object_position": null,
            "order": null,
            "overflow": null,
            "overflow_x": null,
            "overflow_y": null,
            "padding": null,
            "right": null,
            "top": null,
            "visibility": null,
            "width": null
          }
        },
        "ef79b19c9bff4c3bbe60de1b46e25fde": {
          "model_module": "@jupyter-widgets/controls",
          "model_name": "DescriptionStyleModel",
          "model_module_version": "1.5.0",
          "state": {
            "_model_module": "@jupyter-widgets/controls",
            "_model_module_version": "1.5.0",
            "_model_name": "DescriptionStyleModel",
            "_view_count": null,
            "_view_module": "@jupyter-widgets/base",
            "_view_module_version": "1.2.0",
            "_view_name": "StyleView",
            "description_width": ""
          }
        },
        "139ba436e3dc4898853d9ccab03fa99b": {
          "model_module": "@jupyter-widgets/base",
          "model_name": "LayoutModel",
          "model_module_version": "1.2.0",
          "state": {
            "_model_module": "@jupyter-widgets/base",
            "_model_module_version": "1.2.0",
            "_model_name": "LayoutModel",
            "_view_count": null,
            "_view_module": "@jupyter-widgets/base",
            "_view_module_version": "1.2.0",
            "_view_name": "LayoutView",
            "align_content": null,
            "align_items": null,
            "align_self": null,
            "border": null,
            "bottom": null,
            "display": null,
            "flex": null,
            "flex_flow": null,
            "grid_area": null,
            "grid_auto_columns": null,
            "grid_auto_flow": null,
            "grid_auto_rows": null,
            "grid_column": null,
            "grid_gap": null,
            "grid_row": null,
            "grid_template_areas": null,
            "grid_template_columns": null,
            "grid_template_rows": null,
            "height": null,
            "justify_content": null,
            "justify_items": null,
            "left": null,
            "margin": null,
            "max_height": null,
            "max_width": null,
            "min_height": null,
            "min_width": null,
            "object_fit": null,
            "object_position": null,
            "order": null,
            "overflow": null,
            "overflow_x": null,
            "overflow_y": null,
            "padding": null,
            "right": null,
            "top": null,
            "visibility": null,
            "width": null
          }
        },
        "64f0fec5590f498989700dfaa13229a0": {
          "model_module": "@jupyter-widgets/controls",
          "model_name": "ProgressStyleModel",
          "model_module_version": "1.5.0",
          "state": {
            "_model_module": "@jupyter-widgets/controls",
            "_model_module_version": "1.5.0",
            "_model_name": "ProgressStyleModel",
            "_view_count": null,
            "_view_module": "@jupyter-widgets/base",
            "_view_module_version": "1.2.0",
            "_view_name": "StyleView",
            "bar_color": null,
            "description_width": ""
          }
        },
        "2dd6de1735e449b1ab2e099f20fba150": {
          "model_module": "@jupyter-widgets/controls",
          "model_name": "VBoxModel",
          "model_module_version": "1.5.0",
          "state": {
            "_dom_classes": [],
            "_model_module": "@jupyter-widgets/controls",
            "_model_module_version": "1.5.0",
            "_model_name": "VBoxModel",
            "_view_count": null,
            "_view_module": "@jupyter-widgets/controls",
            "_view_module_version": "1.5.0",
            "_view_name": "VBoxView",
            "box_style": "",
            "children": [
              "IPY_MODEL_15724cf7c5bd4e908da6a7c20fa5dda6",
              "IPY_MODEL_febb037bec8941e68321af3bf815c1e6"
            ],
            "layout": "IPY_MODEL_50a0121622c24a0f9c398138f5c7e2a0"
          }
        },
        "15724cf7c5bd4e908da6a7c20fa5dda6": {
          "model_module": "@jupyter-widgets/controls",
          "model_name": "LabelModel",
          "model_module_version": "1.5.0",
          "state": {
            "_dom_classes": [],
            "_model_module": "@jupyter-widgets/controls",
            "_model_module_version": "1.5.0",
            "_model_name": "LabelModel",
            "_view_count": null,
            "_view_module": "@jupyter-widgets/controls",
            "_view_module_version": "1.5.0",
            "_view_name": "LabelView",
            "description": "",
            "description_tooltip": null,
            "layout": "IPY_MODEL_1fa545c45ea747cb93fbbe10e059c2bd",
            "placeholder": "​",
            "style": "IPY_MODEL_dc4155250ea14431becb10074e7c8a37",
            "value": "343.529 MB of 343.529 MB uploaded (0.000 MB deduped)\r"
          }
        },
        "febb037bec8941e68321af3bf815c1e6": {
          "model_module": "@jupyter-widgets/controls",
          "model_name": "FloatProgressModel",
          "model_module_version": "1.5.0",
          "state": {
            "_dom_classes": [],
            "_model_module": "@jupyter-widgets/controls",
            "_model_module_version": "1.5.0",
            "_model_name": "FloatProgressModel",
            "_view_count": null,
            "_view_module": "@jupyter-widgets/controls",
            "_view_module_version": "1.5.0",
            "_view_name": "ProgressView",
            "bar_style": "",
            "description": "",
            "description_tooltip": null,
            "layout": "IPY_MODEL_faebeafc9bc94e98b8b484aad5446df4",
            "max": 1,
            "min": 0,
            "orientation": "horizontal",
            "style": "IPY_MODEL_7de7d5be4c8b413883d92c8cf3f219e5",
            "value": 1
          }
        },
        "50a0121622c24a0f9c398138f5c7e2a0": {
          "model_module": "@jupyter-widgets/base",
          "model_name": "LayoutModel",
          "model_module_version": "1.2.0",
          "state": {
            "_model_module": "@jupyter-widgets/base",
            "_model_module_version": "1.2.0",
            "_model_name": "LayoutModel",
            "_view_count": null,
            "_view_module": "@jupyter-widgets/base",
            "_view_module_version": "1.2.0",
            "_view_name": "LayoutView",
            "align_content": null,
            "align_items": null,
            "align_self": null,
            "border": null,
            "bottom": null,
            "display": null,
            "flex": null,
            "flex_flow": null,
            "grid_area": null,
            "grid_auto_columns": null,
            "grid_auto_flow": null,
            "grid_auto_rows": null,
            "grid_column": null,
            "grid_gap": null,
            "grid_row": null,
            "grid_template_areas": null,
            "grid_template_columns": null,
            "grid_template_rows": null,
            "height": null,
            "justify_content": null,
            "justify_items": null,
            "left": null,
            "margin": null,
            "max_height": null,
            "max_width": null,
            "min_height": null,
            "min_width": null,
            "object_fit": null,
            "object_position": null,
            "order": null,
            "overflow": null,
            "overflow_x": null,
            "overflow_y": null,
            "padding": null,
            "right": null,
            "top": null,
            "visibility": null,
            "width": null
          }
        },
        "1fa545c45ea747cb93fbbe10e059c2bd": {
          "model_module": "@jupyter-widgets/base",
          "model_name": "LayoutModel",
          "model_module_version": "1.2.0",
          "state": {
            "_model_module": "@jupyter-widgets/base",
            "_model_module_version": "1.2.0",
            "_model_name": "LayoutModel",
            "_view_count": null,
            "_view_module": "@jupyter-widgets/base",
            "_view_module_version": "1.2.0",
            "_view_name": "LayoutView",
            "align_content": null,
            "align_items": null,
            "align_self": null,
            "border": null,
            "bottom": null,
            "display": null,
            "flex": null,
            "flex_flow": null,
            "grid_area": null,
            "grid_auto_columns": null,
            "grid_auto_flow": null,
            "grid_auto_rows": null,
            "grid_column": null,
            "grid_gap": null,
            "grid_row": null,
            "grid_template_areas": null,
            "grid_template_columns": null,
            "grid_template_rows": null,
            "height": null,
            "justify_content": null,
            "justify_items": null,
            "left": null,
            "margin": null,
            "max_height": null,
            "max_width": null,
            "min_height": null,
            "min_width": null,
            "object_fit": null,
            "object_position": null,
            "order": null,
            "overflow": null,
            "overflow_x": null,
            "overflow_y": null,
            "padding": null,
            "right": null,
            "top": null,
            "visibility": null,
            "width": null
          }
        },
        "dc4155250ea14431becb10074e7c8a37": {
          "model_module": "@jupyter-widgets/controls",
          "model_name": "DescriptionStyleModel",
          "model_module_version": "1.5.0",
          "state": {
            "_model_module": "@jupyter-widgets/controls",
            "_model_module_version": "1.5.0",
            "_model_name": "DescriptionStyleModel",
            "_view_count": null,
            "_view_module": "@jupyter-widgets/base",
            "_view_module_version": "1.2.0",
            "_view_name": "StyleView",
            "description_width": ""
          }
        },
        "faebeafc9bc94e98b8b484aad5446df4": {
          "model_module": "@jupyter-widgets/base",
          "model_name": "LayoutModel",
          "model_module_version": "1.2.0",
          "state": {
            "_model_module": "@jupyter-widgets/base",
            "_model_module_version": "1.2.0",
            "_model_name": "LayoutModel",
            "_view_count": null,
            "_view_module": "@jupyter-widgets/base",
            "_view_module_version": "1.2.0",
            "_view_name": "LayoutView",
            "align_content": null,
            "align_items": null,
            "align_self": null,
            "border": null,
            "bottom": null,
            "display": null,
            "flex": null,
            "flex_flow": null,
            "grid_area": null,
            "grid_auto_columns": null,
            "grid_auto_flow": null,
            "grid_auto_rows": null,
            "grid_column": null,
            "grid_gap": null,
            "grid_row": null,
            "grid_template_areas": null,
            "grid_template_columns": null,
            "grid_template_rows": null,
            "height": null,
            "justify_content": null,
            "justify_items": null,
            "left": null,
            "margin": null,
            "max_height": null,
            "max_width": null,
            "min_height": null,
            "min_width": null,
            "object_fit": null,
            "object_position": null,
            "order": null,
            "overflow": null,
            "overflow_x": null,
            "overflow_y": null,
            "padding": null,
            "right": null,
            "top": null,
            "visibility": null,
            "width": null
          }
        },
        "7de7d5be4c8b413883d92c8cf3f219e5": {
          "model_module": "@jupyter-widgets/controls",
          "model_name": "ProgressStyleModel",
          "model_module_version": "1.5.0",
          "state": {
            "_model_module": "@jupyter-widgets/controls",
            "_model_module_version": "1.5.0",
            "_model_name": "ProgressStyleModel",
            "_view_count": null,
            "_view_module": "@jupyter-widgets/base",
            "_view_module_version": "1.2.0",
            "_view_name": "StyleView",
            "bar_color": null,
            "description_width": ""
          }
        },
        "fe90317cf4dd4d63a51696f01a547f67": {
          "model_module": "@jupyter-widgets/controls",
          "model_name": "VBoxModel",
          "model_module_version": "1.5.0",
          "state": {
            "_dom_classes": [],
            "_model_module": "@jupyter-widgets/controls",
            "_model_module_version": "1.5.0",
            "_model_name": "VBoxModel",
            "_view_count": null,
            "_view_module": "@jupyter-widgets/controls",
            "_view_module_version": "1.5.0",
            "_view_name": "VBoxView",
            "box_style": "",
            "children": [
              "IPY_MODEL_50f237ffcbd0461091066a324ed4d1c5",
              "IPY_MODEL_c454ddb171174380a5d8dc4e0fbf03fa"
            ],
            "layout": "IPY_MODEL_0988542f43724670b2a42331254f17aa"
          }
        },
        "50f237ffcbd0461091066a324ed4d1c5": {
          "model_module": "@jupyter-widgets/controls",
          "model_name": "LabelModel",
          "model_module_version": "1.5.0",
          "state": {
            "_dom_classes": [],
            "_model_module": "@jupyter-widgets/controls",
            "_model_module_version": "1.5.0",
            "_model_name": "LabelModel",
            "_view_count": null,
            "_view_module": "@jupyter-widgets/controls",
            "_view_module_version": "1.5.0",
            "_view_name": "LabelView",
            "description": "",
            "description_tooltip": null,
            "layout": "IPY_MODEL_f4c31a2de7964130b4538f3039d907ac",
            "placeholder": "​",
            "style": "IPY_MODEL_2a6dd3d779a941eea7e2dded89694e3a",
            "value": "148.638 MB of 148.638 MB uploaded (0.000 MB deduped)\r"
          }
        },
        "c454ddb171174380a5d8dc4e0fbf03fa": {
          "model_module": "@jupyter-widgets/controls",
          "model_name": "FloatProgressModel",
          "model_module_version": "1.5.0",
          "state": {
            "_dom_classes": [],
            "_model_module": "@jupyter-widgets/controls",
            "_model_module_version": "1.5.0",
            "_model_name": "FloatProgressModel",
            "_view_count": null,
            "_view_module": "@jupyter-widgets/controls",
            "_view_module_version": "1.5.0",
            "_view_name": "ProgressView",
            "bar_style": "",
            "description": "",
            "description_tooltip": null,
            "layout": "IPY_MODEL_80325bfaf32e48328d761a10ec2322de",
            "max": 1,
            "min": 0,
            "orientation": "horizontal",
            "style": "IPY_MODEL_b8feea201a774e43814272236e5e14c1",
            "value": 1
          }
        },
        "0988542f43724670b2a42331254f17aa": {
          "model_module": "@jupyter-widgets/base",
          "model_name": "LayoutModel",
          "model_module_version": "1.2.0",
          "state": {
            "_model_module": "@jupyter-widgets/base",
            "_model_module_version": "1.2.0",
            "_model_name": "LayoutModel",
            "_view_count": null,
            "_view_module": "@jupyter-widgets/base",
            "_view_module_version": "1.2.0",
            "_view_name": "LayoutView",
            "align_content": null,
            "align_items": null,
            "align_self": null,
            "border": null,
            "bottom": null,
            "display": null,
            "flex": null,
            "flex_flow": null,
            "grid_area": null,
            "grid_auto_columns": null,
            "grid_auto_flow": null,
            "grid_auto_rows": null,
            "grid_column": null,
            "grid_gap": null,
            "grid_row": null,
            "grid_template_areas": null,
            "grid_template_columns": null,
            "grid_template_rows": null,
            "height": null,
            "justify_content": null,
            "justify_items": null,
            "left": null,
            "margin": null,
            "max_height": null,
            "max_width": null,
            "min_height": null,
            "min_width": null,
            "object_fit": null,
            "object_position": null,
            "order": null,
            "overflow": null,
            "overflow_x": null,
            "overflow_y": null,
            "padding": null,
            "right": null,
            "top": null,
            "visibility": null,
            "width": null
          }
        },
        "f4c31a2de7964130b4538f3039d907ac": {
          "model_module": "@jupyter-widgets/base",
          "model_name": "LayoutModel",
          "model_module_version": "1.2.0",
          "state": {
            "_model_module": "@jupyter-widgets/base",
            "_model_module_version": "1.2.0",
            "_model_name": "LayoutModel",
            "_view_count": null,
            "_view_module": "@jupyter-widgets/base",
            "_view_module_version": "1.2.0",
            "_view_name": "LayoutView",
            "align_content": null,
            "align_items": null,
            "align_self": null,
            "border": null,
            "bottom": null,
            "display": null,
            "flex": null,
            "flex_flow": null,
            "grid_area": null,
            "grid_auto_columns": null,
            "grid_auto_flow": null,
            "grid_auto_rows": null,
            "grid_column": null,
            "grid_gap": null,
            "grid_row": null,
            "grid_template_areas": null,
            "grid_template_columns": null,
            "grid_template_rows": null,
            "height": null,
            "justify_content": null,
            "justify_items": null,
            "left": null,
            "margin": null,
            "max_height": null,
            "max_width": null,
            "min_height": null,
            "min_width": null,
            "object_fit": null,
            "object_position": null,
            "order": null,
            "overflow": null,
            "overflow_x": null,
            "overflow_y": null,
            "padding": null,
            "right": null,
            "top": null,
            "visibility": null,
            "width": null
          }
        },
        "2a6dd3d779a941eea7e2dded89694e3a": {
          "model_module": "@jupyter-widgets/controls",
          "model_name": "DescriptionStyleModel",
          "model_module_version": "1.5.0",
          "state": {
            "_model_module": "@jupyter-widgets/controls",
            "_model_module_version": "1.5.0",
            "_model_name": "DescriptionStyleModel",
            "_view_count": null,
            "_view_module": "@jupyter-widgets/base",
            "_view_module_version": "1.2.0",
            "_view_name": "StyleView",
            "description_width": ""
          }
        },
        "80325bfaf32e48328d761a10ec2322de": {
          "model_module": "@jupyter-widgets/base",
          "model_name": "LayoutModel",
          "model_module_version": "1.2.0",
          "state": {
            "_model_module": "@jupyter-widgets/base",
            "_model_module_version": "1.2.0",
            "_model_name": "LayoutModel",
            "_view_count": null,
            "_view_module": "@jupyter-widgets/base",
            "_view_module_version": "1.2.0",
            "_view_name": "LayoutView",
            "align_content": null,
            "align_items": null,
            "align_self": null,
            "border": null,
            "bottom": null,
            "display": null,
            "flex": null,
            "flex_flow": null,
            "grid_area": null,
            "grid_auto_columns": null,
            "grid_auto_flow": null,
            "grid_auto_rows": null,
            "grid_column": null,
            "grid_gap": null,
            "grid_row": null,
            "grid_template_areas": null,
            "grid_template_columns": null,
            "grid_template_rows": null,
            "height": null,
            "justify_content": null,
            "justify_items": null,
            "left": null,
            "margin": null,
            "max_height": null,
            "max_width": null,
            "min_height": null,
            "min_width": null,
            "object_fit": null,
            "object_position": null,
            "order": null,
            "overflow": null,
            "overflow_x": null,
            "overflow_y": null,
            "padding": null,
            "right": null,
            "top": null,
            "visibility": null,
            "width": null
          }
        },
        "b8feea201a774e43814272236e5e14c1": {
          "model_module": "@jupyter-widgets/controls",
          "model_name": "ProgressStyleModel",
          "model_module_version": "1.5.0",
          "state": {
            "_model_module": "@jupyter-widgets/controls",
            "_model_module_version": "1.5.0",
            "_model_name": "ProgressStyleModel",
            "_view_count": null,
            "_view_module": "@jupyter-widgets/base",
            "_view_module_version": "1.2.0",
            "_view_name": "StyleView",
            "bar_color": null,
            "description_width": ""
          }
        },
        "3e8f62b81d884642a4de2d8aa6f08f26": {
          "model_module": "@jupyter-widgets/controls",
          "model_name": "VBoxModel",
          "model_module_version": "1.5.0",
          "state": {
            "_dom_classes": [],
            "_model_module": "@jupyter-widgets/controls",
            "_model_module_version": "1.5.0",
            "_model_name": "VBoxModel",
            "_view_count": null,
            "_view_module": "@jupyter-widgets/controls",
            "_view_module_version": "1.5.0",
            "_view_name": "VBoxView",
            "box_style": "",
            "children": [
              "IPY_MODEL_a942ab8c40204d9081a6aaefaaaba2c7",
              "IPY_MODEL_6ecb1b25030d4be595454c9273ccdb8a"
            ],
            "layout": "IPY_MODEL_d1fd53d235c848b88d5a1c0c4d5e511e"
          }
        },
        "a942ab8c40204d9081a6aaefaaaba2c7": {
          "model_module": "@jupyter-widgets/controls",
          "model_name": "LabelModel",
          "model_module_version": "1.5.0",
          "state": {
            "_dom_classes": [],
            "_model_module": "@jupyter-widgets/controls",
            "_model_module_version": "1.5.0",
            "_model_name": "LabelModel",
            "_view_count": null,
            "_view_module": "@jupyter-widgets/controls",
            "_view_module_version": "1.5.0",
            "_view_name": "LabelView",
            "description": "",
            "description_tooltip": null,
            "layout": "IPY_MODEL_e7d7c0a4bb294f4ca921e1a97b8394bb",
            "placeholder": "​",
            "style": "IPY_MODEL_ba1caf7507484e93ac0f54a4f46a69f1",
            "value": "289.921 MB of 289.921 MB uploaded (0.000 MB deduped)\r"
          }
        },
        "6ecb1b25030d4be595454c9273ccdb8a": {
          "model_module": "@jupyter-widgets/controls",
          "model_name": "FloatProgressModel",
          "model_module_version": "1.5.0",
          "state": {
            "_dom_classes": [],
            "_model_module": "@jupyter-widgets/controls",
            "_model_module_version": "1.5.0",
            "_model_name": "FloatProgressModel",
            "_view_count": null,
            "_view_module": "@jupyter-widgets/controls",
            "_view_module_version": "1.5.0",
            "_view_name": "ProgressView",
            "bar_style": "",
            "description": "",
            "description_tooltip": null,
            "layout": "IPY_MODEL_c696c19ca53e49edbebf9b1ae4328087",
            "max": 1,
            "min": 0,
            "orientation": "horizontal",
            "style": "IPY_MODEL_4f51851902234ab29a195a157d39aa68",
            "value": 1
          }
        },
        "d1fd53d235c848b88d5a1c0c4d5e511e": {
          "model_module": "@jupyter-widgets/base",
          "model_name": "LayoutModel",
          "model_module_version": "1.2.0",
          "state": {
            "_model_module": "@jupyter-widgets/base",
            "_model_module_version": "1.2.0",
            "_model_name": "LayoutModel",
            "_view_count": null,
            "_view_module": "@jupyter-widgets/base",
            "_view_module_version": "1.2.0",
            "_view_name": "LayoutView",
            "align_content": null,
            "align_items": null,
            "align_self": null,
            "border": null,
            "bottom": null,
            "display": null,
            "flex": null,
            "flex_flow": null,
            "grid_area": null,
            "grid_auto_columns": null,
            "grid_auto_flow": null,
            "grid_auto_rows": null,
            "grid_column": null,
            "grid_gap": null,
            "grid_row": null,
            "grid_template_areas": null,
            "grid_template_columns": null,
            "grid_template_rows": null,
            "height": null,
            "justify_content": null,
            "justify_items": null,
            "left": null,
            "margin": null,
            "max_height": null,
            "max_width": null,
            "min_height": null,
            "min_width": null,
            "object_fit": null,
            "object_position": null,
            "order": null,
            "overflow": null,
            "overflow_x": null,
            "overflow_y": null,
            "padding": null,
            "right": null,
            "top": null,
            "visibility": null,
            "width": null
          }
        },
        "e7d7c0a4bb294f4ca921e1a97b8394bb": {
          "model_module": "@jupyter-widgets/base",
          "model_name": "LayoutModel",
          "model_module_version": "1.2.0",
          "state": {
            "_model_module": "@jupyter-widgets/base",
            "_model_module_version": "1.2.0",
            "_model_name": "LayoutModel",
            "_view_count": null,
            "_view_module": "@jupyter-widgets/base",
            "_view_module_version": "1.2.0",
            "_view_name": "LayoutView",
            "align_content": null,
            "align_items": null,
            "align_self": null,
            "border": null,
            "bottom": null,
            "display": null,
            "flex": null,
            "flex_flow": null,
            "grid_area": null,
            "grid_auto_columns": null,
            "grid_auto_flow": null,
            "grid_auto_rows": null,
            "grid_column": null,
            "grid_gap": null,
            "grid_row": null,
            "grid_template_areas": null,
            "grid_template_columns": null,
            "grid_template_rows": null,
            "height": null,
            "justify_content": null,
            "justify_items": null,
            "left": null,
            "margin": null,
            "max_height": null,
            "max_width": null,
            "min_height": null,
            "min_width": null,
            "object_fit": null,
            "object_position": null,
            "order": null,
            "overflow": null,
            "overflow_x": null,
            "overflow_y": null,
            "padding": null,
            "right": null,
            "top": null,
            "visibility": null,
            "width": null
          }
        },
        "ba1caf7507484e93ac0f54a4f46a69f1": {
          "model_module": "@jupyter-widgets/controls",
          "model_name": "DescriptionStyleModel",
          "model_module_version": "1.5.0",
          "state": {
            "_model_module": "@jupyter-widgets/controls",
            "_model_module_version": "1.5.0",
            "_model_name": "DescriptionStyleModel",
            "_view_count": null,
            "_view_module": "@jupyter-widgets/base",
            "_view_module_version": "1.2.0",
            "_view_name": "StyleView",
            "description_width": ""
          }
        },
        "c696c19ca53e49edbebf9b1ae4328087": {
          "model_module": "@jupyter-widgets/base",
          "model_name": "LayoutModel",
          "model_module_version": "1.2.0",
          "state": {
            "_model_module": "@jupyter-widgets/base",
            "_model_module_version": "1.2.0",
            "_model_name": "LayoutModel",
            "_view_count": null,
            "_view_module": "@jupyter-widgets/base",
            "_view_module_version": "1.2.0",
            "_view_name": "LayoutView",
            "align_content": null,
            "align_items": null,
            "align_self": null,
            "border": null,
            "bottom": null,
            "display": null,
            "flex": null,
            "flex_flow": null,
            "grid_area": null,
            "grid_auto_columns": null,
            "grid_auto_flow": null,
            "grid_auto_rows": null,
            "grid_column": null,
            "grid_gap": null,
            "grid_row": null,
            "grid_template_areas": null,
            "grid_template_columns": null,
            "grid_template_rows": null,
            "height": null,
            "justify_content": null,
            "justify_items": null,
            "left": null,
            "margin": null,
            "max_height": null,
            "max_width": null,
            "min_height": null,
            "min_width": null,
            "object_fit": null,
            "object_position": null,
            "order": null,
            "overflow": null,
            "overflow_x": null,
            "overflow_y": null,
            "padding": null,
            "right": null,
            "top": null,
            "visibility": null,
            "width": null
          }
        },
        "4f51851902234ab29a195a157d39aa68": {
          "model_module": "@jupyter-widgets/controls",
          "model_name": "ProgressStyleModel",
          "model_module_version": "1.5.0",
          "state": {
            "_model_module": "@jupyter-widgets/controls",
            "_model_module_version": "1.5.0",
            "_model_name": "ProgressStyleModel",
            "_view_count": null,
            "_view_module": "@jupyter-widgets/base",
            "_view_module_version": "1.2.0",
            "_view_name": "StyleView",
            "bar_color": null,
            "description_width": ""
          }
        },
        "4f3923baf8044f4bbe64b3f0d8015fd8": {
          "model_module": "@jupyter-widgets/controls",
          "model_name": "VBoxModel",
          "model_module_version": "1.5.0",
          "state": {
            "_dom_classes": [],
            "_model_module": "@jupyter-widgets/controls",
            "_model_module_version": "1.5.0",
            "_model_name": "VBoxModel",
            "_view_count": null,
            "_view_module": "@jupyter-widgets/controls",
            "_view_module_version": "1.5.0",
            "_view_name": "VBoxView",
            "box_style": "",
            "children": [
              "IPY_MODEL_6633de553c414f2d9c0ce67f53c9c7ee",
              "IPY_MODEL_7ab72423c1e9454b92a1c0a0eb2133c2"
            ],
            "layout": "IPY_MODEL_2dca150b995849838539ee7bf65197c2"
          }
        },
        "6633de553c414f2d9c0ce67f53c9c7ee": {
          "model_module": "@jupyter-widgets/controls",
          "model_name": "LabelModel",
          "model_module_version": "1.5.0",
          "state": {
            "_dom_classes": [],
            "_model_module": "@jupyter-widgets/controls",
            "_model_module_version": "1.5.0",
            "_model_name": "LabelModel",
            "_view_count": null,
            "_view_module": "@jupyter-widgets/controls",
            "_view_module_version": "1.5.0",
            "_view_name": "LabelView",
            "description": "",
            "description_tooltip": null,
            "layout": "IPY_MODEL_928e2da2df874cae97ec6311e38e0367",
            "placeholder": "​",
            "style": "IPY_MODEL_ec9501dd30c94abfac22eb2db6f2b02d",
            "value": "258.656 MB of 258.656 MB uploaded (0.000 MB deduped)\r"
          }
        },
        "7ab72423c1e9454b92a1c0a0eb2133c2": {
          "model_module": "@jupyter-widgets/controls",
          "model_name": "FloatProgressModel",
          "model_module_version": "1.5.0",
          "state": {
            "_dom_classes": [],
            "_model_module": "@jupyter-widgets/controls",
            "_model_module_version": "1.5.0",
            "_model_name": "FloatProgressModel",
            "_view_count": null,
            "_view_module": "@jupyter-widgets/controls",
            "_view_module_version": "1.5.0",
            "_view_name": "ProgressView",
            "bar_style": "",
            "description": "",
            "description_tooltip": null,
            "layout": "IPY_MODEL_962b18c1c16943bfb3e3045fec3cef2a",
            "max": 1,
            "min": 0,
            "orientation": "horizontal",
            "style": "IPY_MODEL_cbb480c7553b45e48a72632a08142408",
            "value": 1
          }
        },
        "2dca150b995849838539ee7bf65197c2": {
          "model_module": "@jupyter-widgets/base",
          "model_name": "LayoutModel",
          "model_module_version": "1.2.0",
          "state": {
            "_model_module": "@jupyter-widgets/base",
            "_model_module_version": "1.2.0",
            "_model_name": "LayoutModel",
            "_view_count": null,
            "_view_module": "@jupyter-widgets/base",
            "_view_module_version": "1.2.0",
            "_view_name": "LayoutView",
            "align_content": null,
            "align_items": null,
            "align_self": null,
            "border": null,
            "bottom": null,
            "display": null,
            "flex": null,
            "flex_flow": null,
            "grid_area": null,
            "grid_auto_columns": null,
            "grid_auto_flow": null,
            "grid_auto_rows": null,
            "grid_column": null,
            "grid_gap": null,
            "grid_row": null,
            "grid_template_areas": null,
            "grid_template_columns": null,
            "grid_template_rows": null,
            "height": null,
            "justify_content": null,
            "justify_items": null,
            "left": null,
            "margin": null,
            "max_height": null,
            "max_width": null,
            "min_height": null,
            "min_width": null,
            "object_fit": null,
            "object_position": null,
            "order": null,
            "overflow": null,
            "overflow_x": null,
            "overflow_y": null,
            "padding": null,
            "right": null,
            "top": null,
            "visibility": null,
            "width": null
          }
        },
        "928e2da2df874cae97ec6311e38e0367": {
          "model_module": "@jupyter-widgets/base",
          "model_name": "LayoutModel",
          "model_module_version": "1.2.0",
          "state": {
            "_model_module": "@jupyter-widgets/base",
            "_model_module_version": "1.2.0",
            "_model_name": "LayoutModel",
            "_view_count": null,
            "_view_module": "@jupyter-widgets/base",
            "_view_module_version": "1.2.0",
            "_view_name": "LayoutView",
            "align_content": null,
            "align_items": null,
            "align_self": null,
            "border": null,
            "bottom": null,
            "display": null,
            "flex": null,
            "flex_flow": null,
            "grid_area": null,
            "grid_auto_columns": null,
            "grid_auto_flow": null,
            "grid_auto_rows": null,
            "grid_column": null,
            "grid_gap": null,
            "grid_row": null,
            "grid_template_areas": null,
            "grid_template_columns": null,
            "grid_template_rows": null,
            "height": null,
            "justify_content": null,
            "justify_items": null,
            "left": null,
            "margin": null,
            "max_height": null,
            "max_width": null,
            "min_height": null,
            "min_width": null,
            "object_fit": null,
            "object_position": null,
            "order": null,
            "overflow": null,
            "overflow_x": null,
            "overflow_y": null,
            "padding": null,
            "right": null,
            "top": null,
            "visibility": null,
            "width": null
          }
        },
        "ec9501dd30c94abfac22eb2db6f2b02d": {
          "model_module": "@jupyter-widgets/controls",
          "model_name": "DescriptionStyleModel",
          "model_module_version": "1.5.0",
          "state": {
            "_model_module": "@jupyter-widgets/controls",
            "_model_module_version": "1.5.0",
            "_model_name": "DescriptionStyleModel",
            "_view_count": null,
            "_view_module": "@jupyter-widgets/base",
            "_view_module_version": "1.2.0",
            "_view_name": "StyleView",
            "description_width": ""
          }
        },
        "962b18c1c16943bfb3e3045fec3cef2a": {
          "model_module": "@jupyter-widgets/base",
          "model_name": "LayoutModel",
          "model_module_version": "1.2.0",
          "state": {
            "_model_module": "@jupyter-widgets/base",
            "_model_module_version": "1.2.0",
            "_model_name": "LayoutModel",
            "_view_count": null,
            "_view_module": "@jupyter-widgets/base",
            "_view_module_version": "1.2.0",
            "_view_name": "LayoutView",
            "align_content": null,
            "align_items": null,
            "align_self": null,
            "border": null,
            "bottom": null,
            "display": null,
            "flex": null,
            "flex_flow": null,
            "grid_area": null,
            "grid_auto_columns": null,
            "grid_auto_flow": null,
            "grid_auto_rows": null,
            "grid_column": null,
            "grid_gap": null,
            "grid_row": null,
            "grid_template_areas": null,
            "grid_template_columns": null,
            "grid_template_rows": null,
            "height": null,
            "justify_content": null,
            "justify_items": null,
            "left": null,
            "margin": null,
            "max_height": null,
            "max_width": null,
            "min_height": null,
            "min_width": null,
            "object_fit": null,
            "object_position": null,
            "order": null,
            "overflow": null,
            "overflow_x": null,
            "overflow_y": null,
            "padding": null,
            "right": null,
            "top": null,
            "visibility": null,
            "width": null
          }
        },
        "cbb480c7553b45e48a72632a08142408": {
          "model_module": "@jupyter-widgets/controls",
          "model_name": "ProgressStyleModel",
          "model_module_version": "1.5.0",
          "state": {
            "_model_module": "@jupyter-widgets/controls",
            "_model_module_version": "1.5.0",
            "_model_name": "ProgressStyleModel",
            "_view_count": null,
            "_view_module": "@jupyter-widgets/base",
            "_view_module_version": "1.2.0",
            "_view_name": "StyleView",
            "bar_color": null,
            "description_width": ""
          }
        },
        "5f4b5c7f118f4265bc404cf78ea2c230": {
          "model_module": "@jupyter-widgets/controls",
          "model_name": "VBoxModel",
          "model_module_version": "1.5.0",
          "state": {
            "_dom_classes": [],
            "_model_module": "@jupyter-widgets/controls",
            "_model_module_version": "1.5.0",
            "_model_name": "VBoxModel",
            "_view_count": null,
            "_view_module": "@jupyter-widgets/controls",
            "_view_module_version": "1.5.0",
            "_view_name": "VBoxView",
            "box_style": "",
            "children": [
              "IPY_MODEL_ad0635a29dd444e4842fc8440530312b",
              "IPY_MODEL_aab4a5a5d4174657b7b90eb37148c07a"
            ],
            "layout": "IPY_MODEL_9b515d6061554b8c92f399d860658019"
          }
        },
        "ad0635a29dd444e4842fc8440530312b": {
          "model_module": "@jupyter-widgets/controls",
          "model_name": "LabelModel",
          "model_module_version": "1.5.0",
          "state": {
            "_dom_classes": [],
            "_model_module": "@jupyter-widgets/controls",
            "_model_module_version": "1.5.0",
            "_model_name": "LabelModel",
            "_view_count": null,
            "_view_module": "@jupyter-widgets/controls",
            "_view_module_version": "1.5.0",
            "_view_name": "LabelView",
            "description": "",
            "description_tooltip": null,
            "layout": "IPY_MODEL_14702221443845e6b679daf8c73c6b3d",
            "placeholder": "​",
            "style": "IPY_MODEL_5b77fdd6e8534289b83aab71da14eaa4",
            "value": "148.656 MB of 148.656 MB uploaded (0.000 MB deduped)\r"
          }
        },
        "aab4a5a5d4174657b7b90eb37148c07a": {
          "model_module": "@jupyter-widgets/controls",
          "model_name": "FloatProgressModel",
          "model_module_version": "1.5.0",
          "state": {
            "_dom_classes": [],
            "_model_module": "@jupyter-widgets/controls",
            "_model_module_version": "1.5.0",
            "_model_name": "FloatProgressModel",
            "_view_count": null,
            "_view_module": "@jupyter-widgets/controls",
            "_view_module_version": "1.5.0",
            "_view_name": "ProgressView",
            "bar_style": "",
            "description": "",
            "description_tooltip": null,
            "layout": "IPY_MODEL_d807815d36ac423d838ec247c6ea36da",
            "max": 1,
            "min": 0,
            "orientation": "horizontal",
            "style": "IPY_MODEL_f9ef75ca057b422498c34218d027f795",
            "value": 1
          }
        },
        "9b515d6061554b8c92f399d860658019": {
          "model_module": "@jupyter-widgets/base",
          "model_name": "LayoutModel",
          "model_module_version": "1.2.0",
          "state": {
            "_model_module": "@jupyter-widgets/base",
            "_model_module_version": "1.2.0",
            "_model_name": "LayoutModel",
            "_view_count": null,
            "_view_module": "@jupyter-widgets/base",
            "_view_module_version": "1.2.0",
            "_view_name": "LayoutView",
            "align_content": null,
            "align_items": null,
            "align_self": null,
            "border": null,
            "bottom": null,
            "display": null,
            "flex": null,
            "flex_flow": null,
            "grid_area": null,
            "grid_auto_columns": null,
            "grid_auto_flow": null,
            "grid_auto_rows": null,
            "grid_column": null,
            "grid_gap": null,
            "grid_row": null,
            "grid_template_areas": null,
            "grid_template_columns": null,
            "grid_template_rows": null,
            "height": null,
            "justify_content": null,
            "justify_items": null,
            "left": null,
            "margin": null,
            "max_height": null,
            "max_width": null,
            "min_height": null,
            "min_width": null,
            "object_fit": null,
            "object_position": null,
            "order": null,
            "overflow": null,
            "overflow_x": null,
            "overflow_y": null,
            "padding": null,
            "right": null,
            "top": null,
            "visibility": null,
            "width": null
          }
        },
        "14702221443845e6b679daf8c73c6b3d": {
          "model_module": "@jupyter-widgets/base",
          "model_name": "LayoutModel",
          "model_module_version": "1.2.0",
          "state": {
            "_model_module": "@jupyter-widgets/base",
            "_model_module_version": "1.2.0",
            "_model_name": "LayoutModel",
            "_view_count": null,
            "_view_module": "@jupyter-widgets/base",
            "_view_module_version": "1.2.0",
            "_view_name": "LayoutView",
            "align_content": null,
            "align_items": null,
            "align_self": null,
            "border": null,
            "bottom": null,
            "display": null,
            "flex": null,
            "flex_flow": null,
            "grid_area": null,
            "grid_auto_columns": null,
            "grid_auto_flow": null,
            "grid_auto_rows": null,
            "grid_column": null,
            "grid_gap": null,
            "grid_row": null,
            "grid_template_areas": null,
            "grid_template_columns": null,
            "grid_template_rows": null,
            "height": null,
            "justify_content": null,
            "justify_items": null,
            "left": null,
            "margin": null,
            "max_height": null,
            "max_width": null,
            "min_height": null,
            "min_width": null,
            "object_fit": null,
            "object_position": null,
            "order": null,
            "overflow": null,
            "overflow_x": null,
            "overflow_y": null,
            "padding": null,
            "right": null,
            "top": null,
            "visibility": null,
            "width": null
          }
        },
        "5b77fdd6e8534289b83aab71da14eaa4": {
          "model_module": "@jupyter-widgets/controls",
          "model_name": "DescriptionStyleModel",
          "model_module_version": "1.5.0",
          "state": {
            "_model_module": "@jupyter-widgets/controls",
            "_model_module_version": "1.5.0",
            "_model_name": "DescriptionStyleModel",
            "_view_count": null,
            "_view_module": "@jupyter-widgets/base",
            "_view_module_version": "1.2.0",
            "_view_name": "StyleView",
            "description_width": ""
          }
        },
        "d807815d36ac423d838ec247c6ea36da": {
          "model_module": "@jupyter-widgets/base",
          "model_name": "LayoutModel",
          "model_module_version": "1.2.0",
          "state": {
            "_model_module": "@jupyter-widgets/base",
            "_model_module_version": "1.2.0",
            "_model_name": "LayoutModel",
            "_view_count": null,
            "_view_module": "@jupyter-widgets/base",
            "_view_module_version": "1.2.0",
            "_view_name": "LayoutView",
            "align_content": null,
            "align_items": null,
            "align_self": null,
            "border": null,
            "bottom": null,
            "display": null,
            "flex": null,
            "flex_flow": null,
            "grid_area": null,
            "grid_auto_columns": null,
            "grid_auto_flow": null,
            "grid_auto_rows": null,
            "grid_column": null,
            "grid_gap": null,
            "grid_row": null,
            "grid_template_areas": null,
            "grid_template_columns": null,
            "grid_template_rows": null,
            "height": null,
            "justify_content": null,
            "justify_items": null,
            "left": null,
            "margin": null,
            "max_height": null,
            "max_width": null,
            "min_height": null,
            "min_width": null,
            "object_fit": null,
            "object_position": null,
            "order": null,
            "overflow": null,
            "overflow_x": null,
            "overflow_y": null,
            "padding": null,
            "right": null,
            "top": null,
            "visibility": null,
            "width": null
          }
        },
        "f9ef75ca057b422498c34218d027f795": {
          "model_module": "@jupyter-widgets/controls",
          "model_name": "ProgressStyleModel",
          "model_module_version": "1.5.0",
          "state": {
            "_model_module": "@jupyter-widgets/controls",
            "_model_module_version": "1.5.0",
            "_model_name": "ProgressStyleModel",
            "_view_count": null,
            "_view_module": "@jupyter-widgets/base",
            "_view_module_version": "1.2.0",
            "_view_name": "StyleView",
            "bar_color": null,
            "description_width": ""
          }
        },
        "b82506a3854248fc99b1d6eb2f0958d7": {
          "model_module": "@jupyter-widgets/controls",
          "model_name": "VBoxModel",
          "model_module_version": "1.5.0",
          "state": {
            "_dom_classes": [],
            "_model_module": "@jupyter-widgets/controls",
            "_model_module_version": "1.5.0",
            "_model_name": "VBoxModel",
            "_view_count": null,
            "_view_module": "@jupyter-widgets/controls",
            "_view_module_version": "1.5.0",
            "_view_name": "VBoxView",
            "box_style": "",
            "children": [
              "IPY_MODEL_d6df8c582396414a9b4548b7681b6cb9",
              "IPY_MODEL_b5fe9002723f46de908b0ea749af3a82"
            ],
            "layout": "IPY_MODEL_017150b76e2640eaac9531bd55344d5a"
          }
        },
        "d6df8c582396414a9b4548b7681b6cb9": {
          "model_module": "@jupyter-widgets/controls",
          "model_name": "LabelModel",
          "model_module_version": "1.5.0",
          "state": {
            "_dom_classes": [],
            "_model_module": "@jupyter-widgets/controls",
            "_model_module_version": "1.5.0",
            "_model_name": "LabelModel",
            "_view_count": null,
            "_view_module": "@jupyter-widgets/controls",
            "_view_module_version": "1.5.0",
            "_view_name": "LabelView",
            "description": "",
            "description_tooltip": null,
            "layout": "IPY_MODEL_f9a033ca6ecc4edba60788c6300c5c59",
            "placeholder": "​",
            "style": "IPY_MODEL_3b06688d14a1441098e80e954a301cd3",
            "value": "405.507 MB of 405.507 MB uploaded (0.000 MB deduped)\r"
          }
        },
        "b5fe9002723f46de908b0ea749af3a82": {
          "model_module": "@jupyter-widgets/controls",
          "model_name": "FloatProgressModel",
          "model_module_version": "1.5.0",
          "state": {
            "_dom_classes": [],
            "_model_module": "@jupyter-widgets/controls",
            "_model_module_version": "1.5.0",
            "_model_name": "FloatProgressModel",
            "_view_count": null,
            "_view_module": "@jupyter-widgets/controls",
            "_view_module_version": "1.5.0",
            "_view_name": "ProgressView",
            "bar_style": "",
            "description": "",
            "description_tooltip": null,
            "layout": "IPY_MODEL_3fd327b8488c4534827a5340523784c8",
            "max": 1,
            "min": 0,
            "orientation": "horizontal",
            "style": "IPY_MODEL_60a13c3049fc425fa8d39298fb298772",
            "value": 1
          }
        },
        "017150b76e2640eaac9531bd55344d5a": {
          "model_module": "@jupyter-widgets/base",
          "model_name": "LayoutModel",
          "model_module_version": "1.2.0",
          "state": {
            "_model_module": "@jupyter-widgets/base",
            "_model_module_version": "1.2.0",
            "_model_name": "LayoutModel",
            "_view_count": null,
            "_view_module": "@jupyter-widgets/base",
            "_view_module_version": "1.2.0",
            "_view_name": "LayoutView",
            "align_content": null,
            "align_items": null,
            "align_self": null,
            "border": null,
            "bottom": null,
            "display": null,
            "flex": null,
            "flex_flow": null,
            "grid_area": null,
            "grid_auto_columns": null,
            "grid_auto_flow": null,
            "grid_auto_rows": null,
            "grid_column": null,
            "grid_gap": null,
            "grid_row": null,
            "grid_template_areas": null,
            "grid_template_columns": null,
            "grid_template_rows": null,
            "height": null,
            "justify_content": null,
            "justify_items": null,
            "left": null,
            "margin": null,
            "max_height": null,
            "max_width": null,
            "min_height": null,
            "min_width": null,
            "object_fit": null,
            "object_position": null,
            "order": null,
            "overflow": null,
            "overflow_x": null,
            "overflow_y": null,
            "padding": null,
            "right": null,
            "top": null,
            "visibility": null,
            "width": null
          }
        },
        "f9a033ca6ecc4edba60788c6300c5c59": {
          "model_module": "@jupyter-widgets/base",
          "model_name": "LayoutModel",
          "model_module_version": "1.2.0",
          "state": {
            "_model_module": "@jupyter-widgets/base",
            "_model_module_version": "1.2.0",
            "_model_name": "LayoutModel",
            "_view_count": null,
            "_view_module": "@jupyter-widgets/base",
            "_view_module_version": "1.2.0",
            "_view_name": "LayoutView",
            "align_content": null,
            "align_items": null,
            "align_self": null,
            "border": null,
            "bottom": null,
            "display": null,
            "flex": null,
            "flex_flow": null,
            "grid_area": null,
            "grid_auto_columns": null,
            "grid_auto_flow": null,
            "grid_auto_rows": null,
            "grid_column": null,
            "grid_gap": null,
            "grid_row": null,
            "grid_template_areas": null,
            "grid_template_columns": null,
            "grid_template_rows": null,
            "height": null,
            "justify_content": null,
            "justify_items": null,
            "left": null,
            "margin": null,
            "max_height": null,
            "max_width": null,
            "min_height": null,
            "min_width": null,
            "object_fit": null,
            "object_position": null,
            "order": null,
            "overflow": null,
            "overflow_x": null,
            "overflow_y": null,
            "padding": null,
            "right": null,
            "top": null,
            "visibility": null,
            "width": null
          }
        },
        "3b06688d14a1441098e80e954a301cd3": {
          "model_module": "@jupyter-widgets/controls",
          "model_name": "DescriptionStyleModel",
          "model_module_version": "1.5.0",
          "state": {
            "_model_module": "@jupyter-widgets/controls",
            "_model_module_version": "1.5.0",
            "_model_name": "DescriptionStyleModel",
            "_view_count": null,
            "_view_module": "@jupyter-widgets/base",
            "_view_module_version": "1.2.0",
            "_view_name": "StyleView",
            "description_width": ""
          }
        },
        "3fd327b8488c4534827a5340523784c8": {
          "model_module": "@jupyter-widgets/base",
          "model_name": "LayoutModel",
          "model_module_version": "1.2.0",
          "state": {
            "_model_module": "@jupyter-widgets/base",
            "_model_module_version": "1.2.0",
            "_model_name": "LayoutModel",
            "_view_count": null,
            "_view_module": "@jupyter-widgets/base",
            "_view_module_version": "1.2.0",
            "_view_name": "LayoutView",
            "align_content": null,
            "align_items": null,
            "align_self": null,
            "border": null,
            "bottom": null,
            "display": null,
            "flex": null,
            "flex_flow": null,
            "grid_area": null,
            "grid_auto_columns": null,
            "grid_auto_flow": null,
            "grid_auto_rows": null,
            "grid_column": null,
            "grid_gap": null,
            "grid_row": null,
            "grid_template_areas": null,
            "grid_template_columns": null,
            "grid_template_rows": null,
            "height": null,
            "justify_content": null,
            "justify_items": null,
            "left": null,
            "margin": null,
            "max_height": null,
            "max_width": null,
            "min_height": null,
            "min_width": null,
            "object_fit": null,
            "object_position": null,
            "order": null,
            "overflow": null,
            "overflow_x": null,
            "overflow_y": null,
            "padding": null,
            "right": null,
            "top": null,
            "visibility": null,
            "width": null
          }
        },
        "60a13c3049fc425fa8d39298fb298772": {
          "model_module": "@jupyter-widgets/controls",
          "model_name": "ProgressStyleModel",
          "model_module_version": "1.5.0",
          "state": {
            "_model_module": "@jupyter-widgets/controls",
            "_model_module_version": "1.5.0",
            "_model_name": "ProgressStyleModel",
            "_view_count": null,
            "_view_module": "@jupyter-widgets/base",
            "_view_module_version": "1.2.0",
            "_view_name": "StyleView",
            "bar_color": null,
            "description_width": ""
          }
        },
        "daff0b031d9a4ecd8f0fb83ee66c269f": {
          "model_module": "@jupyter-widgets/controls",
          "model_name": "VBoxModel",
          "model_module_version": "1.5.0",
          "state": {
            "_dom_classes": [],
            "_model_module": "@jupyter-widgets/controls",
            "_model_module_version": "1.5.0",
            "_model_name": "VBoxModel",
            "_view_count": null,
            "_view_module": "@jupyter-widgets/controls",
            "_view_module_version": "1.5.0",
            "_view_name": "VBoxView",
            "box_style": "",
            "children": [
              "IPY_MODEL_917ab30ac93b4b8da4c3c23d5fd8a4d7",
              "IPY_MODEL_d7cd8f15d7c04620b9468c4d0dad100f"
            ],
            "layout": "IPY_MODEL_a7221bbffe91408fb7de0e1f40eb22ae"
          }
        },
        "917ab30ac93b4b8da4c3c23d5fd8a4d7": {
          "model_module": "@jupyter-widgets/controls",
          "model_name": "LabelModel",
          "model_module_version": "1.5.0",
          "state": {
            "_dom_classes": [],
            "_model_module": "@jupyter-widgets/controls",
            "_model_module_version": "1.5.0",
            "_model_name": "LabelModel",
            "_view_count": null,
            "_view_module": "@jupyter-widgets/controls",
            "_view_module_version": "1.5.0",
            "_view_name": "LabelView",
            "description": "",
            "description_tooltip": null,
            "layout": "IPY_MODEL_4ce3b72bcff9469aad6949fc33773039",
            "placeholder": "​",
            "style": "IPY_MODEL_78d10b3ac8314933a57197735c947edc",
            "value": "289.900 MB of 289.900 MB uploaded (0.000 MB deduped)\r"
          }
        },
        "d7cd8f15d7c04620b9468c4d0dad100f": {
          "model_module": "@jupyter-widgets/controls",
          "model_name": "FloatProgressModel",
          "model_module_version": "1.5.0",
          "state": {
            "_dom_classes": [],
            "_model_module": "@jupyter-widgets/controls",
            "_model_module_version": "1.5.0",
            "_model_name": "FloatProgressModel",
            "_view_count": null,
            "_view_module": "@jupyter-widgets/controls",
            "_view_module_version": "1.5.0",
            "_view_name": "ProgressView",
            "bar_style": "",
            "description": "",
            "description_tooltip": null,
            "layout": "IPY_MODEL_5e5f5afb8b734473b33a0a73f1195b70",
            "max": 1,
            "min": 0,
            "orientation": "horizontal",
            "style": "IPY_MODEL_97cb616db7054585be3c289406027a8c",
            "value": 1
          }
        },
        "a7221bbffe91408fb7de0e1f40eb22ae": {
          "model_module": "@jupyter-widgets/base",
          "model_name": "LayoutModel",
          "model_module_version": "1.2.0",
          "state": {
            "_model_module": "@jupyter-widgets/base",
            "_model_module_version": "1.2.0",
            "_model_name": "LayoutModel",
            "_view_count": null,
            "_view_module": "@jupyter-widgets/base",
            "_view_module_version": "1.2.0",
            "_view_name": "LayoutView",
            "align_content": null,
            "align_items": null,
            "align_self": null,
            "border": null,
            "bottom": null,
            "display": null,
            "flex": null,
            "flex_flow": null,
            "grid_area": null,
            "grid_auto_columns": null,
            "grid_auto_flow": null,
            "grid_auto_rows": null,
            "grid_column": null,
            "grid_gap": null,
            "grid_row": null,
            "grid_template_areas": null,
            "grid_template_columns": null,
            "grid_template_rows": null,
            "height": null,
            "justify_content": null,
            "justify_items": null,
            "left": null,
            "margin": null,
            "max_height": null,
            "max_width": null,
            "min_height": null,
            "min_width": null,
            "object_fit": null,
            "object_position": null,
            "order": null,
            "overflow": null,
            "overflow_x": null,
            "overflow_y": null,
            "padding": null,
            "right": null,
            "top": null,
            "visibility": null,
            "width": null
          }
        },
        "4ce3b72bcff9469aad6949fc33773039": {
          "model_module": "@jupyter-widgets/base",
          "model_name": "LayoutModel",
          "model_module_version": "1.2.0",
          "state": {
            "_model_module": "@jupyter-widgets/base",
            "_model_module_version": "1.2.0",
            "_model_name": "LayoutModel",
            "_view_count": null,
            "_view_module": "@jupyter-widgets/base",
            "_view_module_version": "1.2.0",
            "_view_name": "LayoutView",
            "align_content": null,
            "align_items": null,
            "align_self": null,
            "border": null,
            "bottom": null,
            "display": null,
            "flex": null,
            "flex_flow": null,
            "grid_area": null,
            "grid_auto_columns": null,
            "grid_auto_flow": null,
            "grid_auto_rows": null,
            "grid_column": null,
            "grid_gap": null,
            "grid_row": null,
            "grid_template_areas": null,
            "grid_template_columns": null,
            "grid_template_rows": null,
            "height": null,
            "justify_content": null,
            "justify_items": null,
            "left": null,
            "margin": null,
            "max_height": null,
            "max_width": null,
            "min_height": null,
            "min_width": null,
            "object_fit": null,
            "object_position": null,
            "order": null,
            "overflow": null,
            "overflow_x": null,
            "overflow_y": null,
            "padding": null,
            "right": null,
            "top": null,
            "visibility": null,
            "width": null
          }
        },
        "78d10b3ac8314933a57197735c947edc": {
          "model_module": "@jupyter-widgets/controls",
          "model_name": "DescriptionStyleModel",
          "model_module_version": "1.5.0",
          "state": {
            "_model_module": "@jupyter-widgets/controls",
            "_model_module_version": "1.5.0",
            "_model_name": "DescriptionStyleModel",
            "_view_count": null,
            "_view_module": "@jupyter-widgets/base",
            "_view_module_version": "1.2.0",
            "_view_name": "StyleView",
            "description_width": ""
          }
        },
        "5e5f5afb8b734473b33a0a73f1195b70": {
          "model_module": "@jupyter-widgets/base",
          "model_name": "LayoutModel",
          "model_module_version": "1.2.0",
          "state": {
            "_model_module": "@jupyter-widgets/base",
            "_model_module_version": "1.2.0",
            "_model_name": "LayoutModel",
            "_view_count": null,
            "_view_module": "@jupyter-widgets/base",
            "_view_module_version": "1.2.0",
            "_view_name": "LayoutView",
            "align_content": null,
            "align_items": null,
            "align_self": null,
            "border": null,
            "bottom": null,
            "display": null,
            "flex": null,
            "flex_flow": null,
            "grid_area": null,
            "grid_auto_columns": null,
            "grid_auto_flow": null,
            "grid_auto_rows": null,
            "grid_column": null,
            "grid_gap": null,
            "grid_row": null,
            "grid_template_areas": null,
            "grid_template_columns": null,
            "grid_template_rows": null,
            "height": null,
            "justify_content": null,
            "justify_items": null,
            "left": null,
            "margin": null,
            "max_height": null,
            "max_width": null,
            "min_height": null,
            "min_width": null,
            "object_fit": null,
            "object_position": null,
            "order": null,
            "overflow": null,
            "overflow_x": null,
            "overflow_y": null,
            "padding": null,
            "right": null,
            "top": null,
            "visibility": null,
            "width": null
          }
        },
        "97cb616db7054585be3c289406027a8c": {
          "model_module": "@jupyter-widgets/controls",
          "model_name": "ProgressStyleModel",
          "model_module_version": "1.5.0",
          "state": {
            "_model_module": "@jupyter-widgets/controls",
            "_model_module_version": "1.5.0",
            "_model_name": "ProgressStyleModel",
            "_view_count": null,
            "_view_module": "@jupyter-widgets/base",
            "_view_module_version": "1.2.0",
            "_view_name": "StyleView",
            "bar_color": null,
            "description_width": ""
          }
        },
        "94cee245190d47789187dddd7a0e4bfe": {
          "model_module": "@jupyter-widgets/controls",
          "model_name": "VBoxModel",
          "model_module_version": "1.5.0",
          "state": {
            "_dom_classes": [],
            "_model_module": "@jupyter-widgets/controls",
            "_model_module_version": "1.5.0",
            "_model_name": "VBoxModel",
            "_view_count": null,
            "_view_module": "@jupyter-widgets/controls",
            "_view_module_version": "1.5.0",
            "_view_name": "VBoxView",
            "box_style": "",
            "children": [
              "IPY_MODEL_0455588be2d84e7a84fe7da6f4c11cfa",
              "IPY_MODEL_d28fc1f345894e15bdc77f41188608c3"
            ],
            "layout": "IPY_MODEL_0cbe8abc424e4f4a980cf0ca5a3a44a6"
          }
        },
        "0455588be2d84e7a84fe7da6f4c11cfa": {
          "model_module": "@jupyter-widgets/controls",
          "model_name": "LabelModel",
          "model_module_version": "1.5.0",
          "state": {
            "_dom_classes": [],
            "_model_module": "@jupyter-widgets/controls",
            "_model_module_version": "1.5.0",
            "_model_name": "LabelModel",
            "_view_count": null,
            "_view_module": "@jupyter-widgets/controls",
            "_view_module_version": "1.5.0",
            "_view_name": "LabelView",
            "description": "",
            "description_tooltip": null,
            "layout": "IPY_MODEL_e1c9f737f9ec4b349003826ab1b78240",
            "placeholder": "​",
            "style": "IPY_MODEL_6f806f53254a45ccbc07af43f4974b9c",
            "value": "343.529 MB of 343.529 MB uploaded (0.000 MB deduped)\r"
          }
        },
        "d28fc1f345894e15bdc77f41188608c3": {
          "model_module": "@jupyter-widgets/controls",
          "model_name": "FloatProgressModel",
          "model_module_version": "1.5.0",
          "state": {
            "_dom_classes": [],
            "_model_module": "@jupyter-widgets/controls",
            "_model_module_version": "1.5.0",
            "_model_name": "FloatProgressModel",
            "_view_count": null,
            "_view_module": "@jupyter-widgets/controls",
            "_view_module_version": "1.5.0",
            "_view_name": "ProgressView",
            "bar_style": "",
            "description": "",
            "description_tooltip": null,
            "layout": "IPY_MODEL_640d407fcb8048bb85ae843f421c4afa",
            "max": 1,
            "min": 0,
            "orientation": "horizontal",
            "style": "IPY_MODEL_9d8e3f736c254b83aa13594decc16ab7",
            "value": 1
          }
        },
        "0cbe8abc424e4f4a980cf0ca5a3a44a6": {
          "model_module": "@jupyter-widgets/base",
          "model_name": "LayoutModel",
          "model_module_version": "1.2.0",
          "state": {
            "_model_module": "@jupyter-widgets/base",
            "_model_module_version": "1.2.0",
            "_model_name": "LayoutModel",
            "_view_count": null,
            "_view_module": "@jupyter-widgets/base",
            "_view_module_version": "1.2.0",
            "_view_name": "LayoutView",
            "align_content": null,
            "align_items": null,
            "align_self": null,
            "border": null,
            "bottom": null,
            "display": null,
            "flex": null,
            "flex_flow": null,
            "grid_area": null,
            "grid_auto_columns": null,
            "grid_auto_flow": null,
            "grid_auto_rows": null,
            "grid_column": null,
            "grid_gap": null,
            "grid_row": null,
            "grid_template_areas": null,
            "grid_template_columns": null,
            "grid_template_rows": null,
            "height": null,
            "justify_content": null,
            "justify_items": null,
            "left": null,
            "margin": null,
            "max_height": null,
            "max_width": null,
            "min_height": null,
            "min_width": null,
            "object_fit": null,
            "object_position": null,
            "order": null,
            "overflow": null,
            "overflow_x": null,
            "overflow_y": null,
            "padding": null,
            "right": null,
            "top": null,
            "visibility": null,
            "width": null
          }
        },
        "e1c9f737f9ec4b349003826ab1b78240": {
          "model_module": "@jupyter-widgets/base",
          "model_name": "LayoutModel",
          "model_module_version": "1.2.0",
          "state": {
            "_model_module": "@jupyter-widgets/base",
            "_model_module_version": "1.2.0",
            "_model_name": "LayoutModel",
            "_view_count": null,
            "_view_module": "@jupyter-widgets/base",
            "_view_module_version": "1.2.0",
            "_view_name": "LayoutView",
            "align_content": null,
            "align_items": null,
            "align_self": null,
            "border": null,
            "bottom": null,
            "display": null,
            "flex": null,
            "flex_flow": null,
            "grid_area": null,
            "grid_auto_columns": null,
            "grid_auto_flow": null,
            "grid_auto_rows": null,
            "grid_column": null,
            "grid_gap": null,
            "grid_row": null,
            "grid_template_areas": null,
            "grid_template_columns": null,
            "grid_template_rows": null,
            "height": null,
            "justify_content": null,
            "justify_items": null,
            "left": null,
            "margin": null,
            "max_height": null,
            "max_width": null,
            "min_height": null,
            "min_width": null,
            "object_fit": null,
            "object_position": null,
            "order": null,
            "overflow": null,
            "overflow_x": null,
            "overflow_y": null,
            "padding": null,
            "right": null,
            "top": null,
            "visibility": null,
            "width": null
          }
        },
        "6f806f53254a45ccbc07af43f4974b9c": {
          "model_module": "@jupyter-widgets/controls",
          "model_name": "DescriptionStyleModel",
          "model_module_version": "1.5.0",
          "state": {
            "_model_module": "@jupyter-widgets/controls",
            "_model_module_version": "1.5.0",
            "_model_name": "DescriptionStyleModel",
            "_view_count": null,
            "_view_module": "@jupyter-widgets/base",
            "_view_module_version": "1.2.0",
            "_view_name": "StyleView",
            "description_width": ""
          }
        },
        "640d407fcb8048bb85ae843f421c4afa": {
          "model_module": "@jupyter-widgets/base",
          "model_name": "LayoutModel",
          "model_module_version": "1.2.0",
          "state": {
            "_model_module": "@jupyter-widgets/base",
            "_model_module_version": "1.2.0",
            "_model_name": "LayoutModel",
            "_view_count": null,
            "_view_module": "@jupyter-widgets/base",
            "_view_module_version": "1.2.0",
            "_view_name": "LayoutView",
            "align_content": null,
            "align_items": null,
            "align_self": null,
            "border": null,
            "bottom": null,
            "display": null,
            "flex": null,
            "flex_flow": null,
            "grid_area": null,
            "grid_auto_columns": null,
            "grid_auto_flow": null,
            "grid_auto_rows": null,
            "grid_column": null,
            "grid_gap": null,
            "grid_row": null,
            "grid_template_areas": null,
            "grid_template_columns": null,
            "grid_template_rows": null,
            "height": null,
            "justify_content": null,
            "justify_items": null,
            "left": null,
            "margin": null,
            "max_height": null,
            "max_width": null,
            "min_height": null,
            "min_width": null,
            "object_fit": null,
            "object_position": null,
            "order": null,
            "overflow": null,
            "overflow_x": null,
            "overflow_y": null,
            "padding": null,
            "right": null,
            "top": null,
            "visibility": null,
            "width": null
          }
        },
        "9d8e3f736c254b83aa13594decc16ab7": {
          "model_module": "@jupyter-widgets/controls",
          "model_name": "ProgressStyleModel",
          "model_module_version": "1.5.0",
          "state": {
            "_model_module": "@jupyter-widgets/controls",
            "_model_module_version": "1.5.0",
            "_model_name": "ProgressStyleModel",
            "_view_count": null,
            "_view_module": "@jupyter-widgets/base",
            "_view_module_version": "1.2.0",
            "_view_name": "StyleView",
            "bar_color": null,
            "description_width": ""
          }
        },
        "86b403f0fa274d64aa39fd13784158e9": {
          "model_module": "@jupyter-widgets/controls",
          "model_name": "VBoxModel",
          "model_module_version": "1.5.0",
          "state": {
            "_dom_classes": [],
            "_model_module": "@jupyter-widgets/controls",
            "_model_module_version": "1.5.0",
            "_model_name": "VBoxModel",
            "_view_count": null,
            "_view_module": "@jupyter-widgets/controls",
            "_view_module_version": "1.5.0",
            "_view_name": "VBoxView",
            "box_style": "",
            "children": [
              "IPY_MODEL_c6b2602e2191468dae9ca8fb5f746a13",
              "IPY_MODEL_c565c2fced50430aa513bda527f12a1b"
            ],
            "layout": "IPY_MODEL_a9f09daed2f24f10b23860b284ed812d"
          }
        },
        "c6b2602e2191468dae9ca8fb5f746a13": {
          "model_module": "@jupyter-widgets/controls",
          "model_name": "LabelModel",
          "model_module_version": "1.5.0",
          "state": {
            "_dom_classes": [],
            "_model_module": "@jupyter-widgets/controls",
            "_model_module_version": "1.5.0",
            "_model_name": "LabelModel",
            "_view_count": null,
            "_view_module": "@jupyter-widgets/controls",
            "_view_module_version": "1.5.0",
            "_view_name": "LabelView",
            "description": "",
            "description_tooltip": null,
            "layout": "IPY_MODEL_badb772754514407ac841c6ce08dfd4f",
            "placeholder": "​",
            "style": "IPY_MODEL_38e3991695274ae389616d98d9f0e2b0",
            "value": "343.525 MB of 343.525 MB uploaded (0.000 MB deduped)\r"
          }
        },
        "c565c2fced50430aa513bda527f12a1b": {
          "model_module": "@jupyter-widgets/controls",
          "model_name": "FloatProgressModel",
          "model_module_version": "1.5.0",
          "state": {
            "_dom_classes": [],
            "_model_module": "@jupyter-widgets/controls",
            "_model_module_version": "1.5.0",
            "_model_name": "FloatProgressModel",
            "_view_count": null,
            "_view_module": "@jupyter-widgets/controls",
            "_view_module_version": "1.5.0",
            "_view_name": "ProgressView",
            "bar_style": "",
            "description": "",
            "description_tooltip": null,
            "layout": "IPY_MODEL_a1ac9a3cbe2f487eb74b8c979f0110a8",
            "max": 1,
            "min": 0,
            "orientation": "horizontal",
            "style": "IPY_MODEL_d639e9241def4fc5ab7f0ff99f39367d",
            "value": 1
          }
        },
        "a9f09daed2f24f10b23860b284ed812d": {
          "model_module": "@jupyter-widgets/base",
          "model_name": "LayoutModel",
          "model_module_version": "1.2.0",
          "state": {
            "_model_module": "@jupyter-widgets/base",
            "_model_module_version": "1.2.0",
            "_model_name": "LayoutModel",
            "_view_count": null,
            "_view_module": "@jupyter-widgets/base",
            "_view_module_version": "1.2.0",
            "_view_name": "LayoutView",
            "align_content": null,
            "align_items": null,
            "align_self": null,
            "border": null,
            "bottom": null,
            "display": null,
            "flex": null,
            "flex_flow": null,
            "grid_area": null,
            "grid_auto_columns": null,
            "grid_auto_flow": null,
            "grid_auto_rows": null,
            "grid_column": null,
            "grid_gap": null,
            "grid_row": null,
            "grid_template_areas": null,
            "grid_template_columns": null,
            "grid_template_rows": null,
            "height": null,
            "justify_content": null,
            "justify_items": null,
            "left": null,
            "margin": null,
            "max_height": null,
            "max_width": null,
            "min_height": null,
            "min_width": null,
            "object_fit": null,
            "object_position": null,
            "order": null,
            "overflow": null,
            "overflow_x": null,
            "overflow_y": null,
            "padding": null,
            "right": null,
            "top": null,
            "visibility": null,
            "width": null
          }
        },
        "badb772754514407ac841c6ce08dfd4f": {
          "model_module": "@jupyter-widgets/base",
          "model_name": "LayoutModel",
          "model_module_version": "1.2.0",
          "state": {
            "_model_module": "@jupyter-widgets/base",
            "_model_module_version": "1.2.0",
            "_model_name": "LayoutModel",
            "_view_count": null,
            "_view_module": "@jupyter-widgets/base",
            "_view_module_version": "1.2.0",
            "_view_name": "LayoutView",
            "align_content": null,
            "align_items": null,
            "align_self": null,
            "border": null,
            "bottom": null,
            "display": null,
            "flex": null,
            "flex_flow": null,
            "grid_area": null,
            "grid_auto_columns": null,
            "grid_auto_flow": null,
            "grid_auto_rows": null,
            "grid_column": null,
            "grid_gap": null,
            "grid_row": null,
            "grid_template_areas": null,
            "grid_template_columns": null,
            "grid_template_rows": null,
            "height": null,
            "justify_content": null,
            "justify_items": null,
            "left": null,
            "margin": null,
            "max_height": null,
            "max_width": null,
            "min_height": null,
            "min_width": null,
            "object_fit": null,
            "object_position": null,
            "order": null,
            "overflow": null,
            "overflow_x": null,
            "overflow_y": null,
            "padding": null,
            "right": null,
            "top": null,
            "visibility": null,
            "width": null
          }
        },
        "38e3991695274ae389616d98d9f0e2b0": {
          "model_module": "@jupyter-widgets/controls",
          "model_name": "DescriptionStyleModel",
          "model_module_version": "1.5.0",
          "state": {
            "_model_module": "@jupyter-widgets/controls",
            "_model_module_version": "1.5.0",
            "_model_name": "DescriptionStyleModel",
            "_view_count": null,
            "_view_module": "@jupyter-widgets/base",
            "_view_module_version": "1.2.0",
            "_view_name": "StyleView",
            "description_width": ""
          }
        },
        "a1ac9a3cbe2f487eb74b8c979f0110a8": {
          "model_module": "@jupyter-widgets/base",
          "model_name": "LayoutModel",
          "model_module_version": "1.2.0",
          "state": {
            "_model_module": "@jupyter-widgets/base",
            "_model_module_version": "1.2.0",
            "_model_name": "LayoutModel",
            "_view_count": null,
            "_view_module": "@jupyter-widgets/base",
            "_view_module_version": "1.2.0",
            "_view_name": "LayoutView",
            "align_content": null,
            "align_items": null,
            "align_self": null,
            "border": null,
            "bottom": null,
            "display": null,
            "flex": null,
            "flex_flow": null,
            "grid_area": null,
            "grid_auto_columns": null,
            "grid_auto_flow": null,
            "grid_auto_rows": null,
            "grid_column": null,
            "grid_gap": null,
            "grid_row": null,
            "grid_template_areas": null,
            "grid_template_columns": null,
            "grid_template_rows": null,
            "height": null,
            "justify_content": null,
            "justify_items": null,
            "left": null,
            "margin": null,
            "max_height": null,
            "max_width": null,
            "min_height": null,
            "min_width": null,
            "object_fit": null,
            "object_position": null,
            "order": null,
            "overflow": null,
            "overflow_x": null,
            "overflow_y": null,
            "padding": null,
            "right": null,
            "top": null,
            "visibility": null,
            "width": null
          }
        },
        "d639e9241def4fc5ab7f0ff99f39367d": {
          "model_module": "@jupyter-widgets/controls",
          "model_name": "ProgressStyleModel",
          "model_module_version": "1.5.0",
          "state": {
            "_model_module": "@jupyter-widgets/controls",
            "_model_module_version": "1.5.0",
            "_model_name": "ProgressStyleModel",
            "_view_count": null,
            "_view_module": "@jupyter-widgets/base",
            "_view_module_version": "1.2.0",
            "_view_name": "StyleView",
            "bar_color": null,
            "description_width": ""
          }
        },
        "811fee81c7a341d384b6037c96fb3aa7": {
          "model_module": "@jupyter-widgets/controls",
          "model_name": "VBoxModel",
          "model_module_version": "1.5.0",
          "state": {
            "_dom_classes": [],
            "_model_module": "@jupyter-widgets/controls",
            "_model_module_version": "1.5.0",
            "_model_name": "VBoxModel",
            "_view_count": null,
            "_view_module": "@jupyter-widgets/controls",
            "_view_module_version": "1.5.0",
            "_view_name": "VBoxView",
            "box_style": "",
            "children": [
              "IPY_MODEL_ea12edb27767491cab6eb0b6481c32f1",
              "IPY_MODEL_0802d0dbc9034dd7bfa56503daf8901c"
            ],
            "layout": "IPY_MODEL_3c35dbeb803947d4852eaaa05fc359f0"
          }
        },
        "ea12edb27767491cab6eb0b6481c32f1": {
          "model_module": "@jupyter-widgets/controls",
          "model_name": "LabelModel",
          "model_module_version": "1.5.0",
          "state": {
            "_dom_classes": [],
            "_model_module": "@jupyter-widgets/controls",
            "_model_module_version": "1.5.0",
            "_model_name": "LabelModel",
            "_view_count": null,
            "_view_module": "@jupyter-widgets/controls",
            "_view_module_version": "1.5.0",
            "_view_name": "LabelView",
            "description": "",
            "description_tooltip": null,
            "layout": "IPY_MODEL_4ec0ad5f38834364b5e638c349759610",
            "placeholder": "​",
            "style": "IPY_MODEL_12579149d4304d72b9bbbf2d8ac7d6de",
            "value": "140.050 MB of 140.050 MB uploaded (0.000 MB deduped)\r"
          }
        },
        "0802d0dbc9034dd7bfa56503daf8901c": {
          "model_module": "@jupyter-widgets/controls",
          "model_name": "FloatProgressModel",
          "model_module_version": "1.5.0",
          "state": {
            "_dom_classes": [],
            "_model_module": "@jupyter-widgets/controls",
            "_model_module_version": "1.5.0",
            "_model_name": "FloatProgressModel",
            "_view_count": null,
            "_view_module": "@jupyter-widgets/controls",
            "_view_module_version": "1.5.0",
            "_view_name": "ProgressView",
            "bar_style": "",
            "description": "",
            "description_tooltip": null,
            "layout": "IPY_MODEL_a88fbcf1f4824596ba761b087ee1a6c5",
            "max": 1,
            "min": 0,
            "orientation": "horizontal",
            "style": "IPY_MODEL_f8963a0b630a405798b4c00bc1e55013",
            "value": 1
          }
        },
        "3c35dbeb803947d4852eaaa05fc359f0": {
          "model_module": "@jupyter-widgets/base",
          "model_name": "LayoutModel",
          "model_module_version": "1.2.0",
          "state": {
            "_model_module": "@jupyter-widgets/base",
            "_model_module_version": "1.2.0",
            "_model_name": "LayoutModel",
            "_view_count": null,
            "_view_module": "@jupyter-widgets/base",
            "_view_module_version": "1.2.0",
            "_view_name": "LayoutView",
            "align_content": null,
            "align_items": null,
            "align_self": null,
            "border": null,
            "bottom": null,
            "display": null,
            "flex": null,
            "flex_flow": null,
            "grid_area": null,
            "grid_auto_columns": null,
            "grid_auto_flow": null,
            "grid_auto_rows": null,
            "grid_column": null,
            "grid_gap": null,
            "grid_row": null,
            "grid_template_areas": null,
            "grid_template_columns": null,
            "grid_template_rows": null,
            "height": null,
            "justify_content": null,
            "justify_items": null,
            "left": null,
            "margin": null,
            "max_height": null,
            "max_width": null,
            "min_height": null,
            "min_width": null,
            "object_fit": null,
            "object_position": null,
            "order": null,
            "overflow": null,
            "overflow_x": null,
            "overflow_y": null,
            "padding": null,
            "right": null,
            "top": null,
            "visibility": null,
            "width": null
          }
        },
        "4ec0ad5f38834364b5e638c349759610": {
          "model_module": "@jupyter-widgets/base",
          "model_name": "LayoutModel",
          "model_module_version": "1.2.0",
          "state": {
            "_model_module": "@jupyter-widgets/base",
            "_model_module_version": "1.2.0",
            "_model_name": "LayoutModel",
            "_view_count": null,
            "_view_module": "@jupyter-widgets/base",
            "_view_module_version": "1.2.0",
            "_view_name": "LayoutView",
            "align_content": null,
            "align_items": null,
            "align_self": null,
            "border": null,
            "bottom": null,
            "display": null,
            "flex": null,
            "flex_flow": null,
            "grid_area": null,
            "grid_auto_columns": null,
            "grid_auto_flow": null,
            "grid_auto_rows": null,
            "grid_column": null,
            "grid_gap": null,
            "grid_row": null,
            "grid_template_areas": null,
            "grid_template_columns": null,
            "grid_template_rows": null,
            "height": null,
            "justify_content": null,
            "justify_items": null,
            "left": null,
            "margin": null,
            "max_height": null,
            "max_width": null,
            "min_height": null,
            "min_width": null,
            "object_fit": null,
            "object_position": null,
            "order": null,
            "overflow": null,
            "overflow_x": null,
            "overflow_y": null,
            "padding": null,
            "right": null,
            "top": null,
            "visibility": null,
            "width": null
          }
        },
        "12579149d4304d72b9bbbf2d8ac7d6de": {
          "model_module": "@jupyter-widgets/controls",
          "model_name": "DescriptionStyleModel",
          "model_module_version": "1.5.0",
          "state": {
            "_model_module": "@jupyter-widgets/controls",
            "_model_module_version": "1.5.0",
            "_model_name": "DescriptionStyleModel",
            "_view_count": null,
            "_view_module": "@jupyter-widgets/base",
            "_view_module_version": "1.2.0",
            "_view_name": "StyleView",
            "description_width": ""
          }
        },
        "a88fbcf1f4824596ba761b087ee1a6c5": {
          "model_module": "@jupyter-widgets/base",
          "model_name": "LayoutModel",
          "model_module_version": "1.2.0",
          "state": {
            "_model_module": "@jupyter-widgets/base",
            "_model_module_version": "1.2.0",
            "_model_name": "LayoutModel",
            "_view_count": null,
            "_view_module": "@jupyter-widgets/base",
            "_view_module_version": "1.2.0",
            "_view_name": "LayoutView",
            "align_content": null,
            "align_items": null,
            "align_self": null,
            "border": null,
            "bottom": null,
            "display": null,
            "flex": null,
            "flex_flow": null,
            "grid_area": null,
            "grid_auto_columns": null,
            "grid_auto_flow": null,
            "grid_auto_rows": null,
            "grid_column": null,
            "grid_gap": null,
            "grid_row": null,
            "grid_template_areas": null,
            "grid_template_columns": null,
            "grid_template_rows": null,
            "height": null,
            "justify_content": null,
            "justify_items": null,
            "left": null,
            "margin": null,
            "max_height": null,
            "max_width": null,
            "min_height": null,
            "min_width": null,
            "object_fit": null,
            "object_position": null,
            "order": null,
            "overflow": null,
            "overflow_x": null,
            "overflow_y": null,
            "padding": null,
            "right": null,
            "top": null,
            "visibility": null,
            "width": null
          }
        },
        "f8963a0b630a405798b4c00bc1e55013": {
          "model_module": "@jupyter-widgets/controls",
          "model_name": "ProgressStyleModel",
          "model_module_version": "1.5.0",
          "state": {
            "_model_module": "@jupyter-widgets/controls",
            "_model_module_version": "1.5.0",
            "_model_name": "ProgressStyleModel",
            "_view_count": null,
            "_view_module": "@jupyter-widgets/base",
            "_view_module_version": "1.2.0",
            "_view_name": "StyleView",
            "bar_color": null,
            "description_width": ""
          }
        },
        "4a408aba9a2f4b268164e48554ec4c4c": {
          "model_module": "@jupyter-widgets/controls",
          "model_name": "VBoxModel",
          "model_module_version": "1.5.0",
          "state": {
            "_dom_classes": [],
            "_model_module": "@jupyter-widgets/controls",
            "_model_module_version": "1.5.0",
            "_model_name": "VBoxModel",
            "_view_count": null,
            "_view_module": "@jupyter-widgets/controls",
            "_view_module_version": "1.5.0",
            "_view_name": "VBoxView",
            "box_style": "",
            "children": [
              "IPY_MODEL_8f4bd0c11073484ba25edd4330c4e581",
              "IPY_MODEL_4a1642e5523145c683adf26fd0b7b5b2"
            ],
            "layout": "IPY_MODEL_68c9a0e0e3a640f6a500fafdc146c66f"
          }
        },
        "8f4bd0c11073484ba25edd4330c4e581": {
          "model_module": "@jupyter-widgets/controls",
          "model_name": "LabelModel",
          "model_module_version": "1.5.0",
          "state": {
            "_dom_classes": [],
            "_model_module": "@jupyter-widgets/controls",
            "_model_module_version": "1.5.0",
            "_model_name": "LabelModel",
            "_view_count": null,
            "_view_module": "@jupyter-widgets/controls",
            "_view_module_version": "1.5.0",
            "_view_name": "LabelView",
            "description": "",
            "description_tooltip": null,
            "layout": "IPY_MODEL_a20c4b884c9f4e3bb25d254436b080ba",
            "placeholder": "​",
            "style": "IPY_MODEL_5cd00100680444818c039618664142e1",
            "value": "148.638 MB of 148.638 MB uploaded (0.000 MB deduped)\r"
          }
        },
        "4a1642e5523145c683adf26fd0b7b5b2": {
          "model_module": "@jupyter-widgets/controls",
          "model_name": "FloatProgressModel",
          "model_module_version": "1.5.0",
          "state": {
            "_dom_classes": [],
            "_model_module": "@jupyter-widgets/controls",
            "_model_module_version": "1.5.0",
            "_model_name": "FloatProgressModel",
            "_view_count": null,
            "_view_module": "@jupyter-widgets/controls",
            "_view_module_version": "1.5.0",
            "_view_name": "ProgressView",
            "bar_style": "",
            "description": "",
            "description_tooltip": null,
            "layout": "IPY_MODEL_d6752e9b63d443eb82577d7dafba2798",
            "max": 1,
            "min": 0,
            "orientation": "horizontal",
            "style": "IPY_MODEL_9bc926dbe8b24a2fbbda63309234ad35",
            "value": 1
          }
        },
        "68c9a0e0e3a640f6a500fafdc146c66f": {
          "model_module": "@jupyter-widgets/base",
          "model_name": "LayoutModel",
          "model_module_version": "1.2.0",
          "state": {
            "_model_module": "@jupyter-widgets/base",
            "_model_module_version": "1.2.0",
            "_model_name": "LayoutModel",
            "_view_count": null,
            "_view_module": "@jupyter-widgets/base",
            "_view_module_version": "1.2.0",
            "_view_name": "LayoutView",
            "align_content": null,
            "align_items": null,
            "align_self": null,
            "border": null,
            "bottom": null,
            "display": null,
            "flex": null,
            "flex_flow": null,
            "grid_area": null,
            "grid_auto_columns": null,
            "grid_auto_flow": null,
            "grid_auto_rows": null,
            "grid_column": null,
            "grid_gap": null,
            "grid_row": null,
            "grid_template_areas": null,
            "grid_template_columns": null,
            "grid_template_rows": null,
            "height": null,
            "justify_content": null,
            "justify_items": null,
            "left": null,
            "margin": null,
            "max_height": null,
            "max_width": null,
            "min_height": null,
            "min_width": null,
            "object_fit": null,
            "object_position": null,
            "order": null,
            "overflow": null,
            "overflow_x": null,
            "overflow_y": null,
            "padding": null,
            "right": null,
            "top": null,
            "visibility": null,
            "width": null
          }
        },
        "a20c4b884c9f4e3bb25d254436b080ba": {
          "model_module": "@jupyter-widgets/base",
          "model_name": "LayoutModel",
          "model_module_version": "1.2.0",
          "state": {
            "_model_module": "@jupyter-widgets/base",
            "_model_module_version": "1.2.0",
            "_model_name": "LayoutModel",
            "_view_count": null,
            "_view_module": "@jupyter-widgets/base",
            "_view_module_version": "1.2.0",
            "_view_name": "LayoutView",
            "align_content": null,
            "align_items": null,
            "align_self": null,
            "border": null,
            "bottom": null,
            "display": null,
            "flex": null,
            "flex_flow": null,
            "grid_area": null,
            "grid_auto_columns": null,
            "grid_auto_flow": null,
            "grid_auto_rows": null,
            "grid_column": null,
            "grid_gap": null,
            "grid_row": null,
            "grid_template_areas": null,
            "grid_template_columns": null,
            "grid_template_rows": null,
            "height": null,
            "justify_content": null,
            "justify_items": null,
            "left": null,
            "margin": null,
            "max_height": null,
            "max_width": null,
            "min_height": null,
            "min_width": null,
            "object_fit": null,
            "object_position": null,
            "order": null,
            "overflow": null,
            "overflow_x": null,
            "overflow_y": null,
            "padding": null,
            "right": null,
            "top": null,
            "visibility": null,
            "width": null
          }
        },
        "5cd00100680444818c039618664142e1": {
          "model_module": "@jupyter-widgets/controls",
          "model_name": "DescriptionStyleModel",
          "model_module_version": "1.5.0",
          "state": {
            "_model_module": "@jupyter-widgets/controls",
            "_model_module_version": "1.5.0",
            "_model_name": "DescriptionStyleModel",
            "_view_count": null,
            "_view_module": "@jupyter-widgets/base",
            "_view_module_version": "1.2.0",
            "_view_name": "StyleView",
            "description_width": ""
          }
        },
        "d6752e9b63d443eb82577d7dafba2798": {
          "model_module": "@jupyter-widgets/base",
          "model_name": "LayoutModel",
          "model_module_version": "1.2.0",
          "state": {
            "_model_module": "@jupyter-widgets/base",
            "_model_module_version": "1.2.0",
            "_model_name": "LayoutModel",
            "_view_count": null,
            "_view_module": "@jupyter-widgets/base",
            "_view_module_version": "1.2.0",
            "_view_name": "LayoutView",
            "align_content": null,
            "align_items": null,
            "align_self": null,
            "border": null,
            "bottom": null,
            "display": null,
            "flex": null,
            "flex_flow": null,
            "grid_area": null,
            "grid_auto_columns": null,
            "grid_auto_flow": null,
            "grid_auto_rows": null,
            "grid_column": null,
            "grid_gap": null,
            "grid_row": null,
            "grid_template_areas": null,
            "grid_template_columns": null,
            "grid_template_rows": null,
            "height": null,
            "justify_content": null,
            "justify_items": null,
            "left": null,
            "margin": null,
            "max_height": null,
            "max_width": null,
            "min_height": null,
            "min_width": null,
            "object_fit": null,
            "object_position": null,
            "order": null,
            "overflow": null,
            "overflow_x": null,
            "overflow_y": null,
            "padding": null,
            "right": null,
            "top": null,
            "visibility": null,
            "width": null
          }
        },
        "9bc926dbe8b24a2fbbda63309234ad35": {
          "model_module": "@jupyter-widgets/controls",
          "model_name": "ProgressStyleModel",
          "model_module_version": "1.5.0",
          "state": {
            "_model_module": "@jupyter-widgets/controls",
            "_model_module_version": "1.5.0",
            "_model_name": "ProgressStyleModel",
            "_view_count": null,
            "_view_module": "@jupyter-widgets/base",
            "_view_module_version": "1.2.0",
            "_view_name": "StyleView",
            "bar_color": null,
            "description_width": ""
          }
        },
        "6173913cef7b4af1bed2ee22166619f0": {
          "model_module": "@jupyter-widgets/controls",
          "model_name": "VBoxModel",
          "model_module_version": "1.5.0",
          "state": {
            "_dom_classes": [],
            "_model_module": "@jupyter-widgets/controls",
            "_model_module_version": "1.5.0",
            "_model_name": "VBoxModel",
            "_view_count": null,
            "_view_module": "@jupyter-widgets/controls",
            "_view_module_version": "1.5.0",
            "_view_name": "VBoxView",
            "box_style": "",
            "children": [
              "IPY_MODEL_7d743a2ac29c45c78af978ee19e7acd5",
              "IPY_MODEL_352cab2877624fc5bf9d3fa64ffd7fac"
            ],
            "layout": "IPY_MODEL_f72d7c0eb7a24ebea443a49f01c07ed9"
          }
        },
        "7d743a2ac29c45c78af978ee19e7acd5": {
          "model_module": "@jupyter-widgets/controls",
          "model_name": "LabelModel",
          "model_module_version": "1.5.0",
          "state": {
            "_dom_classes": [],
            "_model_module": "@jupyter-widgets/controls",
            "_model_module_version": "1.5.0",
            "_model_name": "LabelModel",
            "_view_count": null,
            "_view_module": "@jupyter-widgets/controls",
            "_view_module_version": "1.5.0",
            "_view_name": "LabelView",
            "description": "",
            "description_tooltip": null,
            "layout": "IPY_MODEL_cc8636d2ad844a61bd2581ad9ab51bac",
            "placeholder": "​",
            "style": "IPY_MODEL_d1076cfd1fb5420d8ddbd5d82d759bfc",
            "value": "180.524 MB of 180.524 MB uploaded (0.000 MB deduped)\r"
          }
        },
        "352cab2877624fc5bf9d3fa64ffd7fac": {
          "model_module": "@jupyter-widgets/controls",
          "model_name": "FloatProgressModel",
          "model_module_version": "1.5.0",
          "state": {
            "_dom_classes": [],
            "_model_module": "@jupyter-widgets/controls",
            "_model_module_version": "1.5.0",
            "_model_name": "FloatProgressModel",
            "_view_count": null,
            "_view_module": "@jupyter-widgets/controls",
            "_view_module_version": "1.5.0",
            "_view_name": "ProgressView",
            "bar_style": "",
            "description": "",
            "description_tooltip": null,
            "layout": "IPY_MODEL_374fe7ed8ed44b1fb834de220600fc90",
            "max": 1,
            "min": 0,
            "orientation": "horizontal",
            "style": "IPY_MODEL_1a6af1e7a24e4c7e851adc75fc9dbb85",
            "value": 1
          }
        },
        "f72d7c0eb7a24ebea443a49f01c07ed9": {
          "model_module": "@jupyter-widgets/base",
          "model_name": "LayoutModel",
          "model_module_version": "1.2.0",
          "state": {
            "_model_module": "@jupyter-widgets/base",
            "_model_module_version": "1.2.0",
            "_model_name": "LayoutModel",
            "_view_count": null,
            "_view_module": "@jupyter-widgets/base",
            "_view_module_version": "1.2.0",
            "_view_name": "LayoutView",
            "align_content": null,
            "align_items": null,
            "align_self": null,
            "border": null,
            "bottom": null,
            "display": null,
            "flex": null,
            "flex_flow": null,
            "grid_area": null,
            "grid_auto_columns": null,
            "grid_auto_flow": null,
            "grid_auto_rows": null,
            "grid_column": null,
            "grid_gap": null,
            "grid_row": null,
            "grid_template_areas": null,
            "grid_template_columns": null,
            "grid_template_rows": null,
            "height": null,
            "justify_content": null,
            "justify_items": null,
            "left": null,
            "margin": null,
            "max_height": null,
            "max_width": null,
            "min_height": null,
            "min_width": null,
            "object_fit": null,
            "object_position": null,
            "order": null,
            "overflow": null,
            "overflow_x": null,
            "overflow_y": null,
            "padding": null,
            "right": null,
            "top": null,
            "visibility": null,
            "width": null
          }
        },
        "cc8636d2ad844a61bd2581ad9ab51bac": {
          "model_module": "@jupyter-widgets/base",
          "model_name": "LayoutModel",
          "model_module_version": "1.2.0",
          "state": {
            "_model_module": "@jupyter-widgets/base",
            "_model_module_version": "1.2.0",
            "_model_name": "LayoutModel",
            "_view_count": null,
            "_view_module": "@jupyter-widgets/base",
            "_view_module_version": "1.2.0",
            "_view_name": "LayoutView",
            "align_content": null,
            "align_items": null,
            "align_self": null,
            "border": null,
            "bottom": null,
            "display": null,
            "flex": null,
            "flex_flow": null,
            "grid_area": null,
            "grid_auto_columns": null,
            "grid_auto_flow": null,
            "grid_auto_rows": null,
            "grid_column": null,
            "grid_gap": null,
            "grid_row": null,
            "grid_template_areas": null,
            "grid_template_columns": null,
            "grid_template_rows": null,
            "height": null,
            "justify_content": null,
            "justify_items": null,
            "left": null,
            "margin": null,
            "max_height": null,
            "max_width": null,
            "min_height": null,
            "min_width": null,
            "object_fit": null,
            "object_position": null,
            "order": null,
            "overflow": null,
            "overflow_x": null,
            "overflow_y": null,
            "padding": null,
            "right": null,
            "top": null,
            "visibility": null,
            "width": null
          }
        },
        "d1076cfd1fb5420d8ddbd5d82d759bfc": {
          "model_module": "@jupyter-widgets/controls",
          "model_name": "DescriptionStyleModel",
          "model_module_version": "1.5.0",
          "state": {
            "_model_module": "@jupyter-widgets/controls",
            "_model_module_version": "1.5.0",
            "_model_name": "DescriptionStyleModel",
            "_view_count": null,
            "_view_module": "@jupyter-widgets/base",
            "_view_module_version": "1.2.0",
            "_view_name": "StyleView",
            "description_width": ""
          }
        },
        "374fe7ed8ed44b1fb834de220600fc90": {
          "model_module": "@jupyter-widgets/base",
          "model_name": "LayoutModel",
          "model_module_version": "1.2.0",
          "state": {
            "_model_module": "@jupyter-widgets/base",
            "_model_module_version": "1.2.0",
            "_model_name": "LayoutModel",
            "_view_count": null,
            "_view_module": "@jupyter-widgets/base",
            "_view_module_version": "1.2.0",
            "_view_name": "LayoutView",
            "align_content": null,
            "align_items": null,
            "align_self": null,
            "border": null,
            "bottom": null,
            "display": null,
            "flex": null,
            "flex_flow": null,
            "grid_area": null,
            "grid_auto_columns": null,
            "grid_auto_flow": null,
            "grid_auto_rows": null,
            "grid_column": null,
            "grid_gap": null,
            "grid_row": null,
            "grid_template_areas": null,
            "grid_template_columns": null,
            "grid_template_rows": null,
            "height": null,
            "justify_content": null,
            "justify_items": null,
            "left": null,
            "margin": null,
            "max_height": null,
            "max_width": null,
            "min_height": null,
            "min_width": null,
            "object_fit": null,
            "object_position": null,
            "order": null,
            "overflow": null,
            "overflow_x": null,
            "overflow_y": null,
            "padding": null,
            "right": null,
            "top": null,
            "visibility": null,
            "width": null
          }
        },
        "1a6af1e7a24e4c7e851adc75fc9dbb85": {
          "model_module": "@jupyter-widgets/controls",
          "model_name": "ProgressStyleModel",
          "model_module_version": "1.5.0",
          "state": {
            "_model_module": "@jupyter-widgets/controls",
            "_model_module_version": "1.5.0",
            "_model_name": "ProgressStyleModel",
            "_view_count": null,
            "_view_module": "@jupyter-widgets/base",
            "_view_module_version": "1.2.0",
            "_view_name": "StyleView",
            "bar_color": null,
            "description_width": ""
          }
        },
        "ea7173d36de44053af1bb0045131c003": {
          "model_module": "@jupyter-widgets/controls",
          "model_name": "VBoxModel",
          "model_module_version": "1.5.0",
          "state": {
            "_dom_classes": [],
            "_model_module": "@jupyter-widgets/controls",
            "_model_module_version": "1.5.0",
            "_model_name": "VBoxModel",
            "_view_count": null,
            "_view_module": "@jupyter-widgets/controls",
            "_view_module_version": "1.5.0",
            "_view_name": "VBoxView",
            "box_style": "",
            "children": [
              "IPY_MODEL_1941ebd813fd4f008c86f71409f49a62",
              "IPY_MODEL_213f5389d5134ea1b6f8e5cb7ddc8fe8"
            ],
            "layout": "IPY_MODEL_629a65a5cbc34ddc906062852f6dac2c"
          }
        },
        "1941ebd813fd4f008c86f71409f49a62": {
          "model_module": "@jupyter-widgets/controls",
          "model_name": "LabelModel",
          "model_module_version": "1.5.0",
          "state": {
            "_dom_classes": [],
            "_model_module": "@jupyter-widgets/controls",
            "_model_module_version": "1.5.0",
            "_model_name": "LabelModel",
            "_view_count": null,
            "_view_module": "@jupyter-widgets/controls",
            "_view_module_version": "1.5.0",
            "_view_name": "LabelView",
            "description": "",
            "description_tooltip": null,
            "layout": "IPY_MODEL_7c52bb125f1d4574a85249fd78d5f46f",
            "placeholder": "​",
            "style": "IPY_MODEL_a6b1d7fb69e84af28b9f5b463784ab66",
            "value": "0.008 MB of 0.008 MB uploaded (0.000 MB deduped)\r"
          }
        },
        "213f5389d5134ea1b6f8e5cb7ddc8fe8": {
          "model_module": "@jupyter-widgets/controls",
          "model_name": "FloatProgressModel",
          "model_module_version": "1.5.0",
          "state": {
            "_dom_classes": [],
            "_model_module": "@jupyter-widgets/controls",
            "_model_module_version": "1.5.0",
            "_model_name": "FloatProgressModel",
            "_view_count": null,
            "_view_module": "@jupyter-widgets/controls",
            "_view_module_version": "1.5.0",
            "_view_name": "ProgressView",
            "bar_style": "",
            "description": "",
            "description_tooltip": null,
            "layout": "IPY_MODEL_fe656c2ed04246ac988530d38e7ded9d",
            "max": 1,
            "min": 0,
            "orientation": "horizontal",
            "style": "IPY_MODEL_3384bccff75f4258b3871c191db5f2c5",
            "value": 1
          }
        },
        "629a65a5cbc34ddc906062852f6dac2c": {
          "model_module": "@jupyter-widgets/base",
          "model_name": "LayoutModel",
          "model_module_version": "1.2.0",
          "state": {
            "_model_module": "@jupyter-widgets/base",
            "_model_module_version": "1.2.0",
            "_model_name": "LayoutModel",
            "_view_count": null,
            "_view_module": "@jupyter-widgets/base",
            "_view_module_version": "1.2.0",
            "_view_name": "LayoutView",
            "align_content": null,
            "align_items": null,
            "align_self": null,
            "border": null,
            "bottom": null,
            "display": null,
            "flex": null,
            "flex_flow": null,
            "grid_area": null,
            "grid_auto_columns": null,
            "grid_auto_flow": null,
            "grid_auto_rows": null,
            "grid_column": null,
            "grid_gap": null,
            "grid_row": null,
            "grid_template_areas": null,
            "grid_template_columns": null,
            "grid_template_rows": null,
            "height": null,
            "justify_content": null,
            "justify_items": null,
            "left": null,
            "margin": null,
            "max_height": null,
            "max_width": null,
            "min_height": null,
            "min_width": null,
            "object_fit": null,
            "object_position": null,
            "order": null,
            "overflow": null,
            "overflow_x": null,
            "overflow_y": null,
            "padding": null,
            "right": null,
            "top": null,
            "visibility": null,
            "width": null
          }
        },
        "7c52bb125f1d4574a85249fd78d5f46f": {
          "model_module": "@jupyter-widgets/base",
          "model_name": "LayoutModel",
          "model_module_version": "1.2.0",
          "state": {
            "_model_module": "@jupyter-widgets/base",
            "_model_module_version": "1.2.0",
            "_model_name": "LayoutModel",
            "_view_count": null,
            "_view_module": "@jupyter-widgets/base",
            "_view_module_version": "1.2.0",
            "_view_name": "LayoutView",
            "align_content": null,
            "align_items": null,
            "align_self": null,
            "border": null,
            "bottom": null,
            "display": null,
            "flex": null,
            "flex_flow": null,
            "grid_area": null,
            "grid_auto_columns": null,
            "grid_auto_flow": null,
            "grid_auto_rows": null,
            "grid_column": null,
            "grid_gap": null,
            "grid_row": null,
            "grid_template_areas": null,
            "grid_template_columns": null,
            "grid_template_rows": null,
            "height": null,
            "justify_content": null,
            "justify_items": null,
            "left": null,
            "margin": null,
            "max_height": null,
            "max_width": null,
            "min_height": null,
            "min_width": null,
            "object_fit": null,
            "object_position": null,
            "order": null,
            "overflow": null,
            "overflow_x": null,
            "overflow_y": null,
            "padding": null,
            "right": null,
            "top": null,
            "visibility": null,
            "width": null
          }
        },
        "a6b1d7fb69e84af28b9f5b463784ab66": {
          "model_module": "@jupyter-widgets/controls",
          "model_name": "DescriptionStyleModel",
          "model_module_version": "1.5.0",
          "state": {
            "_model_module": "@jupyter-widgets/controls",
            "_model_module_version": "1.5.0",
            "_model_name": "DescriptionStyleModel",
            "_view_count": null,
            "_view_module": "@jupyter-widgets/base",
            "_view_module_version": "1.2.0",
            "_view_name": "StyleView",
            "description_width": ""
          }
        },
        "fe656c2ed04246ac988530d38e7ded9d": {
          "model_module": "@jupyter-widgets/base",
          "model_name": "LayoutModel",
          "model_module_version": "1.2.0",
          "state": {
            "_model_module": "@jupyter-widgets/base",
            "_model_module_version": "1.2.0",
            "_model_name": "LayoutModel",
            "_view_count": null,
            "_view_module": "@jupyter-widgets/base",
            "_view_module_version": "1.2.0",
            "_view_name": "LayoutView",
            "align_content": null,
            "align_items": null,
            "align_self": null,
            "border": null,
            "bottom": null,
            "display": null,
            "flex": null,
            "flex_flow": null,
            "grid_area": null,
            "grid_auto_columns": null,
            "grid_auto_flow": null,
            "grid_auto_rows": null,
            "grid_column": null,
            "grid_gap": null,
            "grid_row": null,
            "grid_template_areas": null,
            "grid_template_columns": null,
            "grid_template_rows": null,
            "height": null,
            "justify_content": null,
            "justify_items": null,
            "left": null,
            "margin": null,
            "max_height": null,
            "max_width": null,
            "min_height": null,
            "min_width": null,
            "object_fit": null,
            "object_position": null,
            "order": null,
            "overflow": null,
            "overflow_x": null,
            "overflow_y": null,
            "padding": null,
            "right": null,
            "top": null,
            "visibility": null,
            "width": null
          }
        },
        "3384bccff75f4258b3871c191db5f2c5": {
          "model_module": "@jupyter-widgets/controls",
          "model_name": "ProgressStyleModel",
          "model_module_version": "1.5.0",
          "state": {
            "_model_module": "@jupyter-widgets/controls",
            "_model_module_version": "1.5.0",
            "_model_name": "ProgressStyleModel",
            "_view_count": null,
            "_view_module": "@jupyter-widgets/base",
            "_view_module_version": "1.2.0",
            "_view_name": "StyleView",
            "bar_color": null,
            "description_width": ""
          }
        },
        "9c019be66a834c5bb32bf9694555f8da": {
          "model_module": "@jupyter-widgets/controls",
          "model_name": "VBoxModel",
          "model_module_version": "1.5.0",
          "state": {
            "_dom_classes": [],
            "_model_module": "@jupyter-widgets/controls",
            "_model_module_version": "1.5.0",
            "_model_name": "VBoxModel",
            "_view_count": null,
            "_view_module": "@jupyter-widgets/controls",
            "_view_module_version": "1.5.0",
            "_view_name": "VBoxView",
            "box_style": "",
            "children": [
              "IPY_MODEL_c6207e0c861d4c8aac7a7f8ce3bd3e1b",
              "IPY_MODEL_e8c8589ddc2543b1b5a54a70e5c90a21"
            ],
            "layout": "IPY_MODEL_41dc4d46b32d4b7ab2c6644002bd8291"
          }
        },
        "c6207e0c861d4c8aac7a7f8ce3bd3e1b": {
          "model_module": "@jupyter-widgets/controls",
          "model_name": "LabelModel",
          "model_module_version": "1.5.0",
          "state": {
            "_dom_classes": [],
            "_model_module": "@jupyter-widgets/controls",
            "_model_module_version": "1.5.0",
            "_model_name": "LabelModel",
            "_view_count": null,
            "_view_module": "@jupyter-widgets/controls",
            "_view_module_version": "1.5.0",
            "_view_name": "LabelView",
            "description": "",
            "description_tooltip": null,
            "layout": "IPY_MODEL_140c53c5c0294d178c00385232d4af64",
            "placeholder": "​",
            "style": "IPY_MODEL_88f4e6ca7e834f5c8ec94fdd0c610852",
            "value": "343.525 MB of 343.525 MB uploaded (0.000 MB deduped)\r"
          }
        },
        "e8c8589ddc2543b1b5a54a70e5c90a21": {
          "model_module": "@jupyter-widgets/controls",
          "model_name": "FloatProgressModel",
          "model_module_version": "1.5.0",
          "state": {
            "_dom_classes": [],
            "_model_module": "@jupyter-widgets/controls",
            "_model_module_version": "1.5.0",
            "_model_name": "FloatProgressModel",
            "_view_count": null,
            "_view_module": "@jupyter-widgets/controls",
            "_view_module_version": "1.5.0",
            "_view_name": "ProgressView",
            "bar_style": "",
            "description": "",
            "description_tooltip": null,
            "layout": "IPY_MODEL_38478ee9ec0546dbbac1556751f24aff",
            "max": 1,
            "min": 0,
            "orientation": "horizontal",
            "style": "IPY_MODEL_5b5d84027e724295b5ca8494c70166d7",
            "value": 1
          }
        },
        "41dc4d46b32d4b7ab2c6644002bd8291": {
          "model_module": "@jupyter-widgets/base",
          "model_name": "LayoutModel",
          "model_module_version": "1.2.0",
          "state": {
            "_model_module": "@jupyter-widgets/base",
            "_model_module_version": "1.2.0",
            "_model_name": "LayoutModel",
            "_view_count": null,
            "_view_module": "@jupyter-widgets/base",
            "_view_module_version": "1.2.0",
            "_view_name": "LayoutView",
            "align_content": null,
            "align_items": null,
            "align_self": null,
            "border": null,
            "bottom": null,
            "display": null,
            "flex": null,
            "flex_flow": null,
            "grid_area": null,
            "grid_auto_columns": null,
            "grid_auto_flow": null,
            "grid_auto_rows": null,
            "grid_column": null,
            "grid_gap": null,
            "grid_row": null,
            "grid_template_areas": null,
            "grid_template_columns": null,
            "grid_template_rows": null,
            "height": null,
            "justify_content": null,
            "justify_items": null,
            "left": null,
            "margin": null,
            "max_height": null,
            "max_width": null,
            "min_height": null,
            "min_width": null,
            "object_fit": null,
            "object_position": null,
            "order": null,
            "overflow": null,
            "overflow_x": null,
            "overflow_y": null,
            "padding": null,
            "right": null,
            "top": null,
            "visibility": null,
            "width": null
          }
        },
        "140c53c5c0294d178c00385232d4af64": {
          "model_module": "@jupyter-widgets/base",
          "model_name": "LayoutModel",
          "model_module_version": "1.2.0",
          "state": {
            "_model_module": "@jupyter-widgets/base",
            "_model_module_version": "1.2.0",
            "_model_name": "LayoutModel",
            "_view_count": null,
            "_view_module": "@jupyter-widgets/base",
            "_view_module_version": "1.2.0",
            "_view_name": "LayoutView",
            "align_content": null,
            "align_items": null,
            "align_self": null,
            "border": null,
            "bottom": null,
            "display": null,
            "flex": null,
            "flex_flow": null,
            "grid_area": null,
            "grid_auto_columns": null,
            "grid_auto_flow": null,
            "grid_auto_rows": null,
            "grid_column": null,
            "grid_gap": null,
            "grid_row": null,
            "grid_template_areas": null,
            "grid_template_columns": null,
            "grid_template_rows": null,
            "height": null,
            "justify_content": null,
            "justify_items": null,
            "left": null,
            "margin": null,
            "max_height": null,
            "max_width": null,
            "min_height": null,
            "min_width": null,
            "object_fit": null,
            "object_position": null,
            "order": null,
            "overflow": null,
            "overflow_x": null,
            "overflow_y": null,
            "padding": null,
            "right": null,
            "top": null,
            "visibility": null,
            "width": null
          }
        },
        "88f4e6ca7e834f5c8ec94fdd0c610852": {
          "model_module": "@jupyter-widgets/controls",
          "model_name": "DescriptionStyleModel",
          "model_module_version": "1.5.0",
          "state": {
            "_model_module": "@jupyter-widgets/controls",
            "_model_module_version": "1.5.0",
            "_model_name": "DescriptionStyleModel",
            "_view_count": null,
            "_view_module": "@jupyter-widgets/base",
            "_view_module_version": "1.2.0",
            "_view_name": "StyleView",
            "description_width": ""
          }
        },
        "38478ee9ec0546dbbac1556751f24aff": {
          "model_module": "@jupyter-widgets/base",
          "model_name": "LayoutModel",
          "model_module_version": "1.2.0",
          "state": {
            "_model_module": "@jupyter-widgets/base",
            "_model_module_version": "1.2.0",
            "_model_name": "LayoutModel",
            "_view_count": null,
            "_view_module": "@jupyter-widgets/base",
            "_view_module_version": "1.2.0",
            "_view_name": "LayoutView",
            "align_content": null,
            "align_items": null,
            "align_self": null,
            "border": null,
            "bottom": null,
            "display": null,
            "flex": null,
            "flex_flow": null,
            "grid_area": null,
            "grid_auto_columns": null,
            "grid_auto_flow": null,
            "grid_auto_rows": null,
            "grid_column": null,
            "grid_gap": null,
            "grid_row": null,
            "grid_template_areas": null,
            "grid_template_columns": null,
            "grid_template_rows": null,
            "height": null,
            "justify_content": null,
            "justify_items": null,
            "left": null,
            "margin": null,
            "max_height": null,
            "max_width": null,
            "min_height": null,
            "min_width": null,
            "object_fit": null,
            "object_position": null,
            "order": null,
            "overflow": null,
            "overflow_x": null,
            "overflow_y": null,
            "padding": null,
            "right": null,
            "top": null,
            "visibility": null,
            "width": null
          }
        },
        "5b5d84027e724295b5ca8494c70166d7": {
          "model_module": "@jupyter-widgets/controls",
          "model_name": "ProgressStyleModel",
          "model_module_version": "1.5.0",
          "state": {
            "_model_module": "@jupyter-widgets/controls",
            "_model_module_version": "1.5.0",
            "_model_name": "ProgressStyleModel",
            "_view_count": null,
            "_view_module": "@jupyter-widgets/base",
            "_view_module_version": "1.2.0",
            "_view_name": "StyleView",
            "bar_color": null,
            "description_width": ""
          }
        },
        "811fbb8981694ae9a23525e716214489": {
          "model_module": "@jupyter-widgets/controls",
          "model_name": "VBoxModel",
          "model_module_version": "1.5.0",
          "state": {
            "_dom_classes": [],
            "_model_module": "@jupyter-widgets/controls",
            "_model_module_version": "1.5.0",
            "_model_name": "VBoxModel",
            "_view_count": null,
            "_view_module": "@jupyter-widgets/controls",
            "_view_module_version": "1.5.0",
            "_view_name": "VBoxView",
            "box_style": "",
            "children": [
              "IPY_MODEL_770681df93f444579266a2a884172e30",
              "IPY_MODEL_51b0eb373f104921baffa6971514334b"
            ],
            "layout": "IPY_MODEL_5b4aa7d5537c433997dc961d4ba8ced8"
          }
        },
        "770681df93f444579266a2a884172e30": {
          "model_module": "@jupyter-widgets/controls",
          "model_name": "LabelModel",
          "model_module_version": "1.5.0",
          "state": {
            "_dom_classes": [],
            "_model_module": "@jupyter-widgets/controls",
            "_model_module_version": "1.5.0",
            "_model_name": "LabelModel",
            "_view_count": null,
            "_view_module": "@jupyter-widgets/controls",
            "_view_module_version": "1.5.0",
            "_view_name": "LabelView",
            "description": "",
            "description_tooltip": null,
            "layout": "IPY_MODEL_675c990442d84ef695e720caff59aedc",
            "placeholder": "​",
            "style": "IPY_MODEL_87419fc3ac50455eb10a54d8c02398ac",
            "value": "405.507 MB of 405.507 MB uploaded (0.000 MB deduped)\r"
          }
        },
        "51b0eb373f104921baffa6971514334b": {
          "model_module": "@jupyter-widgets/controls",
          "model_name": "FloatProgressModel",
          "model_module_version": "1.5.0",
          "state": {
            "_dom_classes": [],
            "_model_module": "@jupyter-widgets/controls",
            "_model_module_version": "1.5.0",
            "_model_name": "FloatProgressModel",
            "_view_count": null,
            "_view_module": "@jupyter-widgets/controls",
            "_view_module_version": "1.5.0",
            "_view_name": "ProgressView",
            "bar_style": "",
            "description": "",
            "description_tooltip": null,
            "layout": "IPY_MODEL_e339cb8938cb4089a12f166b95f2345c",
            "max": 1,
            "min": 0,
            "orientation": "horizontal",
            "style": "IPY_MODEL_f73af0ed3a224db58cf85169615c0b13",
            "value": 1
          }
        },
        "5b4aa7d5537c433997dc961d4ba8ced8": {
          "model_module": "@jupyter-widgets/base",
          "model_name": "LayoutModel",
          "model_module_version": "1.2.0",
          "state": {
            "_model_module": "@jupyter-widgets/base",
            "_model_module_version": "1.2.0",
            "_model_name": "LayoutModel",
            "_view_count": null,
            "_view_module": "@jupyter-widgets/base",
            "_view_module_version": "1.2.0",
            "_view_name": "LayoutView",
            "align_content": null,
            "align_items": null,
            "align_self": null,
            "border": null,
            "bottom": null,
            "display": null,
            "flex": null,
            "flex_flow": null,
            "grid_area": null,
            "grid_auto_columns": null,
            "grid_auto_flow": null,
            "grid_auto_rows": null,
            "grid_column": null,
            "grid_gap": null,
            "grid_row": null,
            "grid_template_areas": null,
            "grid_template_columns": null,
            "grid_template_rows": null,
            "height": null,
            "justify_content": null,
            "justify_items": null,
            "left": null,
            "margin": null,
            "max_height": null,
            "max_width": null,
            "min_height": null,
            "min_width": null,
            "object_fit": null,
            "object_position": null,
            "order": null,
            "overflow": null,
            "overflow_x": null,
            "overflow_y": null,
            "padding": null,
            "right": null,
            "top": null,
            "visibility": null,
            "width": null
          }
        },
        "675c990442d84ef695e720caff59aedc": {
          "model_module": "@jupyter-widgets/base",
          "model_name": "LayoutModel",
          "model_module_version": "1.2.0",
          "state": {
            "_model_module": "@jupyter-widgets/base",
            "_model_module_version": "1.2.0",
            "_model_name": "LayoutModel",
            "_view_count": null,
            "_view_module": "@jupyter-widgets/base",
            "_view_module_version": "1.2.0",
            "_view_name": "LayoutView",
            "align_content": null,
            "align_items": null,
            "align_self": null,
            "border": null,
            "bottom": null,
            "display": null,
            "flex": null,
            "flex_flow": null,
            "grid_area": null,
            "grid_auto_columns": null,
            "grid_auto_flow": null,
            "grid_auto_rows": null,
            "grid_column": null,
            "grid_gap": null,
            "grid_row": null,
            "grid_template_areas": null,
            "grid_template_columns": null,
            "grid_template_rows": null,
            "height": null,
            "justify_content": null,
            "justify_items": null,
            "left": null,
            "margin": null,
            "max_height": null,
            "max_width": null,
            "min_height": null,
            "min_width": null,
            "object_fit": null,
            "object_position": null,
            "order": null,
            "overflow": null,
            "overflow_x": null,
            "overflow_y": null,
            "padding": null,
            "right": null,
            "top": null,
            "visibility": null,
            "width": null
          }
        },
        "87419fc3ac50455eb10a54d8c02398ac": {
          "model_module": "@jupyter-widgets/controls",
          "model_name": "DescriptionStyleModel",
          "model_module_version": "1.5.0",
          "state": {
            "_model_module": "@jupyter-widgets/controls",
            "_model_module_version": "1.5.0",
            "_model_name": "DescriptionStyleModel",
            "_view_count": null,
            "_view_module": "@jupyter-widgets/base",
            "_view_module_version": "1.2.0",
            "_view_name": "StyleView",
            "description_width": ""
          }
        },
        "e339cb8938cb4089a12f166b95f2345c": {
          "model_module": "@jupyter-widgets/base",
          "model_name": "LayoutModel",
          "model_module_version": "1.2.0",
          "state": {
            "_model_module": "@jupyter-widgets/base",
            "_model_module_version": "1.2.0",
            "_model_name": "LayoutModel",
            "_view_count": null,
            "_view_module": "@jupyter-widgets/base",
            "_view_module_version": "1.2.0",
            "_view_name": "LayoutView",
            "align_content": null,
            "align_items": null,
            "align_self": null,
            "border": null,
            "bottom": null,
            "display": null,
            "flex": null,
            "flex_flow": null,
            "grid_area": null,
            "grid_auto_columns": null,
            "grid_auto_flow": null,
            "grid_auto_rows": null,
            "grid_column": null,
            "grid_gap": null,
            "grid_row": null,
            "grid_template_areas": null,
            "grid_template_columns": null,
            "grid_template_rows": null,
            "height": null,
            "justify_content": null,
            "justify_items": null,
            "left": null,
            "margin": null,
            "max_height": null,
            "max_width": null,
            "min_height": null,
            "min_width": null,
            "object_fit": null,
            "object_position": null,
            "order": null,
            "overflow": null,
            "overflow_x": null,
            "overflow_y": null,
            "padding": null,
            "right": null,
            "top": null,
            "visibility": null,
            "width": null
          }
        },
        "f73af0ed3a224db58cf85169615c0b13": {
          "model_module": "@jupyter-widgets/controls",
          "model_name": "ProgressStyleModel",
          "model_module_version": "1.5.0",
          "state": {
            "_model_module": "@jupyter-widgets/controls",
            "_model_module_version": "1.5.0",
            "_model_name": "ProgressStyleModel",
            "_view_count": null,
            "_view_module": "@jupyter-widgets/base",
            "_view_module_version": "1.2.0",
            "_view_name": "StyleView",
            "bar_color": null,
            "description_width": ""
          }
        },
        "5dfaa2c9f6f04303a4beca0286356163": {
          "model_module": "@jupyter-widgets/controls",
          "model_name": "VBoxModel",
          "model_module_version": "1.5.0",
          "state": {
            "_dom_classes": [],
            "_model_module": "@jupyter-widgets/controls",
            "_model_module_version": "1.5.0",
            "_model_name": "VBoxModel",
            "_view_count": null,
            "_view_module": "@jupyter-widgets/controls",
            "_view_module_version": "1.5.0",
            "_view_name": "VBoxView",
            "box_style": "",
            "children": [
              "IPY_MODEL_91619afdd43041629be5d011c8d2b013",
              "IPY_MODEL_1a5020684f7c46d2ac73e9714b3db60b"
            ],
            "layout": "IPY_MODEL_59665d7a5fd443cdbdaede68ec8f6939"
          }
        },
        "91619afdd43041629be5d011c8d2b013": {
          "model_module": "@jupyter-widgets/controls",
          "model_name": "LabelModel",
          "model_module_version": "1.5.0",
          "state": {
            "_dom_classes": [],
            "_model_module": "@jupyter-widgets/controls",
            "_model_module_version": "1.5.0",
            "_model_name": "LabelModel",
            "_view_count": null,
            "_view_module": "@jupyter-widgets/controls",
            "_view_module_version": "1.5.0",
            "_view_name": "LabelView",
            "description": "",
            "description_tooltip": null,
            "layout": "IPY_MODEL_079a2b60717642c6b7f9aa7e06a37bc9",
            "placeholder": "​",
            "style": "IPY_MODEL_8722576ccd4f49c88979161461617772",
            "value": "289.917 MB of 289.917 MB uploaded (0.000 MB deduped)\r"
          }
        },
        "1a5020684f7c46d2ac73e9714b3db60b": {
          "model_module": "@jupyter-widgets/controls",
          "model_name": "FloatProgressModel",
          "model_module_version": "1.5.0",
          "state": {
            "_dom_classes": [],
            "_model_module": "@jupyter-widgets/controls",
            "_model_module_version": "1.5.0",
            "_model_name": "FloatProgressModel",
            "_view_count": null,
            "_view_module": "@jupyter-widgets/controls",
            "_view_module_version": "1.5.0",
            "_view_name": "ProgressView",
            "bar_style": "",
            "description": "",
            "description_tooltip": null,
            "layout": "IPY_MODEL_facc7374bf0f4721889741bedf37930d",
            "max": 1,
            "min": 0,
            "orientation": "horizontal",
            "style": "IPY_MODEL_140efffed0c942e184935d30a0bdb2fa",
            "value": 1
          }
        },
        "59665d7a5fd443cdbdaede68ec8f6939": {
          "model_module": "@jupyter-widgets/base",
          "model_name": "LayoutModel",
          "model_module_version": "1.2.0",
          "state": {
            "_model_module": "@jupyter-widgets/base",
            "_model_module_version": "1.2.0",
            "_model_name": "LayoutModel",
            "_view_count": null,
            "_view_module": "@jupyter-widgets/base",
            "_view_module_version": "1.2.0",
            "_view_name": "LayoutView",
            "align_content": null,
            "align_items": null,
            "align_self": null,
            "border": null,
            "bottom": null,
            "display": null,
            "flex": null,
            "flex_flow": null,
            "grid_area": null,
            "grid_auto_columns": null,
            "grid_auto_flow": null,
            "grid_auto_rows": null,
            "grid_column": null,
            "grid_gap": null,
            "grid_row": null,
            "grid_template_areas": null,
            "grid_template_columns": null,
            "grid_template_rows": null,
            "height": null,
            "justify_content": null,
            "justify_items": null,
            "left": null,
            "margin": null,
            "max_height": null,
            "max_width": null,
            "min_height": null,
            "min_width": null,
            "object_fit": null,
            "object_position": null,
            "order": null,
            "overflow": null,
            "overflow_x": null,
            "overflow_y": null,
            "padding": null,
            "right": null,
            "top": null,
            "visibility": null,
            "width": null
          }
        },
        "079a2b60717642c6b7f9aa7e06a37bc9": {
          "model_module": "@jupyter-widgets/base",
          "model_name": "LayoutModel",
          "model_module_version": "1.2.0",
          "state": {
            "_model_module": "@jupyter-widgets/base",
            "_model_module_version": "1.2.0",
            "_model_name": "LayoutModel",
            "_view_count": null,
            "_view_module": "@jupyter-widgets/base",
            "_view_module_version": "1.2.0",
            "_view_name": "LayoutView",
            "align_content": null,
            "align_items": null,
            "align_self": null,
            "border": null,
            "bottom": null,
            "display": null,
            "flex": null,
            "flex_flow": null,
            "grid_area": null,
            "grid_auto_columns": null,
            "grid_auto_flow": null,
            "grid_auto_rows": null,
            "grid_column": null,
            "grid_gap": null,
            "grid_row": null,
            "grid_template_areas": null,
            "grid_template_columns": null,
            "grid_template_rows": null,
            "height": null,
            "justify_content": null,
            "justify_items": null,
            "left": null,
            "margin": null,
            "max_height": null,
            "max_width": null,
            "min_height": null,
            "min_width": null,
            "object_fit": null,
            "object_position": null,
            "order": null,
            "overflow": null,
            "overflow_x": null,
            "overflow_y": null,
            "padding": null,
            "right": null,
            "top": null,
            "visibility": null,
            "width": null
          }
        },
        "8722576ccd4f49c88979161461617772": {
          "model_module": "@jupyter-widgets/controls",
          "model_name": "DescriptionStyleModel",
          "model_module_version": "1.5.0",
          "state": {
            "_model_module": "@jupyter-widgets/controls",
            "_model_module_version": "1.5.0",
            "_model_name": "DescriptionStyleModel",
            "_view_count": null,
            "_view_module": "@jupyter-widgets/base",
            "_view_module_version": "1.2.0",
            "_view_name": "StyleView",
            "description_width": ""
          }
        },
        "facc7374bf0f4721889741bedf37930d": {
          "model_module": "@jupyter-widgets/base",
          "model_name": "LayoutModel",
          "model_module_version": "1.2.0",
          "state": {
            "_model_module": "@jupyter-widgets/base",
            "_model_module_version": "1.2.0",
            "_model_name": "LayoutModel",
            "_view_count": null,
            "_view_module": "@jupyter-widgets/base",
            "_view_module_version": "1.2.0",
            "_view_name": "LayoutView",
            "align_content": null,
            "align_items": null,
            "align_self": null,
            "border": null,
            "bottom": null,
            "display": null,
            "flex": null,
            "flex_flow": null,
            "grid_area": null,
            "grid_auto_columns": null,
            "grid_auto_flow": null,
            "grid_auto_rows": null,
            "grid_column": null,
            "grid_gap": null,
            "grid_row": null,
            "grid_template_areas": null,
            "grid_template_columns": null,
            "grid_template_rows": null,
            "height": null,
            "justify_content": null,
            "justify_items": null,
            "left": null,
            "margin": null,
            "max_height": null,
            "max_width": null,
            "min_height": null,
            "min_width": null,
            "object_fit": null,
            "object_position": null,
            "order": null,
            "overflow": null,
            "overflow_x": null,
            "overflow_y": null,
            "padding": null,
            "right": null,
            "top": null,
            "visibility": null,
            "width": null
          }
        },
        "140efffed0c942e184935d30a0bdb2fa": {
          "model_module": "@jupyter-widgets/controls",
          "model_name": "ProgressStyleModel",
          "model_module_version": "1.5.0",
          "state": {
            "_model_module": "@jupyter-widgets/controls",
            "_model_module_version": "1.5.0",
            "_model_name": "ProgressStyleModel",
            "_view_count": null,
            "_view_module": "@jupyter-widgets/base",
            "_view_module_version": "1.2.0",
            "_view_name": "StyleView",
            "bar_color": null,
            "description_width": ""
          }
        },
        "70e02a4235084d1697a35d1adcdb4b2d": {
          "model_module": "@jupyter-widgets/controls",
          "model_name": "VBoxModel",
          "model_module_version": "1.5.0",
          "state": {
            "_dom_classes": [],
            "_model_module": "@jupyter-widgets/controls",
            "_model_module_version": "1.5.0",
            "_model_name": "VBoxModel",
            "_view_count": null,
            "_view_module": "@jupyter-widgets/controls",
            "_view_module_version": "1.5.0",
            "_view_name": "VBoxView",
            "box_style": "",
            "children": [
              "IPY_MODEL_817d4906fc78447a9b866314e490173d",
              "IPY_MODEL_7a89f733c971484aa62422d6e523ef1a"
            ],
            "layout": "IPY_MODEL_cf30fbf524d64d449cabcc15782c57e7"
          }
        },
        "817d4906fc78447a9b866314e490173d": {
          "model_module": "@jupyter-widgets/controls",
          "model_name": "LabelModel",
          "model_module_version": "1.5.0",
          "state": {
            "_dom_classes": [],
            "_model_module": "@jupyter-widgets/controls",
            "_model_module_version": "1.5.0",
            "_model_name": "LabelModel",
            "_view_count": null,
            "_view_module": "@jupyter-widgets/controls",
            "_view_module_version": "1.5.0",
            "_view_name": "LabelView",
            "description": "",
            "description_tooltip": null,
            "layout": "IPY_MODEL_9d31d2b2538043ac99d3d79a026773e3",
            "placeholder": "​",
            "style": "IPY_MODEL_85f79a951f214289a8547552b9198100",
            "value": "148.660 MB of 148.660 MB uploaded (0.000 MB deduped)\r"
          }
        },
        "7a89f733c971484aa62422d6e523ef1a": {
          "model_module": "@jupyter-widgets/controls",
          "model_name": "FloatProgressModel",
          "model_module_version": "1.5.0",
          "state": {
            "_dom_classes": [],
            "_model_module": "@jupyter-widgets/controls",
            "_model_module_version": "1.5.0",
            "_model_name": "FloatProgressModel",
            "_view_count": null,
            "_view_module": "@jupyter-widgets/controls",
            "_view_module_version": "1.5.0",
            "_view_name": "ProgressView",
            "bar_style": "",
            "description": "",
            "description_tooltip": null,
            "layout": "IPY_MODEL_1dc593128ac3483cbcd1f3d6c9e643b7",
            "max": 1,
            "min": 0,
            "orientation": "horizontal",
            "style": "IPY_MODEL_24742e1420ed4d2a976c6e6e22042419",
            "value": 1
          }
        },
        "cf30fbf524d64d449cabcc15782c57e7": {
          "model_module": "@jupyter-widgets/base",
          "model_name": "LayoutModel",
          "model_module_version": "1.2.0",
          "state": {
            "_model_module": "@jupyter-widgets/base",
            "_model_module_version": "1.2.0",
            "_model_name": "LayoutModel",
            "_view_count": null,
            "_view_module": "@jupyter-widgets/base",
            "_view_module_version": "1.2.0",
            "_view_name": "LayoutView",
            "align_content": null,
            "align_items": null,
            "align_self": null,
            "border": null,
            "bottom": null,
            "display": null,
            "flex": null,
            "flex_flow": null,
            "grid_area": null,
            "grid_auto_columns": null,
            "grid_auto_flow": null,
            "grid_auto_rows": null,
            "grid_column": null,
            "grid_gap": null,
            "grid_row": null,
            "grid_template_areas": null,
            "grid_template_columns": null,
            "grid_template_rows": null,
            "height": null,
            "justify_content": null,
            "justify_items": null,
            "left": null,
            "margin": null,
            "max_height": null,
            "max_width": null,
            "min_height": null,
            "min_width": null,
            "object_fit": null,
            "object_position": null,
            "order": null,
            "overflow": null,
            "overflow_x": null,
            "overflow_y": null,
            "padding": null,
            "right": null,
            "top": null,
            "visibility": null,
            "width": null
          }
        },
        "9d31d2b2538043ac99d3d79a026773e3": {
          "model_module": "@jupyter-widgets/base",
          "model_name": "LayoutModel",
          "model_module_version": "1.2.0",
          "state": {
            "_model_module": "@jupyter-widgets/base",
            "_model_module_version": "1.2.0",
            "_model_name": "LayoutModel",
            "_view_count": null,
            "_view_module": "@jupyter-widgets/base",
            "_view_module_version": "1.2.0",
            "_view_name": "LayoutView",
            "align_content": null,
            "align_items": null,
            "align_self": null,
            "border": null,
            "bottom": null,
            "display": null,
            "flex": null,
            "flex_flow": null,
            "grid_area": null,
            "grid_auto_columns": null,
            "grid_auto_flow": null,
            "grid_auto_rows": null,
            "grid_column": null,
            "grid_gap": null,
            "grid_row": null,
            "grid_template_areas": null,
            "grid_template_columns": null,
            "grid_template_rows": null,
            "height": null,
            "justify_content": null,
            "justify_items": null,
            "left": null,
            "margin": null,
            "max_height": null,
            "max_width": null,
            "min_height": null,
            "min_width": null,
            "object_fit": null,
            "object_position": null,
            "order": null,
            "overflow": null,
            "overflow_x": null,
            "overflow_y": null,
            "padding": null,
            "right": null,
            "top": null,
            "visibility": null,
            "width": null
          }
        },
        "85f79a951f214289a8547552b9198100": {
          "model_module": "@jupyter-widgets/controls",
          "model_name": "DescriptionStyleModel",
          "model_module_version": "1.5.0",
          "state": {
            "_model_module": "@jupyter-widgets/controls",
            "_model_module_version": "1.5.0",
            "_model_name": "DescriptionStyleModel",
            "_view_count": null,
            "_view_module": "@jupyter-widgets/base",
            "_view_module_version": "1.2.0",
            "_view_name": "StyleView",
            "description_width": ""
          }
        },
        "1dc593128ac3483cbcd1f3d6c9e643b7": {
          "model_module": "@jupyter-widgets/base",
          "model_name": "LayoutModel",
          "model_module_version": "1.2.0",
          "state": {
            "_model_module": "@jupyter-widgets/base",
            "_model_module_version": "1.2.0",
            "_model_name": "LayoutModel",
            "_view_count": null,
            "_view_module": "@jupyter-widgets/base",
            "_view_module_version": "1.2.0",
            "_view_name": "LayoutView",
            "align_content": null,
            "align_items": null,
            "align_self": null,
            "border": null,
            "bottom": null,
            "display": null,
            "flex": null,
            "flex_flow": null,
            "grid_area": null,
            "grid_auto_columns": null,
            "grid_auto_flow": null,
            "grid_auto_rows": null,
            "grid_column": null,
            "grid_gap": null,
            "grid_row": null,
            "grid_template_areas": null,
            "grid_template_columns": null,
            "grid_template_rows": null,
            "height": null,
            "justify_content": null,
            "justify_items": null,
            "left": null,
            "margin": null,
            "max_height": null,
            "max_width": null,
            "min_height": null,
            "min_width": null,
            "object_fit": null,
            "object_position": null,
            "order": null,
            "overflow": null,
            "overflow_x": null,
            "overflow_y": null,
            "padding": null,
            "right": null,
            "top": null,
            "visibility": null,
            "width": null
          }
        },
        "24742e1420ed4d2a976c6e6e22042419": {
          "model_module": "@jupyter-widgets/controls",
          "model_name": "ProgressStyleModel",
          "model_module_version": "1.5.0",
          "state": {
            "_model_module": "@jupyter-widgets/controls",
            "_model_module_version": "1.5.0",
            "_model_name": "ProgressStyleModel",
            "_view_count": null,
            "_view_module": "@jupyter-widgets/base",
            "_view_module_version": "1.2.0",
            "_view_name": "StyleView",
            "bar_color": null,
            "description_width": ""
          }
        },
        "5a7512edf65443a2a73d501a93b3c4c7": {
          "model_module": "@jupyter-widgets/controls",
          "model_name": "VBoxModel",
          "model_module_version": "1.5.0",
          "state": {
            "_dom_classes": [],
            "_model_module": "@jupyter-widgets/controls",
            "_model_module_version": "1.5.0",
            "_model_name": "VBoxModel",
            "_view_count": null,
            "_view_module": "@jupyter-widgets/controls",
            "_view_module_version": "1.5.0",
            "_view_name": "VBoxView",
            "box_style": "",
            "children": [
              "IPY_MODEL_c4c2633eae55459fbaaa8993b41342a9",
              "IPY_MODEL_ffb72cdc4e524c68991a315c79d4c9d0"
            ],
            "layout": "IPY_MODEL_79c1a39c7e8d40ee81725b32d7ec07c4"
          }
        },
        "c4c2633eae55459fbaaa8993b41342a9": {
          "model_module": "@jupyter-widgets/controls",
          "model_name": "LabelModel",
          "model_module_version": "1.5.0",
          "state": {
            "_dom_classes": [],
            "_model_module": "@jupyter-widgets/controls",
            "_model_module_version": "1.5.0",
            "_model_name": "LabelModel",
            "_view_count": null,
            "_view_module": "@jupyter-widgets/controls",
            "_view_module_version": "1.5.0",
            "_view_name": "LabelView",
            "description": "",
            "description_tooltip": null,
            "layout": "IPY_MODEL_d533ba899d6d46e4b2d8ef5a8e0049e2",
            "placeholder": "​",
            "style": "IPY_MODEL_72297cd814c54241945668573bf65be4",
            "value": "0.008 MB of 0.008 MB uploaded (0.000 MB deduped)\r"
          }
        },
        "ffb72cdc4e524c68991a315c79d4c9d0": {
          "model_module": "@jupyter-widgets/controls",
          "model_name": "FloatProgressModel",
          "model_module_version": "1.5.0",
          "state": {
            "_dom_classes": [],
            "_model_module": "@jupyter-widgets/controls",
            "_model_module_version": "1.5.0",
            "_model_name": "FloatProgressModel",
            "_view_count": null,
            "_view_module": "@jupyter-widgets/controls",
            "_view_module_version": "1.5.0",
            "_view_name": "ProgressView",
            "bar_style": "",
            "description": "",
            "description_tooltip": null,
            "layout": "IPY_MODEL_c8fc327be1e84b0fbca2c37f86021111",
            "max": 1,
            "min": 0,
            "orientation": "horizontal",
            "style": "IPY_MODEL_27c5f542f72a4c0fac913e83887cd0e1",
            "value": 1
          }
        },
        "79c1a39c7e8d40ee81725b32d7ec07c4": {
          "model_module": "@jupyter-widgets/base",
          "model_name": "LayoutModel",
          "model_module_version": "1.2.0",
          "state": {
            "_model_module": "@jupyter-widgets/base",
            "_model_module_version": "1.2.0",
            "_model_name": "LayoutModel",
            "_view_count": null,
            "_view_module": "@jupyter-widgets/base",
            "_view_module_version": "1.2.0",
            "_view_name": "LayoutView",
            "align_content": null,
            "align_items": null,
            "align_self": null,
            "border": null,
            "bottom": null,
            "display": null,
            "flex": null,
            "flex_flow": null,
            "grid_area": null,
            "grid_auto_columns": null,
            "grid_auto_flow": null,
            "grid_auto_rows": null,
            "grid_column": null,
            "grid_gap": null,
            "grid_row": null,
            "grid_template_areas": null,
            "grid_template_columns": null,
            "grid_template_rows": null,
            "height": null,
            "justify_content": null,
            "justify_items": null,
            "left": null,
            "margin": null,
            "max_height": null,
            "max_width": null,
            "min_height": null,
            "min_width": null,
            "object_fit": null,
            "object_position": null,
            "order": null,
            "overflow": null,
            "overflow_x": null,
            "overflow_y": null,
            "padding": null,
            "right": null,
            "top": null,
            "visibility": null,
            "width": null
          }
        },
        "d533ba899d6d46e4b2d8ef5a8e0049e2": {
          "model_module": "@jupyter-widgets/base",
          "model_name": "LayoutModel",
          "model_module_version": "1.2.0",
          "state": {
            "_model_module": "@jupyter-widgets/base",
            "_model_module_version": "1.2.0",
            "_model_name": "LayoutModel",
            "_view_count": null,
            "_view_module": "@jupyter-widgets/base",
            "_view_module_version": "1.2.0",
            "_view_name": "LayoutView",
            "align_content": null,
            "align_items": null,
            "align_self": null,
            "border": null,
            "bottom": null,
            "display": null,
            "flex": null,
            "flex_flow": null,
            "grid_area": null,
            "grid_auto_columns": null,
            "grid_auto_flow": null,
            "grid_auto_rows": null,
            "grid_column": null,
            "grid_gap": null,
            "grid_row": null,
            "grid_template_areas": null,
            "grid_template_columns": null,
            "grid_template_rows": null,
            "height": null,
            "justify_content": null,
            "justify_items": null,
            "left": null,
            "margin": null,
            "max_height": null,
            "max_width": null,
            "min_height": null,
            "min_width": null,
            "object_fit": null,
            "object_position": null,
            "order": null,
            "overflow": null,
            "overflow_x": null,
            "overflow_y": null,
            "padding": null,
            "right": null,
            "top": null,
            "visibility": null,
            "width": null
          }
        },
        "72297cd814c54241945668573bf65be4": {
          "model_module": "@jupyter-widgets/controls",
          "model_name": "DescriptionStyleModel",
          "model_module_version": "1.5.0",
          "state": {
            "_model_module": "@jupyter-widgets/controls",
            "_model_module_version": "1.5.0",
            "_model_name": "DescriptionStyleModel",
            "_view_count": null,
            "_view_module": "@jupyter-widgets/base",
            "_view_module_version": "1.2.0",
            "_view_name": "StyleView",
            "description_width": ""
          }
        },
        "c8fc327be1e84b0fbca2c37f86021111": {
          "model_module": "@jupyter-widgets/base",
          "model_name": "LayoutModel",
          "model_module_version": "1.2.0",
          "state": {
            "_model_module": "@jupyter-widgets/base",
            "_model_module_version": "1.2.0",
            "_model_name": "LayoutModel",
            "_view_count": null,
            "_view_module": "@jupyter-widgets/base",
            "_view_module_version": "1.2.0",
            "_view_name": "LayoutView",
            "align_content": null,
            "align_items": null,
            "align_self": null,
            "border": null,
            "bottom": null,
            "display": null,
            "flex": null,
            "flex_flow": null,
            "grid_area": null,
            "grid_auto_columns": null,
            "grid_auto_flow": null,
            "grid_auto_rows": null,
            "grid_column": null,
            "grid_gap": null,
            "grid_row": null,
            "grid_template_areas": null,
            "grid_template_columns": null,
            "grid_template_rows": null,
            "height": null,
            "justify_content": null,
            "justify_items": null,
            "left": null,
            "margin": null,
            "max_height": null,
            "max_width": null,
            "min_height": null,
            "min_width": null,
            "object_fit": null,
            "object_position": null,
            "order": null,
            "overflow": null,
            "overflow_x": null,
            "overflow_y": null,
            "padding": null,
            "right": null,
            "top": null,
            "visibility": null,
            "width": null
          }
        },
        "27c5f542f72a4c0fac913e83887cd0e1": {
          "model_module": "@jupyter-widgets/controls",
          "model_name": "ProgressStyleModel",
          "model_module_version": "1.5.0",
          "state": {
            "_model_module": "@jupyter-widgets/controls",
            "_model_module_version": "1.5.0",
            "_model_name": "ProgressStyleModel",
            "_view_count": null,
            "_view_module": "@jupyter-widgets/base",
            "_view_module_version": "1.2.0",
            "_view_name": "StyleView",
            "bar_color": null,
            "description_width": ""
          }
        },
        "82d33153de664f35988a21cfb17efc5b": {
          "model_module": "@jupyter-widgets/controls",
          "model_name": "VBoxModel",
          "model_module_version": "1.5.0",
          "state": {
            "_dom_classes": [],
            "_model_module": "@jupyter-widgets/controls",
            "_model_module_version": "1.5.0",
            "_model_name": "VBoxModel",
            "_view_count": null,
            "_view_module": "@jupyter-widgets/controls",
            "_view_module_version": "1.5.0",
            "_view_name": "VBoxView",
            "box_style": "",
            "children": [
              "IPY_MODEL_d0ffbf82450946d2a2fee2be2b639fbe",
              "IPY_MODEL_b26954243b93451fb0a046fca7cb4584"
            ],
            "layout": "IPY_MODEL_628ded69dffb4bd29738a0559ace9d39"
          }
        },
        "d0ffbf82450946d2a2fee2be2b639fbe": {
          "model_module": "@jupyter-widgets/controls",
          "model_name": "LabelModel",
          "model_module_version": "1.5.0",
          "state": {
            "_dom_classes": [],
            "_model_module": "@jupyter-widgets/controls",
            "_model_module_version": "1.5.0",
            "_model_name": "LabelModel",
            "_view_count": null,
            "_view_module": "@jupyter-widgets/controls",
            "_view_module_version": "1.5.0",
            "_view_name": "LabelView",
            "description": "",
            "description_tooltip": null,
            "layout": "IPY_MODEL_19e729f7a197425d8450e9ef583abedf",
            "placeholder": "​",
            "style": "IPY_MODEL_6c9269ff76c84c469aa91be05fce598a",
            "value": "343.504 MB of 343.504 MB uploaded (0.000 MB deduped)\r"
          }
        },
        "b26954243b93451fb0a046fca7cb4584": {
          "model_module": "@jupyter-widgets/controls",
          "model_name": "FloatProgressModel",
          "model_module_version": "1.5.0",
          "state": {
            "_dom_classes": [],
            "_model_module": "@jupyter-widgets/controls",
            "_model_module_version": "1.5.0",
            "_model_name": "FloatProgressModel",
            "_view_count": null,
            "_view_module": "@jupyter-widgets/controls",
            "_view_module_version": "1.5.0",
            "_view_name": "ProgressView",
            "bar_style": "",
            "description": "",
            "description_tooltip": null,
            "layout": "IPY_MODEL_9d8dfc7c1cb44907939675cc4847c772",
            "max": 1,
            "min": 0,
            "orientation": "horizontal",
            "style": "IPY_MODEL_4862fff5c0c64c5d98cbe5f40744f094",
            "value": 1
          }
        },
        "628ded69dffb4bd29738a0559ace9d39": {
          "model_module": "@jupyter-widgets/base",
          "model_name": "LayoutModel",
          "model_module_version": "1.2.0",
          "state": {
            "_model_module": "@jupyter-widgets/base",
            "_model_module_version": "1.2.0",
            "_model_name": "LayoutModel",
            "_view_count": null,
            "_view_module": "@jupyter-widgets/base",
            "_view_module_version": "1.2.0",
            "_view_name": "LayoutView",
            "align_content": null,
            "align_items": null,
            "align_self": null,
            "border": null,
            "bottom": null,
            "display": null,
            "flex": null,
            "flex_flow": null,
            "grid_area": null,
            "grid_auto_columns": null,
            "grid_auto_flow": null,
            "grid_auto_rows": null,
            "grid_column": null,
            "grid_gap": null,
            "grid_row": null,
            "grid_template_areas": null,
            "grid_template_columns": null,
            "grid_template_rows": null,
            "height": null,
            "justify_content": null,
            "justify_items": null,
            "left": null,
            "margin": null,
            "max_height": null,
            "max_width": null,
            "min_height": null,
            "min_width": null,
            "object_fit": null,
            "object_position": null,
            "order": null,
            "overflow": null,
            "overflow_x": null,
            "overflow_y": null,
            "padding": null,
            "right": null,
            "top": null,
            "visibility": null,
            "width": null
          }
        },
        "19e729f7a197425d8450e9ef583abedf": {
          "model_module": "@jupyter-widgets/base",
          "model_name": "LayoutModel",
          "model_module_version": "1.2.0",
          "state": {
            "_model_module": "@jupyter-widgets/base",
            "_model_module_version": "1.2.0",
            "_model_name": "LayoutModel",
            "_view_count": null,
            "_view_module": "@jupyter-widgets/base",
            "_view_module_version": "1.2.0",
            "_view_name": "LayoutView",
            "align_content": null,
            "align_items": null,
            "align_self": null,
            "border": null,
            "bottom": null,
            "display": null,
            "flex": null,
            "flex_flow": null,
            "grid_area": null,
            "grid_auto_columns": null,
            "grid_auto_flow": null,
            "grid_auto_rows": null,
            "grid_column": null,
            "grid_gap": null,
            "grid_row": null,
            "grid_template_areas": null,
            "grid_template_columns": null,
            "grid_template_rows": null,
            "height": null,
            "justify_content": null,
            "justify_items": null,
            "left": null,
            "margin": null,
            "max_height": null,
            "max_width": null,
            "min_height": null,
            "min_width": null,
            "object_fit": null,
            "object_position": null,
            "order": null,
            "overflow": null,
            "overflow_x": null,
            "overflow_y": null,
            "padding": null,
            "right": null,
            "top": null,
            "visibility": null,
            "width": null
          }
        },
        "6c9269ff76c84c469aa91be05fce598a": {
          "model_module": "@jupyter-widgets/controls",
          "model_name": "DescriptionStyleModel",
          "model_module_version": "1.5.0",
          "state": {
            "_model_module": "@jupyter-widgets/controls",
            "_model_module_version": "1.5.0",
            "_model_name": "DescriptionStyleModel",
            "_view_count": null,
            "_view_module": "@jupyter-widgets/base",
            "_view_module_version": "1.2.0",
            "_view_name": "StyleView",
            "description_width": ""
          }
        },
        "9d8dfc7c1cb44907939675cc4847c772": {
          "model_module": "@jupyter-widgets/base",
          "model_name": "LayoutModel",
          "model_module_version": "1.2.0",
          "state": {
            "_model_module": "@jupyter-widgets/base",
            "_model_module_version": "1.2.0",
            "_model_name": "LayoutModel",
            "_view_count": null,
            "_view_module": "@jupyter-widgets/base",
            "_view_module_version": "1.2.0",
            "_view_name": "LayoutView",
            "align_content": null,
            "align_items": null,
            "align_self": null,
            "border": null,
            "bottom": null,
            "display": null,
            "flex": null,
            "flex_flow": null,
            "grid_area": null,
            "grid_auto_columns": null,
            "grid_auto_flow": null,
            "grid_auto_rows": null,
            "grid_column": null,
            "grid_gap": null,
            "grid_row": null,
            "grid_template_areas": null,
            "grid_template_columns": null,
            "grid_template_rows": null,
            "height": null,
            "justify_content": null,
            "justify_items": null,
            "left": null,
            "margin": null,
            "max_height": null,
            "max_width": null,
            "min_height": null,
            "min_width": null,
            "object_fit": null,
            "object_position": null,
            "order": null,
            "overflow": null,
            "overflow_x": null,
            "overflow_y": null,
            "padding": null,
            "right": null,
            "top": null,
            "visibility": null,
            "width": null
          }
        },
        "4862fff5c0c64c5d98cbe5f40744f094": {
          "model_module": "@jupyter-widgets/controls",
          "model_name": "ProgressStyleModel",
          "model_module_version": "1.5.0",
          "state": {
            "_model_module": "@jupyter-widgets/controls",
            "_model_module_version": "1.5.0",
            "_model_name": "ProgressStyleModel",
            "_view_count": null,
            "_view_module": "@jupyter-widgets/base",
            "_view_module_version": "1.2.0",
            "_view_name": "StyleView",
            "bar_color": null,
            "description_width": ""
          }
        },
        "efdb472c91264f9f84f40420a9968f7e": {
          "model_module": "@jupyter-widgets/controls",
          "model_name": "VBoxModel",
          "model_module_version": "1.5.0",
          "state": {
            "_dom_classes": [],
            "_model_module": "@jupyter-widgets/controls",
            "_model_module_version": "1.5.0",
            "_model_name": "VBoxModel",
            "_view_count": null,
            "_view_module": "@jupyter-widgets/controls",
            "_view_module_version": "1.5.0",
            "_view_name": "VBoxView",
            "box_style": "",
            "children": [
              "IPY_MODEL_7d2c55d43e744878836022bea127b538",
              "IPY_MODEL_90b2d1bc7b024eeab7b0faae295edc3d"
            ],
            "layout": "IPY_MODEL_90ab8d35ac82401ab8a193f490af2629"
          }
        },
        "7d2c55d43e744878836022bea127b538": {
          "model_module": "@jupyter-widgets/controls",
          "model_name": "LabelModel",
          "model_module_version": "1.5.0",
          "state": {
            "_dom_classes": [],
            "_model_module": "@jupyter-widgets/controls",
            "_model_module_version": "1.5.0",
            "_model_name": "LabelModel",
            "_view_count": null,
            "_view_module": "@jupyter-widgets/controls",
            "_view_module_version": "1.5.0",
            "_view_name": "LabelView",
            "description": "",
            "description_tooltip": null,
            "layout": "IPY_MODEL_c417caf5a58a465cb07dfc98a84d6c84",
            "placeholder": "​",
            "style": "IPY_MODEL_f51d15757b324361988a006371b0bbc8",
            "value": "148.638 MB of 148.638 MB uploaded (0.000 MB deduped)\r"
          }
        },
        "90b2d1bc7b024eeab7b0faae295edc3d": {
          "model_module": "@jupyter-widgets/controls",
          "model_name": "FloatProgressModel",
          "model_module_version": "1.5.0",
          "state": {
            "_dom_classes": [],
            "_model_module": "@jupyter-widgets/controls",
            "_model_module_version": "1.5.0",
            "_model_name": "FloatProgressModel",
            "_view_count": null,
            "_view_module": "@jupyter-widgets/controls",
            "_view_module_version": "1.5.0",
            "_view_name": "ProgressView",
            "bar_style": "",
            "description": "",
            "description_tooltip": null,
            "layout": "IPY_MODEL_ad76dd1c3bf2439aa96372a26ece21b7",
            "max": 1,
            "min": 0,
            "orientation": "horizontal",
            "style": "IPY_MODEL_499319eadba44f968785e9876965767d",
            "value": 1
          }
        },
        "90ab8d35ac82401ab8a193f490af2629": {
          "model_module": "@jupyter-widgets/base",
          "model_name": "LayoutModel",
          "model_module_version": "1.2.0",
          "state": {
            "_model_module": "@jupyter-widgets/base",
            "_model_module_version": "1.2.0",
            "_model_name": "LayoutModel",
            "_view_count": null,
            "_view_module": "@jupyter-widgets/base",
            "_view_module_version": "1.2.0",
            "_view_name": "LayoutView",
            "align_content": null,
            "align_items": null,
            "align_self": null,
            "border": null,
            "bottom": null,
            "display": null,
            "flex": null,
            "flex_flow": null,
            "grid_area": null,
            "grid_auto_columns": null,
            "grid_auto_flow": null,
            "grid_auto_rows": null,
            "grid_column": null,
            "grid_gap": null,
            "grid_row": null,
            "grid_template_areas": null,
            "grid_template_columns": null,
            "grid_template_rows": null,
            "height": null,
            "justify_content": null,
            "justify_items": null,
            "left": null,
            "margin": null,
            "max_height": null,
            "max_width": null,
            "min_height": null,
            "min_width": null,
            "object_fit": null,
            "object_position": null,
            "order": null,
            "overflow": null,
            "overflow_x": null,
            "overflow_y": null,
            "padding": null,
            "right": null,
            "top": null,
            "visibility": null,
            "width": null
          }
        },
        "c417caf5a58a465cb07dfc98a84d6c84": {
          "model_module": "@jupyter-widgets/base",
          "model_name": "LayoutModel",
          "model_module_version": "1.2.0",
          "state": {
            "_model_module": "@jupyter-widgets/base",
            "_model_module_version": "1.2.0",
            "_model_name": "LayoutModel",
            "_view_count": null,
            "_view_module": "@jupyter-widgets/base",
            "_view_module_version": "1.2.0",
            "_view_name": "LayoutView",
            "align_content": null,
            "align_items": null,
            "align_self": null,
            "border": null,
            "bottom": null,
            "display": null,
            "flex": null,
            "flex_flow": null,
            "grid_area": null,
            "grid_auto_columns": null,
            "grid_auto_flow": null,
            "grid_auto_rows": null,
            "grid_column": null,
            "grid_gap": null,
            "grid_row": null,
            "grid_template_areas": null,
            "grid_template_columns": null,
            "grid_template_rows": null,
            "height": null,
            "justify_content": null,
            "justify_items": null,
            "left": null,
            "margin": null,
            "max_height": null,
            "max_width": null,
            "min_height": null,
            "min_width": null,
            "object_fit": null,
            "object_position": null,
            "order": null,
            "overflow": null,
            "overflow_x": null,
            "overflow_y": null,
            "padding": null,
            "right": null,
            "top": null,
            "visibility": null,
            "width": null
          }
        },
        "f51d15757b324361988a006371b0bbc8": {
          "model_module": "@jupyter-widgets/controls",
          "model_name": "DescriptionStyleModel",
          "model_module_version": "1.5.0",
          "state": {
            "_model_module": "@jupyter-widgets/controls",
            "_model_module_version": "1.5.0",
            "_model_name": "DescriptionStyleModel",
            "_view_count": null,
            "_view_module": "@jupyter-widgets/base",
            "_view_module_version": "1.2.0",
            "_view_name": "StyleView",
            "description_width": ""
          }
        },
        "ad76dd1c3bf2439aa96372a26ece21b7": {
          "model_module": "@jupyter-widgets/base",
          "model_name": "LayoutModel",
          "model_module_version": "1.2.0",
          "state": {
            "_model_module": "@jupyter-widgets/base",
            "_model_module_version": "1.2.0",
            "_model_name": "LayoutModel",
            "_view_count": null,
            "_view_module": "@jupyter-widgets/base",
            "_view_module_version": "1.2.0",
            "_view_name": "LayoutView",
            "align_content": null,
            "align_items": null,
            "align_self": null,
            "border": null,
            "bottom": null,
            "display": null,
            "flex": null,
            "flex_flow": null,
            "grid_area": null,
            "grid_auto_columns": null,
            "grid_auto_flow": null,
            "grid_auto_rows": null,
            "grid_column": null,
            "grid_gap": null,
            "grid_row": null,
            "grid_template_areas": null,
            "grid_template_columns": null,
            "grid_template_rows": null,
            "height": null,
            "justify_content": null,
            "justify_items": null,
            "left": null,
            "margin": null,
            "max_height": null,
            "max_width": null,
            "min_height": null,
            "min_width": null,
            "object_fit": null,
            "object_position": null,
            "order": null,
            "overflow": null,
            "overflow_x": null,
            "overflow_y": null,
            "padding": null,
            "right": null,
            "top": null,
            "visibility": null,
            "width": null
          }
        },
        "499319eadba44f968785e9876965767d": {
          "model_module": "@jupyter-widgets/controls",
          "model_name": "ProgressStyleModel",
          "model_module_version": "1.5.0",
          "state": {
            "_model_module": "@jupyter-widgets/controls",
            "_model_module_version": "1.5.0",
            "_model_name": "ProgressStyleModel",
            "_view_count": null,
            "_view_module": "@jupyter-widgets/base",
            "_view_module_version": "1.2.0",
            "_view_name": "StyleView",
            "bar_color": null,
            "description_width": ""
          }
        },
        "171243e3a9a24ad090c3cf291b08bfab": {
          "model_module": "@jupyter-widgets/controls",
          "model_name": "VBoxModel",
          "model_module_version": "1.5.0",
          "state": {
            "_dom_classes": [],
            "_model_module": "@jupyter-widgets/controls",
            "_model_module_version": "1.5.0",
            "_model_name": "VBoxModel",
            "_view_count": null,
            "_view_module": "@jupyter-widgets/controls",
            "_view_module_version": "1.5.0",
            "_view_name": "VBoxView",
            "box_style": "",
            "children": [
              "IPY_MODEL_f1e5a9a7b33d42c9af136628a5c2b771",
              "IPY_MODEL_8124eaaca743493497e746b86ae9394c"
            ],
            "layout": "IPY_MODEL_5c929e53276e4fc7847d40913d6cf917"
          }
        },
        "f1e5a9a7b33d42c9af136628a5c2b771": {
          "model_module": "@jupyter-widgets/controls",
          "model_name": "LabelModel",
          "model_module_version": "1.5.0",
          "state": {
            "_dom_classes": [],
            "_model_module": "@jupyter-widgets/controls",
            "_model_module_version": "1.5.0",
            "_model_name": "LabelModel",
            "_view_count": null,
            "_view_module": "@jupyter-widgets/controls",
            "_view_module_version": "1.5.0",
            "_view_name": "LabelView",
            "description": "",
            "description_tooltip": null,
            "layout": "IPY_MODEL_9d2ad0e5d67f4c8a968c8de0079b067a",
            "placeholder": "​",
            "style": "IPY_MODEL_b983424c8fb64af88af263d9f12feffe",
            "value": "483.406 MB of 483.406 MB uploaded (0.000 MB deduped)\r"
          }
        },
        "8124eaaca743493497e746b86ae9394c": {
          "model_module": "@jupyter-widgets/controls",
          "model_name": "FloatProgressModel",
          "model_module_version": "1.5.0",
          "state": {
            "_dom_classes": [],
            "_model_module": "@jupyter-widgets/controls",
            "_model_module_version": "1.5.0",
            "_model_name": "FloatProgressModel",
            "_view_count": null,
            "_view_module": "@jupyter-widgets/controls",
            "_view_module_version": "1.5.0",
            "_view_name": "ProgressView",
            "bar_style": "",
            "description": "",
            "description_tooltip": null,
            "layout": "IPY_MODEL_0fd6d9dd6ff140ff93c62db046d2eb2b",
            "max": 1,
            "min": 0,
            "orientation": "horizontal",
            "style": "IPY_MODEL_807c3a85b8964642a0deaffa352cffc5",
            "value": 1
          }
        },
        "5c929e53276e4fc7847d40913d6cf917": {
          "model_module": "@jupyter-widgets/base",
          "model_name": "LayoutModel",
          "model_module_version": "1.2.0",
          "state": {
            "_model_module": "@jupyter-widgets/base",
            "_model_module_version": "1.2.0",
            "_model_name": "LayoutModel",
            "_view_count": null,
            "_view_module": "@jupyter-widgets/base",
            "_view_module_version": "1.2.0",
            "_view_name": "LayoutView",
            "align_content": null,
            "align_items": null,
            "align_self": null,
            "border": null,
            "bottom": null,
            "display": null,
            "flex": null,
            "flex_flow": null,
            "grid_area": null,
            "grid_auto_columns": null,
            "grid_auto_flow": null,
            "grid_auto_rows": null,
            "grid_column": null,
            "grid_gap": null,
            "grid_row": null,
            "grid_template_areas": null,
            "grid_template_columns": null,
            "grid_template_rows": null,
            "height": null,
            "justify_content": null,
            "justify_items": null,
            "left": null,
            "margin": null,
            "max_height": null,
            "max_width": null,
            "min_height": null,
            "min_width": null,
            "object_fit": null,
            "object_position": null,
            "order": null,
            "overflow": null,
            "overflow_x": null,
            "overflow_y": null,
            "padding": null,
            "right": null,
            "top": null,
            "visibility": null,
            "width": null
          }
        },
        "9d2ad0e5d67f4c8a968c8de0079b067a": {
          "model_module": "@jupyter-widgets/base",
          "model_name": "LayoutModel",
          "model_module_version": "1.2.0",
          "state": {
            "_model_module": "@jupyter-widgets/base",
            "_model_module_version": "1.2.0",
            "_model_name": "LayoutModel",
            "_view_count": null,
            "_view_module": "@jupyter-widgets/base",
            "_view_module_version": "1.2.0",
            "_view_name": "LayoutView",
            "align_content": null,
            "align_items": null,
            "align_self": null,
            "border": null,
            "bottom": null,
            "display": null,
            "flex": null,
            "flex_flow": null,
            "grid_area": null,
            "grid_auto_columns": null,
            "grid_auto_flow": null,
            "grid_auto_rows": null,
            "grid_column": null,
            "grid_gap": null,
            "grid_row": null,
            "grid_template_areas": null,
            "grid_template_columns": null,
            "grid_template_rows": null,
            "height": null,
            "justify_content": null,
            "justify_items": null,
            "left": null,
            "margin": null,
            "max_height": null,
            "max_width": null,
            "min_height": null,
            "min_width": null,
            "object_fit": null,
            "object_position": null,
            "order": null,
            "overflow": null,
            "overflow_x": null,
            "overflow_y": null,
            "padding": null,
            "right": null,
            "top": null,
            "visibility": null,
            "width": null
          }
        },
        "b983424c8fb64af88af263d9f12feffe": {
          "model_module": "@jupyter-widgets/controls",
          "model_name": "DescriptionStyleModel",
          "model_module_version": "1.5.0",
          "state": {
            "_model_module": "@jupyter-widgets/controls",
            "_model_module_version": "1.5.0",
            "_model_name": "DescriptionStyleModel",
            "_view_count": null,
            "_view_module": "@jupyter-widgets/base",
            "_view_module_version": "1.2.0",
            "_view_name": "StyleView",
            "description_width": ""
          }
        },
        "0fd6d9dd6ff140ff93c62db046d2eb2b": {
          "model_module": "@jupyter-widgets/base",
          "model_name": "LayoutModel",
          "model_module_version": "1.2.0",
          "state": {
            "_model_module": "@jupyter-widgets/base",
            "_model_module_version": "1.2.0",
            "_model_name": "LayoutModel",
            "_view_count": null,
            "_view_module": "@jupyter-widgets/base",
            "_view_module_version": "1.2.0",
            "_view_name": "LayoutView",
            "align_content": null,
            "align_items": null,
            "align_self": null,
            "border": null,
            "bottom": null,
            "display": null,
            "flex": null,
            "flex_flow": null,
            "grid_area": null,
            "grid_auto_columns": null,
            "grid_auto_flow": null,
            "grid_auto_rows": null,
            "grid_column": null,
            "grid_gap": null,
            "grid_row": null,
            "grid_template_areas": null,
            "grid_template_columns": null,
            "grid_template_rows": null,
            "height": null,
            "justify_content": null,
            "justify_items": null,
            "left": null,
            "margin": null,
            "max_height": null,
            "max_width": null,
            "min_height": null,
            "min_width": null,
            "object_fit": null,
            "object_position": null,
            "order": null,
            "overflow": null,
            "overflow_x": null,
            "overflow_y": null,
            "padding": null,
            "right": null,
            "top": null,
            "visibility": null,
            "width": null
          }
        },
        "807c3a85b8964642a0deaffa352cffc5": {
          "model_module": "@jupyter-widgets/controls",
          "model_name": "ProgressStyleModel",
          "model_module_version": "1.5.0",
          "state": {
            "_model_module": "@jupyter-widgets/controls",
            "_model_module_version": "1.5.0",
            "_model_name": "ProgressStyleModel",
            "_view_count": null,
            "_view_module": "@jupyter-widgets/base",
            "_view_module_version": "1.2.0",
            "_view_name": "StyleView",
            "bar_color": null,
            "description_width": ""
          }
        },
        "4621eee172cd49a4898443e090071bec": {
          "model_module": "@jupyter-widgets/controls",
          "model_name": "VBoxModel",
          "model_module_version": "1.5.0",
          "state": {
            "_dom_classes": [],
            "_model_module": "@jupyter-widgets/controls",
            "_model_module_version": "1.5.0",
            "_model_name": "VBoxModel",
            "_view_count": null,
            "_view_module": "@jupyter-widgets/controls",
            "_view_module_version": "1.5.0",
            "_view_name": "VBoxView",
            "box_style": "",
            "children": [
              "IPY_MODEL_7d455a17fce949deac5ea7558b3e7e51",
              "IPY_MODEL_2910a037339449d193e1750748ae6336"
            ],
            "layout": "IPY_MODEL_2910f7af98404ef19559b3ea719d6f2b"
          }
        },
        "7d455a17fce949deac5ea7558b3e7e51": {
          "model_module": "@jupyter-widgets/controls",
          "model_name": "LabelModel",
          "model_module_version": "1.5.0",
          "state": {
            "_dom_classes": [],
            "_model_module": "@jupyter-widgets/controls",
            "_model_module_version": "1.5.0",
            "_model_name": "LabelModel",
            "_view_count": null,
            "_view_module": "@jupyter-widgets/controls",
            "_view_module_version": "1.5.0",
            "_view_name": "LabelView",
            "description": "",
            "description_tooltip": null,
            "layout": "IPY_MODEL_5d904ee5dc974dd48d5e2cb61519d170",
            "placeholder": "​",
            "style": "IPY_MODEL_82957192acec42b58fda0a85d34ec394",
            "value": "289.897 MB of 289.897 MB uploaded (0.000 MB deduped)\r"
          }
        },
        "2910a037339449d193e1750748ae6336": {
          "model_module": "@jupyter-widgets/controls",
          "model_name": "FloatProgressModel",
          "model_module_version": "1.5.0",
          "state": {
            "_dom_classes": [],
            "_model_module": "@jupyter-widgets/controls",
            "_model_module_version": "1.5.0",
            "_model_name": "FloatProgressModel",
            "_view_count": null,
            "_view_module": "@jupyter-widgets/controls",
            "_view_module_version": "1.5.0",
            "_view_name": "ProgressView",
            "bar_style": "",
            "description": "",
            "description_tooltip": null,
            "layout": "IPY_MODEL_ccf758a2a5794cba92f8dbf8508e5bf9",
            "max": 1,
            "min": 0,
            "orientation": "horizontal",
            "style": "IPY_MODEL_6c88da41462c45adac4f533fc168513e",
            "value": 1
          }
        },
        "2910f7af98404ef19559b3ea719d6f2b": {
          "model_module": "@jupyter-widgets/base",
          "model_name": "LayoutModel",
          "model_module_version": "1.2.0",
          "state": {
            "_model_module": "@jupyter-widgets/base",
            "_model_module_version": "1.2.0",
            "_model_name": "LayoutModel",
            "_view_count": null,
            "_view_module": "@jupyter-widgets/base",
            "_view_module_version": "1.2.0",
            "_view_name": "LayoutView",
            "align_content": null,
            "align_items": null,
            "align_self": null,
            "border": null,
            "bottom": null,
            "display": null,
            "flex": null,
            "flex_flow": null,
            "grid_area": null,
            "grid_auto_columns": null,
            "grid_auto_flow": null,
            "grid_auto_rows": null,
            "grid_column": null,
            "grid_gap": null,
            "grid_row": null,
            "grid_template_areas": null,
            "grid_template_columns": null,
            "grid_template_rows": null,
            "height": null,
            "justify_content": null,
            "justify_items": null,
            "left": null,
            "margin": null,
            "max_height": null,
            "max_width": null,
            "min_height": null,
            "min_width": null,
            "object_fit": null,
            "object_position": null,
            "order": null,
            "overflow": null,
            "overflow_x": null,
            "overflow_y": null,
            "padding": null,
            "right": null,
            "top": null,
            "visibility": null,
            "width": null
          }
        },
        "5d904ee5dc974dd48d5e2cb61519d170": {
          "model_module": "@jupyter-widgets/base",
          "model_name": "LayoutModel",
          "model_module_version": "1.2.0",
          "state": {
            "_model_module": "@jupyter-widgets/base",
            "_model_module_version": "1.2.0",
            "_model_name": "LayoutModel",
            "_view_count": null,
            "_view_module": "@jupyter-widgets/base",
            "_view_module_version": "1.2.0",
            "_view_name": "LayoutView",
            "align_content": null,
            "align_items": null,
            "align_self": null,
            "border": null,
            "bottom": null,
            "display": null,
            "flex": null,
            "flex_flow": null,
            "grid_area": null,
            "grid_auto_columns": null,
            "grid_auto_flow": null,
            "grid_auto_rows": null,
            "grid_column": null,
            "grid_gap": null,
            "grid_row": null,
            "grid_template_areas": null,
            "grid_template_columns": null,
            "grid_template_rows": null,
            "height": null,
            "justify_content": null,
            "justify_items": null,
            "left": null,
            "margin": null,
            "max_height": null,
            "max_width": null,
            "min_height": null,
            "min_width": null,
            "object_fit": null,
            "object_position": null,
            "order": null,
            "overflow": null,
            "overflow_x": null,
            "overflow_y": null,
            "padding": null,
            "right": null,
            "top": null,
            "visibility": null,
            "width": null
          }
        },
        "82957192acec42b58fda0a85d34ec394": {
          "model_module": "@jupyter-widgets/controls",
          "model_name": "DescriptionStyleModel",
          "model_module_version": "1.5.0",
          "state": {
            "_model_module": "@jupyter-widgets/controls",
            "_model_module_version": "1.5.0",
            "_model_name": "DescriptionStyleModel",
            "_view_count": null,
            "_view_module": "@jupyter-widgets/base",
            "_view_module_version": "1.2.0",
            "_view_name": "StyleView",
            "description_width": ""
          }
        },
        "ccf758a2a5794cba92f8dbf8508e5bf9": {
          "model_module": "@jupyter-widgets/base",
          "model_name": "LayoutModel",
          "model_module_version": "1.2.0",
          "state": {
            "_model_module": "@jupyter-widgets/base",
            "_model_module_version": "1.2.0",
            "_model_name": "LayoutModel",
            "_view_count": null,
            "_view_module": "@jupyter-widgets/base",
            "_view_module_version": "1.2.0",
            "_view_name": "LayoutView",
            "align_content": null,
            "align_items": null,
            "align_self": null,
            "border": null,
            "bottom": null,
            "display": null,
            "flex": null,
            "flex_flow": null,
            "grid_area": null,
            "grid_auto_columns": null,
            "grid_auto_flow": null,
            "grid_auto_rows": null,
            "grid_column": null,
            "grid_gap": null,
            "grid_row": null,
            "grid_template_areas": null,
            "grid_template_columns": null,
            "grid_template_rows": null,
            "height": null,
            "justify_content": null,
            "justify_items": null,
            "left": null,
            "margin": null,
            "max_height": null,
            "max_width": null,
            "min_height": null,
            "min_width": null,
            "object_fit": null,
            "object_position": null,
            "order": null,
            "overflow": null,
            "overflow_x": null,
            "overflow_y": null,
            "padding": null,
            "right": null,
            "top": null,
            "visibility": null,
            "width": null
          }
        },
        "6c88da41462c45adac4f533fc168513e": {
          "model_module": "@jupyter-widgets/controls",
          "model_name": "ProgressStyleModel",
          "model_module_version": "1.5.0",
          "state": {
            "_model_module": "@jupyter-widgets/controls",
            "_model_module_version": "1.5.0",
            "_model_name": "ProgressStyleModel",
            "_view_count": null,
            "_view_module": "@jupyter-widgets/base",
            "_view_module_version": "1.2.0",
            "_view_name": "StyleView",
            "bar_color": null,
            "description_width": ""
          }
        },
        "c91819de42914f868fa4f31b0749764f": {
          "model_module": "@jupyter-widgets/controls",
          "model_name": "VBoxModel",
          "model_module_version": "1.5.0",
          "state": {
            "_dom_classes": [],
            "_model_module": "@jupyter-widgets/controls",
            "_model_module_version": "1.5.0",
            "_model_name": "VBoxModel",
            "_view_count": null,
            "_view_module": "@jupyter-widgets/controls",
            "_view_module_version": "1.5.0",
            "_view_name": "VBoxView",
            "box_style": "",
            "children": [
              "IPY_MODEL_e6fe7de4e62c493d9e27872f59da488d",
              "IPY_MODEL_73a13ff6619d47989735745c18e87281"
            ],
            "layout": "IPY_MODEL_3623ad692cf141fba9a726be92894c79"
          }
        },
        "e6fe7de4e62c493d9e27872f59da488d": {
          "model_module": "@jupyter-widgets/controls",
          "model_name": "LabelModel",
          "model_module_version": "1.5.0",
          "state": {
            "_dom_classes": [],
            "_model_module": "@jupyter-widgets/controls",
            "_model_module_version": "1.5.0",
            "_model_name": "LabelModel",
            "_view_count": null,
            "_view_module": "@jupyter-widgets/controls",
            "_view_module_version": "1.5.0",
            "_view_name": "LabelView",
            "description": "",
            "description_tooltip": null,
            "layout": "IPY_MODEL_1afd607f86e1486a851914198140a3d9",
            "placeholder": "​",
            "style": "IPY_MODEL_a3affc98dab6489ebbdc66ffefcd7f5d",
            "value": "0.008 MB of 0.008 MB uploaded (0.000 MB deduped)\r"
          }
        },
        "73a13ff6619d47989735745c18e87281": {
          "model_module": "@jupyter-widgets/controls",
          "model_name": "FloatProgressModel",
          "model_module_version": "1.5.0",
          "state": {
            "_dom_classes": [],
            "_model_module": "@jupyter-widgets/controls",
            "_model_module_version": "1.5.0",
            "_model_name": "FloatProgressModel",
            "_view_count": null,
            "_view_module": "@jupyter-widgets/controls",
            "_view_module_version": "1.5.0",
            "_view_name": "ProgressView",
            "bar_style": "",
            "description": "",
            "description_tooltip": null,
            "layout": "IPY_MODEL_3639f4a173814967a70501f2b138fb1b",
            "max": 1,
            "min": 0,
            "orientation": "horizontal",
            "style": "IPY_MODEL_a2b39c7ad5df4fb9bc7e9632ea7c3428",
            "value": 1
          }
        },
        "3623ad692cf141fba9a726be92894c79": {
          "model_module": "@jupyter-widgets/base",
          "model_name": "LayoutModel",
          "model_module_version": "1.2.0",
          "state": {
            "_model_module": "@jupyter-widgets/base",
            "_model_module_version": "1.2.0",
            "_model_name": "LayoutModel",
            "_view_count": null,
            "_view_module": "@jupyter-widgets/base",
            "_view_module_version": "1.2.0",
            "_view_name": "LayoutView",
            "align_content": null,
            "align_items": null,
            "align_self": null,
            "border": null,
            "bottom": null,
            "display": null,
            "flex": null,
            "flex_flow": null,
            "grid_area": null,
            "grid_auto_columns": null,
            "grid_auto_flow": null,
            "grid_auto_rows": null,
            "grid_column": null,
            "grid_gap": null,
            "grid_row": null,
            "grid_template_areas": null,
            "grid_template_columns": null,
            "grid_template_rows": null,
            "height": null,
            "justify_content": null,
            "justify_items": null,
            "left": null,
            "margin": null,
            "max_height": null,
            "max_width": null,
            "min_height": null,
            "min_width": null,
            "object_fit": null,
            "object_position": null,
            "order": null,
            "overflow": null,
            "overflow_x": null,
            "overflow_y": null,
            "padding": null,
            "right": null,
            "top": null,
            "visibility": null,
            "width": null
          }
        },
        "1afd607f86e1486a851914198140a3d9": {
          "model_module": "@jupyter-widgets/base",
          "model_name": "LayoutModel",
          "model_module_version": "1.2.0",
          "state": {
            "_model_module": "@jupyter-widgets/base",
            "_model_module_version": "1.2.0",
            "_model_name": "LayoutModel",
            "_view_count": null,
            "_view_module": "@jupyter-widgets/base",
            "_view_module_version": "1.2.0",
            "_view_name": "LayoutView",
            "align_content": null,
            "align_items": null,
            "align_self": null,
            "border": null,
            "bottom": null,
            "display": null,
            "flex": null,
            "flex_flow": null,
            "grid_area": null,
            "grid_auto_columns": null,
            "grid_auto_flow": null,
            "grid_auto_rows": null,
            "grid_column": null,
            "grid_gap": null,
            "grid_row": null,
            "grid_template_areas": null,
            "grid_template_columns": null,
            "grid_template_rows": null,
            "height": null,
            "justify_content": null,
            "justify_items": null,
            "left": null,
            "margin": null,
            "max_height": null,
            "max_width": null,
            "min_height": null,
            "min_width": null,
            "object_fit": null,
            "object_position": null,
            "order": null,
            "overflow": null,
            "overflow_x": null,
            "overflow_y": null,
            "padding": null,
            "right": null,
            "top": null,
            "visibility": null,
            "width": null
          }
        },
        "a3affc98dab6489ebbdc66ffefcd7f5d": {
          "model_module": "@jupyter-widgets/controls",
          "model_name": "DescriptionStyleModel",
          "model_module_version": "1.5.0",
          "state": {
            "_model_module": "@jupyter-widgets/controls",
            "_model_module_version": "1.5.0",
            "_model_name": "DescriptionStyleModel",
            "_view_count": null,
            "_view_module": "@jupyter-widgets/base",
            "_view_module_version": "1.2.0",
            "_view_name": "StyleView",
            "description_width": ""
          }
        },
        "3639f4a173814967a70501f2b138fb1b": {
          "model_module": "@jupyter-widgets/base",
          "model_name": "LayoutModel",
          "model_module_version": "1.2.0",
          "state": {
            "_model_module": "@jupyter-widgets/base",
            "_model_module_version": "1.2.0",
            "_model_name": "LayoutModel",
            "_view_count": null,
            "_view_module": "@jupyter-widgets/base",
            "_view_module_version": "1.2.0",
            "_view_name": "LayoutView",
            "align_content": null,
            "align_items": null,
            "align_self": null,
            "border": null,
            "bottom": null,
            "display": null,
            "flex": null,
            "flex_flow": null,
            "grid_area": null,
            "grid_auto_columns": null,
            "grid_auto_flow": null,
            "grid_auto_rows": null,
            "grid_column": null,
            "grid_gap": null,
            "grid_row": null,
            "grid_template_areas": null,
            "grid_template_columns": null,
            "grid_template_rows": null,
            "height": null,
            "justify_content": null,
            "justify_items": null,
            "left": null,
            "margin": null,
            "max_height": null,
            "max_width": null,
            "min_height": null,
            "min_width": null,
            "object_fit": null,
            "object_position": null,
            "order": null,
            "overflow": null,
            "overflow_x": null,
            "overflow_y": null,
            "padding": null,
            "right": null,
            "top": null,
            "visibility": null,
            "width": null
          }
        },
        "a2b39c7ad5df4fb9bc7e9632ea7c3428": {
          "model_module": "@jupyter-widgets/controls",
          "model_name": "ProgressStyleModel",
          "model_module_version": "1.5.0",
          "state": {
            "_model_module": "@jupyter-widgets/controls",
            "_model_module_version": "1.5.0",
            "_model_name": "ProgressStyleModel",
            "_view_count": null,
            "_view_module": "@jupyter-widgets/base",
            "_view_module_version": "1.2.0",
            "_view_name": "StyleView",
            "bar_color": null,
            "description_width": ""
          }
        },
        "deb05cc9cce2426db4f697f3ecb4d627": {
          "model_module": "@jupyter-widgets/controls",
          "model_name": "VBoxModel",
          "model_module_version": "1.5.0",
          "state": {
            "_dom_classes": [],
            "_model_module": "@jupyter-widgets/controls",
            "_model_module_version": "1.5.0",
            "_model_name": "VBoxModel",
            "_view_count": null,
            "_view_module": "@jupyter-widgets/controls",
            "_view_module_version": "1.5.0",
            "_view_name": "VBoxView",
            "box_style": "",
            "children": [
              "IPY_MODEL_4cd41e4e56fa4fc6919976257c3a5129",
              "IPY_MODEL_5e8ccf9ae5f2480d891dbce1892971c2"
            ],
            "layout": "IPY_MODEL_5c0b8e6833444b17bdb2e48ac5163b44"
          }
        },
        "4cd41e4e56fa4fc6919976257c3a5129": {
          "model_module": "@jupyter-widgets/controls",
          "model_name": "LabelModel",
          "model_module_version": "1.5.0",
          "state": {
            "_dom_classes": [],
            "_model_module": "@jupyter-widgets/controls",
            "_model_module_version": "1.5.0",
            "_model_name": "LabelModel",
            "_view_count": null,
            "_view_module": "@jupyter-widgets/controls",
            "_view_module_version": "1.5.0",
            "_view_name": "LabelView",
            "description": "",
            "description_tooltip": null,
            "layout": "IPY_MODEL_85f82677b2b242c694c1adf0a3b68c19",
            "placeholder": "​",
            "style": "IPY_MODEL_29826dd1beab4bfcbc952eb25cfe5613",
            "value": "148.661 MB of 148.661 MB uploaded (0.000 MB deduped)\r"
          }
        },
        "5e8ccf9ae5f2480d891dbce1892971c2": {
          "model_module": "@jupyter-widgets/controls",
          "model_name": "FloatProgressModel",
          "model_module_version": "1.5.0",
          "state": {
            "_dom_classes": [],
            "_model_module": "@jupyter-widgets/controls",
            "_model_module_version": "1.5.0",
            "_model_name": "FloatProgressModel",
            "_view_count": null,
            "_view_module": "@jupyter-widgets/controls",
            "_view_module_version": "1.5.0",
            "_view_name": "ProgressView",
            "bar_style": "",
            "description": "",
            "description_tooltip": null,
            "layout": "IPY_MODEL_85e8a8ca2b7f4de299438b5c88fe00f8",
            "max": 1,
            "min": 0,
            "orientation": "horizontal",
            "style": "IPY_MODEL_a3bac2c277114399b330bcff43080082",
            "value": 1
          }
        },
        "5c0b8e6833444b17bdb2e48ac5163b44": {
          "model_module": "@jupyter-widgets/base",
          "model_name": "LayoutModel",
          "model_module_version": "1.2.0",
          "state": {
            "_model_module": "@jupyter-widgets/base",
            "_model_module_version": "1.2.0",
            "_model_name": "LayoutModel",
            "_view_count": null,
            "_view_module": "@jupyter-widgets/base",
            "_view_module_version": "1.2.0",
            "_view_name": "LayoutView",
            "align_content": null,
            "align_items": null,
            "align_self": null,
            "border": null,
            "bottom": null,
            "display": null,
            "flex": null,
            "flex_flow": null,
            "grid_area": null,
            "grid_auto_columns": null,
            "grid_auto_flow": null,
            "grid_auto_rows": null,
            "grid_column": null,
            "grid_gap": null,
            "grid_row": null,
            "grid_template_areas": null,
            "grid_template_columns": null,
            "grid_template_rows": null,
            "height": null,
            "justify_content": null,
            "justify_items": null,
            "left": null,
            "margin": null,
            "max_height": null,
            "max_width": null,
            "min_height": null,
            "min_width": null,
            "object_fit": null,
            "object_position": null,
            "order": null,
            "overflow": null,
            "overflow_x": null,
            "overflow_y": null,
            "padding": null,
            "right": null,
            "top": null,
            "visibility": null,
            "width": null
          }
        },
        "85f82677b2b242c694c1adf0a3b68c19": {
          "model_module": "@jupyter-widgets/base",
          "model_name": "LayoutModel",
          "model_module_version": "1.2.0",
          "state": {
            "_model_module": "@jupyter-widgets/base",
            "_model_module_version": "1.2.0",
            "_model_name": "LayoutModel",
            "_view_count": null,
            "_view_module": "@jupyter-widgets/base",
            "_view_module_version": "1.2.0",
            "_view_name": "LayoutView",
            "align_content": null,
            "align_items": null,
            "align_self": null,
            "border": null,
            "bottom": null,
            "display": null,
            "flex": null,
            "flex_flow": null,
            "grid_area": null,
            "grid_auto_columns": null,
            "grid_auto_flow": null,
            "grid_auto_rows": null,
            "grid_column": null,
            "grid_gap": null,
            "grid_row": null,
            "grid_template_areas": null,
            "grid_template_columns": null,
            "grid_template_rows": null,
            "height": null,
            "justify_content": null,
            "justify_items": null,
            "left": null,
            "margin": null,
            "max_height": null,
            "max_width": null,
            "min_height": null,
            "min_width": null,
            "object_fit": null,
            "object_position": null,
            "order": null,
            "overflow": null,
            "overflow_x": null,
            "overflow_y": null,
            "padding": null,
            "right": null,
            "top": null,
            "visibility": null,
            "width": null
          }
        },
        "29826dd1beab4bfcbc952eb25cfe5613": {
          "model_module": "@jupyter-widgets/controls",
          "model_name": "DescriptionStyleModel",
          "model_module_version": "1.5.0",
          "state": {
            "_model_module": "@jupyter-widgets/controls",
            "_model_module_version": "1.5.0",
            "_model_name": "DescriptionStyleModel",
            "_view_count": null,
            "_view_module": "@jupyter-widgets/base",
            "_view_module_version": "1.2.0",
            "_view_name": "StyleView",
            "description_width": ""
          }
        },
        "85e8a8ca2b7f4de299438b5c88fe00f8": {
          "model_module": "@jupyter-widgets/base",
          "model_name": "LayoutModel",
          "model_module_version": "1.2.0",
          "state": {
            "_model_module": "@jupyter-widgets/base",
            "_model_module_version": "1.2.0",
            "_model_name": "LayoutModel",
            "_view_count": null,
            "_view_module": "@jupyter-widgets/base",
            "_view_module_version": "1.2.0",
            "_view_name": "LayoutView",
            "align_content": null,
            "align_items": null,
            "align_self": null,
            "border": null,
            "bottom": null,
            "display": null,
            "flex": null,
            "flex_flow": null,
            "grid_area": null,
            "grid_auto_columns": null,
            "grid_auto_flow": null,
            "grid_auto_rows": null,
            "grid_column": null,
            "grid_gap": null,
            "grid_row": null,
            "grid_template_areas": null,
            "grid_template_columns": null,
            "grid_template_rows": null,
            "height": null,
            "justify_content": null,
            "justify_items": null,
            "left": null,
            "margin": null,
            "max_height": null,
            "max_width": null,
            "min_height": null,
            "min_width": null,
            "object_fit": null,
            "object_position": null,
            "order": null,
            "overflow": null,
            "overflow_x": null,
            "overflow_y": null,
            "padding": null,
            "right": null,
            "top": null,
            "visibility": null,
            "width": null
          }
        },
        "a3bac2c277114399b330bcff43080082": {
          "model_module": "@jupyter-widgets/controls",
          "model_name": "ProgressStyleModel",
          "model_module_version": "1.5.0",
          "state": {
            "_model_module": "@jupyter-widgets/controls",
            "_model_module_version": "1.5.0",
            "_model_name": "ProgressStyleModel",
            "_view_count": null,
            "_view_module": "@jupyter-widgets/base",
            "_view_module_version": "1.2.0",
            "_view_name": "StyleView",
            "bar_color": null,
            "description_width": ""
          }
        },
        "d5506af326964cddb1aabed6202226d0": {
          "model_module": "@jupyter-widgets/controls",
          "model_name": "VBoxModel",
          "model_module_version": "1.5.0",
          "state": {
            "_dom_classes": [],
            "_model_module": "@jupyter-widgets/controls",
            "_model_module_version": "1.5.0",
            "_model_name": "VBoxModel",
            "_view_count": null,
            "_view_module": "@jupyter-widgets/controls",
            "_view_module_version": "1.5.0",
            "_view_name": "VBoxView",
            "box_style": "",
            "children": [
              "IPY_MODEL_758d29c71e8b4634a0827c4218689fdd",
              "IPY_MODEL_1016a0d1562848edbf0e2dab4f9dad2c"
            ],
            "layout": "IPY_MODEL_6e5a2d0b51c746d3978e47bb290b1baf"
          }
        },
        "758d29c71e8b4634a0827c4218689fdd": {
          "model_module": "@jupyter-widgets/controls",
          "model_name": "LabelModel",
          "model_module_version": "1.5.0",
          "state": {
            "_dom_classes": [],
            "_model_module": "@jupyter-widgets/controls",
            "_model_module_version": "1.5.0",
            "_model_name": "LabelModel",
            "_view_count": null,
            "_view_module": "@jupyter-widgets/controls",
            "_view_module_version": "1.5.0",
            "_view_name": "LabelView",
            "description": "",
            "description_tooltip": null,
            "layout": "IPY_MODEL_f22362a8aa5c411b822cc780b776eb2a",
            "placeholder": "​",
            "style": "IPY_MODEL_773a1e1fb8d74ab9ba291cadd115042e",
            "value": "405.503 MB of 405.503 MB uploaded (0.000 MB deduped)\r"
          }
        },
        "1016a0d1562848edbf0e2dab4f9dad2c": {
          "model_module": "@jupyter-widgets/controls",
          "model_name": "FloatProgressModel",
          "model_module_version": "1.5.0",
          "state": {
            "_dom_classes": [],
            "_model_module": "@jupyter-widgets/controls",
            "_model_module_version": "1.5.0",
            "_model_name": "FloatProgressModel",
            "_view_count": null,
            "_view_module": "@jupyter-widgets/controls",
            "_view_module_version": "1.5.0",
            "_view_name": "ProgressView",
            "bar_style": "",
            "description": "",
            "description_tooltip": null,
            "layout": "IPY_MODEL_606d7ee6d04b44d1862e52b9169c288c",
            "max": 1,
            "min": 0,
            "orientation": "horizontal",
            "style": "IPY_MODEL_873a51fa19a547f8b329f44367bcb36a",
            "value": 1
          }
        },
        "6e5a2d0b51c746d3978e47bb290b1baf": {
          "model_module": "@jupyter-widgets/base",
          "model_name": "LayoutModel",
          "model_module_version": "1.2.0",
          "state": {
            "_model_module": "@jupyter-widgets/base",
            "_model_module_version": "1.2.0",
            "_model_name": "LayoutModel",
            "_view_count": null,
            "_view_module": "@jupyter-widgets/base",
            "_view_module_version": "1.2.0",
            "_view_name": "LayoutView",
            "align_content": null,
            "align_items": null,
            "align_self": null,
            "border": null,
            "bottom": null,
            "display": null,
            "flex": null,
            "flex_flow": null,
            "grid_area": null,
            "grid_auto_columns": null,
            "grid_auto_flow": null,
            "grid_auto_rows": null,
            "grid_column": null,
            "grid_gap": null,
            "grid_row": null,
            "grid_template_areas": null,
            "grid_template_columns": null,
            "grid_template_rows": null,
            "height": null,
            "justify_content": null,
            "justify_items": null,
            "left": null,
            "margin": null,
            "max_height": null,
            "max_width": null,
            "min_height": null,
            "min_width": null,
            "object_fit": null,
            "object_position": null,
            "order": null,
            "overflow": null,
            "overflow_x": null,
            "overflow_y": null,
            "padding": null,
            "right": null,
            "top": null,
            "visibility": null,
            "width": null
          }
        },
        "f22362a8aa5c411b822cc780b776eb2a": {
          "model_module": "@jupyter-widgets/base",
          "model_name": "LayoutModel",
          "model_module_version": "1.2.0",
          "state": {
            "_model_module": "@jupyter-widgets/base",
            "_model_module_version": "1.2.0",
            "_model_name": "LayoutModel",
            "_view_count": null,
            "_view_module": "@jupyter-widgets/base",
            "_view_module_version": "1.2.0",
            "_view_name": "LayoutView",
            "align_content": null,
            "align_items": null,
            "align_self": null,
            "border": null,
            "bottom": null,
            "display": null,
            "flex": null,
            "flex_flow": null,
            "grid_area": null,
            "grid_auto_columns": null,
            "grid_auto_flow": null,
            "grid_auto_rows": null,
            "grid_column": null,
            "grid_gap": null,
            "grid_row": null,
            "grid_template_areas": null,
            "grid_template_columns": null,
            "grid_template_rows": null,
            "height": null,
            "justify_content": null,
            "justify_items": null,
            "left": null,
            "margin": null,
            "max_height": null,
            "max_width": null,
            "min_height": null,
            "min_width": null,
            "object_fit": null,
            "object_position": null,
            "order": null,
            "overflow": null,
            "overflow_x": null,
            "overflow_y": null,
            "padding": null,
            "right": null,
            "top": null,
            "visibility": null,
            "width": null
          }
        },
        "773a1e1fb8d74ab9ba291cadd115042e": {
          "model_module": "@jupyter-widgets/controls",
          "model_name": "DescriptionStyleModel",
          "model_module_version": "1.5.0",
          "state": {
            "_model_module": "@jupyter-widgets/controls",
            "_model_module_version": "1.5.0",
            "_model_name": "DescriptionStyleModel",
            "_view_count": null,
            "_view_module": "@jupyter-widgets/base",
            "_view_module_version": "1.2.0",
            "_view_name": "StyleView",
            "description_width": ""
          }
        },
        "606d7ee6d04b44d1862e52b9169c288c": {
          "model_module": "@jupyter-widgets/base",
          "model_name": "LayoutModel",
          "model_module_version": "1.2.0",
          "state": {
            "_model_module": "@jupyter-widgets/base",
            "_model_module_version": "1.2.0",
            "_model_name": "LayoutModel",
            "_view_count": null,
            "_view_module": "@jupyter-widgets/base",
            "_view_module_version": "1.2.0",
            "_view_name": "LayoutView",
            "align_content": null,
            "align_items": null,
            "align_self": null,
            "border": null,
            "bottom": null,
            "display": null,
            "flex": null,
            "flex_flow": null,
            "grid_area": null,
            "grid_auto_columns": null,
            "grid_auto_flow": null,
            "grid_auto_rows": null,
            "grid_column": null,
            "grid_gap": null,
            "grid_row": null,
            "grid_template_areas": null,
            "grid_template_columns": null,
            "grid_template_rows": null,
            "height": null,
            "justify_content": null,
            "justify_items": null,
            "left": null,
            "margin": null,
            "max_height": null,
            "max_width": null,
            "min_height": null,
            "min_width": null,
            "object_fit": null,
            "object_position": null,
            "order": null,
            "overflow": null,
            "overflow_x": null,
            "overflow_y": null,
            "padding": null,
            "right": null,
            "top": null,
            "visibility": null,
            "width": null
          }
        },
        "873a51fa19a547f8b329f44367bcb36a": {
          "model_module": "@jupyter-widgets/controls",
          "model_name": "ProgressStyleModel",
          "model_module_version": "1.5.0",
          "state": {
            "_model_module": "@jupyter-widgets/controls",
            "_model_module_version": "1.5.0",
            "_model_name": "ProgressStyleModel",
            "_view_count": null,
            "_view_module": "@jupyter-widgets/base",
            "_view_module_version": "1.2.0",
            "_view_name": "StyleView",
            "bar_color": null,
            "description_width": ""
          }
        },
        "8c3e5de06c7e4532af0e829184bfffcd": {
          "model_module": "@jupyter-widgets/controls",
          "model_name": "VBoxModel",
          "model_module_version": "1.5.0",
          "state": {
            "_dom_classes": [],
            "_model_module": "@jupyter-widgets/controls",
            "_model_module_version": "1.5.0",
            "_model_name": "VBoxModel",
            "_view_count": null,
            "_view_module": "@jupyter-widgets/controls",
            "_view_module_version": "1.5.0",
            "_view_name": "VBoxView",
            "box_style": "",
            "children": [
              "IPY_MODEL_05818627edc24b42b6d02b061ae6bc59",
              "IPY_MODEL_51f2d7242f294ed8aeffb8b26e022dfa"
            ],
            "layout": "IPY_MODEL_7be005711c9a47de881298c8105be119"
          }
        },
        "05818627edc24b42b6d02b061ae6bc59": {
          "model_module": "@jupyter-widgets/controls",
          "model_name": "LabelModel",
          "model_module_version": "1.5.0",
          "state": {
            "_dom_classes": [],
            "_model_module": "@jupyter-widgets/controls",
            "_model_module_version": "1.5.0",
            "_model_name": "LabelModel",
            "_view_count": null,
            "_view_module": "@jupyter-widgets/controls",
            "_view_module_version": "1.5.0",
            "_view_name": "LabelView",
            "description": "",
            "description_tooltip": null,
            "layout": "IPY_MODEL_a147141849c84a93a1e9707f55027e8a",
            "placeholder": "​",
            "style": "IPY_MODEL_02d15fc221fc4012a21fc73282806883",
            "value": "148.638 MB of 148.638 MB uploaded (0.000 MB deduped)\r"
          }
        },
        "51f2d7242f294ed8aeffb8b26e022dfa": {
          "model_module": "@jupyter-widgets/controls",
          "model_name": "FloatProgressModel",
          "model_module_version": "1.5.0",
          "state": {
            "_dom_classes": [],
            "_model_module": "@jupyter-widgets/controls",
            "_model_module_version": "1.5.0",
            "_model_name": "FloatProgressModel",
            "_view_count": null,
            "_view_module": "@jupyter-widgets/controls",
            "_view_module_version": "1.5.0",
            "_view_name": "ProgressView",
            "bar_style": "",
            "description": "",
            "description_tooltip": null,
            "layout": "IPY_MODEL_9be61a74262249e3857f4782f87cf50d",
            "max": 1,
            "min": 0,
            "orientation": "horizontal",
            "style": "IPY_MODEL_3fcaca90bb304a208514e266ebfcb1a7",
            "value": 1
          }
        },
        "7be005711c9a47de881298c8105be119": {
          "model_module": "@jupyter-widgets/base",
          "model_name": "LayoutModel",
          "model_module_version": "1.2.0",
          "state": {
            "_model_module": "@jupyter-widgets/base",
            "_model_module_version": "1.2.0",
            "_model_name": "LayoutModel",
            "_view_count": null,
            "_view_module": "@jupyter-widgets/base",
            "_view_module_version": "1.2.0",
            "_view_name": "LayoutView",
            "align_content": null,
            "align_items": null,
            "align_self": null,
            "border": null,
            "bottom": null,
            "display": null,
            "flex": null,
            "flex_flow": null,
            "grid_area": null,
            "grid_auto_columns": null,
            "grid_auto_flow": null,
            "grid_auto_rows": null,
            "grid_column": null,
            "grid_gap": null,
            "grid_row": null,
            "grid_template_areas": null,
            "grid_template_columns": null,
            "grid_template_rows": null,
            "height": null,
            "justify_content": null,
            "justify_items": null,
            "left": null,
            "margin": null,
            "max_height": null,
            "max_width": null,
            "min_height": null,
            "min_width": null,
            "object_fit": null,
            "object_position": null,
            "order": null,
            "overflow": null,
            "overflow_x": null,
            "overflow_y": null,
            "padding": null,
            "right": null,
            "top": null,
            "visibility": null,
            "width": null
          }
        },
        "a147141849c84a93a1e9707f55027e8a": {
          "model_module": "@jupyter-widgets/base",
          "model_name": "LayoutModel",
          "model_module_version": "1.2.0",
          "state": {
            "_model_module": "@jupyter-widgets/base",
            "_model_module_version": "1.2.0",
            "_model_name": "LayoutModel",
            "_view_count": null,
            "_view_module": "@jupyter-widgets/base",
            "_view_module_version": "1.2.0",
            "_view_name": "LayoutView",
            "align_content": null,
            "align_items": null,
            "align_self": null,
            "border": null,
            "bottom": null,
            "display": null,
            "flex": null,
            "flex_flow": null,
            "grid_area": null,
            "grid_auto_columns": null,
            "grid_auto_flow": null,
            "grid_auto_rows": null,
            "grid_column": null,
            "grid_gap": null,
            "grid_row": null,
            "grid_template_areas": null,
            "grid_template_columns": null,
            "grid_template_rows": null,
            "height": null,
            "justify_content": null,
            "justify_items": null,
            "left": null,
            "margin": null,
            "max_height": null,
            "max_width": null,
            "min_height": null,
            "min_width": null,
            "object_fit": null,
            "object_position": null,
            "order": null,
            "overflow": null,
            "overflow_x": null,
            "overflow_y": null,
            "padding": null,
            "right": null,
            "top": null,
            "visibility": null,
            "width": null
          }
        },
        "02d15fc221fc4012a21fc73282806883": {
          "model_module": "@jupyter-widgets/controls",
          "model_name": "DescriptionStyleModel",
          "model_module_version": "1.5.0",
          "state": {
            "_model_module": "@jupyter-widgets/controls",
            "_model_module_version": "1.5.0",
            "_model_name": "DescriptionStyleModel",
            "_view_count": null,
            "_view_module": "@jupyter-widgets/base",
            "_view_module_version": "1.2.0",
            "_view_name": "StyleView",
            "description_width": ""
          }
        },
        "9be61a74262249e3857f4782f87cf50d": {
          "model_module": "@jupyter-widgets/base",
          "model_name": "LayoutModel",
          "model_module_version": "1.2.0",
          "state": {
            "_model_module": "@jupyter-widgets/base",
            "_model_module_version": "1.2.0",
            "_model_name": "LayoutModel",
            "_view_count": null,
            "_view_module": "@jupyter-widgets/base",
            "_view_module_version": "1.2.0",
            "_view_name": "LayoutView",
            "align_content": null,
            "align_items": null,
            "align_self": null,
            "border": null,
            "bottom": null,
            "display": null,
            "flex": null,
            "flex_flow": null,
            "grid_area": null,
            "grid_auto_columns": null,
            "grid_auto_flow": null,
            "grid_auto_rows": null,
            "grid_column": null,
            "grid_gap": null,
            "grid_row": null,
            "grid_template_areas": null,
            "grid_template_columns": null,
            "grid_template_rows": null,
            "height": null,
            "justify_content": null,
            "justify_items": null,
            "left": null,
            "margin": null,
            "max_height": null,
            "max_width": null,
            "min_height": null,
            "min_width": null,
            "object_fit": null,
            "object_position": null,
            "order": null,
            "overflow": null,
            "overflow_x": null,
            "overflow_y": null,
            "padding": null,
            "right": null,
            "top": null,
            "visibility": null,
            "width": null
          }
        },
        "3fcaca90bb304a208514e266ebfcb1a7": {
          "model_module": "@jupyter-widgets/controls",
          "model_name": "ProgressStyleModel",
          "model_module_version": "1.5.0",
          "state": {
            "_model_module": "@jupyter-widgets/controls",
            "_model_module_version": "1.5.0",
            "_model_name": "ProgressStyleModel",
            "_view_count": null,
            "_view_module": "@jupyter-widgets/base",
            "_view_module_version": "1.2.0",
            "_view_name": "StyleView",
            "bar_color": null,
            "description_width": ""
          }
        },
        "7eb81aaa31754a17b74dcd9b2543d702": {
          "model_module": "@jupyter-widgets/controls",
          "model_name": "VBoxModel",
          "model_module_version": "1.5.0",
          "state": {
            "_dom_classes": [],
            "_model_module": "@jupyter-widgets/controls",
            "_model_module_version": "1.5.0",
            "_model_name": "VBoxModel",
            "_view_count": null,
            "_view_module": "@jupyter-widgets/controls",
            "_view_module_version": "1.5.0",
            "_view_name": "VBoxView",
            "box_style": "",
            "children": [
              "IPY_MODEL_37f2cb1a769b43cca5f70a91e3f00184",
              "IPY_MODEL_4e5267b7f1e54d9d8847c565f8caa71a"
            ],
            "layout": "IPY_MODEL_a0691a8b8bb1483c97e98e050be21cc1"
          }
        },
        "37f2cb1a769b43cca5f70a91e3f00184": {
          "model_module": "@jupyter-widgets/controls",
          "model_name": "LabelModel",
          "model_module_version": "1.5.0",
          "state": {
            "_dom_classes": [],
            "_model_module": "@jupyter-widgets/controls",
            "_model_module_version": "1.5.0",
            "_model_name": "LabelModel",
            "_view_count": null,
            "_view_module": "@jupyter-widgets/controls",
            "_view_module_version": "1.5.0",
            "_view_name": "LabelView",
            "description": "",
            "description_tooltip": null,
            "layout": "IPY_MODEL_5c990963dff14cc7be3497e8e615eca8",
            "placeholder": "​",
            "style": "IPY_MODEL_94f3982f435043448959c3672d1ec704",
            "value": "289.897 MB of 289.897 MB uploaded (0.000 MB deduped)\r"
          }
        },
        "4e5267b7f1e54d9d8847c565f8caa71a": {
          "model_module": "@jupyter-widgets/controls",
          "model_name": "FloatProgressModel",
          "model_module_version": "1.5.0",
          "state": {
            "_dom_classes": [],
            "_model_module": "@jupyter-widgets/controls",
            "_model_module_version": "1.5.0",
            "_model_name": "FloatProgressModel",
            "_view_count": null,
            "_view_module": "@jupyter-widgets/controls",
            "_view_module_version": "1.5.0",
            "_view_name": "ProgressView",
            "bar_style": "",
            "description": "",
            "description_tooltip": null,
            "layout": "IPY_MODEL_a2e7ba3616754f699e3c2cb689153aae",
            "max": 1,
            "min": 0,
            "orientation": "horizontal",
            "style": "IPY_MODEL_6f3e3632b216478f86cfe789be960393",
            "value": 1
          }
        },
        "a0691a8b8bb1483c97e98e050be21cc1": {
          "model_module": "@jupyter-widgets/base",
          "model_name": "LayoutModel",
          "model_module_version": "1.2.0",
          "state": {
            "_model_module": "@jupyter-widgets/base",
            "_model_module_version": "1.2.0",
            "_model_name": "LayoutModel",
            "_view_count": null,
            "_view_module": "@jupyter-widgets/base",
            "_view_module_version": "1.2.0",
            "_view_name": "LayoutView",
            "align_content": null,
            "align_items": null,
            "align_self": null,
            "border": null,
            "bottom": null,
            "display": null,
            "flex": null,
            "flex_flow": null,
            "grid_area": null,
            "grid_auto_columns": null,
            "grid_auto_flow": null,
            "grid_auto_rows": null,
            "grid_column": null,
            "grid_gap": null,
            "grid_row": null,
            "grid_template_areas": null,
            "grid_template_columns": null,
            "grid_template_rows": null,
            "height": null,
            "justify_content": null,
            "justify_items": null,
            "left": null,
            "margin": null,
            "max_height": null,
            "max_width": null,
            "min_height": null,
            "min_width": null,
            "object_fit": null,
            "object_position": null,
            "order": null,
            "overflow": null,
            "overflow_x": null,
            "overflow_y": null,
            "padding": null,
            "right": null,
            "top": null,
            "visibility": null,
            "width": null
          }
        },
        "5c990963dff14cc7be3497e8e615eca8": {
          "model_module": "@jupyter-widgets/base",
          "model_name": "LayoutModel",
          "model_module_version": "1.2.0",
          "state": {
            "_model_module": "@jupyter-widgets/base",
            "_model_module_version": "1.2.0",
            "_model_name": "LayoutModel",
            "_view_count": null,
            "_view_module": "@jupyter-widgets/base",
            "_view_module_version": "1.2.0",
            "_view_name": "LayoutView",
            "align_content": null,
            "align_items": null,
            "align_self": null,
            "border": null,
            "bottom": null,
            "display": null,
            "flex": null,
            "flex_flow": null,
            "grid_area": null,
            "grid_auto_columns": null,
            "grid_auto_flow": null,
            "grid_auto_rows": null,
            "grid_column": null,
            "grid_gap": null,
            "grid_row": null,
            "grid_template_areas": null,
            "grid_template_columns": null,
            "grid_template_rows": null,
            "height": null,
            "justify_content": null,
            "justify_items": null,
            "left": null,
            "margin": null,
            "max_height": null,
            "max_width": null,
            "min_height": null,
            "min_width": null,
            "object_fit": null,
            "object_position": null,
            "order": null,
            "overflow": null,
            "overflow_x": null,
            "overflow_y": null,
            "padding": null,
            "right": null,
            "top": null,
            "visibility": null,
            "width": null
          }
        },
        "94f3982f435043448959c3672d1ec704": {
          "model_module": "@jupyter-widgets/controls",
          "model_name": "DescriptionStyleModel",
          "model_module_version": "1.5.0",
          "state": {
            "_model_module": "@jupyter-widgets/controls",
            "_model_module_version": "1.5.0",
            "_model_name": "DescriptionStyleModel",
            "_view_count": null,
            "_view_module": "@jupyter-widgets/base",
            "_view_module_version": "1.2.0",
            "_view_name": "StyleView",
            "description_width": ""
          }
        },
        "a2e7ba3616754f699e3c2cb689153aae": {
          "model_module": "@jupyter-widgets/base",
          "model_name": "LayoutModel",
          "model_module_version": "1.2.0",
          "state": {
            "_model_module": "@jupyter-widgets/base",
            "_model_module_version": "1.2.0",
            "_model_name": "LayoutModel",
            "_view_count": null,
            "_view_module": "@jupyter-widgets/base",
            "_view_module_version": "1.2.0",
            "_view_name": "LayoutView",
            "align_content": null,
            "align_items": null,
            "align_self": null,
            "border": null,
            "bottom": null,
            "display": null,
            "flex": null,
            "flex_flow": null,
            "grid_area": null,
            "grid_auto_columns": null,
            "grid_auto_flow": null,
            "grid_auto_rows": null,
            "grid_column": null,
            "grid_gap": null,
            "grid_row": null,
            "grid_template_areas": null,
            "grid_template_columns": null,
            "grid_template_rows": null,
            "height": null,
            "justify_content": null,
            "justify_items": null,
            "left": null,
            "margin": null,
            "max_height": null,
            "max_width": null,
            "min_height": null,
            "min_width": null,
            "object_fit": null,
            "object_position": null,
            "order": null,
            "overflow": null,
            "overflow_x": null,
            "overflow_y": null,
            "padding": null,
            "right": null,
            "top": null,
            "visibility": null,
            "width": null
          }
        },
        "6f3e3632b216478f86cfe789be960393": {
          "model_module": "@jupyter-widgets/controls",
          "model_name": "ProgressStyleModel",
          "model_module_version": "1.5.0",
          "state": {
            "_model_module": "@jupyter-widgets/controls",
            "_model_module_version": "1.5.0",
            "_model_name": "ProgressStyleModel",
            "_view_count": null,
            "_view_module": "@jupyter-widgets/base",
            "_view_module_version": "1.2.0",
            "_view_name": "StyleView",
            "bar_color": null,
            "description_width": ""
          }
        }
      }
    },
    "accelerator": "GPU"
  },
  "cells": [
    {
      "cell_type": "markdown",
      "source": [
        "##Import and install required libraries"
      ],
      "metadata": {
        "id": "_AbhgOzPGL6_"
      }
    },
    {
      "cell_type": "code",
      "execution_count": null,
      "metadata": {
        "id": "4mDVLWb3iOcB"
      },
      "outputs": [],
      "source": [
        "import os\n",
        "import glob\n",
        "import numpy as np\n",
        "import tensorflow as tf\n",
        "from tensorflow import keras\n",
        "from tensorflow.keras.preprocessing.image import ImageDataGenerator\n",
        "from tensorflow.keras.models import Sequential, Model\n",
        "from tensorflow.keras.layers import Flatten, Conv2D,Dense,MaxPooling2D,Dropout,BatchNormalization,Activation \n",
        "from PIL import Image\n",
        "%matplotlib inline\n",
        "%config InlineBackend.figure_format = 'svg'\n",
        "import matplotlib.pyplot as plt\n",
        "import matplotlib.image as mpimg"
      ]
    },
    {
      "cell_type": "code",
      "source": [
        "!pip install wandb\n",
        "import wandb\n",
        "from wandb.keras import WandbCallback"
      ],
      "metadata": {
        "colab": {
          "base_uri": "https://localhost:8080/"
        },
        "id": "G_IG6FUsqTcJ",
        "outputId": "66c427df-9bb0-4be0-a91a-3bdcac386ac7"
      },
      "execution_count": null,
      "outputs": [
        {
          "output_type": "stream",
          "name": "stdout",
          "text": [
            "Collecting wandb\n",
            "  Downloading wandb-0.12.13-py2.py3-none-any.whl (1.8 MB)\n",
            "\u001b[K     |████████████████████████████████| 1.8 MB 4.1 MB/s \n",
            "\u001b[?25hRequirement already satisfied: six>=1.13.0 in /usr/local/lib/python3.7/dist-packages (from wandb) (1.15.0)\n",
            "Collecting GitPython>=1.0.0\n",
            "  Downloading GitPython-3.1.27-py3-none-any.whl (181 kB)\n",
            "\u001b[K     |████████████████████████████████| 181 kB 46.8 MB/s \n",
            "\u001b[?25hCollecting setproctitle\n",
            "  Downloading setproctitle-1.2.2-cp37-cp37m-manylinux1_x86_64.whl (36 kB)\n",
            "Collecting shortuuid>=0.5.0\n",
            "  Downloading shortuuid-1.0.8-py3-none-any.whl (9.5 kB)\n",
            "Collecting sentry-sdk>=1.0.0\n",
            "  Downloading sentry_sdk-1.5.8-py2.py3-none-any.whl (144 kB)\n",
            "\u001b[K     |████████████████████████████████| 144 kB 45.9 MB/s \n",
            "\u001b[?25hCollecting docker-pycreds>=0.4.0\n",
            "  Downloading docker_pycreds-0.4.0-py2.py3-none-any.whl (9.0 kB)\n",
            "Requirement already satisfied: psutil>=5.0.0 in /usr/local/lib/python3.7/dist-packages (from wandb) (5.4.8)\n",
            "Collecting pathtools\n",
            "  Downloading pathtools-0.1.2.tar.gz (11 kB)\n",
            "Requirement already satisfied: protobuf>=3.12.0 in /usr/local/lib/python3.7/dist-packages (from wandb) (3.17.3)\n",
            "Requirement already satisfied: promise<3,>=2.0 in /usr/local/lib/python3.7/dist-packages (from wandb) (2.3)\n",
            "Requirement already satisfied: PyYAML in /usr/local/lib/python3.7/dist-packages (from wandb) (3.13)\n",
            "Requirement already satisfied: Click!=8.0.0,>=7.0 in /usr/local/lib/python3.7/dist-packages (from wandb) (7.1.2)\n",
            "Requirement already satisfied: requests<3,>=2.0.0 in /usr/local/lib/python3.7/dist-packages (from wandb) (2.23.0)\n",
            "Requirement already satisfied: python-dateutil>=2.6.1 in /usr/local/lib/python3.7/dist-packages (from wandb) (2.8.2)\n",
            "Collecting gitdb<5,>=4.0.1\n",
            "  Downloading gitdb-4.0.9-py3-none-any.whl (63 kB)\n",
            "\u001b[K     |████████████████████████████████| 63 kB 1.8 MB/s \n",
            "\u001b[?25hRequirement already satisfied: typing-extensions>=3.7.4.3 in /usr/local/lib/python3.7/dist-packages (from GitPython>=1.0.0->wandb) (3.10.0.2)\n",
            "Collecting smmap<6,>=3.0.1\n",
            "  Downloading smmap-5.0.0-py3-none-any.whl (24 kB)\n",
            "Requirement already satisfied: urllib3!=1.25.0,!=1.25.1,<1.26,>=1.21.1 in /usr/local/lib/python3.7/dist-packages (from requests<3,>=2.0.0->wandb) (1.24.3)\n",
            "Requirement already satisfied: certifi>=2017.4.17 in /usr/local/lib/python3.7/dist-packages (from requests<3,>=2.0.0->wandb) (2021.10.8)\n",
            "Requirement already satisfied: chardet<4,>=3.0.2 in /usr/local/lib/python3.7/dist-packages (from requests<3,>=2.0.0->wandb) (3.0.4)\n",
            "Requirement already satisfied: idna<3,>=2.5 in /usr/local/lib/python3.7/dist-packages (from requests<3,>=2.0.0->wandb) (2.10)\n",
            "Building wheels for collected packages: pathtools\n",
            "  Building wheel for pathtools (setup.py) ... \u001b[?25l\u001b[?25hdone\n",
            "  Created wheel for pathtools: filename=pathtools-0.1.2-py3-none-any.whl size=8806 sha256=e2014b429be7ce55f2543d89322caa7c82f9b35ca2cc12cd12d8e30afaef160e\n",
            "  Stored in directory: /root/.cache/pip/wheels/3e/31/09/fa59cef12cdcfecc627b3d24273699f390e71828921b2cbba2\n",
            "Successfully built pathtools\n",
            "Installing collected packages: smmap, gitdb, shortuuid, setproctitle, sentry-sdk, pathtools, GitPython, docker-pycreds, wandb\n",
            "Successfully installed GitPython-3.1.27 docker-pycreds-0.4.0 gitdb-4.0.9 pathtools-0.1.2 sentry-sdk-1.5.8 setproctitle-1.2.2 shortuuid-1.0.8 smmap-5.0.0 wandb-0.12.13\n"
          ]
        }
      ]
    },
    {
      "cell_type": "code",
      "source": [
        "from google.colab import drive\n",
        "drive.mount('/content/drive')"
      ],
      "metadata": {
        "colab": {
          "base_uri": "https://localhost:8080/"
        },
        "id": "WxkJFY4oiYHb",
        "outputId": "fcfce003-0844-4db5-f3f6-d08000753961"
      },
      "execution_count": null,
      "outputs": [
        {
          "output_type": "stream",
          "name": "stdout",
          "text": [
            "Mounted at /content/drive\n"
          ]
        }
      ]
    },
    {
      "cell_type": "markdown",
      "source": [
        "##Unzip and load file data file onto server, then delete zip file"
      ],
      "metadata": {
        "id": "Lu-r1nG0GX-_"
      }
    },
    {
      "cell_type": "code",
      "source": [
        "zip_path = \"drive/MyDrive/nature_12K.zip\"\n",
        "!cp \"{zip_path}\" .\n",
        "!unzip -q nature_12K.zip\n",
        "!rm nature_12K.zip"
      ],
      "metadata": {
        "id": "1lNQorYIierr"
      },
      "execution_count": null,
      "outputs": []
    },
    {
      "cell_type": "markdown",
      "source": [
        "## Prepare the dataset for Training"
      ],
      "metadata": {
        "id": "HzF_VTELGryI"
      }
    },
    {
      "cell_type": "code",
      "source": [
        "def dataset_Training(Dataset_loc=\"inaturalist_12K\", augment_data=False,ts=(299,299)):\n",
        "    Directory_train= os.path.join(Dataset_loc, \"train\")\n",
        "    Directory_test= os.path.join(Dataset_loc, \"val\")\n",
        "\n",
        "    if augment_data:\n",
        "        generator_train=ImageDataGenerator(rescale=1./255,rotation_range=90,zoom_range=0.2,shear_range=0.2,horizontal_flip=True)\n",
        "    else:\n",
        "        generator_train=ImageDataGenerator(rescale=1./255)\n",
        "       \n",
        "    generator_test = ImageDataGenerator(rescale=1./255)\n",
        "    train_generate = generator_train.flow_from_directory(Directory_train, target_size=ts, batch_size=128, subset=\"training\",shuffle=True,seed=8700)\n",
        "    #val_generate = generator_train.flow_from_directory(Directory_train, target_size=ts, batch_size=128, subset=\"validation\",shuffle=True,seed=8700)\n",
        "    test_generate = generator_test.flow_from_directory(Directory_test, target_size=ts, batch_size=128)\n",
        "    \n",
        "    return train_generate, test_generate\n",
        "train_data, val_data = dataset_Training()"
      ],
      "metadata": {
        "colab": {
          "base_uri": "https://localhost:8080/"
        },
        "id": "1h0grgfJm4_f",
        "outputId": "2213d00e-dbb5-4a17-cc5e-cfe98ed219a6"
      },
      "execution_count": null,
      "outputs": [
        {
          "output_type": "stream",
          "name": "stdout",
          "text": [
            "Found 9999 images belonging to 10 classes.\n",
            "Found 2000 images belonging to 10 classes.\n"
          ]
        }
      ]
    },
    {
      "cell_type": "markdown",
      "source": [
        "##Our Model InceptionResNetV2,InceptionV3,ResNet50, Xception"
      ],
      "metadata": {
        "id": "TyZVU9ohHrzg"
      }
    },
    {
      "cell_type": "code",
      "source": [
        "def our_Model(Model_name):\n",
        "  \n",
        "  if Model_name==\"InceptionResNetV2\":\n",
        "    w,ht=299,299\n",
        "    return tf.keras.applications.InceptionResNetV2(include_top=False, input_shape=(w,ht,3), weights='imagenet')\n",
        "  elif Model_name==\"InceptionV3\":\n",
        "    w,ht=299,299\n",
        "    return tf.keras.applications.InceptionV3(include_top=False, input_shape=(w,ht,3), weights='imagenet')\n",
        "  elif Model_name==\"Xception\":\n",
        "    w,ht=299,299\n",
        "    return tf.keras.applications.Xception(include_top=False, input_shape=(w,ht,3), weights='imagenet')\n",
        "  elif Model_name==\"ResNet50\":\n",
        "    w,ht=224,224\n",
        "    return tf.keras.applications.ResNet50(include_top=False, input_shape=(w,ht,3), weights='imagenet')\n",
        " "
      ],
      "metadata": {
        "id": "8pc00gJqjfpG"
      },
      "execution_count": null,
      "outputs": []
    },
    {
      "cell_type": "markdown",
      "source": [
        "##Fine Tuning the model "
      ],
      "metadata": {
        "id": "thIkT9IhI_bB"
      }
    },
    {
      "cell_type": "code",
      "source": [
        "def train_model():\n",
        "  config_defaults = {\n",
        "        \"base_model\": \"InceptionV3\",\n",
        "        \"lr\": 0.001,\n",
        "        \"batch_normalisation\":False,\n",
        "        \"epochs\": 10,\n",
        "        \"augment_data\":False,\n",
        "        \"dropout\":0.4,\n",
        "        \"dense_Size\":128\n",
        "        }\n",
        "  wandb.init(config=config_defaults, project=\"cs6910_assignment212\", magic=True)\n",
        "  config = wandb.config\n",
        "  ## 1. Data loading\n",
        "  img_height,img_width=(299,299)\n",
        "  print(\"1. Loading the dataset ...\\n\")\n",
        "  if config.base_model==\"ResNet50\":\n",
        "    img_height,img_width=224,224\n",
        "    train_data, val_data=dataset_Training(augment_data=config.augment_data,ts=(img_height,img_width))\n",
        "  else:\n",
        "     train_data, val_data=dataset_Training(augment_data=config.augment_data,ts=(img_height,img_width))\n",
        "  O_model=our_Model(config.base_model)\n",
        "\n",
        "  for layers in O_model.layers:\n",
        "    layers.trainable = False\n",
        "\n",
        "  model = keras.Sequential([\n",
        "    tf.keras.Input(shape=(img_height, img_width,3,)),\n",
        "    O_model,\n",
        "    Flatten(),\n",
        "    Dense(config.dense_Size,activation='relu'),\n",
        "      \n",
        "  ])\n",
        "  if config.batch_normalisation == True:\n",
        "    model.add(BatchNormalization())\n",
        "  model.add(Dropout(config.dropout))\n",
        "  model.add(Dense(config.dense_Size,activation='relu'))\n",
        "  model.add(Dropout(config.dropout))\n",
        "  model.add(Dense(10 ,activation='softmax'))\n",
        "\n",
        "  #Without Fine tuning the model .\n",
        "  # model.compile(optimizer=tf.keras.optimizers.Adam(learning_rate=config.lr),loss=tf.keras.losses.CategoricalCrossentropy(),metrics=['accuracy'])  \n",
        "  # model.fit(train_data, validation_data=val_data,epochs=config.epochs,callbacks=[WandbCallback()])\n",
        "  \n",
        "  tune_defaults = {\n",
        "        \"InceptionV3\": 55,\n",
        "        \"InceptionResNetV2\": 55,\n",
        "        \"ResNet50\": 50,\n",
        "        \"Xception\": 50\n",
        "  } \n",
        "  model.trainable =True\n",
        "  print(f\"Total layers in base model is {len(model.layers)}\\n\")\n",
        "\n",
        "  fine_tune= len(model.layers) - int(.01*len(model.layers)*tune_defaults[config.base_model])\n",
        "  for layer in model.layers[:fine_tune]:\n",
        "      layer.trainable =False\n",
        "\n",
        "  model.compile(optimizer=tf.keras.optimizers.Adam(learning_rate=config.lr),loss=tf.keras.losses.CategoricalCrossentropy(),metrics=['accuracy'])  \n",
        "  print(\"Fine tuning the model ...\\n\")\n",
        "  model.fit(train_data, validation_data=val_data,epochs=config.epochs,callbacks=[WandbCallback()])\n",
        "  print(\"Model tuned successfully!!\\n\")"
      ],
      "metadata": {
        "id": "qG4_eAgtkgHP"
      },
      "execution_count": null,
      "outputs": []
    },
    {
      "cell_type": "markdown",
      "source": [
        "##All sweep"
      ],
      "metadata": {
        "id": "qlfrkfJCIqmz"
      }
    },
    {
      "cell_type": "code",
      "source": [
        "\n",
        "sweep_config_final = {\n",
        "  \"name\": \"My Sweep\",\n",
        "  \"method\": \"random\",\n",
        "  \"parameters\": {\n",
        "        \"base_model\": {\n",
        "            \"values\": [\"InceptionV3\", \"InceptionResNetV2\", \"ResNet50\", \"Xception\"]\n",
        "        },\n",
        "         \"augment_data\": {\n",
        "            \"values\": [True,False]\n",
        "        },\n",
        "         \"batch_normalisation\": {\n",
        "            \"values\": [True,False]\n",
        "        },\n",
        "        \"lr\": {\n",
        "            \"values\": [0.00007,0.0002]\n",
        "        },\n",
        "        \"epochs\": {\n",
        "            \"values\": [5,10]\n",
        "        },\n",
        "        \"dropout\":{\n",
        "            \"values\":[0.2,0.37]\n",
        "        },\n",
        "        \"dense_Size\":{\n",
        "            \"values\":[128,512]\n",
        "        }\n",
        "    }\n",
        "}\n",
        "\n",
        "\n",
        "sweep_id = wandb.sweep(sweep_config_final, project=\"CS6910_Assignment2B\")"
      ],
      "metadata": {
        "colab": {
          "base_uri": "https://localhost:8080/",
          "height": 121
        },
        "id": "TO8KUsVRi8XU",
        "outputId": "055df095-cdef-4f79-e505-49984161bac4"
      },
      "execution_count": null,
      "outputs": [
        {
          "output_type": "display_data",
          "data": {
            "text/plain": [
              "<IPython.core.display.Javascript object>"
            ],
            "application/javascript": [
              "\n",
              "        window._wandbApiKey = new Promise((resolve, reject) => {\n",
              "            function loadScript(url) {\n",
              "            return new Promise(function(resolve, reject) {\n",
              "                let newScript = document.createElement(\"script\");\n",
              "                newScript.onerror = reject;\n",
              "                newScript.onload = resolve;\n",
              "                document.body.appendChild(newScript);\n",
              "                newScript.src = url;\n",
              "            });\n",
              "            }\n",
              "            loadScript(\"https://cdn.jsdelivr.net/npm/postmate/build/postmate.min.js\").then(() => {\n",
              "            const iframe = document.createElement('iframe')\n",
              "            iframe.style.cssText = \"width:0;height:0;border:none\"\n",
              "            document.body.appendChild(iframe)\n",
              "            const handshake = new Postmate({\n",
              "                container: iframe,\n",
              "                url: 'https://wandb.ai/authorize'\n",
              "            });\n",
              "            const timeout = setTimeout(() => reject(\"Couldn't auto authenticate\"), 5000)\n",
              "            handshake.then(function(child) {\n",
              "                child.on('authorize', data => {\n",
              "                    clearTimeout(timeout)\n",
              "                    resolve(data)\n",
              "                });\n",
              "            });\n",
              "            })\n",
              "        });\n",
              "    "
            ]
          },
          "metadata": {}
        },
        {
          "output_type": "stream",
          "name": "stderr",
          "text": [
            "\u001b[34m\u001b[1mwandb\u001b[0m: You can find your API key in your browser here: https://wandb.ai/authorize\n"
          ]
        },
        {
          "name": "stdout",
          "output_type": "stream",
          "text": [
            "wandb: Paste an API key from your profile and hit enter, or press ctrl+c to quit: ··········\n"
          ]
        },
        {
          "output_type": "stream",
          "name": "stderr",
          "text": [
            "\u001b[34m\u001b[1mwandb\u001b[0m: Appending key for api.wandb.ai to your netrc file: /root/.netrc\n"
          ]
        },
        {
          "output_type": "stream",
          "name": "stdout",
          "text": [
            "Create sweep with ID: 7mhcjb80\n",
            "Sweep URL: https://wandb.ai/manishiitm/CS6910_Assignment2B/sweeps/7mhcjb80\n"
          ]
        }
      ]
    },
    {
      "cell_type": "code",
      "source": [
        "# running the sweep\n",
        "wandb.agent(sweep_id, function=train_model,count=40)"
      ],
      "metadata": {
        "colab": {
          "base_uri": "https://localhost:8080/",
          "height": 1000,
          "referenced_widgets": [
            "47acfb69f83042168bdf7f90155e51bc",
            "3e60c4cbe97a40dca1d5f3226a4d1cbd",
            "7abd182844d14a80b47b7bbc899556ab",
            "b658c119fdf0402b888983578bcba58d",
            "d0c7aa5f23dc4d87a2c858adeed65ea6",
            "19d8d436baf44ba99e07bbff730b2173",
            "e44a1f24aeee4756af537d56a678a4b9",
            "765389c1e0ba4809a45a44b587a1e5b0",
            "50f0af03e91448d79ef7a5028d99d7a4",
            "7cce673c255a492bbe46d25dee27025f",
            "1c2fc1eebb804967894183507726036e",
            "bddd2ac6e24446e8b618b36a219f9d87",
            "d963c22553a14d8f8406e8ea5b73b5db",
            "ae56f8f761c9487ea4bc24e025d35a61",
            "7119664f64464454a44636f11eb69dc6",
            "5a612c45e4ec4131a973282685006de1",
            "9f8a7b8b08c642ed977a4a7d58d63609",
            "92b847d3bf96402db31f53f00e27d906",
            "7e686ec81b324968b5522ad81ac41595",
            "a4f4e931ff5841448170ee5026aea45b",
            "38baefe31d7f467687fc3935ce2b0fb3",
            "ef79b19c9bff4c3bbe60de1b46e25fde",
            "139ba436e3dc4898853d9ccab03fa99b",
            "64f0fec5590f498989700dfaa13229a0",
            "2dd6de1735e449b1ab2e099f20fba150",
            "15724cf7c5bd4e908da6a7c20fa5dda6",
            "febb037bec8941e68321af3bf815c1e6",
            "50a0121622c24a0f9c398138f5c7e2a0",
            "1fa545c45ea747cb93fbbe10e059c2bd",
            "dc4155250ea14431becb10074e7c8a37",
            "faebeafc9bc94e98b8b484aad5446df4",
            "7de7d5be4c8b413883d92c8cf3f219e5",
            "fe90317cf4dd4d63a51696f01a547f67",
            "50f237ffcbd0461091066a324ed4d1c5",
            "c454ddb171174380a5d8dc4e0fbf03fa",
            "0988542f43724670b2a42331254f17aa",
            "f4c31a2de7964130b4538f3039d907ac",
            "2a6dd3d779a941eea7e2dded89694e3a",
            "80325bfaf32e48328d761a10ec2322de",
            "b8feea201a774e43814272236e5e14c1",
            "3e8f62b81d884642a4de2d8aa6f08f26",
            "a942ab8c40204d9081a6aaefaaaba2c7",
            "6ecb1b25030d4be595454c9273ccdb8a",
            "d1fd53d235c848b88d5a1c0c4d5e511e",
            "e7d7c0a4bb294f4ca921e1a97b8394bb",
            "ba1caf7507484e93ac0f54a4f46a69f1",
            "c696c19ca53e49edbebf9b1ae4328087",
            "4f51851902234ab29a195a157d39aa68",
            "4f3923baf8044f4bbe64b3f0d8015fd8",
            "6633de553c414f2d9c0ce67f53c9c7ee",
            "7ab72423c1e9454b92a1c0a0eb2133c2",
            "2dca150b995849838539ee7bf65197c2",
            "928e2da2df874cae97ec6311e38e0367",
            "ec9501dd30c94abfac22eb2db6f2b02d",
            "962b18c1c16943bfb3e3045fec3cef2a",
            "cbb480c7553b45e48a72632a08142408",
            "5f4b5c7f118f4265bc404cf78ea2c230",
            "ad0635a29dd444e4842fc8440530312b",
            "aab4a5a5d4174657b7b90eb37148c07a",
            "9b515d6061554b8c92f399d860658019",
            "14702221443845e6b679daf8c73c6b3d",
            "5b77fdd6e8534289b83aab71da14eaa4",
            "d807815d36ac423d838ec247c6ea36da",
            "f9ef75ca057b422498c34218d027f795",
            "b82506a3854248fc99b1d6eb2f0958d7",
            "d6df8c582396414a9b4548b7681b6cb9",
            "b5fe9002723f46de908b0ea749af3a82",
            "017150b76e2640eaac9531bd55344d5a",
            "f9a033ca6ecc4edba60788c6300c5c59",
            "3b06688d14a1441098e80e954a301cd3",
            "3fd327b8488c4534827a5340523784c8",
            "60a13c3049fc425fa8d39298fb298772",
            "daff0b031d9a4ecd8f0fb83ee66c269f",
            "917ab30ac93b4b8da4c3c23d5fd8a4d7",
            "d7cd8f15d7c04620b9468c4d0dad100f",
            "a7221bbffe91408fb7de0e1f40eb22ae",
            "4ce3b72bcff9469aad6949fc33773039",
            "78d10b3ac8314933a57197735c947edc",
            "5e5f5afb8b734473b33a0a73f1195b70",
            "97cb616db7054585be3c289406027a8c",
            "94cee245190d47789187dddd7a0e4bfe",
            "0455588be2d84e7a84fe7da6f4c11cfa",
            "d28fc1f345894e15bdc77f41188608c3",
            "0cbe8abc424e4f4a980cf0ca5a3a44a6",
            "e1c9f737f9ec4b349003826ab1b78240",
            "6f806f53254a45ccbc07af43f4974b9c",
            "640d407fcb8048bb85ae843f421c4afa",
            "9d8e3f736c254b83aa13594decc16ab7",
            "86b403f0fa274d64aa39fd13784158e9",
            "c6b2602e2191468dae9ca8fb5f746a13",
            "c565c2fced50430aa513bda527f12a1b",
            "a9f09daed2f24f10b23860b284ed812d",
            "badb772754514407ac841c6ce08dfd4f",
            "38e3991695274ae389616d98d9f0e2b0",
            "a1ac9a3cbe2f487eb74b8c979f0110a8",
            "d639e9241def4fc5ab7f0ff99f39367d",
            "811fee81c7a341d384b6037c96fb3aa7",
            "ea12edb27767491cab6eb0b6481c32f1",
            "0802d0dbc9034dd7bfa56503daf8901c",
            "3c35dbeb803947d4852eaaa05fc359f0",
            "4ec0ad5f38834364b5e638c349759610",
            "12579149d4304d72b9bbbf2d8ac7d6de",
            "a88fbcf1f4824596ba761b087ee1a6c5",
            "f8963a0b630a405798b4c00bc1e55013",
            "4a408aba9a2f4b268164e48554ec4c4c",
            "8f4bd0c11073484ba25edd4330c4e581",
            "4a1642e5523145c683adf26fd0b7b5b2",
            "68c9a0e0e3a640f6a500fafdc146c66f",
            "a20c4b884c9f4e3bb25d254436b080ba",
            "5cd00100680444818c039618664142e1",
            "d6752e9b63d443eb82577d7dafba2798",
            "9bc926dbe8b24a2fbbda63309234ad35",
            "6173913cef7b4af1bed2ee22166619f0",
            "7d743a2ac29c45c78af978ee19e7acd5",
            "352cab2877624fc5bf9d3fa64ffd7fac",
            "f72d7c0eb7a24ebea443a49f01c07ed9",
            "cc8636d2ad844a61bd2581ad9ab51bac",
            "d1076cfd1fb5420d8ddbd5d82d759bfc",
            "374fe7ed8ed44b1fb834de220600fc90",
            "1a6af1e7a24e4c7e851adc75fc9dbb85"
          ]
        },
        "id": "kuWPW_nZq-K6",
        "outputId": "bfd2c262-40d9-44cb-be14-55c2e2f7f52e"
      },
      "execution_count": null,
      "outputs": [
        {
          "metadata": {
            "tags": null
          },
          "name": "stderr",
          "output_type": "stream",
          "text": [
            "\u001b[34m\u001b[1mwandb\u001b[0m: Agent Starting Run: no1i48er with config:\n",
            "\u001b[34m\u001b[1mwandb\u001b[0m: \taugment_data: True\n",
            "\u001b[34m\u001b[1mwandb\u001b[0m: \tbase_model: ResNet50\n",
            "\u001b[34m\u001b[1mwandb\u001b[0m: \tbatch_normalisation: True\n",
            "\u001b[34m\u001b[1mwandb\u001b[0m: \tdense_Size: 512\n",
            "\u001b[34m\u001b[1mwandb\u001b[0m: \tdropout: 0.2\n",
            "\u001b[34m\u001b[1mwandb\u001b[0m: \tepochs: 10\n",
            "\u001b[34m\u001b[1mwandb\u001b[0m: \tlr: 0.0002\n"
          ]
        },
        {
          "metadata": {
            "tags": null
          },
          "name": "stdout",
          "output_type": "stream",
          "text": [
            "#############\n"
          ]
        },
        {
          "metadata": {
            "tags": null
          },
          "name": "stderr",
          "output_type": "stream",
          "text": [
            "\u001b[34m\u001b[1mwandb\u001b[0m: Currently logged in as: \u001b[33mmanishiitm\u001b[0m (use `wandb login --relogin` to force relogin)\n",
            "\u001b[34m\u001b[1mwandb\u001b[0m: \u001b[33mWARNING\u001b[0m Ignored wandb.init() arg project when running a sweep.\n"
          ]
        },
        {
          "data": {
            "text/html": [
              "Tracking run with wandb version 0.12.11"
            ],
            "text/plain": [
              "<IPython.core.display.HTML object>"
            ]
          },
          "metadata": {},
          "output_type": "display_data"
        },
        {
          "data": {
            "text/html": [
              "Run data is saved locally in <code>/content/wandb/run-20220404_121402-no1i48er</code>"
            ],
            "text/plain": [
              "<IPython.core.display.HTML object>"
            ]
          },
          "metadata": {},
          "output_type": "display_data"
        },
        {
          "data": {
            "text/html": [
              "Syncing run <strong><a href=\"https://wandb.ai/manishiitm/CS6910_Assignment2B/runs/no1i48er\" target=\"_blank\">fresh-sweep-1</a></strong> to <a href=\"https://wandb.ai/manishiitm/CS6910_Assignment2B\" target=\"_blank\">Weights & Biases</a> (<a href=\"https://wandb.me/run\" target=\"_blank\">docs</a>)<br/>Sweep page:  <a href=\"https://wandb.ai/manishiitm/CS6910_Assignment2B/sweeps/05k4rflm\" target=\"_blank\">https://wandb.ai/manishiitm/CS6910_Assignment2B/sweeps/05k4rflm</a>"
            ],
            "text/plain": [
              "<IPython.core.display.HTML object>"
            ]
          },
          "metadata": {},
          "output_type": "display_data"
        },
        {
          "metadata": {
            "tags": null
          },
          "name": "stderr",
          "output_type": "stream",
          "text": [
            "\u001b[34m\u001b[1mwandb\u001b[0m: \u001b[33mWARNING\u001b[0m Ignored wandb.init() arg project when running a sweep.\n"
          ]
        },
        {
          "data": {
            "text/html": [
              "Finishing last run (ID:no1i48er) before initializing another..."
            ],
            "text/plain": [
              "<IPython.core.display.HTML object>"
            ]
          },
          "metadata": {},
          "output_type": "display_data"
        },
        {
          "metadata": {
            "tags": null
          },
          "name": "stdout",
          "output_type": "stream",
          "text": [
            "\n"
          ]
        },
        {
          "data": {
            "text/html": [
              "Waiting for W&B process to finish... <strong style=\"color:green\">(success).</strong>"
            ],
            "text/plain": [
              "<IPython.core.display.HTML object>"
            ]
          },
          "metadata": {},
          "output_type": "display_data"
        },
        {
          "data": {
            "application/vnd.jupyter.widget-view+json": {
              "model_id": "47acfb69f83042168bdf7f90155e51bc",
              "version_major": 2,
              "version_minor": 0
            },
            "text/plain": [
              "VBox(children=(Label(value='0.001 MB of 0.001 MB uploaded (0.000 MB deduped)\\r'), FloatProgress(value=1.0, max…"
            ]
          },
          "metadata": {},
          "output_type": "display_data"
        },
        {
          "data": {
            "text/html": [
              "Synced <strong style=\"color:#cdcd00\">fresh-sweep-1</strong>: <a href=\"https://wandb.ai/manishiitm/CS6910_Assignment2B/runs/no1i48er\" target=\"_blank\">https://wandb.ai/manishiitm/CS6910_Assignment2B/runs/no1i48er</a><br/>Synced 5 W&B file(s), 0 media file(s), 0 artifact file(s) and 0 other file(s)"
            ],
            "text/plain": [
              "<IPython.core.display.HTML object>"
            ]
          },
          "metadata": {},
          "output_type": "display_data"
        },
        {
          "data": {
            "text/html": [
              "Find logs at: <code>./wandb/run-20220404_121402-no1i48er/logs</code>"
            ],
            "text/plain": [
              "<IPython.core.display.HTML object>"
            ]
          },
          "metadata": {},
          "output_type": "display_data"
        },
        {
          "data": {
            "text/html": [
              "Successfully finished last run (ID:no1i48er). Initializing new run:<br/>"
            ],
            "text/plain": [
              "<IPython.core.display.HTML object>"
            ]
          },
          "metadata": {},
          "output_type": "display_data"
        },
        {
          "data": {
            "text/html": [
              "Tracking run with wandb version 0.12.11"
            ],
            "text/plain": [
              "<IPython.core.display.HTML object>"
            ]
          },
          "metadata": {},
          "output_type": "display_data"
        },
        {
          "data": {
            "text/html": [
              "Run data is saved locally in <code>/content/wandb/run-20220404_121408-no1i48er</code>"
            ],
            "text/plain": [
              "<IPython.core.display.HTML object>"
            ]
          },
          "metadata": {},
          "output_type": "display_data"
        },
        {
          "data": {
            "text/html": [
              "Syncing run <strong><a href=\"https://wandb.ai/manishiitm/CS6910_Assignment2B/runs/no1i48er\" target=\"_blank\">fresh-sweep-1</a></strong> to <a href=\"https://wandb.ai/manishiitm/CS6910_Assignment2B\" target=\"_blank\">Weights & Biases</a> (<a href=\"https://wandb.me/run\" target=\"_blank\">docs</a>)<br/>Sweep page:  <a href=\"https://wandb.ai/manishiitm/CS6910_Assignment2B/sweeps/05k4rflm\" target=\"_blank\">https://wandb.ai/manishiitm/CS6910_Assignment2B/sweeps/05k4rflm</a>"
            ],
            "text/plain": [
              "<IPython.core.display.HTML object>"
            ]
          },
          "metadata": {},
          "output_type": "display_data"
        },
        {
          "metadata": {
            "tags": null
          },
          "name": "stdout",
          "output_type": "stream",
          "text": [
            "#############\n",
            "1. Loading the dataset ...\n",
            "\n",
            "Found 9999 images belonging to 10 classes.\n",
            "Found 2000 images belonging to 10 classes.\n",
            "Downloading data from https://storage.googleapis.com/tensorflow/keras-applications/resnet/resnet50_weights_tf_dim_ordering_tf_kernels_notop.h5\n",
            "94773248/94765736 [==============================] - 0s 0us/step\n",
            "94781440/94765736 [==============================] - 0s 0us/step\n",
            "Total layers in base model is 8\n",
            "\n",
            "yehi h4\n",
            "Fine tuning the model ...\n",
            "\n",
            "Epoch 1/10\n",
            "79/79 [==============================] - 269s 3s/step - loss: 2.4020 - accuracy: 0.1073 - val_loss: 2.2753 - val_accuracy: 0.1290 - _timestamp: 1649074734.0000 - _runtime: 281.0000\n",
            "Epoch 2/10\n",
            "79/79 [==============================] - 236s 3s/step - loss: 2.3372 - accuracy: 0.1196 - val_loss: 2.2632 - val_accuracy: 0.1605 - _timestamp: 1649074971.0000 - _runtime: 518.0000\n",
            "Epoch 3/10\n",
            "79/79 [==============================] - 228s 3s/step - loss: 2.3035 - accuracy: 0.1234 - val_loss: 2.2560 - val_accuracy: 0.1560 - _timestamp: 1649075199.0000 - _runtime: 746.0000\n",
            "Epoch 4/10\n",
            "79/79 [==============================] - 230s 3s/step - loss: 2.2854 - accuracy: 0.1333 - val_loss: 2.2569 - val_accuracy: 0.1455 - _timestamp: 1649075430.0000 - _runtime: 977.0000\n",
            "Epoch 5/10\n",
            "79/79 [==============================] - 231s 3s/step - loss: 2.2784 - accuracy: 0.1417 - val_loss: 2.2481 - val_accuracy: 0.1680 - _timestamp: 1649075660.0000 - _runtime: 1207.0000\n",
            "Epoch 6/10\n",
            "79/79 [==============================] - 229s 3s/step - loss: 2.2742 - accuracy: 0.1368 - val_loss: 2.2451 - val_accuracy: 0.1740 - _timestamp: 1649075920.0000 - _runtime: 1467.0000\n",
            "Epoch 7/10\n",
            "79/79 [==============================] - 226s 3s/step - loss: 2.2671 - accuracy: 0.1438 - val_loss: 2.2388 - val_accuracy: 0.1785 - _timestamp: 1649076147.0000 - _runtime: 1694.0000\n",
            "Epoch 8/10\n",
            "79/79 [==============================] - 228s 3s/step - loss: 2.2681 - accuracy: 0.1442 - val_loss: 2.2377 - val_accuracy: 0.1865 - _timestamp: 1649076375.0000 - _runtime: 1922.0000\n",
            "Epoch 9/10\n",
            "79/79 [==============================] - 230s 3s/step - loss: 2.2605 - accuracy: 0.1501 - val_loss: 2.2316 - val_accuracy: 0.1815 - _timestamp: 1649076606.0000 - _runtime: 2153.0000\n",
            "Epoch 10/10\n",
            "79/79 [==============================] - 227s 3s/step - loss: 2.2543 - accuracy: 0.1555 - val_loss: 2.2316 - val_accuracy: 0.1805 - _timestamp: 1649076834.0000 - _runtime: 2381.0000\n",
            "Model tuned successfully!!\n",
            "\n",
            "\n"
          ]
        },
        {
          "data": {
            "text/html": [
              "Waiting for W&B process to finish... <strong style=\"color:green\">(success).</strong>"
            ],
            "text/plain": [
              "<IPython.core.display.HTML object>"
            ]
          },
          "metadata": {},
          "output_type": "display_data"
        },
        {
          "data": {
            "application/vnd.jupyter.widget-view+json": {
              "model_id": "50f0af03e91448d79ef7a5028d99d7a4",
              "version_major": 2,
              "version_minor": 0
            },
            "text/plain": [
              "VBox(children=(Label(value='289.907 MB of 289.907 MB uploaded (0.000 MB deduped)\\r'), FloatProgress(value=1.0,…"
            ]
          },
          "metadata": {},
          "output_type": "display_data"
        },
        {
          "data": {
            "text/html": [
              "<style>\n",
              "    table.wandb td:nth-child(1) { padding: 0 10px; text-align: right }\n",
              "    .wandb-row { display: flex; flex-direction: row; flex-wrap: wrap; width: 100% }\n",
              "    .wandb-col { display: flex; flex-direction: column; flex-basis: 100%; flex: 1; padding: 10px; }\n",
              "    </style>\n",
              "<div class=\"wandb-row\"><div class=\"wandb-col\"><h3>Run history:</h3><br/><table class=\"wandb\"><tr><td>accuracy</td><td>▁▃▃▅▆▅▆▆▇█</td></tr><tr><td>epoch</td><td>▁▂▃▃▄▅▆▆▇█</td></tr><tr><td>loss</td><td>█▅▃▂▂▂▂▂▁▁</td></tr><tr><td>val_accuracy</td><td>▁▅▄▃▆▆▇█▇▇</td></tr><tr><td>val_loss</td><td>█▆▅▅▄▃▂▂▁▁</td></tr></table><br/></div><div class=\"wandb-col\"><h3>Run summary:</h3><br/><table class=\"wandb\"><tr><td>accuracy</td><td>0.15552</td></tr><tr><td>best_epoch</td><td>8</td></tr><tr><td>best_val_loss</td><td>2.23159</td></tr><tr><td>epoch</td><td>9</td></tr><tr><td>loss</td><td>2.25425</td></tr><tr><td>val_accuracy</td><td>0.1805</td></tr><tr><td>val_loss</td><td>2.23164</td></tr></table><br/></div></div>"
            ],
            "text/plain": [
              "<IPython.core.display.HTML object>"
            ]
          },
          "metadata": {},
          "output_type": "display_data"
        },
        {
          "data": {
            "text/html": [
              "Synced <strong style=\"color:#cdcd00\">fresh-sweep-1</strong>: <a href=\"https://wandb.ai/manishiitm/CS6910_Assignment2B/runs/no1i48er\" target=\"_blank\">https://wandb.ai/manishiitm/CS6910_Assignment2B/runs/no1i48er</a><br/>Synced 5 W&B file(s), 1 media file(s), 0 artifact file(s) and 3 other file(s)"
            ],
            "text/plain": [
              "<IPython.core.display.HTML object>"
            ]
          },
          "metadata": {},
          "output_type": "display_data"
        },
        {
          "data": {
            "text/html": [
              "Find logs at: <code>./wandb/run-20220404_121408-no1i48er/logs</code>"
            ],
            "text/plain": [
              "<IPython.core.display.HTML object>"
            ]
          },
          "metadata": {},
          "output_type": "display_data"
        },
        {
          "metadata": {
            "tags": null
          },
          "name": "stderr",
          "output_type": "stream",
          "text": [
            "\u001b[34m\u001b[1mwandb\u001b[0m: Agent Starting Run: w1dhjer4 with config:\n",
            "\u001b[34m\u001b[1mwandb\u001b[0m: \taugment_data: True\n",
            "\u001b[34m\u001b[1mwandb\u001b[0m: \tbase_model: InceptionV3\n",
            "\u001b[34m\u001b[1mwandb\u001b[0m: \tbatch_normalisation: True\n",
            "\u001b[34m\u001b[1mwandb\u001b[0m: \tdense_Size: 128\n",
            "\u001b[34m\u001b[1mwandb\u001b[0m: \tdropout: 0.37\n",
            "\u001b[34m\u001b[1mwandb\u001b[0m: \tepochs: 5\n",
            "\u001b[34m\u001b[1mwandb\u001b[0m: \tlr: 7e-05\n"
          ]
        },
        {
          "metadata": {
            "tags": null
          },
          "name": "stdout",
          "output_type": "stream",
          "text": [
            "#############\n"
          ]
        },
        {
          "metadata": {
            "tags": null
          },
          "name": "stderr",
          "output_type": "stream",
          "text": [
            "\u001b[34m\u001b[1mwandb\u001b[0m: \u001b[33mWARNING\u001b[0m Ignored wandb.init() arg project when running a sweep.\n"
          ]
        },
        {
          "data": {
            "text/html": [
              "Tracking run with wandb version 0.12.11"
            ],
            "text/plain": [
              "<IPython.core.display.HTML object>"
            ]
          },
          "metadata": {},
          "output_type": "display_data"
        },
        {
          "data": {
            "text/html": [
              "Run data is saved locally in <code>/content/wandb/run-20220404_125407-w1dhjer4</code>"
            ],
            "text/plain": [
              "<IPython.core.display.HTML object>"
            ]
          },
          "metadata": {},
          "output_type": "display_data"
        },
        {
          "data": {
            "text/html": [
              "Syncing run <strong><a href=\"https://wandb.ai/manishiitm/CS6910_Assignment2B/runs/w1dhjer4\" target=\"_blank\">kind-sweep-2</a></strong> to <a href=\"https://wandb.ai/manishiitm/CS6910_Assignment2B\" target=\"_blank\">Weights & Biases</a> (<a href=\"https://wandb.me/run\" target=\"_blank\">docs</a>)<br/>Sweep page:  <a href=\"https://wandb.ai/manishiitm/CS6910_Assignment2B/sweeps/05k4rflm\" target=\"_blank\">https://wandb.ai/manishiitm/CS6910_Assignment2B/sweeps/05k4rflm</a>"
            ],
            "text/plain": [
              "<IPython.core.display.HTML object>"
            ]
          },
          "metadata": {},
          "output_type": "display_data"
        },
        {
          "metadata": {
            "tags": null
          },
          "name": "stdout",
          "output_type": "stream",
          "text": [
            "#############\n",
            "1. Loading the dataset ...\n",
            "\n",
            "Found 9999 images belonging to 10 classes.\n",
            "Found 2000 images belonging to 10 classes.\n",
            "Downloading data from https://storage.googleapis.com/tensorflow/keras-applications/inception_v3/inception_v3_weights_tf_dim_ordering_tf_kernels_notop.h5\n",
            "87916544/87910968 [==============================] - 1s 0us/step\n",
            "87924736/87910968 [==============================] - 1s 0us/step\n",
            "Total layers in base model is 8\n",
            "\n",
            "yehi h4\n",
            "Fine tuning the model ...\n",
            "\n",
            "Epoch 1/5\n",
            "79/79 [==============================] - 321s 4s/step - loss: 2.7395 - accuracy: 0.1031 - val_loss: 2.4001 - val_accuracy: 0.0940 - _timestamp: 1649077182.0000 - _runtime: 335.0000\n",
            "Epoch 2/5\n",
            "79/79 [==============================] - 307s 4s/step - loss: 2.6238 - accuracy: 0.1017 - val_loss: 2.3470 - val_accuracy: 0.1005 - _timestamp: 1649077488.0000 - _runtime: 641.0000\n",
            "Epoch 3/5\n",
            "79/79 [==============================] - 305s 4s/step - loss: 2.5512 - accuracy: 0.1111 - val_loss: 2.3081 - val_accuracy: 0.1185 - _timestamp: 1649077793.0000 - _runtime: 946.0000\n",
            "Epoch 4/5\n",
            "79/79 [==============================] - 304s 4s/step - loss: 2.5078 - accuracy: 0.1116 - val_loss: 2.2785 - val_accuracy: 0.1385 - _timestamp: 1649078097.0000 - _runtime: 1250.0000\n",
            "Epoch 5/5\n",
            "79/79 [==============================] - 303s 4s/step - loss: 2.4508 - accuracy: 0.1236 - val_loss: 2.2532 - val_accuracy: 0.1600 - _timestamp: 1649078400.0000 - _runtime: 1553.0000\n",
            "Model tuned successfully!!\n",
            "\n",
            "\n"
          ]
        },
        {
          "data": {
            "text/html": [
              "Waiting for W&B process to finish... <strong style=\"color:green\">(success).</strong>"
            ],
            "text/plain": [
              "<IPython.core.display.HTML object>"
            ]
          },
          "metadata": {},
          "output_type": "display_data"
        },
        {
          "data": {
            "application/vnd.jupyter.widget-view+json": {
              "model_id": "9f8a7b8b08c642ed977a4a7d58d63609",
              "version_major": 2,
              "version_minor": 0
            },
            "text/plain": [
              "VBox(children=(Label(value='148.646 MB of 148.646 MB uploaded (0.000 MB deduped)\\r'), FloatProgress(value=1.0,…"
            ]
          },
          "metadata": {},
          "output_type": "display_data"
        },
        {
          "data": {
            "text/html": [
              "<style>\n",
              "    table.wandb td:nth-child(1) { padding: 0 10px; text-align: right }\n",
              "    .wandb-row { display: flex; flex-direction: row; flex-wrap: wrap; width: 100% }\n",
              "    .wandb-col { display: flex; flex-direction: column; flex-basis: 100%; flex: 1; padding: 10px; }\n",
              "    </style>\n",
              "<div class=\"wandb-row\"><div class=\"wandb-col\"><h3>Run history:</h3><br/><table class=\"wandb\"><tr><td>accuracy</td><td>▁▁▄▄█</td></tr><tr><td>epoch</td><td>▁▃▅▆█</td></tr><tr><td>loss</td><td>█▅▃▂▁</td></tr><tr><td>val_accuracy</td><td>▁▂▄▆█</td></tr><tr><td>val_loss</td><td>█▅▄▂▁</td></tr></table><br/></div><div class=\"wandb-col\"><h3>Run summary:</h3><br/><table class=\"wandb\"><tr><td>accuracy</td><td>0.12361</td></tr><tr><td>best_epoch</td><td>4</td></tr><tr><td>best_val_loss</td><td>2.25321</td></tr><tr><td>epoch</td><td>4</td></tr><tr><td>loss</td><td>2.45076</td></tr><tr><td>val_accuracy</td><td>0.16</td></tr><tr><td>val_loss</td><td>2.25321</td></tr></table><br/></div></div>"
            ],
            "text/plain": [
              "<IPython.core.display.HTML object>"
            ]
          },
          "metadata": {},
          "output_type": "display_data"
        },
        {
          "data": {
            "text/html": [
              "Synced <strong style=\"color:#cdcd00\">kind-sweep-2</strong>: <a href=\"https://wandb.ai/manishiitm/CS6910_Assignment2B/runs/w1dhjer4\" target=\"_blank\">https://wandb.ai/manishiitm/CS6910_Assignment2B/runs/w1dhjer4</a><br/>Synced 5 W&B file(s), 1 media file(s), 0 artifact file(s) and 3 other file(s)"
            ],
            "text/plain": [
              "<IPython.core.display.HTML object>"
            ]
          },
          "metadata": {},
          "output_type": "display_data"
        },
        {
          "data": {
            "text/html": [
              "Find logs at: <code>./wandb/run-20220404_125407-w1dhjer4/logs</code>"
            ],
            "text/plain": [
              "<IPython.core.display.HTML object>"
            ]
          },
          "metadata": {},
          "output_type": "display_data"
        },
        {
          "metadata": {
            "tags": null
          },
          "name": "stderr",
          "output_type": "stream",
          "text": [
            "\u001b[34m\u001b[1mwandb\u001b[0m: Agent Starting Run: njj6yjhp with config:\n",
            "\u001b[34m\u001b[1mwandb\u001b[0m: \taugment_data: True\n",
            "\u001b[34m\u001b[1mwandb\u001b[0m: \tbase_model: InceptionV3\n",
            "\u001b[34m\u001b[1mwandb\u001b[0m: \tbatch_normalisation: True\n",
            "\u001b[34m\u001b[1mwandb\u001b[0m: \tdense_Size: 512\n",
            "\u001b[34m\u001b[1mwandb\u001b[0m: \tdropout: 0.37\n",
            "\u001b[34m\u001b[1mwandb\u001b[0m: \tepochs: 10\n",
            "\u001b[34m\u001b[1mwandb\u001b[0m: \tlr: 7e-05\n"
          ]
        },
        {
          "metadata": {
            "tags": null
          },
          "name": "stdout",
          "output_type": "stream",
          "text": [
            "#############\n"
          ]
        },
        {
          "metadata": {
            "tags": null
          },
          "name": "stderr",
          "output_type": "stream",
          "text": [
            "\u001b[34m\u001b[1mwandb\u001b[0m: \u001b[33mWARNING\u001b[0m Ignored wandb.init() arg project when running a sweep.\n"
          ]
        },
        {
          "data": {
            "text/html": [
              "Tracking run with wandb version 0.12.11"
            ],
            "text/plain": [
              "<IPython.core.display.HTML object>"
            ]
          },
          "metadata": {},
          "output_type": "display_data"
        },
        {
          "data": {
            "text/html": [
              "Run data is saved locally in <code>/content/wandb/run-20220404_132030-njj6yjhp</code>"
            ],
            "text/plain": [
              "<IPython.core.display.HTML object>"
            ]
          },
          "metadata": {},
          "output_type": "display_data"
        },
        {
          "data": {
            "text/html": [
              "Syncing run <strong><a href=\"https://wandb.ai/manishiitm/CS6910_Assignment2B/runs/njj6yjhp\" target=\"_blank\">legendary-sweep-3</a></strong> to <a href=\"https://wandb.ai/manishiitm/CS6910_Assignment2B\" target=\"_blank\">Weights & Biases</a> (<a href=\"https://wandb.me/run\" target=\"_blank\">docs</a>)<br/>Sweep page:  <a href=\"https://wandb.ai/manishiitm/CS6910_Assignment2B/sweeps/05k4rflm\" target=\"_blank\">https://wandb.ai/manishiitm/CS6910_Assignment2B/sweeps/05k4rflm</a>"
            ],
            "text/plain": [
              "<IPython.core.display.HTML object>"
            ]
          },
          "metadata": {},
          "output_type": "display_data"
        },
        {
          "metadata": {
            "tags": null
          },
          "name": "stdout",
          "output_type": "stream",
          "text": [
            "#############\n",
            "1. Loading the dataset ...\n",
            "\n",
            "Found 9999 images belonging to 10 classes.\n",
            "Found 2000 images belonging to 10 classes.\n",
            "Total layers in base model is 8\n",
            "\n",
            "yehi h4\n",
            "Fine tuning the model ...\n",
            "\n",
            "Epoch 1/10\n",
            "79/79 [==============================] - 308s 4s/step - loss: 2.6610 - accuracy: 0.1239 - val_loss: 2.1930 - val_accuracy: 0.2185 - _timestamp: 1649078748.0000 - _runtime: 318.0000\n",
            "Epoch 2/10\n",
            "79/79 [==============================] - 304s 4s/step - loss: 2.3775 - accuracy: 0.1807 - val_loss: 2.0056 - val_accuracy: 0.3615 - _timestamp: 1649079068.0000 - _runtime: 638.0000\n",
            "Epoch 3/10\n",
            "79/79 [==============================] - 304s 4s/step - loss: 2.1838 - accuracy: 0.2466 - val_loss: 1.8606 - val_accuracy: 0.4660 - _timestamp: 1649079374.0000 - _runtime: 944.0000\n",
            "Epoch 4/10\n",
            "79/79 [==============================] - 303s 4s/step - loss: 2.0677 - accuracy: 0.2984 - val_loss: 1.7435 - val_accuracy: 0.5265 - _timestamp: 1649079677.0000 - _runtime: 1247.0000\n",
            "Epoch 5/10\n",
            "79/79 [==============================] - 302s 4s/step - loss: 1.9729 - accuracy: 0.3385 - val_loss: 1.6368 - val_accuracy: 0.5695 - _timestamp: 1649079998.0000 - _runtime: 1568.0000\n",
            "Epoch 6/10\n",
            "79/79 [==============================] - 321s 4s/step - loss: 1.8775 - accuracy: 0.3763 - val_loss: 1.5459 - val_accuracy: 0.6020 - _timestamp: 1649080319.0000 - _runtime: 1889.0000\n",
            "Epoch 7/10\n",
            "79/79 [==============================] - 304s 4s/step - loss: 1.8142 - accuracy: 0.4083 - val_loss: 1.4535 - val_accuracy: 0.6370 - _timestamp: 1649080624.0000 - _runtime: 2194.0000\n",
            "Epoch 8/10\n",
            "79/79 [==============================] - 304s 4s/step - loss: 1.7521 - accuracy: 0.4373 - val_loss: 1.3853 - val_accuracy: 0.6490 - _timestamp: 1649080928.0000 - _runtime: 2498.0000\n",
            "Epoch 9/10\n",
            "79/79 [==============================] - 305s 4s/step - loss: 1.7314 - accuracy: 0.4419 - val_loss: 1.3298 - val_accuracy: 0.6645 - _timestamp: 1649081232.0000 - _runtime: 2802.0000\n",
            "Epoch 10/10\n",
            "79/79 [==============================] - 305s 4s/step - loss: 1.6644 - accuracy: 0.4678 - val_loss: 1.2722 - val_accuracy: 0.6765 - _timestamp: 1649081537.0000 - _runtime: 3107.0000\n",
            "Model tuned successfully!!\n",
            "\n",
            "\n"
          ]
        },
        {
          "data": {
            "text/html": [
              "Waiting for W&B process to finish... <strong style=\"color:green\">(success).</strong>"
            ],
            "text/plain": [
              "<IPython.core.display.HTML object>"
            ]
          },
          "metadata": {},
          "output_type": "display_data"
        },
        {
          "data": {
            "application/vnd.jupyter.widget-view+json": {
              "model_id": "2dd6de1735e449b1ab2e099f20fba150",
              "version_major": 2,
              "version_minor": 0
            },
            "text/plain": [
              "VBox(children=(Label(value='343.515 MB of 343.515 MB uploaded (0.000 MB deduped)\\r'), FloatProgress(value=1.0,…"
            ]
          },
          "metadata": {},
          "output_type": "display_data"
        },
        {
          "data": {
            "text/html": [
              "<style>\n",
              "    table.wandb td:nth-child(1) { padding: 0 10px; text-align: right }\n",
              "    .wandb-row { display: flex; flex-direction: row; flex-wrap: wrap; width: 100% }\n",
              "    .wandb-col { display: flex; flex-direction: column; flex-basis: 100%; flex: 1; padding: 10px; }\n",
              "    </style>\n",
              "<div class=\"wandb-row\"><div class=\"wandb-col\"><h3>Run history:</h3><br/><table class=\"wandb\"><tr><td>accuracy</td><td>▁▂▃▅▅▆▇▇▇█</td></tr><tr><td>epoch</td><td>▁▂▃▃▄▅▆▆▇█</td></tr><tr><td>loss</td><td>█▆▅▄▃▂▂▂▁▁</td></tr><tr><td>val_accuracy</td><td>▁▃▅▆▆▇▇███</td></tr><tr><td>val_loss</td><td>█▇▅▅▄▃▂▂▁▁</td></tr></table><br/></div><div class=\"wandb-col\"><h3>Run summary:</h3><br/><table class=\"wandb\"><tr><td>accuracy</td><td>0.46785</td></tr><tr><td>best_epoch</td><td>9</td></tr><tr><td>best_val_loss</td><td>1.27218</td></tr><tr><td>epoch</td><td>9</td></tr><tr><td>loss</td><td>1.66437</td></tr><tr><td>val_accuracy</td><td>0.6765</td></tr><tr><td>val_loss</td><td>1.27218</td></tr></table><br/></div></div>"
            ],
            "text/plain": [
              "<IPython.core.display.HTML object>"
            ]
          },
          "metadata": {},
          "output_type": "display_data"
        },
        {
          "data": {
            "text/html": [
              "Synced <strong style=\"color:#cdcd00\">legendary-sweep-3</strong>: <a href=\"https://wandb.ai/manishiitm/CS6910_Assignment2B/runs/njj6yjhp\" target=\"_blank\">https://wandb.ai/manishiitm/CS6910_Assignment2B/runs/njj6yjhp</a><br/>Synced 5 W&B file(s), 1 media file(s), 0 artifact file(s) and 3 other file(s)"
            ],
            "text/plain": [
              "<IPython.core.display.HTML object>"
            ]
          },
          "metadata": {},
          "output_type": "display_data"
        },
        {
          "data": {
            "text/html": [
              "Find logs at: <code>./wandb/run-20220404_132030-njj6yjhp/logs</code>"
            ],
            "text/plain": [
              "<IPython.core.display.HTML object>"
            ]
          },
          "metadata": {},
          "output_type": "display_data"
        },
        {
          "metadata": {
            "tags": null
          },
          "name": "stderr",
          "output_type": "stream",
          "text": [
            "\u001b[34m\u001b[1mwandb\u001b[0m: Agent Starting Run: 2wp7kddi with config:\n",
            "\u001b[34m\u001b[1mwandb\u001b[0m: \taugment_data: True\n",
            "\u001b[34m\u001b[1mwandb\u001b[0m: \tbase_model: InceptionV3\n",
            "\u001b[34m\u001b[1mwandb\u001b[0m: \tbatch_normalisation: False\n",
            "\u001b[34m\u001b[1mwandb\u001b[0m: \tdense_Size: 128\n",
            "\u001b[34m\u001b[1mwandb\u001b[0m: \tdropout: 0.37\n",
            "\u001b[34m\u001b[1mwandb\u001b[0m: \tepochs: 5\n",
            "\u001b[34m\u001b[1mwandb\u001b[0m: \tlr: 7e-05\n"
          ]
        },
        {
          "metadata": {
            "tags": null
          },
          "name": "stdout",
          "output_type": "stream",
          "text": [
            "#############\n"
          ]
        },
        {
          "metadata": {
            "tags": null
          },
          "name": "stderr",
          "output_type": "stream",
          "text": [
            "\u001b[34m\u001b[1mwandb\u001b[0m: \u001b[33mWARNING\u001b[0m Ignored wandb.init() arg project when running a sweep.\n"
          ]
        },
        {
          "data": {
            "text/html": [
              "Tracking run with wandb version 0.12.11"
            ],
            "text/plain": [
              "<IPython.core.display.HTML object>"
            ]
          },
          "metadata": {},
          "output_type": "display_data"
        },
        {
          "data": {
            "text/html": [
              "Run data is saved locally in <code>/content/wandb/run-20220404_141232-2wp7kddi</code>"
            ],
            "text/plain": [
              "<IPython.core.display.HTML object>"
            ]
          },
          "metadata": {},
          "output_type": "display_data"
        },
        {
          "data": {
            "text/html": [
              "Syncing run <strong><a href=\"https://wandb.ai/manishiitm/CS6910_Assignment2B/runs/2wp7kddi\" target=\"_blank\">solar-sweep-4</a></strong> to <a href=\"https://wandb.ai/manishiitm/CS6910_Assignment2B\" target=\"_blank\">Weights & Biases</a> (<a href=\"https://wandb.me/run\" target=\"_blank\">docs</a>)<br/>Sweep page:  <a href=\"https://wandb.ai/manishiitm/CS6910_Assignment2B/sweeps/05k4rflm\" target=\"_blank\">https://wandb.ai/manishiitm/CS6910_Assignment2B/sweeps/05k4rflm</a>"
            ],
            "text/plain": [
              "<IPython.core.display.HTML object>"
            ]
          },
          "metadata": {},
          "output_type": "display_data"
        },
        {
          "metadata": {
            "tags": null
          },
          "name": "stdout",
          "output_type": "stream",
          "text": [
            "#############\n",
            "1. Loading the dataset ...\n",
            "\n",
            "Found 9999 images belonging to 10 classes.\n",
            "Found 2000 images belonging to 10 classes.\n",
            "Total layers in base model is 7\n",
            "\n",
            "yehi h4\n",
            "Fine tuning the model ...\n",
            "\n",
            "Epoch 1/5\n",
            "79/79 [==============================] - 310s 4s/step - loss: 2.8969 - accuracy: 0.1021 - val_loss: 2.4228 - val_accuracy: 0.1200 - _timestamp: 1649081873.0000 - _runtime: 321.0000\n",
            "Epoch 2/5\n",
            "79/79 [==============================] - 302s 4s/step - loss: 2.7261 - accuracy: 0.1104 - val_loss: 2.3394 - val_accuracy: 0.1370 - _timestamp: 1649082175.0000 - _runtime: 623.0000\n",
            "Epoch 3/5\n",
            "79/79 [==============================] - 302s 4s/step - loss: 2.6273 - accuracy: 0.1162 - val_loss: 2.2916 - val_accuracy: 0.1585 - _timestamp: 1649082477.0000 - _runtime: 925.0000\n",
            "Epoch 4/5\n",
            "79/79 [==============================] - 302s 4s/step - loss: 2.5664 - accuracy: 0.1160 - val_loss: 2.2602 - val_accuracy: 0.1775 - _timestamp: 1649082779.0000 - _runtime: 1227.0000\n",
            "Epoch 5/5\n",
            "79/79 [==============================] - 301s 4s/step - loss: 2.5082 - accuracy: 0.1264 - val_loss: 2.2316 - val_accuracy: 0.1985 - _timestamp: 1649083081.0000 - _runtime: 1529.0000\n",
            "Model tuned successfully!!\n",
            "\n",
            "\n"
          ]
        },
        {
          "data": {
            "text/html": [
              "Waiting for W&B process to finish... <strong style=\"color:green\">(success).</strong>"
            ],
            "text/plain": [
              "<IPython.core.display.HTML object>"
            ]
          },
          "metadata": {},
          "output_type": "display_data"
        },
        {
          "data": {
            "application/vnd.jupyter.widget-view+json": {
              "model_id": "fe90317cf4dd4d63a51696f01a547f67",
              "version_major": 2,
              "version_minor": 0
            },
            "text/plain": [
              "VBox(children=(Label(value='148.627 MB of 148.627 MB uploaded (0.000 MB deduped)\\r'), FloatProgress(value=1.0,…"
            ]
          },
          "metadata": {},
          "output_type": "display_data"
        },
        {
          "data": {
            "text/html": [
              "<style>\n",
              "    table.wandb td:nth-child(1) { padding: 0 10px; text-align: right }\n",
              "    .wandb-row { display: flex; flex-direction: row; flex-wrap: wrap; width: 100% }\n",
              "    .wandb-col { display: flex; flex-direction: column; flex-basis: 100%; flex: 1; padding: 10px; }\n",
              "    </style>\n",
              "<div class=\"wandb-row\"><div class=\"wandb-col\"><h3>Run history:</h3><br/><table class=\"wandb\"><tr><td>accuracy</td><td>▁▃▅▅█</td></tr><tr><td>epoch</td><td>▁▃▅▆█</td></tr><tr><td>loss</td><td>█▅▃▂▁</td></tr><tr><td>val_accuracy</td><td>▁▃▄▆█</td></tr><tr><td>val_loss</td><td>█▅▃▂▁</td></tr></table><br/></div><div class=\"wandb-col\"><h3>Run summary:</h3><br/><table class=\"wandb\"><tr><td>accuracy</td><td>0.12641</td></tr><tr><td>best_epoch</td><td>4</td></tr><tr><td>best_val_loss</td><td>2.23159</td></tr><tr><td>epoch</td><td>4</td></tr><tr><td>loss</td><td>2.50816</td></tr><tr><td>val_accuracy</td><td>0.1985</td></tr><tr><td>val_loss</td><td>2.23159</td></tr></table><br/></div></div>"
            ],
            "text/plain": [
              "<IPython.core.display.HTML object>"
            ]
          },
          "metadata": {},
          "output_type": "display_data"
        },
        {
          "data": {
            "text/html": [
              "Synced <strong style=\"color:#cdcd00\">solar-sweep-4</strong>: <a href=\"https://wandb.ai/manishiitm/CS6910_Assignment2B/runs/2wp7kddi\" target=\"_blank\">https://wandb.ai/manishiitm/CS6910_Assignment2B/runs/2wp7kddi</a><br/>Synced 5 W&B file(s), 1 media file(s), 0 artifact file(s) and 3 other file(s)"
            ],
            "text/plain": [
              "<IPython.core.display.HTML object>"
            ]
          },
          "metadata": {},
          "output_type": "display_data"
        },
        {
          "data": {
            "text/html": [
              "Find logs at: <code>./wandb/run-20220404_141232-2wp7kddi/logs</code>"
            ],
            "text/plain": [
              "<IPython.core.display.HTML object>"
            ]
          },
          "metadata": {},
          "output_type": "display_data"
        },
        {
          "metadata": {
            "tags": null
          },
          "name": "stderr",
          "output_type": "stream",
          "text": [
            "\u001b[34m\u001b[1mwandb\u001b[0m: Agent Starting Run: 0cdpvuru with config:\n",
            "\u001b[34m\u001b[1mwandb\u001b[0m: \taugment_data: False\n",
            "\u001b[34m\u001b[1mwandb\u001b[0m: \tbase_model: ResNet50\n",
            "\u001b[34m\u001b[1mwandb\u001b[0m: \tbatch_normalisation: True\n",
            "\u001b[34m\u001b[1mwandb\u001b[0m: \tdense_Size: 512\n",
            "\u001b[34m\u001b[1mwandb\u001b[0m: \tdropout: 0.2\n",
            "\u001b[34m\u001b[1mwandb\u001b[0m: \tepochs: 10\n",
            "\u001b[34m\u001b[1mwandb\u001b[0m: \tlr: 0.0002\n"
          ]
        },
        {
          "metadata": {
            "tags": null
          },
          "name": "stdout",
          "output_type": "stream",
          "text": [
            "#############\n"
          ]
        },
        {
          "metadata": {
            "tags": null
          },
          "name": "stderr",
          "output_type": "stream",
          "text": [
            "\u001b[34m\u001b[1mwandb\u001b[0m: \u001b[33mWARNING\u001b[0m Ignored wandb.init() arg project when running a sweep.\n"
          ]
        },
        {
          "data": {
            "text/html": [
              "Tracking run with wandb version 0.12.11"
            ],
            "text/plain": [
              "<IPython.core.display.HTML object>"
            ]
          },
          "metadata": {},
          "output_type": "display_data"
        },
        {
          "data": {
            "text/html": [
              "Run data is saved locally in <code>/content/wandb/run-20220404_143814-0cdpvuru</code>"
            ],
            "text/plain": [
              "<IPython.core.display.HTML object>"
            ]
          },
          "metadata": {},
          "output_type": "display_data"
        },
        {
          "data": {
            "text/html": [
              "Syncing run <strong><a href=\"https://wandb.ai/manishiitm/CS6910_Assignment2B/runs/0cdpvuru\" target=\"_blank\">smart-sweep-5</a></strong> to <a href=\"https://wandb.ai/manishiitm/CS6910_Assignment2B\" target=\"_blank\">Weights & Biases</a> (<a href=\"https://wandb.me/run\" target=\"_blank\">docs</a>)<br/>Sweep page:  <a href=\"https://wandb.ai/manishiitm/CS6910_Assignment2B/sweeps/05k4rflm\" target=\"_blank\">https://wandb.ai/manishiitm/CS6910_Assignment2B/sweeps/05k4rflm</a>"
            ],
            "text/plain": [
              "<IPython.core.display.HTML object>"
            ]
          },
          "metadata": {},
          "output_type": "display_data"
        },
        {
          "metadata": {
            "tags": null
          },
          "name": "stdout",
          "output_type": "stream",
          "text": [
            "#############\n",
            "1. Loading the dataset ...\n",
            "\n",
            "Found 9999 images belonging to 10 classes.\n",
            "Found 2000 images belonging to 10 classes.\n",
            "Total layers in base model is 8\n",
            "\n",
            "yehi h4\n",
            "Fine tuning the model ...\n",
            "\n",
            "Epoch 1/10\n",
            "79/79 [==============================] - 145s 2s/step - loss: 2.4118 - accuracy: 0.1109 - val_loss: 2.2659 - val_accuracy: 0.1610 - _timestamp: 1649083247.0000 - _runtime: 152.0000\n",
            "Epoch 2/10\n",
            "79/79 [==============================] - 140s 2s/step - loss: 2.3227 - accuracy: 0.1244 - val_loss: 2.2586 - val_accuracy: 0.1490 - _timestamp: 1649083447.0000 - _runtime: 352.0000\n",
            "Epoch 3/10\n",
            "79/79 [==============================] - 140s 2s/step - loss: 2.2944 - accuracy: 0.1349 - val_loss: 2.2466 - val_accuracy: 0.1615 - _timestamp: 1649083588.0000 - _runtime: 493.0000\n",
            "Epoch 4/10\n",
            "79/79 [==============================] - 140s 2s/step - loss: 2.2764 - accuracy: 0.1398 - val_loss: 2.2380 - val_accuracy: 0.1790 - _timestamp: 1649083730.0000 - _runtime: 635.0000\n",
            "Epoch 5/10\n",
            "79/79 [==============================] - 140s 2s/step - loss: 2.2679 - accuracy: 0.1508 - val_loss: 2.2296 - val_accuracy: 0.1835 - _timestamp: 1649083869.0000 - _runtime: 774.0000\n",
            "Epoch 6/10\n",
            "79/79 [==============================] - 141s 2s/step - loss: 2.2561 - accuracy: 0.1539 - val_loss: 2.2244 - val_accuracy: 0.1925 - _timestamp: 1649084010.0000 - _runtime: 915.0000\n",
            "Epoch 7/10\n",
            "79/79 [==============================] - 139s 2s/step - loss: 2.2452 - accuracy: 0.1614 - val_loss: 2.2165 - val_accuracy: 0.2005 - _timestamp: 1649084149.0000 - _runtime: 1054.0000\n",
            "Epoch 8/10\n",
            "79/79 [==============================] - 139s 2s/step - loss: 2.2403 - accuracy: 0.1695 - val_loss: 2.2094 - val_accuracy: 0.2010 - _timestamp: 1649084288.0000 - _runtime: 1193.0000\n",
            "Epoch 9/10\n",
            "79/79 [==============================] - 139s 2s/step - loss: 2.2374 - accuracy: 0.1669 - val_loss: 2.2117 - val_accuracy: 0.1935 - _timestamp: 1649084427.0000 - _runtime: 1332.0000\n",
            "Epoch 10/10\n",
            "79/79 [==============================] - 139s 2s/step - loss: 2.2333 - accuracy: 0.1710 - val_loss: 2.2006 - val_accuracy: 0.1945 - _timestamp: 1649084565.0000 - _runtime: 1470.0000\n",
            "Model tuned successfully!!\n",
            "\n",
            "\n"
          ]
        },
        {
          "data": {
            "text/html": [
              "Waiting for W&B process to finish... <strong style=\"color:green\">(success).</strong>"
            ],
            "text/plain": [
              "<IPython.core.display.HTML object>"
            ]
          },
          "metadata": {},
          "output_type": "display_data"
        },
        {
          "data": {
            "application/vnd.jupyter.widget-view+json": {
              "model_id": "3e8f62b81d884642a4de2d8aa6f08f26",
              "version_major": 2,
              "version_minor": 0
            },
            "text/plain": [
              "VBox(children=(Label(value='289.908 MB of 289.908 MB uploaded (0.000 MB deduped)\\r'), FloatProgress(value=1.0,…"
            ]
          },
          "metadata": {},
          "output_type": "display_data"
        },
        {
          "data": {
            "text/html": [
              "<style>\n",
              "    table.wandb td:nth-child(1) { padding: 0 10px; text-align: right }\n",
              "    .wandb-row { display: flex; flex-direction: row; flex-wrap: wrap; width: 100% }\n",
              "    .wandb-col { display: flex; flex-direction: column; flex-basis: 100%; flex: 1; padding: 10px; }\n",
              "    </style>\n",
              "<div class=\"wandb-row\"><div class=\"wandb-col\"><h3>Run history:</h3><br/><table class=\"wandb\"><tr><td>accuracy</td><td>▁▃▄▄▆▆▇███</td></tr><tr><td>epoch</td><td>▁▂▃▃▄▅▆▆▇█</td></tr><tr><td>loss</td><td>█▅▃▃▂▂▁▁▁▁</td></tr><tr><td>val_accuracy</td><td>▃▁▃▅▆▇██▇▇</td></tr><tr><td>val_loss</td><td>█▇▆▅▄▄▃▂▂▁</td></tr></table><br/></div><div class=\"wandb-col\"><h3>Run summary:</h3><br/><table class=\"wandb\"><tr><td>accuracy</td><td>0.17102</td></tr><tr><td>best_epoch</td><td>9</td></tr><tr><td>best_val_loss</td><td>2.20058</td></tr><tr><td>epoch</td><td>9</td></tr><tr><td>loss</td><td>2.23328</td></tr><tr><td>val_accuracy</td><td>0.1945</td></tr><tr><td>val_loss</td><td>2.20058</td></tr></table><br/></div></div>"
            ],
            "text/plain": [
              "<IPython.core.display.HTML object>"
            ]
          },
          "metadata": {},
          "output_type": "display_data"
        },
        {
          "data": {
            "text/html": [
              "Synced <strong style=\"color:#cdcd00\">smart-sweep-5</strong>: <a href=\"https://wandb.ai/manishiitm/CS6910_Assignment2B/runs/0cdpvuru\" target=\"_blank\">https://wandb.ai/manishiitm/CS6910_Assignment2B/runs/0cdpvuru</a><br/>Synced 5 W&B file(s), 1 media file(s), 0 artifact file(s) and 3 other file(s)"
            ],
            "text/plain": [
              "<IPython.core.display.HTML object>"
            ]
          },
          "metadata": {},
          "output_type": "display_data"
        },
        {
          "data": {
            "text/html": [
              "Find logs at: <code>./wandb/run-20220404_143814-0cdpvuru/logs</code>"
            ],
            "text/plain": [
              "<IPython.core.display.HTML object>"
            ]
          },
          "metadata": {},
          "output_type": "display_data"
        },
        {
          "metadata": {
            "tags": null
          },
          "name": "stderr",
          "output_type": "stream",
          "text": [
            "\u001b[34m\u001b[1mwandb\u001b[0m: Agent Starting Run: tadttexc with config:\n",
            "\u001b[34m\u001b[1mwandb\u001b[0m: \taugment_data: False\n",
            "\u001b[34m\u001b[1mwandb\u001b[0m: \tbase_model: InceptionResNetV2\n",
            "\u001b[34m\u001b[1mwandb\u001b[0m: \tbatch_normalisation: True\n",
            "\u001b[34m\u001b[1mwandb\u001b[0m: \tdense_Size: 128\n",
            "\u001b[34m\u001b[1mwandb\u001b[0m: \tdropout: 0.37\n",
            "\u001b[34m\u001b[1mwandb\u001b[0m: \tepochs: 5\n",
            "\u001b[34m\u001b[1mwandb\u001b[0m: \tlr: 0.0002\n"
          ]
        },
        {
          "metadata": {
            "tags": null
          },
          "name": "stdout",
          "output_type": "stream",
          "text": [
            "#############\n"
          ]
        },
        {
          "metadata": {
            "tags": null
          },
          "name": "stderr",
          "output_type": "stream",
          "text": [
            "\u001b[34m\u001b[1mwandb\u001b[0m: \u001b[33mWARNING\u001b[0m Ignored wandb.init() arg project when running a sweep.\n"
          ]
        },
        {
          "data": {
            "text/html": [
              "Tracking run with wandb version 0.12.11"
            ],
            "text/plain": [
              "<IPython.core.display.HTML object>"
            ]
          },
          "metadata": {},
          "output_type": "display_data"
        },
        {
          "data": {
            "text/html": [
              "Run data is saved locally in <code>/content/wandb/run-20220404_150303-tadttexc</code>"
            ],
            "text/plain": [
              "<IPython.core.display.HTML object>"
            ]
          },
          "metadata": {},
          "output_type": "display_data"
        },
        {
          "data": {
            "text/html": [
              "Syncing run <strong><a href=\"https://wandb.ai/manishiitm/CS6910_Assignment2B/runs/tadttexc\" target=\"_blank\">absurd-sweep-6</a></strong> to <a href=\"https://wandb.ai/manishiitm/CS6910_Assignment2B\" target=\"_blank\">Weights & Biases</a> (<a href=\"https://wandb.me/run\" target=\"_blank\">docs</a>)<br/>Sweep page:  <a href=\"https://wandb.ai/manishiitm/CS6910_Assignment2B/sweeps/05k4rflm\" target=\"_blank\">https://wandb.ai/manishiitm/CS6910_Assignment2B/sweeps/05k4rflm</a>"
            ],
            "text/plain": [
              "<IPython.core.display.HTML object>"
            ]
          },
          "metadata": {},
          "output_type": "display_data"
        },
        {
          "metadata": {
            "tags": null
          },
          "name": "stdout",
          "output_type": "stream",
          "text": [
            "#############\n",
            "1. Loading the dataset ...\n",
            "\n",
            "Found 9999 images belonging to 10 classes.\n",
            "Found 2000 images belonging to 10 classes.\n",
            "Downloading data from https://storage.googleapis.com/tensorflow/keras-applications/inception_resnet_v2/inception_resnet_v2_weights_tf_dim_ordering_tf_kernels_notop.h5\n",
            "219062272/219055592 [==============================] - 1s 0us/step\n",
            "219070464/219055592 [==============================] - 1s 0us/step\n",
            "Total layers in base model is 8\n",
            "\n",
            "yehi h4\n",
            "Fine tuning the model ...\n",
            "\n",
            "Epoch 1/5\n",
            "79/79 [==============================] - 198s 2s/step - loss: 2.5509 - accuracy: 0.1175 - val_loss: 2.2262 - val_accuracy: 0.1940 - _timestamp: 1649084794.0000 - _runtime: 210.0000\n",
            "Epoch 2/5\n",
            "79/79 [==============================] - 174s 2s/step - loss: 2.3601 - accuracy: 0.1510 - val_loss: 2.1030 - val_accuracy: 0.3170 - _timestamp: 1649084982.0000 - _runtime: 398.0000\n",
            "Epoch 3/5\n",
            "79/79 [==============================] - 174s 2s/step - loss: 2.2266 - accuracy: 0.2033 - val_loss: 2.0057 - val_accuracy: 0.4160 - _timestamp: 1649085156.0000 - _runtime: 572.0000\n",
            "Epoch 4/5\n",
            "79/79 [==============================] - 174s 2s/step - loss: 2.1297 - accuracy: 0.2607 - val_loss: 1.9113 - val_accuracy: 0.4845 - _timestamp: 1649085330.0000 - _runtime: 746.0000\n",
            "Epoch 5/5\n",
            "79/79 [==============================] - 174s 2s/step - loss: 2.0532 - accuracy: 0.2985 - val_loss: 1.8207 - val_accuracy: 0.5285 - _timestamp: 1649085504.0000 - _runtime: 920.0000\n",
            "Model tuned successfully!!\n",
            "\n",
            "\n"
          ]
        },
        {
          "data": {
            "text/html": [
              "Waiting for W&B process to finish... <strong style=\"color:green\">(success).</strong>"
            ],
            "text/plain": [
              "<IPython.core.display.HTML object>"
            ]
          },
          "metadata": {},
          "output_type": "display_data"
        },
        {
          "data": {
            "application/vnd.jupyter.widget-view+json": {
              "model_id": "4f3923baf8044f4bbe64b3f0d8015fd8",
              "version_major": 2,
              "version_minor": 0
            },
            "text/plain": [
              "VBox(children=(Label(value='9.413 MB of 258.646 MB uploaded (0.000 MB deduped)\\r'), FloatProgress(value=0.0363…"
            ]
          },
          "metadata": {},
          "output_type": "display_data"
        },
        {
          "data": {
            "text/html": [
              "<style>\n",
              "    table.wandb td:nth-child(1) { padding: 0 10px; text-align: right }\n",
              "    .wandb-row { display: flex; flex-direction: row; flex-wrap: wrap; width: 100% }\n",
              "    .wandb-col { display: flex; flex-direction: column; flex-basis: 100%; flex: 1; padding: 10px; }\n",
              "    </style>\n",
              "<div class=\"wandb-row\"><div class=\"wandb-col\"><h3>Run history:</h3><br/><table class=\"wandb\"><tr><td>accuracy</td><td>▁▂▄▇█</td></tr><tr><td>epoch</td><td>▁▃▅▆█</td></tr><tr><td>loss</td><td>█▅▃▂▁</td></tr><tr><td>val_accuracy</td><td>▁▄▆▇█</td></tr><tr><td>val_loss</td><td>█▆▄▃▁</td></tr></table><br/></div><div class=\"wandb-col\"><h3>Run summary:</h3><br/><table class=\"wandb\"><tr><td>accuracy</td><td>0.29853</td></tr><tr><td>best_epoch</td><td>4</td></tr><tr><td>best_val_loss</td><td>1.82066</td></tr><tr><td>epoch</td><td>4</td></tr><tr><td>loss</td><td>2.0532</td></tr><tr><td>val_accuracy</td><td>0.5285</td></tr><tr><td>val_loss</td><td>1.82066</td></tr></table><br/></div></div>"
            ],
            "text/plain": [
              "<IPython.core.display.HTML object>"
            ]
          },
          "metadata": {},
          "output_type": "display_data"
        },
        {
          "data": {
            "text/html": [
              "Synced <strong style=\"color:#cdcd00\">absurd-sweep-6</strong>: <a href=\"https://wandb.ai/manishiitm/CS6910_Assignment2B/runs/tadttexc\" target=\"_blank\">https://wandb.ai/manishiitm/CS6910_Assignment2B/runs/tadttexc</a><br/>Synced 5 W&B file(s), 1 media file(s), 0 artifact file(s) and 3 other file(s)"
            ],
            "text/plain": [
              "<IPython.core.display.HTML object>"
            ]
          },
          "metadata": {},
          "output_type": "display_data"
        },
        {
          "data": {
            "text/html": [
              "Find logs at: <code>./wandb/run-20220404_150303-tadttexc/logs</code>"
            ],
            "text/plain": [
              "<IPython.core.display.HTML object>"
            ]
          },
          "metadata": {},
          "output_type": "display_data"
        },
        {
          "metadata": {
            "tags": null
          },
          "name": "stderr",
          "output_type": "stream",
          "text": [
            "\u001b[34m\u001b[1mwandb\u001b[0m: Agent Starting Run: cx0xlps0 with config:\n",
            "\u001b[34m\u001b[1mwandb\u001b[0m: \taugment_data: False\n",
            "\u001b[34m\u001b[1mwandb\u001b[0m: \tbase_model: InceptionV3\n",
            "\u001b[34m\u001b[1mwandb\u001b[0m: \tbatch_normalisation: True\n",
            "\u001b[34m\u001b[1mwandb\u001b[0m: \tdense_Size: 128\n",
            "\u001b[34m\u001b[1mwandb\u001b[0m: \tdropout: 0.2\n",
            "\u001b[34m\u001b[1mwandb\u001b[0m: \tepochs: 5\n",
            "\u001b[34m\u001b[1mwandb\u001b[0m: \tlr: 0.0002\n"
          ]
        },
        {
          "metadata": {
            "tags": null
          },
          "name": "stdout",
          "output_type": "stream",
          "text": [
            "#############\n"
          ]
        },
        {
          "metadata": {
            "tags": null
          },
          "name": "stderr",
          "output_type": "stream",
          "text": [
            "\u001b[34m\u001b[1mwandb\u001b[0m: \u001b[33mWARNING\u001b[0m Ignored wandb.init() arg project when running a sweep.\n"
          ]
        },
        {
          "data": {
            "text/html": [
              "Tracking run with wandb version 0.12.11"
            ],
            "text/plain": [
              "<IPython.core.display.HTML object>"
            ]
          },
          "metadata": {},
          "output_type": "display_data"
        },
        {
          "data": {
            "text/html": [
              "Run data is saved locally in <code>/content/wandb/run-20220404_151840-cx0xlps0</code>"
            ],
            "text/plain": [
              "<IPython.core.display.HTML object>"
            ]
          },
          "metadata": {},
          "output_type": "display_data"
        },
        {
          "data": {
            "text/html": [
              "Syncing run <strong><a href=\"https://wandb.ai/manishiitm/CS6910_Assignment2B/runs/cx0xlps0\" target=\"_blank\">comfy-sweep-7</a></strong> to <a href=\"https://wandb.ai/manishiitm/CS6910_Assignment2B\" target=\"_blank\">Weights & Biases</a> (<a href=\"https://wandb.me/run\" target=\"_blank\">docs</a>)<br/>Sweep page:  <a href=\"https://wandb.ai/manishiitm/CS6910_Assignment2B/sweeps/05k4rflm\" target=\"_blank\">https://wandb.ai/manishiitm/CS6910_Assignment2B/sweeps/05k4rflm</a>"
            ],
            "text/plain": [
              "<IPython.core.display.HTML object>"
            ]
          },
          "metadata": {},
          "output_type": "display_data"
        },
        {
          "metadata": {
            "tags": null
          },
          "name": "stdout",
          "output_type": "stream",
          "text": [
            "#############\n",
            "1. Loading the dataset ...\n",
            "\n",
            "Found 9999 images belonging to 10 classes.\n",
            "Found 2000 images belonging to 10 classes.\n",
            "Total layers in base model is 8\n",
            "\n",
            "yehi h4\n",
            "Fine tuning the model ...\n",
            "\n",
            "Epoch 1/5\n",
            "79/79 [==============================] - 153s 2s/step - loss: 2.4886 - accuracy: 0.1062 - val_loss: 2.2873 - val_accuracy: 0.1575 - _timestamp: 1649085682.0000 - _runtime: 162.0000\n",
            "Epoch 2/5\n",
            "79/79 [==============================] - 147s 2s/step - loss: 2.2821 - accuracy: 0.1715 - val_loss: 2.1420 - val_accuracy: 0.2615 - _timestamp: 1649085881.0000 - _runtime: 361.0000\n",
            "Epoch 3/5\n",
            "79/79 [==============================] - 146s 2s/step - loss: 2.1626 - accuracy: 0.2397 - val_loss: 2.0202 - val_accuracy: 0.3525 - _timestamp: 1649086027.0000 - _runtime: 507.0000\n",
            "Epoch 4/5\n",
            "79/79 [==============================] - 146s 2s/step - loss: 2.0559 - accuracy: 0.2905 - val_loss: 1.9030 - val_accuracy: 0.4245 - _timestamp: 1649086173.0000 - _runtime: 653.0000\n",
            "Epoch 5/5\n",
            "79/79 [==============================] - 146s 2s/step - loss: 1.9612 - accuracy: 0.3420 - val_loss: 1.7952 - val_accuracy: 0.4785 - _timestamp: 1649086320.0000 - _runtime: 800.0000\n",
            "Model tuned successfully!!\n",
            "\n",
            "\n"
          ]
        },
        {
          "data": {
            "text/html": [
              "Waiting for W&B process to finish... <strong style=\"color:green\">(success).</strong>"
            ],
            "text/plain": [
              "<IPython.core.display.HTML object>"
            ]
          },
          "metadata": {},
          "output_type": "display_data"
        },
        {
          "data": {
            "application/vnd.jupyter.widget-view+json": {
              "model_id": "5f4b5c7f118f4265bc404cf78ea2c230",
              "version_major": 2,
              "version_minor": 0
            },
            "text/plain": [
              "VBox(children=(Label(value='0.760 MB of 148.646 MB uploaded (0.000 MB deduped)\\r'), FloatProgress(value=0.0051…"
            ]
          },
          "metadata": {},
          "output_type": "display_data"
        },
        {
          "data": {
            "text/html": [
              "<style>\n",
              "    table.wandb td:nth-child(1) { padding: 0 10px; text-align: right }\n",
              "    .wandb-row { display: flex; flex-direction: row; flex-wrap: wrap; width: 100% }\n",
              "    .wandb-col { display: flex; flex-direction: column; flex-basis: 100%; flex: 1; padding: 10px; }\n",
              "    </style>\n",
              "<div class=\"wandb-row\"><div class=\"wandb-col\"><h3>Run history:</h3><br/><table class=\"wandb\"><tr><td>accuracy</td><td>▁▃▅▆█</td></tr><tr><td>epoch</td><td>▁▃▅▆█</td></tr><tr><td>loss</td><td>█▅▄▂▁</td></tr><tr><td>val_accuracy</td><td>▁▃▅▇█</td></tr><tr><td>val_loss</td><td>█▆▄▃▁</td></tr></table><br/></div><div class=\"wandb-col\"><h3>Run summary:</h3><br/><table class=\"wandb\"><tr><td>accuracy</td><td>0.34203</td></tr><tr><td>best_epoch</td><td>4</td></tr><tr><td>best_val_loss</td><td>1.79519</td></tr><tr><td>epoch</td><td>4</td></tr><tr><td>loss</td><td>1.9612</td></tr><tr><td>val_accuracy</td><td>0.4785</td></tr><tr><td>val_loss</td><td>1.79519</td></tr></table><br/></div></div>"
            ],
            "text/plain": [
              "<IPython.core.display.HTML object>"
            ]
          },
          "metadata": {},
          "output_type": "display_data"
        },
        {
          "data": {
            "text/html": [
              "Synced <strong style=\"color:#cdcd00\">comfy-sweep-7</strong>: <a href=\"https://wandb.ai/manishiitm/CS6910_Assignment2B/runs/cx0xlps0\" target=\"_blank\">https://wandb.ai/manishiitm/CS6910_Assignment2B/runs/cx0xlps0</a><br/>Synced 5 W&B file(s), 1 media file(s), 0 artifact file(s) and 3 other file(s)"
            ],
            "text/plain": [
              "<IPython.core.display.HTML object>"
            ]
          },
          "metadata": {},
          "output_type": "display_data"
        },
        {
          "data": {
            "text/html": [
              "Find logs at: <code>./wandb/run-20220404_151840-cx0xlps0/logs</code>"
            ],
            "text/plain": [
              "<IPython.core.display.HTML object>"
            ]
          },
          "metadata": {},
          "output_type": "display_data"
        },
        {
          "metadata": {
            "tags": null
          },
          "name": "stderr",
          "output_type": "stream",
          "text": [
            "\u001b[34m\u001b[1mwandb\u001b[0m: Sweep Agent: Waiting for job.\n",
            "\u001b[34m\u001b[1mwandb\u001b[0m: Job received.\n",
            "\u001b[34m\u001b[1mwandb\u001b[0m: Agent Starting Run: dcng21a3 with config:\n",
            "\u001b[34m\u001b[1mwandb\u001b[0m: \taugment_data: False\n",
            "\u001b[34m\u001b[1mwandb\u001b[0m: \tbase_model: InceptionResNetV2\n",
            "\u001b[34m\u001b[1mwandb\u001b[0m: \tbatch_normalisation: False\n",
            "\u001b[34m\u001b[1mwandb\u001b[0m: \tdense_Size: 512\n",
            "\u001b[34m\u001b[1mwandb\u001b[0m: \tdropout: 0.2\n",
            "\u001b[34m\u001b[1mwandb\u001b[0m: \tepochs: 10\n",
            "\u001b[34m\u001b[1mwandb\u001b[0m: \tlr: 7e-05\n"
          ]
        },
        {
          "metadata": {
            "tags": null
          },
          "name": "stdout",
          "output_type": "stream",
          "text": [
            "#############\n"
          ]
        },
        {
          "metadata": {
            "tags": null
          },
          "name": "stderr",
          "output_type": "stream",
          "text": [
            "\u001b[34m\u001b[1mwandb\u001b[0m: \u001b[33mWARNING\u001b[0m Ignored wandb.init() arg project when running a sweep.\n"
          ]
        },
        {
          "data": {
            "text/html": [
              "Tracking run with wandb version 0.12.11"
            ],
            "text/plain": [
              "<IPython.core.display.HTML object>"
            ]
          },
          "metadata": {},
          "output_type": "display_data"
        },
        {
          "data": {
            "text/html": [
              "Run data is saved locally in <code>/content/wandb/run-20220404_153220-dcng21a3</code>"
            ],
            "text/plain": [
              "<IPython.core.display.HTML object>"
            ]
          },
          "metadata": {},
          "output_type": "display_data"
        },
        {
          "data": {
            "text/html": [
              "Syncing run <strong><a href=\"https://wandb.ai/manishiitm/CS6910_Assignment2B/runs/dcng21a3\" target=\"_blank\">good-sweep-8</a></strong> to <a href=\"https://wandb.ai/manishiitm/CS6910_Assignment2B\" target=\"_blank\">Weights & Biases</a> (<a href=\"https://wandb.me/run\" target=\"_blank\">docs</a>)<br/>Sweep page:  <a href=\"https://wandb.ai/manishiitm/CS6910_Assignment2B/sweeps/05k4rflm\" target=\"_blank\">https://wandb.ai/manishiitm/CS6910_Assignment2B/sweeps/05k4rflm</a>"
            ],
            "text/plain": [
              "<IPython.core.display.HTML object>"
            ]
          },
          "metadata": {},
          "output_type": "display_data"
        },
        {
          "metadata": {
            "tags": null
          },
          "name": "stdout",
          "output_type": "stream",
          "text": [
            "#############\n",
            "1. Loading the dataset ...\n",
            "\n",
            "Found 9999 images belonging to 10 classes.\n",
            "Found 2000 images belonging to 10 classes.\n",
            "Total layers in base model is 7\n",
            "\n",
            "yehi h4\n",
            "Fine tuning the model ...\n",
            "\n",
            "Epoch 1/10\n",
            "79/79 [==============================] - 189s 2s/step - loss: 2.2154 - accuracy: 0.2264 - val_loss: 1.7778 - val_accuracy: 0.5325 - _timestamp: 1649086541.0000 - _runtime: 201.0000\n",
            "Epoch 2/10\n",
            "79/79 [==============================] - 175s 2s/step - loss: 1.7355 - accuracy: 0.4701 - val_loss: 1.3929 - val_accuracy: 0.6770 - _timestamp: 1649086716.0000 - _runtime: 376.0000\n",
            "Epoch 3/10\n",
            "79/79 [==============================] - 175s 2s/step - loss: 1.4302 - accuracy: 0.5987 - val_loss: 1.1461 - val_accuracy: 0.7335 - _timestamp: 1649086891.0000 - _runtime: 551.0000\n",
            "Epoch 4/10\n",
            "79/79 [==============================] - 175s 2s/step - loss: 1.2378 - accuracy: 0.6500 - val_loss: 0.9956 - val_accuracy: 0.7550 - _timestamp: 1649087066.0000 - _runtime: 726.0000\n",
            "Epoch 5/10\n",
            "79/79 [==============================] - 176s 2s/step - loss: 1.1173 - accuracy: 0.6869 - val_loss: 0.9035 - val_accuracy: 0.7615 - _timestamp: 1649087241.0000 - _runtime: 901.0000\n",
            "Epoch 6/10\n",
            "79/79 [==============================] - 176s 2s/step - loss: 1.0379 - accuracy: 0.7011 - val_loss: 0.8440 - val_accuracy: 0.7700 - _timestamp: 1649087418.0000 - _runtime: 1078.0000\n",
            "Epoch 7/10\n",
            "79/79 [==============================] - 175s 2s/step - loss: 0.9778 - accuracy: 0.7197 - val_loss: 0.8011 - val_accuracy: 0.7780 - _timestamp: 1649087593.0000 - _runtime: 1253.0000\n",
            "Epoch 8/10\n",
            "79/79 [==============================] - 175s 2s/step - loss: 0.9269 - accuracy: 0.7333 - val_loss: 0.7716 - val_accuracy: 0.7855 - _timestamp: 1649087768.0000 - _runtime: 1428.0000\n",
            "Epoch 9/10\n",
            "79/79 [==============================] - 175s 2s/step - loss: 0.8977 - accuracy: 0.7377 - val_loss: 0.7508 - val_accuracy: 0.7870 - _timestamp: 1649087943.0000 - _runtime: 1603.0000\n",
            "Epoch 10/10\n",
            "79/79 [==============================] - 177s 2s/step - loss: 0.8688 - accuracy: 0.7472 - val_loss: 0.7372 - val_accuracy: 0.7890 - _timestamp: 1649088119.0000 - _runtime: 1779.0000\n",
            "Model tuned successfully!!\n",
            "\n",
            "\n"
          ]
        },
        {
          "data": {
            "text/html": [
              "Waiting for W&B process to finish... <strong style=\"color:green\">(success).</strong>"
            ],
            "text/plain": [
              "<IPython.core.display.HTML object>"
            ]
          },
          "metadata": {},
          "output_type": "display_data"
        },
        {
          "data": {
            "application/vnd.jupyter.widget-view+json": {
              "model_id": "b82506a3854248fc99b1d6eb2f0958d7",
              "version_major": 2,
              "version_minor": 0
            },
            "text/plain": [
              "VBox(children=(Label(value='405.493 MB of 405.493 MB uploaded (0.000 MB deduped)\\r'), FloatProgress(value=1.0,…"
            ]
          },
          "metadata": {},
          "output_type": "display_data"
        },
        {
          "data": {
            "text/html": [
              "<style>\n",
              "    table.wandb td:nth-child(1) { padding: 0 10px; text-align: right }\n",
              "    .wandb-row { display: flex; flex-direction: row; flex-wrap: wrap; width: 100% }\n",
              "    .wandb-col { display: flex; flex-direction: column; flex-basis: 100%; flex: 1; padding: 10px; }\n",
              "    </style>\n",
              "<div class=\"wandb-row\"><div class=\"wandb-col\"><h3>Run history:</h3><br/><table class=\"wandb\"><tr><td>accuracy</td><td>▁▄▆▇▇▇████</td></tr><tr><td>epoch</td><td>▁▂▃▃▄▅▆▆▇█</td></tr><tr><td>loss</td><td>█▆▄▃▂▂▂▁▁▁</td></tr><tr><td>val_accuracy</td><td>▁▅▆▇▇▇████</td></tr><tr><td>val_loss</td><td>█▅▄▃▂▂▁▁▁▁</td></tr></table><br/></div><div class=\"wandb-col\"><h3>Run summary:</h3><br/><table class=\"wandb\"><tr><td>accuracy</td><td>0.74717</td></tr><tr><td>best_epoch</td><td>9</td></tr><tr><td>best_val_loss</td><td>0.73719</td></tr><tr><td>epoch</td><td>9</td></tr><tr><td>loss</td><td>0.8688</td></tr><tr><td>val_accuracy</td><td>0.789</td></tr><tr><td>val_loss</td><td>0.73719</td></tr></table><br/></div></div>"
            ],
            "text/plain": [
              "<IPython.core.display.HTML object>"
            ]
          },
          "metadata": {},
          "output_type": "display_data"
        },
        {
          "data": {
            "text/html": [
              "Synced <strong style=\"color:#cdcd00\">good-sweep-8</strong>: <a href=\"https://wandb.ai/manishiitm/CS6910_Assignment2B/runs/dcng21a3\" target=\"_blank\">https://wandb.ai/manishiitm/CS6910_Assignment2B/runs/dcng21a3</a><br/>Synced 5 W&B file(s), 1 media file(s), 0 artifact file(s) and 3 other file(s)"
            ],
            "text/plain": [
              "<IPython.core.display.HTML object>"
            ]
          },
          "metadata": {},
          "output_type": "display_data"
        },
        {
          "data": {
            "text/html": [
              "Find logs at: <code>./wandb/run-20220404_153220-dcng21a3/logs</code>"
            ],
            "text/plain": [
              "<IPython.core.display.HTML object>"
            ]
          },
          "metadata": {},
          "output_type": "display_data"
        },
        {
          "metadata": {
            "tags": null
          },
          "name": "stderr",
          "output_type": "stream",
          "text": [
            "\u001b[34m\u001b[1mwandb\u001b[0m: Agent Starting Run: 7766iqsv with config:\n",
            "\u001b[34m\u001b[1mwandb\u001b[0m: \taugment_data: False\n",
            "\u001b[34m\u001b[1mwandb\u001b[0m: \tbase_model: ResNet50\n",
            "\u001b[34m\u001b[1mwandb\u001b[0m: \tbatch_normalisation: False\n",
            "\u001b[34m\u001b[1mwandb\u001b[0m: \tdense_Size: 512\n",
            "\u001b[34m\u001b[1mwandb\u001b[0m: \tdropout: 0.2\n",
            "\u001b[34m\u001b[1mwandb\u001b[0m: \tepochs: 10\n",
            "\u001b[34m\u001b[1mwandb\u001b[0m: \tlr: 7e-05\n"
          ]
        },
        {
          "metadata": {
            "tags": null
          },
          "name": "stdout",
          "output_type": "stream",
          "text": [
            "#############\n"
          ]
        },
        {
          "metadata": {
            "tags": null
          },
          "name": "stderr",
          "output_type": "stream",
          "text": [
            "\u001b[34m\u001b[1mwandb\u001b[0m: \u001b[33mWARNING\u001b[0m Ignored wandb.init() arg project when running a sweep.\n"
          ]
        },
        {
          "data": {
            "text/html": [
              "Tracking run with wandb version 0.12.11"
            ],
            "text/plain": [
              "<IPython.core.display.HTML object>"
            ]
          },
          "metadata": {},
          "output_type": "display_data"
        },
        {
          "data": {
            "text/html": [
              "Run data is saved locally in <code>/content/wandb/run-20220404_160218-7766iqsv</code>"
            ],
            "text/plain": [
              "<IPython.core.display.HTML object>"
            ]
          },
          "metadata": {},
          "output_type": "display_data"
        },
        {
          "data": {
            "text/html": [
              "Syncing run <strong><a href=\"https://wandb.ai/manishiitm/CS6910_Assignment2B/runs/7766iqsv\" target=\"_blank\">prime-sweep-9</a></strong> to <a href=\"https://wandb.ai/manishiitm/CS6910_Assignment2B\" target=\"_blank\">Weights & Biases</a> (<a href=\"https://wandb.me/run\" target=\"_blank\">docs</a>)<br/>Sweep page:  <a href=\"https://wandb.ai/manishiitm/CS6910_Assignment2B/sweeps/05k4rflm\" target=\"_blank\">https://wandb.ai/manishiitm/CS6910_Assignment2B/sweeps/05k4rflm</a>"
            ],
            "text/plain": [
              "<IPython.core.display.HTML object>"
            ]
          },
          "metadata": {},
          "output_type": "display_data"
        },
        {
          "metadata": {
            "tags": null
          },
          "name": "stdout",
          "output_type": "stream",
          "text": [
            "#############\n",
            "1. Loading the dataset ...\n",
            "\n",
            "Found 9999 images belonging to 10 classes.\n",
            "Found 2000 images belonging to 10 classes.\n",
            "Total layers in base model is 7\n",
            "\n",
            "yehi h4\n",
            "Fine tuning the model ...\n",
            "\n",
            "Epoch 1/10\n",
            "79/79 [==============================] - 143s 2s/step - loss: 2.4340 - accuracy: 0.1004 - val_loss: 2.2937 - val_accuracy: 0.1245 - _timestamp: 1649088291.0000 - _runtime: 153.0000\n",
            "Epoch 2/10\n",
            "79/79 [==============================] - 139s 2s/step - loss: 2.3796 - accuracy: 0.1143 - val_loss: 2.2754 - val_accuracy: 0.1310 - _timestamp: 1649088430.0000 - _runtime: 292.0000\n",
            "Epoch 3/10\n",
            "79/79 [==============================] - 139s 2s/step - loss: 2.3488 - accuracy: 0.1128 - val_loss: 2.2643 - val_accuracy: 0.1645 - _timestamp: 1649088569.0000 - _runtime: 431.0000\n",
            "Epoch 4/10\n",
            "79/79 [==============================] - 139s 2s/step - loss: 2.3249 - accuracy: 0.1202 - val_loss: 2.2580 - val_accuracy: 0.1540 - _timestamp: 1649088708.0000 - _runtime: 570.0000\n",
            "Epoch 5/10\n",
            "79/79 [==============================] - 138s 2s/step - loss: 2.3114 - accuracy: 0.1300 - val_loss: 2.2495 - val_accuracy: 0.1715 - _timestamp: 1649088846.0000 - _runtime: 708.0000\n",
            "Epoch 6/10\n",
            "79/79 [==============================] - 139s 2s/step - loss: 2.2971 - accuracy: 0.1310 - val_loss: 2.2474 - val_accuracy: 0.1765 - _timestamp: 1649088985.0000 - _runtime: 847.0000\n",
            "Epoch 7/10\n",
            "79/79 [==============================] - 139s 2s/step - loss: 2.2870 - accuracy: 0.1410 - val_loss: 2.2425 - val_accuracy: 0.1710 - _timestamp: 1649089124.0000 - _runtime: 986.0000\n",
            "Epoch 8/10\n",
            "79/79 [==============================] - 156s 2s/step - loss: 2.2788 - accuracy: 0.1401 - val_loss: 2.2394 - val_accuracy: 0.1690 - _timestamp: 1649089284.0000 - _runtime: 1146.0000\n",
            "Epoch 9/10\n",
            "79/79 [==============================] - 138s 2s/step - loss: 2.2768 - accuracy: 0.1413 - val_loss: 2.2381 - val_accuracy: 0.1825 - _timestamp: 1649089422.0000 - _runtime: 1284.0000\n",
            "Epoch 10/10\n",
            "79/79 [==============================] - 137s 2s/step - loss: 2.2683 - accuracy: 0.1458 - val_loss: 2.2320 - val_accuracy: 0.1910 - _timestamp: 1649089559.0000 - _runtime: 1421.0000\n",
            "Model tuned successfully!!\n",
            "\n",
            "\n"
          ]
        },
        {
          "data": {
            "text/html": [
              "Waiting for W&B process to finish... <strong style=\"color:green\">(success).</strong>"
            ],
            "text/plain": [
              "<IPython.core.display.HTML object>"
            ]
          },
          "metadata": {},
          "output_type": "display_data"
        },
        {
          "data": {
            "application/vnd.jupyter.widget-view+json": {
              "model_id": "daff0b031d9a4ecd8f0fb83ee66c269f",
              "version_major": 2,
              "version_minor": 0
            },
            "text/plain": [
              "VBox(children=(Label(value='289.887 MB of 289.887 MB uploaded (0.000 MB deduped)\\r'), FloatProgress(value=1.0,…"
            ]
          },
          "metadata": {},
          "output_type": "display_data"
        },
        {
          "data": {
            "text/html": [
              "<style>\n",
              "    table.wandb td:nth-child(1) { padding: 0 10px; text-align: right }\n",
              "    .wandb-row { display: flex; flex-direction: row; flex-wrap: wrap; width: 100% }\n",
              "    .wandb-col { display: flex; flex-direction: column; flex-basis: 100%; flex: 1; padding: 10px; }\n",
              "    </style>\n",
              "<div class=\"wandb-row\"><div class=\"wandb-col\"><h3>Run history:</h3><br/><table class=\"wandb\"><tr><td>accuracy</td><td>▁▃▃▄▆▆▇▇▇█</td></tr><tr><td>epoch</td><td>▁▂▃▃▄▅▆▆▇█</td></tr><tr><td>loss</td><td>█▆▄▃▃▂▂▁▁▁</td></tr><tr><td>val_accuracy</td><td>▁▂▅▄▆▆▆▆▇█</td></tr><tr><td>val_loss</td><td>█▆▅▄▃▃▂▂▂▁</td></tr></table><br/></div><div class=\"wandb-col\"><h3>Run summary:</h3><br/><table class=\"wandb\"><tr><td>accuracy</td><td>0.14581</td></tr><tr><td>best_epoch</td><td>9</td></tr><tr><td>best_val_loss</td><td>2.23202</td></tr><tr><td>epoch</td><td>9</td></tr><tr><td>loss</td><td>2.26825</td></tr><tr><td>val_accuracy</td><td>0.191</td></tr><tr><td>val_loss</td><td>2.23202</td></tr></table><br/></div></div>"
            ],
            "text/plain": [
              "<IPython.core.display.HTML object>"
            ]
          },
          "metadata": {},
          "output_type": "display_data"
        },
        {
          "data": {
            "text/html": [
              "Synced <strong style=\"color:#cdcd00\">prime-sweep-9</strong>: <a href=\"https://wandb.ai/manishiitm/CS6910_Assignment2B/runs/7766iqsv\" target=\"_blank\">https://wandb.ai/manishiitm/CS6910_Assignment2B/runs/7766iqsv</a><br/>Synced 5 W&B file(s), 1 media file(s), 0 artifact file(s) and 3 other file(s)"
            ],
            "text/plain": [
              "<IPython.core.display.HTML object>"
            ]
          },
          "metadata": {},
          "output_type": "display_data"
        },
        {
          "data": {
            "text/html": [
              "Find logs at: <code>./wandb/run-20220404_160218-7766iqsv/logs</code>"
            ],
            "text/plain": [
              "<IPython.core.display.HTML object>"
            ]
          },
          "metadata": {},
          "output_type": "display_data"
        },
        {
          "metadata": {
            "tags": null
          },
          "name": "stderr",
          "output_type": "stream",
          "text": [
            "\u001b[34m\u001b[1mwandb\u001b[0m: Agent Starting Run: f49mb1cc with config:\n",
            "\u001b[34m\u001b[1mwandb\u001b[0m: \taugment_data: False\n",
            "\u001b[34m\u001b[1mwandb\u001b[0m: \tbase_model: InceptionV3\n",
            "\u001b[34m\u001b[1mwandb\u001b[0m: \tbatch_normalisation: True\n",
            "\u001b[34m\u001b[1mwandb\u001b[0m: \tdense_Size: 512\n",
            "\u001b[34m\u001b[1mwandb\u001b[0m: \tdropout: 0.37\n",
            "\u001b[34m\u001b[1mwandb\u001b[0m: \tepochs: 10\n",
            "\u001b[34m\u001b[1mwandb\u001b[0m: \tlr: 0.0002\n"
          ]
        },
        {
          "metadata": {
            "tags": null
          },
          "name": "stdout",
          "output_type": "stream",
          "text": [
            "#############\n"
          ]
        },
        {
          "metadata": {
            "tags": null
          },
          "name": "stderr",
          "output_type": "stream",
          "text": [
            "\u001b[34m\u001b[1mwandb\u001b[0m: \u001b[33mWARNING\u001b[0m Ignored wandb.init() arg project when running a sweep.\n"
          ]
        },
        {
          "data": {
            "text/html": [
              "Tracking run with wandb version 0.12.11"
            ],
            "text/plain": [
              "<IPython.core.display.HTML object>"
            ]
          },
          "metadata": {},
          "output_type": "display_data"
        },
        {
          "data": {
            "text/html": [
              "Run data is saved locally in <code>/content/wandb/run-20220404_162615-f49mb1cc</code>"
            ],
            "text/plain": [
              "<IPython.core.display.HTML object>"
            ]
          },
          "metadata": {},
          "output_type": "display_data"
        },
        {
          "data": {
            "text/html": [
              "Syncing run <strong><a href=\"https://wandb.ai/manishiitm/CS6910_Assignment2B/runs/f49mb1cc\" target=\"_blank\">blooming-sweep-10</a></strong> to <a href=\"https://wandb.ai/manishiitm/CS6910_Assignment2B\" target=\"_blank\">Weights & Biases</a> (<a href=\"https://wandb.me/run\" target=\"_blank\">docs</a>)<br/>Sweep page:  <a href=\"https://wandb.ai/manishiitm/CS6910_Assignment2B/sweeps/05k4rflm\" target=\"_blank\">https://wandb.ai/manishiitm/CS6910_Assignment2B/sweeps/05k4rflm</a>"
            ],
            "text/plain": [
              "<IPython.core.display.HTML object>"
            ]
          },
          "metadata": {},
          "output_type": "display_data"
        },
        {
          "metadata": {
            "tags": null
          },
          "name": "stdout",
          "output_type": "stream",
          "text": [
            "#############\n",
            "1. Loading the dataset ...\n",
            "\n",
            "Found 9999 images belonging to 10 classes.\n",
            "Found 2000 images belonging to 10 classes.\n",
            "Total layers in base model is 8\n",
            "\n",
            "yehi h4\n",
            "Fine tuning the model ...\n",
            "\n",
            "Epoch 1/10\n",
            "79/79 [==============================] - 154s 2s/step - loss: 2.3234 - accuracy: 0.2132 - val_loss: 1.6790 - val_accuracy: 0.5685 - _timestamp: 1649089738.0000 - _runtime: 163.0000\n",
            "Epoch 2/10\n",
            "79/79 [==============================] - 148s 2s/step - loss: 1.7473 - accuracy: 0.4294 - val_loss: 1.2726 - val_accuracy: 0.6880 - _timestamp: 1649089887.0000 - _runtime: 312.0000\n",
            "Epoch 3/10\n",
            "79/79 [==============================] - 147s 2s/step - loss: 1.4755 - accuracy: 0.5261 - val_loss: 1.0647 - val_accuracy: 0.7270 - _timestamp: 1649090035.0000 - _runtime: 460.0000\n",
            "Epoch 4/10\n",
            "79/79 [==============================] - 147s 2s/step - loss: 1.3502 - accuracy: 0.5777 - val_loss: 0.9659 - val_accuracy: 0.7425 - _timestamp: 1649090182.0000 - _runtime: 607.0000\n",
            "Epoch 5/10\n",
            "79/79 [==============================] - 147s 2s/step - loss: 1.2574 - accuracy: 0.6048 - val_loss: 0.9132 - val_accuracy: 0.7480 - _timestamp: 1649090328.0000 - _runtime: 753.0000\n",
            "Epoch 6/10\n",
            "79/79 [==============================] - 148s 2s/step - loss: 1.1931 - accuracy: 0.6322 - val_loss: 0.8726 - val_accuracy: 0.7580 - _timestamp: 1649090475.0000 - _runtime: 900.0000\n",
            "Epoch 7/10\n",
            "79/79 [==============================] - 147s 2s/step - loss: 1.1474 - accuracy: 0.6427 - val_loss: 0.8479 - val_accuracy: 0.7580 - _timestamp: 1649090678.0000 - _runtime: 1103.0000\n",
            "Epoch 8/10\n",
            "79/79 [==============================] - 148s 2s/step - loss: 1.1216 - accuracy: 0.6521 - val_loss: 0.8316 - val_accuracy: 0.7660 - _timestamp: 1649090825.0000 - _runtime: 1250.0000\n",
            "Epoch 9/10\n",
            "79/79 [==============================] - 147s 2s/step - loss: 1.1081 - accuracy: 0.6572 - val_loss: 0.8211 - val_accuracy: 0.7635 - _timestamp: 1649090973.0000 - _runtime: 1398.0000\n",
            "Epoch 10/10\n",
            "79/79 [==============================] - 147s 2s/step - loss: 1.0679 - accuracy: 0.6712 - val_loss: 0.8103 - val_accuracy: 0.7615 - _timestamp: 1649091120.0000 - _runtime: 1545.0000\n",
            "Model tuned successfully!!\n",
            "\n",
            "\n"
          ]
        },
        {
          "data": {
            "text/html": [
              "Waiting for W&B process to finish... <strong style=\"color:green\">(success).</strong>"
            ],
            "text/plain": [
              "<IPython.core.display.HTML object>"
            ]
          },
          "metadata": {},
          "output_type": "display_data"
        },
        {
          "data": {
            "application/vnd.jupyter.widget-view+json": {
              "model_id": "94cee245190d47789187dddd7a0e4bfe",
              "version_major": 2,
              "version_minor": 0
            },
            "text/plain": [
              "VBox(children=(Label(value='343.515 MB of 343.515 MB uploaded (0.000 MB deduped)\\r'), FloatProgress(value=1.0,…"
            ]
          },
          "metadata": {},
          "output_type": "display_data"
        },
        {
          "data": {
            "text/html": [
              "<style>\n",
              "    table.wandb td:nth-child(1) { padding: 0 10px; text-align: right }\n",
              "    .wandb-row { display: flex; flex-direction: row; flex-wrap: wrap; width: 100% }\n",
              "    .wandb-col { display: flex; flex-direction: column; flex-basis: 100%; flex: 1; padding: 10px; }\n",
              "    </style>\n",
              "<div class=\"wandb-row\"><div class=\"wandb-col\"><h3>Run history:</h3><br/><table class=\"wandb\"><tr><td>accuracy</td><td>▁▄▆▇▇▇████</td></tr><tr><td>epoch</td><td>▁▂▃▃▄▅▆▆▇█</td></tr><tr><td>loss</td><td>█▅▃▃▂▂▁▁▁▁</td></tr><tr><td>val_accuracy</td><td>▁▅▇▇▇█████</td></tr><tr><td>val_loss</td><td>█▅▃▂▂▂▁▁▁▁</td></tr></table><br/></div><div class=\"wandb-col\"><h3>Run summary:</h3><br/><table class=\"wandb\"><tr><td>accuracy</td><td>0.67117</td></tr><tr><td>best_epoch</td><td>9</td></tr><tr><td>best_val_loss</td><td>0.81033</td></tr><tr><td>epoch</td><td>9</td></tr><tr><td>loss</td><td>1.06787</td></tr><tr><td>val_accuracy</td><td>0.7615</td></tr><tr><td>val_loss</td><td>0.81033</td></tr></table><br/></div></div>"
            ],
            "text/plain": [
              "<IPython.core.display.HTML object>"
            ]
          },
          "metadata": {},
          "output_type": "display_data"
        },
        {
          "data": {
            "text/html": [
              "Synced <strong style=\"color:#cdcd00\">blooming-sweep-10</strong>: <a href=\"https://wandb.ai/manishiitm/CS6910_Assignment2B/runs/f49mb1cc\" target=\"_blank\">https://wandb.ai/manishiitm/CS6910_Assignment2B/runs/f49mb1cc</a><br/>Synced 5 W&B file(s), 1 media file(s), 0 artifact file(s) and 3 other file(s)"
            ],
            "text/plain": [
              "<IPython.core.display.HTML object>"
            ]
          },
          "metadata": {},
          "output_type": "display_data"
        },
        {
          "data": {
            "text/html": [
              "Find logs at: <code>./wandb/run-20220404_162615-f49mb1cc/logs</code>"
            ],
            "text/plain": [
              "<IPython.core.display.HTML object>"
            ]
          },
          "metadata": {},
          "output_type": "display_data"
        },
        {
          "metadata": {
            "tags": null
          },
          "name": "stderr",
          "output_type": "stream",
          "text": [
            "\u001b[34m\u001b[1mwandb\u001b[0m: Agent Starting Run: qofc58lp with config:\n",
            "\u001b[34m\u001b[1mwandb\u001b[0m: \taugment_data: False\n",
            "\u001b[34m\u001b[1mwandb\u001b[0m: \tbase_model: InceptionV3\n",
            "\u001b[34m\u001b[1mwandb\u001b[0m: \tbatch_normalisation: True\n",
            "\u001b[34m\u001b[1mwandb\u001b[0m: \tdense_Size: 512\n",
            "\u001b[34m\u001b[1mwandb\u001b[0m: \tdropout: 0.37\n",
            "\u001b[34m\u001b[1mwandb\u001b[0m: \tepochs: 5\n",
            "\u001b[34m\u001b[1mwandb\u001b[0m: \tlr: 7e-05\n"
          ]
        },
        {
          "metadata": {
            "tags": null
          },
          "name": "stdout",
          "output_type": "stream",
          "text": [
            "#############\n"
          ]
        },
        {
          "metadata": {
            "tags": null
          },
          "name": "stderr",
          "output_type": "stream",
          "text": [
            "\u001b[34m\u001b[1mwandb\u001b[0m: \u001b[33mWARNING\u001b[0m Ignored wandb.init() arg project when running a sweep.\n"
          ]
        },
        {
          "data": {
            "text/html": [
              "Tracking run with wandb version 0.12.11"
            ],
            "text/plain": [
              "<IPython.core.display.HTML object>"
            ]
          },
          "metadata": {},
          "output_type": "display_data"
        },
        {
          "data": {
            "text/html": [
              "Run data is saved locally in <code>/content/wandb/run-20220404_165215-qofc58lp</code>"
            ],
            "text/plain": [
              "<IPython.core.display.HTML object>"
            ]
          },
          "metadata": {},
          "output_type": "display_data"
        },
        {
          "data": {
            "text/html": [
              "Syncing run <strong><a href=\"https://wandb.ai/manishiitm/CS6910_Assignment2B/runs/qofc58lp\" target=\"_blank\">glowing-sweep-11</a></strong> to <a href=\"https://wandb.ai/manishiitm/CS6910_Assignment2B\" target=\"_blank\">Weights & Biases</a> (<a href=\"https://wandb.me/run\" target=\"_blank\">docs</a>)<br/>Sweep page:  <a href=\"https://wandb.ai/manishiitm/CS6910_Assignment2B/sweeps/05k4rflm\" target=\"_blank\">https://wandb.ai/manishiitm/CS6910_Assignment2B/sweeps/05k4rflm</a>"
            ],
            "text/plain": [
              "<IPython.core.display.HTML object>"
            ]
          },
          "metadata": {},
          "output_type": "display_data"
        },
        {
          "metadata": {
            "tags": null
          },
          "name": "stdout",
          "output_type": "stream",
          "text": [
            "#############\n",
            "1. Loading the dataset ...\n",
            "\n",
            "Found 9999 images belonging to 10 classes.\n",
            "Found 2000 images belonging to 10 classes.\n",
            "Total layers in base model is 8\n",
            "\n",
            "yehi h4\n",
            "Fine tuning the model ...\n",
            "\n",
            "Epoch 1/5\n",
            "79/79 [==============================] - 154s 2s/step - loss: 2.5288 - accuracy: 0.1380 - val_loss: 2.0516 - val_accuracy: 0.3270 - _timestamp: 1649091298.0000 - _runtime: 163.0000\n",
            "Epoch 2/5\n",
            "79/79 [==============================] - 148s 2s/step - loss: 2.1915 - accuracy: 0.2389 - val_loss: 1.8070 - val_accuracy: 0.4890 - _timestamp: 1649091446.0000 - _runtime: 311.0000\n",
            "Epoch 3/5\n",
            "79/79 [==============================] - 147s 2s/step - loss: 1.9739 - accuracy: 0.3319 - val_loss: 1.6208 - val_accuracy: 0.5740 - _timestamp: 1649091593.0000 - _runtime: 458.0000\n",
            "Epoch 4/5\n",
            "79/79 [==============================] - 147s 2s/step - loss: 1.8006 - accuracy: 0.4117 - val_loss: 1.4671 - val_accuracy: 0.6280 - _timestamp: 1649091740.0000 - _runtime: 605.0000\n",
            "Epoch 5/5\n",
            "79/79 [==============================] - 164s 2s/step - loss: 1.6677 - accuracy: 0.4629 - val_loss: 1.3449 - val_accuracy: 0.6620 - _timestamp: 1649091904.0000 - _runtime: 769.0000\n",
            "Model tuned successfully!!\n",
            "\n",
            "\n"
          ]
        },
        {
          "data": {
            "text/html": [
              "Waiting for W&B process to finish... <strong style=\"color:green\">(success).</strong>"
            ],
            "text/plain": [
              "<IPython.core.display.HTML object>"
            ]
          },
          "metadata": {},
          "output_type": "display_data"
        },
        {
          "data": {
            "application/vnd.jupyter.widget-view+json": {
              "model_id": "86b403f0fa274d64aa39fd13784158e9",
              "version_major": 2,
              "version_minor": 0
            },
            "text/plain": [
              "VBox(children=(Label(value='343.514 MB of 343.514 MB uploaded (0.000 MB deduped)\\r'), FloatProgress(value=1.0,…"
            ]
          },
          "metadata": {},
          "output_type": "display_data"
        },
        {
          "data": {
            "text/html": [
              "<style>\n",
              "    table.wandb td:nth-child(1) { padding: 0 10px; text-align: right }\n",
              "    .wandb-row { display: flex; flex-direction: row; flex-wrap: wrap; width: 100% }\n",
              "    .wandb-col { display: flex; flex-direction: column; flex-basis: 100%; flex: 1; padding: 10px; }\n",
              "    </style>\n",
              "<div class=\"wandb-row\"><div class=\"wandb-col\"><h3>Run history:</h3><br/><table class=\"wandb\"><tr><td>accuracy</td><td>▁▃▅▇█</td></tr><tr><td>epoch</td><td>▁▃▅▆█</td></tr><tr><td>loss</td><td>█▅▃▂▁</td></tr><tr><td>val_accuracy</td><td>▁▄▆▇█</td></tr><tr><td>val_loss</td><td>█▆▄▂▁</td></tr></table><br/></div><div class=\"wandb-col\"><h3>Run summary:</h3><br/><table class=\"wandb\"><tr><td>accuracy</td><td>0.46295</td></tr><tr><td>best_epoch</td><td>4</td></tr><tr><td>best_val_loss</td><td>1.34493</td></tr><tr><td>epoch</td><td>4</td></tr><tr><td>loss</td><td>1.66767</td></tr><tr><td>val_accuracy</td><td>0.662</td></tr><tr><td>val_loss</td><td>1.34493</td></tr></table><br/></div></div>"
            ],
            "text/plain": [
              "<IPython.core.display.HTML object>"
            ]
          },
          "metadata": {},
          "output_type": "display_data"
        },
        {
          "data": {
            "text/html": [
              "Synced <strong style=\"color:#cdcd00\">glowing-sweep-11</strong>: <a href=\"https://wandb.ai/manishiitm/CS6910_Assignment2B/runs/qofc58lp\" target=\"_blank\">https://wandb.ai/manishiitm/CS6910_Assignment2B/runs/qofc58lp</a><br/>Synced 5 W&B file(s), 1 media file(s), 0 artifact file(s) and 3 other file(s)"
            ],
            "text/plain": [
              "<IPython.core.display.HTML object>"
            ]
          },
          "metadata": {},
          "output_type": "display_data"
        },
        {
          "data": {
            "text/html": [
              "Find logs at: <code>./wandb/run-20220404_165215-qofc58lp/logs</code>"
            ],
            "text/plain": [
              "<IPython.core.display.HTML object>"
            ]
          },
          "metadata": {},
          "output_type": "display_data"
        },
        {
          "metadata": {
            "tags": null
          },
          "name": "stderr",
          "output_type": "stream",
          "text": [
            "\u001b[34m\u001b[1mwandb\u001b[0m: Agent Starting Run: sz8msg0g with config:\n",
            "\u001b[34m\u001b[1mwandb\u001b[0m: \taugment_data: True\n",
            "\u001b[34m\u001b[1mwandb\u001b[0m: \tbase_model: ResNet50\n",
            "\u001b[34m\u001b[1mwandb\u001b[0m: \tbatch_normalisation: True\n",
            "\u001b[34m\u001b[1mwandb\u001b[0m: \tdense_Size: 128\n",
            "\u001b[34m\u001b[1mwandb\u001b[0m: \tdropout: 0.37\n",
            "\u001b[34m\u001b[1mwandb\u001b[0m: \tepochs: 5\n",
            "\u001b[34m\u001b[1mwandb\u001b[0m: \tlr: 0.0002\n"
          ]
        },
        {
          "metadata": {
            "tags": null
          },
          "name": "stdout",
          "output_type": "stream",
          "text": [
            "#############\n"
          ]
        },
        {
          "metadata": {
            "tags": null
          },
          "name": "stderr",
          "output_type": "stream",
          "text": [
            "\u001b[34m\u001b[1mwandb\u001b[0m: \u001b[33mWARNING\u001b[0m Ignored wandb.init() arg project when running a sweep.\n"
          ]
        },
        {
          "data": {
            "text/html": [
              "Tracking run with wandb version 0.12.11"
            ],
            "text/plain": [
              "<IPython.core.display.HTML object>"
            ]
          },
          "metadata": {},
          "output_type": "display_data"
        },
        {
          "data": {
            "text/html": [
              "Run data is saved locally in <code>/content/wandb/run-20220404_170601-sz8msg0g</code>"
            ],
            "text/plain": [
              "<IPython.core.display.HTML object>"
            ]
          },
          "metadata": {},
          "output_type": "display_data"
        },
        {
          "data": {
            "text/html": [
              "Syncing run <strong><a href=\"https://wandb.ai/manishiitm/CS6910_Assignment2B/runs/sz8msg0g\" target=\"_blank\">likely-sweep-12</a></strong> to <a href=\"https://wandb.ai/manishiitm/CS6910_Assignment2B\" target=\"_blank\">Weights & Biases</a> (<a href=\"https://wandb.me/run\" target=\"_blank\">docs</a>)<br/>Sweep page:  <a href=\"https://wandb.ai/manishiitm/CS6910_Assignment2B/sweeps/05k4rflm\" target=\"_blank\">https://wandb.ai/manishiitm/CS6910_Assignment2B/sweeps/05k4rflm</a>"
            ],
            "text/plain": [
              "<IPython.core.display.HTML object>"
            ]
          },
          "metadata": {},
          "output_type": "display_data"
        },
        {
          "metadata": {
            "tags": null
          },
          "name": "stdout",
          "output_type": "stream",
          "text": [
            "#############\n",
            "1. Loading the dataset ...\n",
            "\n",
            "Found 9999 images belonging to 10 classes.\n",
            "Found 2000 images belonging to 10 classes.\n",
            "Total layers in base model is 8\n",
            "\n",
            "yehi h4\n",
            "Fine tuning the model ...\n",
            "\n",
            "Epoch 1/5\n",
            "79/79 [==============================] - 231s 3s/step - loss: 2.5411 - accuracy: 0.0972 - val_loss: 2.3098 - val_accuracy: 0.0950 - _timestamp: 1649092204.0000 - _runtime: 243.0000\n",
            "Epoch 2/5\n",
            "79/79 [==============================] - 225s 3s/step - loss: 2.4348 - accuracy: 0.1031 - val_loss: 2.3032 - val_accuracy: 0.1115 - _timestamp: 1649092429.0000 - _runtime: 468.0000\n",
            "Epoch 3/5\n",
            "79/79 [==============================] - 242s 3s/step - loss: 2.3856 - accuracy: 0.1011 - val_loss: 2.2976 - val_accuracy: 0.1200 - _timestamp: 1649092671.0000 - _runtime: 710.0000\n",
            "Epoch 4/5\n",
            "79/79 [==============================] - 224s 3s/step - loss: 2.3604 - accuracy: 0.1031 - val_loss: 2.2958 - val_accuracy: 0.1210 - _timestamp: 1649092894.0000 - _runtime: 933.0000\n",
            "Epoch 5/5\n",
            "79/79 [==============================] - 225s 3s/step - loss: 2.3439 - accuracy: 0.1015 - val_loss: 2.2952 - val_accuracy: 0.1355 - _timestamp: 1649093119.0000 - _runtime: 1158.0000\n",
            "Model tuned successfully!!\n",
            "\n",
            "\n"
          ]
        },
        {
          "data": {
            "text/html": [
              "Waiting for W&B process to finish... <strong style=\"color:green\">(success).</strong>"
            ],
            "text/plain": [
              "<IPython.core.display.HTML object>"
            ]
          },
          "metadata": {},
          "output_type": "display_data"
        },
        {
          "data": {
            "application/vnd.jupyter.widget-view+json": {
              "model_id": "811fee81c7a341d384b6037c96fb3aa7",
              "version_major": 2,
              "version_minor": 0
            },
            "text/plain": [
              "VBox(children=(Label(value='140.038 MB of 140.040 MB uploaded (0.000 MB deduped)\\r'), FloatProgress(value=0.99…"
            ]
          },
          "metadata": {},
          "output_type": "display_data"
        },
        {
          "data": {
            "text/html": [
              "<style>\n",
              "    table.wandb td:nth-child(1) { padding: 0 10px; text-align: right }\n",
              "    .wandb-row { display: flex; flex-direction: row; flex-wrap: wrap; width: 100% }\n",
              "    .wandb-col { display: flex; flex-direction: column; flex-basis: 100%; flex: 1; padding: 10px; }\n",
              "    </style>\n",
              "<div class=\"wandb-row\"><div class=\"wandb-col\"><h3>Run history:</h3><br/><table class=\"wandb\"><tr><td>accuracy</td><td>▁█▆█▆</td></tr><tr><td>epoch</td><td>▁▃▅▆█</td></tr><tr><td>loss</td><td>█▄▂▂▁</td></tr><tr><td>val_accuracy</td><td>▁▄▅▅█</td></tr><tr><td>val_loss</td><td>█▅▂▁▁</td></tr></table><br/></div><div class=\"wandb-col\"><h3>Run summary:</h3><br/><table class=\"wandb\"><tr><td>accuracy</td><td>0.10151</td></tr><tr><td>best_epoch</td><td>4</td></tr><tr><td>best_val_loss</td><td>2.29521</td></tr><tr><td>epoch</td><td>4</td></tr><tr><td>loss</td><td>2.34392</td></tr><tr><td>val_accuracy</td><td>0.1355</td></tr><tr><td>val_loss</td><td>2.29521</td></tr></table><br/></div></div>"
            ],
            "text/plain": [
              "<IPython.core.display.HTML object>"
            ]
          },
          "metadata": {},
          "output_type": "display_data"
        },
        {
          "data": {
            "text/html": [
              "Synced <strong style=\"color:#cdcd00\">likely-sweep-12</strong>: <a href=\"https://wandb.ai/manishiitm/CS6910_Assignment2B/runs/sz8msg0g\" target=\"_blank\">https://wandb.ai/manishiitm/CS6910_Assignment2B/runs/sz8msg0g</a><br/>Synced 5 W&B file(s), 1 media file(s), 0 artifact file(s) and 3 other file(s)"
            ],
            "text/plain": [
              "<IPython.core.display.HTML object>"
            ]
          },
          "metadata": {},
          "output_type": "display_data"
        },
        {
          "data": {
            "text/html": [
              "Find logs at: <code>./wandb/run-20220404_170601-sz8msg0g/logs</code>"
            ],
            "text/plain": [
              "<IPython.core.display.HTML object>"
            ]
          },
          "metadata": {},
          "output_type": "display_data"
        },
        {
          "metadata": {
            "tags": null
          },
          "name": "stderr",
          "output_type": "stream",
          "text": [
            "\u001b[34m\u001b[1mwandb\u001b[0m: Agent Starting Run: tw9rmt2y with config:\n",
            "\u001b[34m\u001b[1mwandb\u001b[0m: \taugment_data: False\n",
            "\u001b[34m\u001b[1mwandb\u001b[0m: \tbase_model: InceptionV3\n",
            "\u001b[34m\u001b[1mwandb\u001b[0m: \tbatch_normalisation: False\n",
            "\u001b[34m\u001b[1mwandb\u001b[0m: \tdense_Size: 128\n",
            "\u001b[34m\u001b[1mwandb\u001b[0m: \tdropout: 0.37\n",
            "\u001b[34m\u001b[1mwandb\u001b[0m: \tepochs: 5\n",
            "\u001b[34m\u001b[1mwandb\u001b[0m: \tlr: 0.0002\n"
          ]
        },
        {
          "metadata": {
            "tags": null
          },
          "name": "stdout",
          "output_type": "stream",
          "text": [
            "#############\n"
          ]
        },
        {
          "metadata": {
            "tags": null
          },
          "name": "stderr",
          "output_type": "stream",
          "text": [
            "\u001b[34m\u001b[1mwandb\u001b[0m: \u001b[33mWARNING\u001b[0m Ignored wandb.init() arg project when running a sweep.\n"
          ]
        },
        {
          "data": {
            "text/html": [
              "Tracking run with wandb version 0.12.11"
            ],
            "text/plain": [
              "<IPython.core.display.HTML object>"
            ]
          },
          "metadata": {},
          "output_type": "display_data"
        },
        {
          "data": {
            "text/html": [
              "Run data is saved locally in <code>/content/wandb/run-20220404_172532-tw9rmt2y</code>"
            ],
            "text/plain": [
              "<IPython.core.display.HTML object>"
            ]
          },
          "metadata": {},
          "output_type": "display_data"
        },
        {
          "data": {
            "text/html": [
              "Syncing run <strong><a href=\"https://wandb.ai/manishiitm/CS6910_Assignment2B/runs/tw9rmt2y\" target=\"_blank\">genial-sweep-13</a></strong> to <a href=\"https://wandb.ai/manishiitm/CS6910_Assignment2B\" target=\"_blank\">Weights & Biases</a> (<a href=\"https://wandb.me/run\" target=\"_blank\">docs</a>)<br/>Sweep page:  <a href=\"https://wandb.ai/manishiitm/CS6910_Assignment2B/sweeps/05k4rflm\" target=\"_blank\">https://wandb.ai/manishiitm/CS6910_Assignment2B/sweeps/05k4rflm</a>"
            ],
            "text/plain": [
              "<IPython.core.display.HTML object>"
            ]
          },
          "metadata": {},
          "output_type": "display_data"
        },
        {
          "metadata": {
            "tags": null
          },
          "name": "stdout",
          "output_type": "stream",
          "text": [
            "#############\n",
            "1. Loading the dataset ...\n",
            "\n",
            "Found 9999 images belonging to 10 classes.\n",
            "Found 2000 images belonging to 10 classes.\n",
            "Total layers in base model is 7\n",
            "\n",
            "yehi h4\n",
            "Fine tuning the model ...\n",
            "\n",
            "Epoch 1/5\n",
            "79/79 [==============================] - 154s 2s/step - loss: 2.6152 - accuracy: 0.1178 - val_loss: 2.2665 - val_accuracy: 0.1770 - _timestamp: 1649093295.0000 - _runtime: 163.0000\n",
            "Epoch 2/5\n",
            "79/79 [==============================] - 147s 2s/step - loss: 2.4214 - accuracy: 0.1512 - val_loss: 2.1900 - val_accuracy: 0.2300 - _timestamp: 1649093443.0000 - _runtime: 311.0000\n",
            "Epoch 3/5\n",
            "79/79 [==============================] - 146s 2s/step - loss: 2.3149 - accuracy: 0.1642 - val_loss: 2.1362 - val_accuracy: 0.2935 - _timestamp: 1649093589.0000 - _runtime: 457.0000\n",
            "Epoch 4/5\n",
            "79/79 [==============================] - 146s 2s/step - loss: 2.2446 - accuracy: 0.1972 - val_loss: 2.0902 - val_accuracy: 0.3430 - _timestamp: 1649093735.0000 - _runtime: 603.0000\n",
            "Epoch 5/5\n",
            "79/79 [==============================] - 146s 2s/step - loss: 2.1944 - accuracy: 0.2189 - val_loss: 2.0451 - val_accuracy: 0.3875 - _timestamp: 1649093881.0000 - _runtime: 749.0000\n",
            "Model tuned successfully!!\n",
            "\n",
            "\n"
          ]
        },
        {
          "data": {
            "text/html": [
              "Waiting for W&B process to finish... <strong style=\"color:green\">(success).</strong>"
            ],
            "text/plain": [
              "<IPython.core.display.HTML object>"
            ]
          },
          "metadata": {},
          "output_type": "display_data"
        },
        {
          "data": {
            "application/vnd.jupyter.widget-view+json": {
              "model_id": "4a408aba9a2f4b268164e48554ec4c4c",
              "version_major": 2,
              "version_minor": 0
            },
            "text/plain": [
              "VBox(children=(Label(value='148.627 MB of 148.627 MB uploaded (0.000 MB deduped)\\r'), FloatProgress(value=1.0,…"
            ]
          },
          "metadata": {},
          "output_type": "display_data"
        },
        {
          "data": {
            "text/html": [
              "<style>\n",
              "    table.wandb td:nth-child(1) { padding: 0 10px; text-align: right }\n",
              "    .wandb-row { display: flex; flex-direction: row; flex-wrap: wrap; width: 100% }\n",
              "    .wandb-col { display: flex; flex-direction: column; flex-basis: 100%; flex: 1; padding: 10px; }\n",
              "    </style>\n",
              "<div class=\"wandb-row\"><div class=\"wandb-col\"><h3>Run history:</h3><br/><table class=\"wandb\"><tr><td>accuracy</td><td>▁▃▄▆█</td></tr><tr><td>epoch</td><td>▁▃▅▆█</td></tr><tr><td>loss</td><td>█▅▃▂▁</td></tr><tr><td>val_accuracy</td><td>▁▃▅▇█</td></tr><tr><td>val_loss</td><td>█▆▄▂▁</td></tr></table><br/></div><div class=\"wandb-col\"><h3>Run summary:</h3><br/><table class=\"wandb\"><tr><td>accuracy</td><td>0.21892</td></tr><tr><td>best_epoch</td><td>4</td></tr><tr><td>best_val_loss</td><td>2.04508</td></tr><tr><td>epoch</td><td>4</td></tr><tr><td>loss</td><td>2.19438</td></tr><tr><td>val_accuracy</td><td>0.3875</td></tr><tr><td>val_loss</td><td>2.04508</td></tr></table><br/></div></div>"
            ],
            "text/plain": [
              "<IPython.core.display.HTML object>"
            ]
          },
          "metadata": {},
          "output_type": "display_data"
        },
        {
          "data": {
            "text/html": [
              "Synced <strong style=\"color:#cdcd00\">genial-sweep-13</strong>: <a href=\"https://wandb.ai/manishiitm/CS6910_Assignment2B/runs/tw9rmt2y\" target=\"_blank\">https://wandb.ai/manishiitm/CS6910_Assignment2B/runs/tw9rmt2y</a><br/>Synced 5 W&B file(s), 1 media file(s), 0 artifact file(s) and 3 other file(s)"
            ],
            "text/plain": [
              "<IPython.core.display.HTML object>"
            ]
          },
          "metadata": {},
          "output_type": "display_data"
        },
        {
          "data": {
            "text/html": [
              "Find logs at: <code>./wandb/run-20220404_172532-tw9rmt2y/logs</code>"
            ],
            "text/plain": [
              "<IPython.core.display.HTML object>"
            ]
          },
          "metadata": {},
          "output_type": "display_data"
        },
        {
          "metadata": {
            "tags": null
          },
          "name": "stderr",
          "output_type": "stream",
          "text": [
            "\u001b[34m\u001b[1mwandb\u001b[0m: Agent Starting Run: k6oym82r with config:\n",
            "\u001b[34m\u001b[1mwandb\u001b[0m: \taugment_data: True\n",
            "\u001b[34m\u001b[1mwandb\u001b[0m: \tbase_model: Xception\n",
            "\u001b[34m\u001b[1mwandb\u001b[0m: \tbatch_normalisation: False\n",
            "\u001b[34m\u001b[1mwandb\u001b[0m: \tdense_Size: 128\n",
            "\u001b[34m\u001b[1mwandb\u001b[0m: \tdropout: 0.37\n",
            "\u001b[34m\u001b[1mwandb\u001b[0m: \tepochs: 10\n",
            "\u001b[34m\u001b[1mwandb\u001b[0m: \tlr: 0.0002\n"
          ]
        },
        {
          "metadata": {
            "tags": null
          },
          "name": "stdout",
          "output_type": "stream",
          "text": [
            "#############\n"
          ]
        },
        {
          "metadata": {
            "tags": null
          },
          "name": "stderr",
          "output_type": "stream",
          "text": [
            "\u001b[34m\u001b[1mwandb\u001b[0m: \u001b[33mWARNING\u001b[0m Ignored wandb.init() arg project when running a sweep.\n"
          ]
        },
        {
          "data": {
            "text/html": [
              "Tracking run with wandb version 0.12.11"
            ],
            "text/plain": [
              "<IPython.core.display.HTML object>"
            ]
          },
          "metadata": {},
          "output_type": "display_data"
        },
        {
          "data": {
            "text/html": [
              "Run data is saved locally in <code>/content/wandb/run-20220404_173910-k6oym82r</code>"
            ],
            "text/plain": [
              "<IPython.core.display.HTML object>"
            ]
          },
          "metadata": {},
          "output_type": "display_data"
        },
        {
          "data": {
            "text/html": [
              "Syncing run <strong><a href=\"https://wandb.ai/manishiitm/CS6910_Assignment2B/runs/k6oym82r\" target=\"_blank\">sage-sweep-14</a></strong> to <a href=\"https://wandb.ai/manishiitm/CS6910_Assignment2B\" target=\"_blank\">Weights & Biases</a> (<a href=\"https://wandb.me/run\" target=\"_blank\">docs</a>)<br/>Sweep page:  <a href=\"https://wandb.ai/manishiitm/CS6910_Assignment2B/sweeps/05k4rflm\" target=\"_blank\">https://wandb.ai/manishiitm/CS6910_Assignment2B/sweeps/05k4rflm</a>"
            ],
            "text/plain": [
              "<IPython.core.display.HTML object>"
            ]
          },
          "metadata": {},
          "output_type": "display_data"
        },
        {
          "output_type": "stream",
          "name": "stdout",
          "text": [
            "#############\n",
            "1. Loading the dataset ...\n",
            "\n",
            "Found 9999 images belonging to 10 classes.\n",
            "Found 2000 images belonging to 10 classes.\n",
            "Downloading data from https://storage.googleapis.com/tensorflow/keras-applications/xception/xception_weights_tf_dim_ordering_tf_kernels_notop.h5\n",
            "83689472/83683744 [==============================] - 0s 0us/step\n",
            "83697664/83683744 [==============================] - 0s 0us/step\n",
            "Total layers in base model is 7\n",
            "\n",
            "yehi h4\n",
            "Fine tuning the model ...\n",
            "\n",
            "Epoch 1/10\n",
            "79/79 [==============================] - 332s 4s/step - loss: 2.3847 - accuracy: 0.1196 - val_loss: 2.2415 - val_accuracy: 0.2005 - _timestamp: 1649094295.0000 - _runtime: 345.0000\n",
            "Epoch 2/10\n",
            "79/79 [==============================] - 321s 4s/step - loss: 2.2826 - accuracy: 0.1490 - val_loss: 2.1655 - val_accuracy: 0.2960 - _timestamp: 1649094617.0000 - _runtime: 667.0000\n",
            "Epoch 3/10\n",
            "79/79 [==============================] - 322s 4s/step - loss: 2.2210 - accuracy: 0.1938 - val_loss: 2.0948 - val_accuracy: 0.3770 - _timestamp: 1649094939.0000 - _runtime: 989.0000\n",
            "Epoch 4/10\n",
            "79/79 [==============================] - 322s 4s/step - loss: 2.1609 - accuracy: 0.2275 - val_loss: 2.0250 - val_accuracy: 0.4315 - _timestamp: 1649095262.0000 - _runtime: 1312.0000\n",
            "Epoch 5/10\n",
            "79/79 [==============================] - 322s 4s/step - loss: 2.0993 - accuracy: 0.2613 - val_loss: 1.9558 - val_accuracy: 0.4660 - _timestamp: 1649095583.0000 - _runtime: 1633.0000\n",
            "Epoch 6/10\n",
            "79/79 [==============================] - 321s 4s/step - loss: 2.0680 - accuracy: 0.2844 - val_loss: 1.8896 - val_accuracy: 0.4950 - _timestamp: 1649095905.0000 - _runtime: 1955.0000\n",
            "Epoch 7/10\n",
            "79/79 [==============================] - 321s 4s/step - loss: 2.0094 - accuracy: 0.3187 - val_loss: 1.8225 - val_accuracy: 0.5235 - _timestamp: 1649096226.0000 - _runtime: 2276.0000\n",
            "Epoch 8/10\n",
            "79/79 [==============================] - 322s 4s/step - loss: 1.9777 - accuracy: 0.3245 - val_loss: 1.7644 - val_accuracy: 0.5445 - _timestamp: 1649096548.0000 - _runtime: 2598.0000\n",
            "Epoch 9/10\n",
            "79/79 [==============================] - 322s 4s/step - loss: 1.9433 - accuracy: 0.3351 - val_loss: 1.7123 - val_accuracy: 0.5550 - _timestamp: 1649096870.0000 - _runtime: 2920.0000\n",
            "Epoch 10/10\n",
            "79/79 [==============================] - 321s 4s/step - loss: 1.9125 - accuracy: 0.3507 - val_loss: 1.6659 - val_accuracy: 0.5720 - _timestamp: 1649097191.0000 - _runtime: 3241.0000\n",
            "Model tuned successfully!!\n",
            "\n",
            "\n"
          ]
        },
        {
          "output_type": "display_data",
          "data": {
            "text/plain": [
              "<IPython.core.display.HTML object>"
            ],
            "text/html": [
              "Waiting for W&B process to finish... <strong style=\"color:green\">(success).</strong>"
            ]
          },
          "metadata": {}
        },
        {
          "output_type": "display_data",
          "data": {
            "text/plain": [
              "VBox(children=(Label(value='180.510 MB of 180.510 MB uploaded (0.000 MB deduped)\\r'), FloatProgress(value=1.0,…"
            ],
            "application/vnd.jupyter.widget-view+json": {
              "version_major": 2,
              "version_minor": 0,
              "model_id": "6173913cef7b4af1bed2ee22166619f0"
            }
          },
          "metadata": {}
        },
        {
          "output_type": "display_data",
          "data": {
            "text/plain": [
              "<IPython.core.display.HTML object>"
            ],
            "text/html": [
              "<style>\n",
              "    table.wandb td:nth-child(1) { padding: 0 10px; text-align: right }\n",
              "    .wandb-row { display: flex; flex-direction: row; flex-wrap: wrap; width: 100% }\n",
              "    .wandb-col { display: flex; flex-direction: column; flex-basis: 100%; flex: 1; padding: 10px; }\n",
              "    </style>\n",
              "<div class=\"wandb-row\"><div class=\"wandb-col\"><h3>Run history:</h3><br/><table class=\"wandb\"><tr><td>accuracy</td><td>▁▂▃▄▅▆▇▇██</td></tr><tr><td>epoch</td><td>▁▂▃▃▄▅▆▆▇█</td></tr><tr><td>loss</td><td>█▆▆▅▄▃▂▂▁▁</td></tr><tr><td>val_accuracy</td><td>▁▃▄▅▆▇▇▇██</td></tr><tr><td>val_loss</td><td>█▇▆▅▅▄▃▂▂▁</td></tr></table><br/></div><div class=\"wandb-col\"><h3>Run summary:</h3><br/><table class=\"wandb\"><tr><td>accuracy</td><td>0.35074</td></tr><tr><td>best_epoch</td><td>9</td></tr><tr><td>best_val_loss</td><td>1.66589</td></tr><tr><td>epoch</td><td>9</td></tr><tr><td>loss</td><td>1.91249</td></tr><tr><td>val_accuracy</td><td>0.572</td></tr><tr><td>val_loss</td><td>1.66589</td></tr></table><br/></div></div>"
            ]
          },
          "metadata": {}
        },
        {
          "output_type": "display_data",
          "data": {
            "text/plain": [
              "<IPython.core.display.HTML object>"
            ],
            "text/html": [
              "Synced <strong style=\"color:#cdcd00\">sage-sweep-14</strong>: <a href=\"https://wandb.ai/manishiitm/CS6910_Assignment2B/runs/k6oym82r\" target=\"_blank\">https://wandb.ai/manishiitm/CS6910_Assignment2B/runs/k6oym82r</a><br/>Synced 5 W&B file(s), 1 media file(s), 0 artifact file(s) and 3 other file(s)"
            ]
          },
          "metadata": {}
        },
        {
          "output_type": "display_data",
          "data": {
            "text/plain": [
              "<IPython.core.display.HTML object>"
            ],
            "text/html": [
              "Find logs at: <code>./wandb/run-20220404_173910-k6oym82r/logs</code>"
            ]
          },
          "metadata": {}
        },
        {
          "output_type": "stream",
          "name": "stderr",
          "text": [
            "\u001b[34m\u001b[1mwandb\u001b[0m: Agent Starting Run: 4kh1y202 with config:\n",
            "\u001b[34m\u001b[1mwandb\u001b[0m: \taugment_data: True\n",
            "\u001b[34m\u001b[1mwandb\u001b[0m: \tbase_model: InceptionV3\n",
            "\u001b[34m\u001b[1mwandb\u001b[0m: \tbatch_normalisation: True\n",
            "\u001b[34m\u001b[1mwandb\u001b[0m: \tdense_Size: 128\n",
            "\u001b[34m\u001b[1mwandb\u001b[0m: \tdropout: 0.37\n",
            "\u001b[34m\u001b[1mwandb\u001b[0m: \tepochs: 5\n",
            "\u001b[34m\u001b[1mwandb\u001b[0m: \tlr: 7e-05\n"
          ]
        },
        {
          "output_type": "stream",
          "name": "stdout",
          "text": [
            "#############\n"
          ]
        },
        {
          "output_type": "stream",
          "name": "stderr",
          "text": [
            "\u001b[34m\u001b[1mwandb\u001b[0m: \u001b[33mWARNING\u001b[0m Ignored wandb.init() arg project when running a sweep.\n"
          ]
        },
        {
          "output_type": "display_data",
          "data": {
            "text/plain": [
              "<IPython.core.display.HTML object>"
            ],
            "text/html": [
              "Tracking run with wandb version 0.12.11"
            ]
          },
          "metadata": {}
        },
        {
          "output_type": "display_data",
          "data": {
            "text/plain": [
              "<IPython.core.display.HTML object>"
            ],
            "text/html": [
              "Run data is saved locally in <code>/content/wandb/run-20220404_183328-4kh1y202</code>"
            ]
          },
          "metadata": {}
        },
        {
          "output_type": "display_data",
          "data": {
            "text/plain": [
              "<IPython.core.display.HTML object>"
            ],
            "text/html": [
              "Syncing run <strong><a href=\"https://wandb.ai/manishiitm/CS6910_Assignment2B/runs/4kh1y202\" target=\"_blank\">jumping-sweep-15</a></strong> to <a href=\"https://wandb.ai/manishiitm/CS6910_Assignment2B\" target=\"_blank\">Weights & Biases</a> (<a href=\"https://wandb.me/run\" target=\"_blank\">docs</a>)<br/>Sweep page:  <a href=\"https://wandb.ai/manishiitm/CS6910_Assignment2B/sweeps/05k4rflm\" target=\"_blank\">https://wandb.ai/manishiitm/CS6910_Assignment2B/sweeps/05k4rflm</a>"
            ]
          },
          "metadata": {}
        },
        {
          "output_type": "stream",
          "name": "stdout",
          "text": [
            "#############\n",
            "1. Loading the dataset ...\n",
            "\n",
            "Found 9999 images belonging to 10 classes.\n",
            "Found 2000 images belonging to 10 classes.\n",
            "Total layers in base model is 8\n",
            "\n",
            "yehi h4\n",
            "Fine tuning the model ...\n",
            "\n",
            "Epoch 1/5\n",
            "79/79 [==============================] - 305s 4s/step - loss: 2.8298 - accuracy: 0.1096 - val_loss: 2.3656 - val_accuracy: 0.1290 - _timestamp: 1649097527.0000 - _runtime: 319.0000\n",
            "Epoch 2/5\n",
            "79/79 [==============================] - 299s 4s/step - loss: 2.6731 - accuracy: 0.1101 - val_loss: 2.3103 - val_accuracy: 0.1405 - _timestamp: 1649097827.0000 - _runtime: 619.0000\n",
            "Epoch 3/5\n",
            "79/79 [==============================] - 298s 4s/step - loss: 2.5675 - accuracy: 0.1240 - val_loss: 2.2758 - val_accuracy: 0.1525 - _timestamp: 1649098125.0000 - _runtime: 917.0000\n",
            "Epoch 4/5\n",
            "79/79 [==============================] - 299s 4s/step - loss: 2.5277 - accuracy: 0.1212 - val_loss: 2.2481 - val_accuracy: 0.1680 - _timestamp: 1649098423.0000 - _runtime: 1215.0000\n",
            "Epoch 5/5\n",
            "44/79 [===============>..............] - ETA: 2:00 - loss: 2.4620 - accuracy: 0.1330"
          ]
        }
      ]
    },
    {
      "cell_type": "code",
      "source": [
        "# running the sweep\n",
        "wandb.agent(sweep_id, function=train_model,count=40)"
      ],
      "metadata": {
        "colab": {
          "base_uri": "https://localhost:8080/",
          "height": 1000,
          "referenced_widgets": [
            "ea7173d36de44053af1bb0045131c003",
            "1941ebd813fd4f008c86f71409f49a62",
            "213f5389d5134ea1b6f8e5cb7ddc8fe8",
            "629a65a5cbc34ddc906062852f6dac2c",
            "7c52bb125f1d4574a85249fd78d5f46f",
            "a6b1d7fb69e84af28b9f5b463784ab66",
            "fe656c2ed04246ac988530d38e7ded9d",
            "3384bccff75f4258b3871c191db5f2c5",
            "9c019be66a834c5bb32bf9694555f8da",
            "c6207e0c861d4c8aac7a7f8ce3bd3e1b",
            "e8c8589ddc2543b1b5a54a70e5c90a21",
            "41dc4d46b32d4b7ab2c6644002bd8291",
            "140c53c5c0294d178c00385232d4af64",
            "88f4e6ca7e834f5c8ec94fdd0c610852",
            "38478ee9ec0546dbbac1556751f24aff",
            "5b5d84027e724295b5ca8494c70166d7",
            "811fbb8981694ae9a23525e716214489",
            "770681df93f444579266a2a884172e30",
            "51b0eb373f104921baffa6971514334b",
            "5b4aa7d5537c433997dc961d4ba8ced8",
            "675c990442d84ef695e720caff59aedc",
            "87419fc3ac50455eb10a54d8c02398ac",
            "e339cb8938cb4089a12f166b95f2345c",
            "f73af0ed3a224db58cf85169615c0b13",
            "5dfaa2c9f6f04303a4beca0286356163",
            "91619afdd43041629be5d011c8d2b013",
            "1a5020684f7c46d2ac73e9714b3db60b",
            "59665d7a5fd443cdbdaede68ec8f6939",
            "079a2b60717642c6b7f9aa7e06a37bc9",
            "8722576ccd4f49c88979161461617772",
            "facc7374bf0f4721889741bedf37930d",
            "140efffed0c942e184935d30a0bdb2fa",
            "70e02a4235084d1697a35d1adcdb4b2d",
            "817d4906fc78447a9b866314e490173d",
            "7a89f733c971484aa62422d6e523ef1a",
            "cf30fbf524d64d449cabcc15782c57e7",
            "9d31d2b2538043ac99d3d79a026773e3",
            "85f79a951f214289a8547552b9198100",
            "1dc593128ac3483cbcd1f3d6c9e643b7",
            "24742e1420ed4d2a976c6e6e22042419"
          ]
        },
        "id": "hw0rHTyA8zuV",
        "outputId": "42844ef1-f59f-49c5-ed9b-3cd30760b805"
      },
      "execution_count": null,
      "outputs": [
        {
          "output_type": "stream",
          "name": "stderr",
          "text": [
            "\u001b[34m\u001b[1mwandb\u001b[0m: Agent Starting Run: rt67m1yx with config:\n",
            "\u001b[34m\u001b[1mwandb\u001b[0m: \taugment_data: False\n",
            "\u001b[34m\u001b[1mwandb\u001b[0m: \tbase_model: InceptionV3\n",
            "\u001b[34m\u001b[1mwandb\u001b[0m: \tbatch_normalisation: True\n",
            "\u001b[34m\u001b[1mwandb\u001b[0m: \tdense_Size: 512\n",
            "\u001b[34m\u001b[1mwandb\u001b[0m: \tdropout: 0.37\n",
            "\u001b[34m\u001b[1mwandb\u001b[0m: \tepochs: 5\n",
            "\u001b[34m\u001b[1mwandb\u001b[0m: \tlr: 0.0002\n",
            "\u001b[34m\u001b[1mwandb\u001b[0m: Currently logged in as: \u001b[33mmanishiitm\u001b[0m (use `wandb login --relogin` to force relogin)\n",
            "\u001b[34m\u001b[1mwandb\u001b[0m: \u001b[33mWARNING\u001b[0m Ignored wandb.init() arg project when running a sweep.\n"
          ]
        },
        {
          "output_type": "display_data",
          "data": {
            "text/plain": [
              "<IPython.core.display.HTML object>"
            ],
            "text/html": [
              "Tracking run with wandb version 0.12.11"
            ]
          },
          "metadata": {}
        },
        {
          "output_type": "display_data",
          "data": {
            "text/plain": [
              "<IPython.core.display.HTML object>"
            ],
            "text/html": [
              "Run data is saved locally in <code>/content/wandb/run-20220404_190335-rt67m1yx</code>"
            ]
          },
          "metadata": {}
        },
        {
          "output_type": "display_data",
          "data": {
            "text/plain": [
              "<IPython.core.display.HTML object>"
            ],
            "text/html": [
              "Syncing run <strong><a href=\"https://wandb.ai/manishiitm/CS6910_Assignment2B/runs/rt67m1yx\" target=\"_blank\">ethereal-sweep-1</a></strong> to <a href=\"https://wandb.ai/manishiitm/CS6910_Assignment2B\" target=\"_blank\">Weights & Biases</a> (<a href=\"https://wandb.me/run\" target=\"_blank\">docs</a>)<br/>Sweep page:  <a href=\"https://wandb.ai/manishiitm/CS6910_Assignment2B/sweeps/57910bdu\" target=\"_blank\">https://wandb.ai/manishiitm/CS6910_Assignment2B/sweeps/57910bdu</a>"
            ]
          },
          "metadata": {}
        },
        {
          "output_type": "stream",
          "name": "stderr",
          "text": [
            "\u001b[34m\u001b[1mwandb\u001b[0m: \u001b[33mWARNING\u001b[0m Ignored wandb.init() arg project when running a sweep.\n"
          ]
        },
        {
          "output_type": "display_data",
          "data": {
            "text/plain": [
              "<IPython.core.display.HTML object>"
            ],
            "text/html": [
              "Finishing last run (ID:rt67m1yx) before initializing another..."
            ]
          },
          "metadata": {}
        },
        {
          "output_type": "stream",
          "name": "stdout",
          "text": [
            "\n"
          ]
        },
        {
          "output_type": "display_data",
          "data": {
            "text/plain": [
              "<IPython.core.display.HTML object>"
            ],
            "text/html": [
              "Waiting for W&B process to finish... <strong style=\"color:green\">(success).</strong>"
            ]
          },
          "metadata": {}
        },
        {
          "output_type": "display_data",
          "data": {
            "text/plain": [
              "VBox(children=(Label(value='0.000 MB of 0.000 MB uploaded (0.000 MB deduped)\\r'), FloatProgress(value=1.0, max…"
            ],
            "application/vnd.jupyter.widget-view+json": {
              "version_major": 2,
              "version_minor": 0,
              "model_id": "ea7173d36de44053af1bb0045131c003"
            }
          },
          "metadata": {}
        },
        {
          "output_type": "display_data",
          "data": {
            "text/plain": [
              "<IPython.core.display.HTML object>"
            ],
            "text/html": [
              "Synced <strong style=\"color:#cdcd00\">ethereal-sweep-1</strong>: <a href=\"https://wandb.ai/manishiitm/CS6910_Assignment2B/runs/rt67m1yx\" target=\"_blank\">https://wandb.ai/manishiitm/CS6910_Assignment2B/runs/rt67m1yx</a><br/>Synced 5 W&B file(s), 0 media file(s), 0 artifact file(s) and 0 other file(s)"
            ]
          },
          "metadata": {}
        },
        {
          "output_type": "display_data",
          "data": {
            "text/plain": [
              "<IPython.core.display.HTML object>"
            ],
            "text/html": [
              "Find logs at: <code>./wandb/run-20220404_190335-rt67m1yx/logs</code>"
            ]
          },
          "metadata": {}
        },
        {
          "output_type": "display_data",
          "data": {
            "text/plain": [
              "<IPython.core.display.HTML object>"
            ],
            "text/html": [
              "Successfully finished last run (ID:rt67m1yx). Initializing new run:<br/>"
            ]
          },
          "metadata": {}
        },
        {
          "output_type": "display_data",
          "data": {
            "text/plain": [
              "<IPython.core.display.HTML object>"
            ],
            "text/html": [
              "Tracking run with wandb version 0.12.11"
            ]
          },
          "metadata": {}
        },
        {
          "output_type": "display_data",
          "data": {
            "text/plain": [
              "<IPython.core.display.HTML object>"
            ],
            "text/html": [
              "Run data is saved locally in <code>/content/wandb/run-20220404_190343-rt67m1yx</code>"
            ]
          },
          "metadata": {}
        },
        {
          "output_type": "display_data",
          "data": {
            "text/plain": [
              "<IPython.core.display.HTML object>"
            ],
            "text/html": [
              "Syncing run <strong><a href=\"https://wandb.ai/manishiitm/CS6910_Assignment2B/runs/rt67m1yx\" target=\"_blank\">ethereal-sweep-1</a></strong> to <a href=\"https://wandb.ai/manishiitm/CS6910_Assignment2B\" target=\"_blank\">Weights & Biases</a> (<a href=\"https://wandb.me/run\" target=\"_blank\">docs</a>)<br/>Sweep page:  <a href=\"https://wandb.ai/manishiitm/CS6910_Assignment2B/sweeps/57910bdu\" target=\"_blank\">https://wandb.ai/manishiitm/CS6910_Assignment2B/sweeps/57910bdu</a>"
            ]
          },
          "metadata": {}
        },
        {
          "output_type": "stream",
          "name": "stdout",
          "text": [
            "1. Loading the dataset ...\n",
            "\n",
            "Found 9999 images belonging to 10 classes.\n",
            "Found 2000 images belonging to 10 classes.\n",
            "Downloading data from https://storage.googleapis.com/tensorflow/keras-applications/inception_v3/inception_v3_weights_tf_dim_ordering_tf_kernels_notop.h5\n",
            "87916544/87910968 [==============================] - 1s 0us/step\n",
            "87924736/87910968 [==============================] - 1s 0us/step\n",
            "Total layers in base model is 8\n",
            "\n",
            "Fine tuning the model ...\n",
            "\n",
            "Epoch 1/5\n",
            "79/79 [==============================] - 272s 3s/step - loss: 2.2647 - accuracy: 0.2238 - val_loss: 1.6519 - val_accuracy: 0.5580 - _timestamp: 1649099315.0000 - _runtime: 286.0000\n",
            "Epoch 2/5\n",
            "79/79 [==============================] - 194s 2s/step - loss: 1.7424 - accuracy: 0.4322 - val_loss: 1.2781 - val_accuracy: 0.6745 - _timestamp: 1649099510.0000 - _runtime: 481.0000\n",
            "Epoch 3/5\n",
            "79/79 [==============================] - 186s 2s/step - loss: 1.4913 - accuracy: 0.5279 - val_loss: 1.0828 - val_accuracy: 0.7045 - _timestamp: 1649099695.0000 - _runtime: 666.0000\n",
            "Epoch 4/5\n",
            "79/79 [==============================] - 187s 2s/step - loss: 1.3415 - accuracy: 0.5787 - val_loss: 0.9795 - val_accuracy: 0.7230 - _timestamp: 1649099899.0000 - _runtime: 870.0000\n",
            "Epoch 5/5\n",
            "79/79 [==============================] - 185s 2s/step - loss: 1.2731 - accuracy: 0.6001 - val_loss: 0.9336 - val_accuracy: 0.7280 - _timestamp: 1649100097.0000 - _runtime: 1068.0000\n",
            "Model tuned successfully!!\n",
            "\n",
            "\n"
          ]
        },
        {
          "output_type": "display_data",
          "data": {
            "text/plain": [
              "<IPython.core.display.HTML object>"
            ],
            "text/html": [
              "Waiting for W&B process to finish... <strong style=\"color:green\">(success).</strong>"
            ]
          },
          "metadata": {}
        },
        {
          "output_type": "display_data",
          "data": {
            "text/plain": [
              "VBox(children=(Label(value='11.293 MB of 343.514 MB uploaded (0.000 MB deduped)\\r'), FloatProgress(value=0.032…"
            ],
            "application/vnd.jupyter.widget-view+json": {
              "version_major": 2,
              "version_minor": 0,
              "model_id": "9c019be66a834c5bb32bf9694555f8da"
            }
          },
          "metadata": {}
        },
        {
          "output_type": "display_data",
          "data": {
            "text/plain": [
              "<IPython.core.display.HTML object>"
            ],
            "text/html": [
              "<style>\n",
              "    table.wandb td:nth-child(1) { padding: 0 10px; text-align: right }\n",
              "    .wandb-row { display: flex; flex-direction: row; flex-wrap: wrap; width: 100% }\n",
              "    .wandb-col { display: flex; flex-direction: column; flex-basis: 100%; flex: 1; padding: 10px; }\n",
              "    </style>\n",
              "<div class=\"wandb-row\"><div class=\"wandb-col\"><h3>Run history:</h3><br/><table class=\"wandb\"><tr><td>accuracy</td><td>▁▅▇██</td></tr><tr><td>epoch</td><td>▁▃▅▆█</td></tr><tr><td>loss</td><td>█▄▃▁▁</td></tr><tr><td>val_accuracy</td><td>▁▆▇██</td></tr><tr><td>val_loss</td><td>█▄▂▁▁</td></tr></table><br/></div><div class=\"wandb-col\"><h3>Run summary:</h3><br/><table class=\"wandb\"><tr><td>accuracy</td><td>0.60006</td></tr><tr><td>best_epoch</td><td>4</td></tr><tr><td>best_val_loss</td><td>0.93359</td></tr><tr><td>epoch</td><td>4</td></tr><tr><td>loss</td><td>1.27305</td></tr><tr><td>val_accuracy</td><td>0.728</td></tr><tr><td>val_loss</td><td>0.93359</td></tr></table><br/></div></div>"
            ]
          },
          "metadata": {}
        },
        {
          "output_type": "display_data",
          "data": {
            "text/plain": [
              "<IPython.core.display.HTML object>"
            ],
            "text/html": [
              "Synced <strong style=\"color:#cdcd00\">ethereal-sweep-1</strong>: <a href=\"https://wandb.ai/manishiitm/CS6910_Assignment2B/runs/rt67m1yx\" target=\"_blank\">https://wandb.ai/manishiitm/CS6910_Assignment2B/runs/rt67m1yx</a><br/>Synced 5 W&B file(s), 1 media file(s), 0 artifact file(s) and 3 other file(s)"
            ]
          },
          "metadata": {}
        },
        {
          "output_type": "display_data",
          "data": {
            "text/plain": [
              "<IPython.core.display.HTML object>"
            ],
            "text/html": [
              "Find logs at: <code>./wandb/run-20220404_190343-rt67m1yx/logs</code>"
            ]
          },
          "metadata": {}
        },
        {
          "output_type": "stream",
          "name": "stderr",
          "text": [
            "\u001b[34m\u001b[1mwandb\u001b[0m: Agent Starting Run: q1efbqi2 with config:\n",
            "\u001b[34m\u001b[1mwandb\u001b[0m: \taugment_data: True\n",
            "\u001b[34m\u001b[1mwandb\u001b[0m: \tbase_model: InceptionResNetV2\n",
            "\u001b[34m\u001b[1mwandb\u001b[0m: \tbatch_normalisation: False\n",
            "\u001b[34m\u001b[1mwandb\u001b[0m: \tdense_Size: 512\n",
            "\u001b[34m\u001b[1mwandb\u001b[0m: \tdropout: 0.37\n",
            "\u001b[34m\u001b[1mwandb\u001b[0m: \tepochs: 10\n",
            "\u001b[34m\u001b[1mwandb\u001b[0m: \tlr: 0.0002\n",
            "\u001b[34m\u001b[1mwandb\u001b[0m: \u001b[33mWARNING\u001b[0m Ignored wandb.init() arg project when running a sweep.\n"
          ]
        },
        {
          "output_type": "display_data",
          "data": {
            "text/plain": [
              "<IPython.core.display.HTML object>"
            ],
            "text/html": [
              "Tracking run with wandb version 0.12.11"
            ]
          },
          "metadata": {}
        },
        {
          "output_type": "display_data",
          "data": {
            "text/plain": [
              "<IPython.core.display.HTML object>"
            ],
            "text/html": [
              "Run data is saved locally in <code>/content/wandb/run-20220404_192155-q1efbqi2</code>"
            ]
          },
          "metadata": {}
        },
        {
          "output_type": "display_data",
          "data": {
            "text/plain": [
              "<IPython.core.display.HTML object>"
            ],
            "text/html": [
              "Syncing run <strong><a href=\"https://wandb.ai/manishiitm/CS6910_Assignment2B/runs/q1efbqi2\" target=\"_blank\">dazzling-sweep-2</a></strong> to <a href=\"https://wandb.ai/manishiitm/CS6910_Assignment2B\" target=\"_blank\">Weights & Biases</a> (<a href=\"https://wandb.me/run\" target=\"_blank\">docs</a>)<br/>Sweep page:  <a href=\"https://wandb.ai/manishiitm/CS6910_Assignment2B/sweeps/57910bdu\" target=\"_blank\">https://wandb.ai/manishiitm/CS6910_Assignment2B/sweeps/57910bdu</a>"
            ]
          },
          "metadata": {}
        },
        {
          "output_type": "stream",
          "name": "stdout",
          "text": [
            "1. Loading the dataset ...\n",
            "\n",
            "Found 9999 images belonging to 10 classes.\n",
            "Found 2000 images belonging to 10 classes.\n",
            "Downloading data from https://storage.googleapis.com/tensorflow/keras-applications/inception_resnet_v2/inception_resnet_v2_weights_tf_dim_ordering_tf_kernels_notop.h5\n",
            "219062272/219055592 [==============================] - 2s 0us/step\n",
            "219070464/219055592 [==============================] - 2s 0us/step\n",
            "Total layers in base model is 7\n",
            "\n",
            "Fine tuning the model ...\n",
            "\n",
            "Epoch 1/10\n",
            "79/79 [==============================] - 440s 5s/step - loss: 2.3106 - accuracy: 0.2321 - val_loss: 1.6194 - val_accuracy: 0.5880 - _timestamp: 1649100576.0000 - _runtime: 461.0000\n",
            "Epoch 2/10\n",
            "79/79 [==============================] - 411s 5s/step - loss: 1.7770 - accuracy: 0.4384 - val_loss: 1.2706 - val_accuracy: 0.6855 - _timestamp: 1649101002.0000 - _runtime: 887.0000\n",
            "Epoch 3/10\n",
            "79/79 [==============================] - 423s 5s/step - loss: 1.5785 - accuracy: 0.5169 - val_loss: 1.0636 - val_accuracy: 0.7385 - _timestamp: 1649101424.0000 - _runtime: 1309.0000\n",
            "Epoch 4/10\n",
            "79/79 [==============================] - 424s 5s/step - loss: 1.4343 - accuracy: 0.5623 - val_loss: 0.9648 - val_accuracy: 0.7470 - _timestamp: 1649101868.0000 - _runtime: 1753.0000\n",
            "Epoch 5/10\n",
            "79/79 [==============================] - 417s 5s/step - loss: 1.3643 - accuracy: 0.5822 - val_loss: 0.8885 - val_accuracy: 0.7630 - _timestamp: 1649102285.0000 - _runtime: 2170.0000\n",
            "Epoch 6/10\n",
            "79/79 [==============================] - 420s 5s/step - loss: 1.3262 - accuracy: 0.5955 - val_loss: 0.8471 - val_accuracy: 0.7695 - _timestamp: 1649102730.0000 - _runtime: 2615.0000\n",
            "Epoch 7/10\n",
            "79/79 [==============================] - 409s 5s/step - loss: 1.2916 - accuracy: 0.6101 - val_loss: 0.8281 - val_accuracy: 0.7690 - _timestamp: 1649103139.0000 - _runtime: 3024.0000\n",
            "Epoch 8/10\n",
            "79/79 [==============================] - 406s 5s/step - loss: 1.2680 - accuracy: 0.6126 - val_loss: 0.8073 - val_accuracy: 0.7735 - _timestamp: 1649103577.0000 - _runtime: 3462.0000\n",
            "Epoch 9/10\n",
            "79/79 [==============================] - 411s 5s/step - loss: 1.2325 - accuracy: 0.6261 - val_loss: 0.7857 - val_accuracy: 0.7780 - _timestamp: 1649104025.0000 - _runtime: 3910.0000\n",
            "Epoch 10/10\n",
            "79/79 [==============================] - 405s 5s/step - loss: 1.2054 - accuracy: 0.6331 - val_loss: 0.7691 - val_accuracy: 0.7765 - _timestamp: 1649104430.0000 - _runtime: 4315.0000\n",
            "Model tuned successfully!!\n",
            "\n",
            "\n"
          ]
        },
        {
          "output_type": "display_data",
          "data": {
            "text/plain": [
              "<IPython.core.display.HTML object>"
            ],
            "text/html": [
              "Waiting for W&B process to finish... <strong style=\"color:green\">(success).</strong>"
            ]
          },
          "metadata": {}
        },
        {
          "output_type": "display_data",
          "data": {
            "text/plain": [
              "VBox(children=(Label(value='405.493 MB of 405.493 MB uploaded (0.000 MB deduped)\\r'), FloatProgress(value=1.0,…"
            ],
            "application/vnd.jupyter.widget-view+json": {
              "version_major": 2,
              "version_minor": 0,
              "model_id": "811fbb8981694ae9a23525e716214489"
            }
          },
          "metadata": {}
        },
        {
          "output_type": "display_data",
          "data": {
            "text/plain": [
              "<IPython.core.display.HTML object>"
            ],
            "text/html": [
              "<style>\n",
              "    table.wandb td:nth-child(1) { padding: 0 10px; text-align: right }\n",
              "    .wandb-row { display: flex; flex-direction: row; flex-wrap: wrap; width: 100% }\n",
              "    .wandb-col { display: flex; flex-direction: column; flex-basis: 100%; flex: 1; padding: 10px; }\n",
              "    </style>\n",
              "<div class=\"wandb-row\"><div class=\"wandb-col\"><h3>Run history:</h3><br/><table class=\"wandb\"><tr><td>accuracy</td><td>▁▅▆▇▇▇████</td></tr><tr><td>epoch</td><td>▁▂▃▃▄▅▆▆▇█</td></tr><tr><td>loss</td><td>█▅▃▂▂▂▂▁▁▁</td></tr><tr><td>val_accuracy</td><td>▁▅▇▇▇█████</td></tr><tr><td>val_loss</td><td>█▅▃▃▂▂▁▁▁▁</td></tr></table><br/></div><div class=\"wandb-col\"><h3>Run summary:</h3><br/><table class=\"wandb\"><tr><td>accuracy</td><td>0.63306</td></tr><tr><td>best_epoch</td><td>9</td></tr><tr><td>best_val_loss</td><td>0.7691</td></tr><tr><td>epoch</td><td>9</td></tr><tr><td>loss</td><td>1.20544</td></tr><tr><td>val_accuracy</td><td>0.7765</td></tr><tr><td>val_loss</td><td>0.7691</td></tr></table><br/></div></div>"
            ]
          },
          "metadata": {}
        },
        {
          "output_type": "display_data",
          "data": {
            "text/plain": [
              "<IPython.core.display.HTML object>"
            ],
            "text/html": [
              "Synced <strong style=\"color:#cdcd00\">dazzling-sweep-2</strong>: <a href=\"https://wandb.ai/manishiitm/CS6910_Assignment2B/runs/q1efbqi2\" target=\"_blank\">https://wandb.ai/manishiitm/CS6910_Assignment2B/runs/q1efbqi2</a><br/>Synced 5 W&B file(s), 1 media file(s), 0 artifact file(s) and 3 other file(s)"
            ]
          },
          "metadata": {}
        },
        {
          "output_type": "display_data",
          "data": {
            "text/plain": [
              "<IPython.core.display.HTML object>"
            ],
            "text/html": [
              "Find logs at: <code>./wandb/run-20220404_192155-q1efbqi2/logs</code>"
            ]
          },
          "metadata": {}
        },
        {
          "output_type": "stream",
          "name": "stderr",
          "text": [
            "\u001b[34m\u001b[1mwandb\u001b[0m: Agent Starting Run: efyh9urx with config:\n",
            "\u001b[34m\u001b[1mwandb\u001b[0m: \taugment_data: False\n",
            "\u001b[34m\u001b[1mwandb\u001b[0m: \tbase_model: ResNet50\n",
            "\u001b[34m\u001b[1mwandb\u001b[0m: \tbatch_normalisation: True\n",
            "\u001b[34m\u001b[1mwandb\u001b[0m: \tdense_Size: 512\n",
            "\u001b[34m\u001b[1mwandb\u001b[0m: \tdropout: 0.37\n",
            "\u001b[34m\u001b[1mwandb\u001b[0m: \tepochs: 5\n",
            "\u001b[34m\u001b[1mwandb\u001b[0m: \tlr: 7e-05\n",
            "\u001b[34m\u001b[1mwandb\u001b[0m: \u001b[33mWARNING\u001b[0m Ignored wandb.init() arg project when running a sweep.\n"
          ]
        },
        {
          "output_type": "display_data",
          "data": {
            "text/plain": [
              "<IPython.core.display.HTML object>"
            ],
            "text/html": [
              "Tracking run with wandb version 0.12.11"
            ]
          },
          "metadata": {}
        },
        {
          "output_type": "display_data",
          "data": {
            "text/plain": [
              "<IPython.core.display.HTML object>"
            ],
            "text/html": [
              "Run data is saved locally in <code>/content/wandb/run-20220404_203442-efyh9urx</code>"
            ]
          },
          "metadata": {}
        },
        {
          "output_type": "display_data",
          "data": {
            "text/plain": [
              "<IPython.core.display.HTML object>"
            ],
            "text/html": [
              "Syncing run <strong><a href=\"https://wandb.ai/manishiitm/CS6910_Assignment2B/runs/efyh9urx\" target=\"_blank\">blooming-sweep-3</a></strong> to <a href=\"https://wandb.ai/manishiitm/CS6910_Assignment2B\" target=\"_blank\">Weights & Biases</a> (<a href=\"https://wandb.me/run\" target=\"_blank\">docs</a>)<br/>Sweep page:  <a href=\"https://wandb.ai/manishiitm/CS6910_Assignment2B/sweeps/57910bdu\" target=\"_blank\">https://wandb.ai/manishiitm/CS6910_Assignment2B/sweeps/57910bdu</a>"
            ]
          },
          "metadata": {}
        },
        {
          "output_type": "stream",
          "name": "stdout",
          "text": [
            "1. Loading the dataset ...\n",
            "\n",
            "Found 9999 images belonging to 10 classes.\n",
            "Found 2000 images belonging to 10 classes.\n",
            "Downloading data from https://storage.googleapis.com/tensorflow/keras-applications/resnet/resnet50_weights_tf_dim_ordering_tf_kernels_notop.h5\n",
            "94773248/94765736 [==============================] - 1s 0us/step\n",
            "94781440/94765736 [==============================] - 1s 0us/step\n",
            "Total layers in base model is 8\n",
            "\n",
            "Fine tuning the model ...\n",
            "\n",
            "Epoch 1/5\n",
            "79/79 [==============================] - 178s 2s/step - loss: 2.6250 - accuracy: 0.1051 - val_loss: 2.3092 - val_accuracy: 0.1245 - _timestamp: 1649104671.0000 - _runtime: 189.0000\n",
            "Epoch 2/5\n",
            "79/79 [==============================] - 178s 2s/step - loss: 2.5103 - accuracy: 0.1073 - val_loss: 2.2942 - val_accuracy: 0.1225 - _timestamp: 1649104850.0000 - _runtime: 368.0000\n",
            "Epoch 3/5\n",
            "79/79 [==============================] - 166s 2s/step - loss: 2.4259 - accuracy: 0.1119 - val_loss: 2.2862 - val_accuracy: 0.1270 - _timestamp: 1649105040.0000 - _runtime: 558.0000\n",
            "Epoch 4/5\n",
            "79/79 [==============================] - 168s 2s/step - loss: 2.3911 - accuracy: 0.1125 - val_loss: 2.2793 - val_accuracy: 0.1270 - _timestamp: 1649105207.0000 - _runtime: 725.0000\n",
            "Epoch 5/5\n",
            "79/79 [==============================] - 168s 2s/step - loss: 2.3606 - accuracy: 0.1142 - val_loss: 2.2767 - val_accuracy: 0.1420 - _timestamp: 1649105410.0000 - _runtime: 928.0000\n",
            "Model tuned successfully!!\n",
            "\n",
            "\n"
          ]
        },
        {
          "output_type": "display_data",
          "data": {
            "text/plain": [
              "<IPython.core.display.HTML object>"
            ],
            "text/html": [
              "Waiting for W&B process to finish... <strong style=\"color:green\">(success).</strong>"
            ]
          },
          "metadata": {}
        },
        {
          "output_type": "display_data",
          "data": {
            "text/plain": [
              "VBox(children=(Label(value='289.906 MB of 289.906 MB uploaded (0.000 MB deduped)\\r'), FloatProgress(value=1.0,…"
            ],
            "application/vnd.jupyter.widget-view+json": {
              "version_major": 2,
              "version_minor": 0,
              "model_id": "5dfaa2c9f6f04303a4beca0286356163"
            }
          },
          "metadata": {}
        },
        {
          "output_type": "display_data",
          "data": {
            "text/plain": [
              "<IPython.core.display.HTML object>"
            ],
            "text/html": [
              "<style>\n",
              "    table.wandb td:nth-child(1) { padding: 0 10px; text-align: right }\n",
              "    .wandb-row { display: flex; flex-direction: row; flex-wrap: wrap; width: 100% }\n",
              "    .wandb-col { display: flex; flex-direction: column; flex-basis: 100%; flex: 1; padding: 10px; }\n",
              "    </style>\n",
              "<div class=\"wandb-row\"><div class=\"wandb-col\"><h3>Run history:</h3><br/><table class=\"wandb\"><tr><td>accuracy</td><td>▁▃▆▇█</td></tr><tr><td>epoch</td><td>▁▃▅▆█</td></tr><tr><td>loss</td><td>█▅▃▂▁</td></tr><tr><td>val_accuracy</td><td>▂▁▃▃█</td></tr><tr><td>val_loss</td><td>█▅▃▂▁</td></tr></table><br/></div><div class=\"wandb-col\"><h3>Run summary:</h3><br/><table class=\"wandb\"><tr><td>accuracy</td><td>0.11421</td></tr><tr><td>best_epoch</td><td>4</td></tr><tr><td>best_val_loss</td><td>2.27668</td></tr><tr><td>epoch</td><td>4</td></tr><tr><td>loss</td><td>2.36055</td></tr><tr><td>val_accuracy</td><td>0.142</td></tr><tr><td>val_loss</td><td>2.27668</td></tr></table><br/></div></div>"
            ]
          },
          "metadata": {}
        },
        {
          "output_type": "display_data",
          "data": {
            "text/plain": [
              "<IPython.core.display.HTML object>"
            ],
            "text/html": [
              "Synced <strong style=\"color:#cdcd00\">blooming-sweep-3</strong>: <a href=\"https://wandb.ai/manishiitm/CS6910_Assignment2B/runs/efyh9urx\" target=\"_blank\">https://wandb.ai/manishiitm/CS6910_Assignment2B/runs/efyh9urx</a><br/>Synced 5 W&B file(s), 1 media file(s), 0 artifact file(s) and 3 other file(s)"
            ]
          },
          "metadata": {}
        },
        {
          "output_type": "display_data",
          "data": {
            "text/plain": [
              "<IPython.core.display.HTML object>"
            ],
            "text/html": [
              "Find logs at: <code>./wandb/run-20220404_203442-efyh9urx/logs</code>"
            ]
          },
          "metadata": {}
        },
        {
          "output_type": "stream",
          "name": "stderr",
          "text": [
            "\u001b[34m\u001b[1mwandb\u001b[0m: Agent Starting Run: xalg7u7s with config:\n",
            "\u001b[34m\u001b[1mwandb\u001b[0m: \taugment_data: False\n",
            "\u001b[34m\u001b[1mwandb\u001b[0m: \tbase_model: InceptionV3\n",
            "\u001b[34m\u001b[1mwandb\u001b[0m: \tbatch_normalisation: True\n",
            "\u001b[34m\u001b[1mwandb\u001b[0m: \tdense_Size: 128\n",
            "\u001b[34m\u001b[1mwandb\u001b[0m: \tdropout: 0.2\n",
            "\u001b[34m\u001b[1mwandb\u001b[0m: \tepochs: 10\n",
            "\u001b[34m\u001b[1mwandb\u001b[0m: \tlr: 7e-05\n",
            "\u001b[34m\u001b[1mwandb\u001b[0m: \u001b[33mWARNING\u001b[0m Ignored wandb.init() arg project when running a sweep.\n"
          ]
        },
        {
          "output_type": "display_data",
          "data": {
            "text/plain": [
              "<IPython.core.display.HTML object>"
            ],
            "text/html": [
              "Tracking run with wandb version 0.12.11"
            ]
          },
          "metadata": {}
        },
        {
          "output_type": "display_data",
          "data": {
            "text/plain": [
              "<IPython.core.display.HTML object>"
            ],
            "text/html": [
              "Run data is saved locally in <code>/content/wandb/run-20220404_205028-xalg7u7s</code>"
            ]
          },
          "metadata": {}
        },
        {
          "output_type": "display_data",
          "data": {
            "text/plain": [
              "<IPython.core.display.HTML object>"
            ],
            "text/html": [
              "Syncing run <strong><a href=\"https://wandb.ai/manishiitm/CS6910_Assignment2B/runs/xalg7u7s\" target=\"_blank\">rose-sweep-4</a></strong> to <a href=\"https://wandb.ai/manishiitm/CS6910_Assignment2B\" target=\"_blank\">Weights & Biases</a> (<a href=\"https://wandb.me/run\" target=\"_blank\">docs</a>)<br/>Sweep page:  <a href=\"https://wandb.ai/manishiitm/CS6910_Assignment2B/sweeps/57910bdu\" target=\"_blank\">https://wandb.ai/manishiitm/CS6910_Assignment2B/sweeps/57910bdu</a>"
            ]
          },
          "metadata": {}
        },
        {
          "output_type": "stream",
          "name": "stdout",
          "text": [
            "1. Loading the dataset ...\n",
            "\n",
            "Found 9999 images belonging to 10 classes.\n",
            "Found 2000 images belonging to 10 classes.\n",
            "Total layers in base model is 8\n",
            "\n",
            "Fine tuning the model ...\n",
            "\n",
            "Epoch 1/10\n",
            "79/79 [==============================] - 185s 2s/step - loss: 2.5101 - accuracy: 0.1128 - val_loss: 2.3350 - val_accuracy: 0.1355 - _timestamp: 1649105624.0000 - _runtime: 196.0000\n",
            "Epoch 2/10\n",
            "79/79 [==============================] - 176s 2s/step - loss: 2.4205 - accuracy: 0.1204 - val_loss: 2.2708 - val_accuracy: 0.1645 - _timestamp: 1649105823.0000 - _runtime: 395.0000\n",
            "Epoch 3/10\n",
            "79/79 [==============================] - 173s 2s/step - loss: 2.3404 - accuracy: 0.1458 - val_loss: 2.2159 - val_accuracy: 0.2005 - _timestamp: 1649105996.0000 - _runtime: 568.0000\n",
            "Epoch 4/10\n",
            "79/79 [==============================] - 173s 2s/step - loss: 2.2866 - accuracy: 0.1660 - val_loss: 2.1658 - val_accuracy: 0.2475 - _timestamp: 1649106198.0000 - _runtime: 770.0000\n",
            "Epoch 5/10\n",
            "79/79 [==============================] - 173s 2s/step - loss: 2.2345 - accuracy: 0.1906 - val_loss: 2.1193 - val_accuracy: 0.2765 - _timestamp: 1649106371.0000 - _runtime: 943.0000\n",
            "Epoch 6/10\n",
            "79/79 [==============================] - 177s 2s/step - loss: 2.1964 - accuracy: 0.2103 - val_loss: 2.0750 - val_accuracy: 0.3160 - _timestamp: 1649106577.0000 - _runtime: 1149.0000\n",
            "Epoch 7/10\n",
            "79/79 [==============================] - 181s 2s/step - loss: 2.1510 - accuracy: 0.2415 - val_loss: 2.0329 - val_accuracy: 0.3530 - _timestamp: 1649106758.0000 - _runtime: 1330.0000\n",
            "Epoch 8/10\n",
            "79/79 [==============================] - 181s 2s/step - loss: 2.1148 - accuracy: 0.2652 - val_loss: 1.9920 - val_accuracy: 0.3815 - _timestamp: 1649106939.0000 - _runtime: 1511.0000\n",
            "Epoch 9/10\n",
            "79/79 [==============================] - 177s 2s/step - loss: 2.0709 - accuracy: 0.2865 - val_loss: 1.9530 - val_accuracy: 0.4035 - _timestamp: 1649107116.0000 - _runtime: 1688.0000\n",
            "Epoch 10/10\n",
            "79/79 [==============================] - 173s 2s/step - loss: 2.0478 - accuracy: 0.3040 - val_loss: 1.9148 - val_accuracy: 0.4190 - _timestamp: 1649107289.0000 - _runtime: 1861.0000\n",
            "Model tuned successfully!!\n",
            "\n",
            "\n"
          ]
        },
        {
          "output_type": "display_data",
          "data": {
            "text/plain": [
              "<IPython.core.display.HTML object>"
            ],
            "text/html": [
              "Waiting for W&B process to finish... <strong style=\"color:green\">(success).</strong>"
            ]
          },
          "metadata": {}
        },
        {
          "output_type": "display_data",
          "data": {
            "text/plain": [
              "VBox(children=(Label(value='148.647 MB of 148.647 MB uploaded (0.000 MB deduped)\\r'), FloatProgress(value=1.0,…"
            ],
            "application/vnd.jupyter.widget-view+json": {
              "version_major": 2,
              "version_minor": 0,
              "model_id": "70e02a4235084d1697a35d1adcdb4b2d"
            }
          },
          "metadata": {}
        },
        {
          "output_type": "display_data",
          "data": {
            "text/plain": [
              "<IPython.core.display.HTML object>"
            ],
            "text/html": [
              "<style>\n",
              "    table.wandb td:nth-child(1) { padding: 0 10px; text-align: right }\n",
              "    .wandb-row { display: flex; flex-direction: row; flex-wrap: wrap; width: 100% }\n",
              "    .wandb-col { display: flex; flex-direction: column; flex-basis: 100%; flex: 1; padding: 10px; }\n",
              "    </style>\n",
              "<div class=\"wandb-row\"><div class=\"wandb-col\"><h3>Run history:</h3><br/><table class=\"wandb\"><tr><td>accuracy</td><td>▁▁▂▃▄▅▆▇▇█</td></tr><tr><td>epoch</td><td>▁▂▃▃▄▅▆▆▇█</td></tr><tr><td>loss</td><td>█▇▅▅▄▃▃▂▁▁</td></tr><tr><td>val_accuracy</td><td>▁▂▃▄▄▅▆▇██</td></tr><tr><td>val_loss</td><td>█▇▆▅▄▄▃▂▂▁</td></tr></table><br/></div><div class=\"wandb-col\"><h3>Run summary:</h3><br/><table class=\"wandb\"><tr><td>accuracy</td><td>0.30403</td></tr><tr><td>best_epoch</td><td>9</td></tr><tr><td>best_val_loss</td><td>1.91485</td></tr><tr><td>epoch</td><td>9</td></tr><tr><td>loss</td><td>2.04785</td></tr><tr><td>val_accuracy</td><td>0.419</td></tr><tr><td>val_loss</td><td>1.91485</td></tr></table><br/></div></div>"
            ]
          },
          "metadata": {}
        },
        {
          "output_type": "display_data",
          "data": {
            "text/plain": [
              "<IPython.core.display.HTML object>"
            ],
            "text/html": [
              "Synced <strong style=\"color:#cdcd00\">rose-sweep-4</strong>: <a href=\"https://wandb.ai/manishiitm/CS6910_Assignment2B/runs/xalg7u7s\" target=\"_blank\">https://wandb.ai/manishiitm/CS6910_Assignment2B/runs/xalg7u7s</a><br/>Synced 5 W&B file(s), 1 media file(s), 0 artifact file(s) and 3 other file(s)"
            ]
          },
          "metadata": {}
        },
        {
          "output_type": "display_data",
          "data": {
            "text/plain": [
              "<IPython.core.display.HTML object>"
            ],
            "text/html": [
              "Find logs at: <code>./wandb/run-20220404_205028-xalg7u7s/logs</code>"
            ]
          },
          "metadata": {}
        },
        {
          "output_type": "stream",
          "name": "stderr",
          "text": [
            "\u001b[34m\u001b[1mwandb\u001b[0m: Agent Starting Run: v1p449d2 with config:\n",
            "\u001b[34m\u001b[1mwandb\u001b[0m: \taugment_data: False\n",
            "\u001b[34m\u001b[1mwandb\u001b[0m: \tbase_model: InceptionV3\n",
            "\u001b[34m\u001b[1mwandb\u001b[0m: \tbatch_normalisation: True\n",
            "\u001b[34m\u001b[1mwandb\u001b[0m: \tdense_Size: 128\n",
            "\u001b[34m\u001b[1mwandb\u001b[0m: \tdropout: 0.2\n",
            "\u001b[34m\u001b[1mwandb\u001b[0m: \tepochs: 10\n",
            "\u001b[34m\u001b[1mwandb\u001b[0m: \tlr: 7e-05\n",
            "\u001b[34m\u001b[1mwandb\u001b[0m: \u001b[33mWARNING\u001b[0m Ignored wandb.init() arg project when running a sweep.\n"
          ]
        },
        {
          "output_type": "display_data",
          "data": {
            "text/plain": [
              "<IPython.core.display.HTML object>"
            ],
            "text/html": [
              "Tracking run with wandb version 0.12.11"
            ]
          },
          "metadata": {}
        },
        {
          "output_type": "display_data",
          "data": {
            "text/plain": [
              "<IPython.core.display.HTML object>"
            ],
            "text/html": [
              "Run data is saved locally in <code>/content/wandb/run-20220404_212142-v1p449d2</code>"
            ]
          },
          "metadata": {}
        },
        {
          "output_type": "display_data",
          "data": {
            "text/plain": [
              "<IPython.core.display.HTML object>"
            ],
            "text/html": [
              "Syncing run <strong><a href=\"https://wandb.ai/manishiitm/CS6910_Assignment2B/runs/v1p449d2\" target=\"_blank\">stilted-sweep-5</a></strong> to <a href=\"https://wandb.ai/manishiitm/CS6910_Assignment2B\" target=\"_blank\">Weights & Biases</a> (<a href=\"https://wandb.me/run\" target=\"_blank\">docs</a>)<br/>Sweep page:  <a href=\"https://wandb.ai/manishiitm/CS6910_Assignment2B/sweeps/57910bdu\" target=\"_blank\">https://wandb.ai/manishiitm/CS6910_Assignment2B/sweeps/57910bdu</a>"
            ]
          },
          "metadata": {}
        },
        {
          "output_type": "stream",
          "name": "stdout",
          "text": [
            "1. Loading the dataset ...\n",
            "\n",
            "Found 9999 images belonging to 10 classes.\n",
            "Found 2000 images belonging to 10 classes.\n",
            "Total layers in base model is 8\n",
            "\n",
            "Fine tuning the model ...\n",
            "\n",
            "Epoch 1/10\n",
            "79/79 [==============================] - 183s 2s/step - loss: 2.5158 - accuracy: 0.1046 - val_loss: 2.3635 - val_accuracy: 0.1100 - _timestamp: 1649107496.0000 - _runtime: 193.0000\n",
            "Epoch 2/10\n",
            "79/79 [==============================] - 174s 2s/step - loss: 2.4193 - accuracy: 0.1196 - val_loss: 2.2977 - val_accuracy: 0.1405 - _timestamp: 1649107671.0000 - _runtime: 368.0000\n",
            "Epoch 3/10\n",
            "79/79 [==============================] - 176s 2s/step - loss: 2.3572 - accuracy: 0.1391 - val_loss: 2.2421 - val_accuracy: 0.1750 - _timestamp: 1649107847.0000 - _runtime: 544.0000\n",
            "Epoch 4/10\n",
            "79/79 [==============================] - 176s 2s/step - loss: 2.3020 - accuracy: 0.1579 - val_loss: 2.1920 - val_accuracy: 0.2090 - _timestamp: 1649108023.0000 - _runtime: 720.0000\n",
            "Epoch 5/10\n",
            "79/79 [==============================] - ETA: 0s - loss: 2.2489 - accuracy: 0.1804"
          ]
        },
        {
          "output_type": "stream",
          "name": "stderr",
          "text": [
            "\u001b[34m\u001b[1mwandb\u001b[0m: Ctrl + C detected. Stopping sweep.\n"
          ]
        }
      ]
    },
    {
      "cell_type": "code",
      "source": [
        "# running the sweep\n",
        "wandb.agent(sweep_id, function=train_model,count=40)"
      ],
      "metadata": {
        "colab": {
          "base_uri": "https://localhost:8080/",
          "height": 1000,
          "referenced_widgets": [
            "5a7512edf65443a2a73d501a93b3c4c7",
            "c4c2633eae55459fbaaa8993b41342a9",
            "ffb72cdc4e524c68991a315c79d4c9d0",
            "79c1a39c7e8d40ee81725b32d7ec07c4",
            "d533ba899d6d46e4b2d8ef5a8e0049e2",
            "72297cd814c54241945668573bf65be4",
            "c8fc327be1e84b0fbca2c37f86021111",
            "27c5f542f72a4c0fac913e83887cd0e1",
            "82d33153de664f35988a21cfb17efc5b",
            "d0ffbf82450946d2a2fee2be2b639fbe",
            "b26954243b93451fb0a046fca7cb4584",
            "628ded69dffb4bd29738a0559ace9d39",
            "19e729f7a197425d8450e9ef583abedf",
            "6c9269ff76c84c469aa91be05fce598a",
            "9d8dfc7c1cb44907939675cc4847c772",
            "4862fff5c0c64c5d98cbe5f40744f094",
            "efdb472c91264f9f84f40420a9968f7e",
            "7d2c55d43e744878836022bea127b538",
            "90b2d1bc7b024eeab7b0faae295edc3d",
            "90ab8d35ac82401ab8a193f490af2629",
            "c417caf5a58a465cb07dfc98a84d6c84",
            "f51d15757b324361988a006371b0bbc8",
            "ad76dd1c3bf2439aa96372a26ece21b7",
            "499319eadba44f968785e9876965767d",
            "171243e3a9a24ad090c3cf291b08bfab",
            "f1e5a9a7b33d42c9af136628a5c2b771",
            "8124eaaca743493497e746b86ae9394c",
            "5c929e53276e4fc7847d40913d6cf917",
            "9d2ad0e5d67f4c8a968c8de0079b067a",
            "b983424c8fb64af88af263d9f12feffe",
            "0fd6d9dd6ff140ff93c62db046d2eb2b",
            "807c3a85b8964642a0deaffa352cffc5",
            "4621eee172cd49a4898443e090071bec",
            "7d455a17fce949deac5ea7558b3e7e51",
            "2910a037339449d193e1750748ae6336",
            "2910f7af98404ef19559b3ea719d6f2b",
            "5d904ee5dc974dd48d5e2cb61519d170",
            "82957192acec42b58fda0a85d34ec394",
            "ccf758a2a5794cba92f8dbf8508e5bf9",
            "6c88da41462c45adac4f533fc168513e"
          ]
        },
        "id": "0gMZXIlXB6P5",
        "outputId": "2a9d71e3-236f-4b27-8a92-476435a64601"
      },
      "execution_count": null,
      "outputs": [
        {
          "output_type": "stream",
          "name": "stderr",
          "text": [
            "\u001b[34m\u001b[1mwandb\u001b[0m: Agent Starting Run: 1ilje104 with config:\n",
            "\u001b[34m\u001b[1mwandb\u001b[0m: \taugment_data: True\n",
            "\u001b[34m\u001b[1mwandb\u001b[0m: \tbase_model: InceptionV3\n",
            "\u001b[34m\u001b[1mwandb\u001b[0m: \tbatch_normalisation: False\n",
            "\u001b[34m\u001b[1mwandb\u001b[0m: \tdense_Size: 512\n",
            "\u001b[34m\u001b[1mwandb\u001b[0m: \tdropout: 0.37\n",
            "\u001b[34m\u001b[1mwandb\u001b[0m: \tepochs: 10\n",
            "\u001b[34m\u001b[1mwandb\u001b[0m: \tlr: 7e-05\n",
            "\u001b[34m\u001b[1mwandb\u001b[0m: Currently logged in as: \u001b[33mmanishiitm\u001b[0m (use `wandb login --relogin` to force relogin)\n",
            "\u001b[34m\u001b[1mwandb\u001b[0m: \u001b[33mWARNING\u001b[0m Ignored wandb.init() arg project when running a sweep.\n"
          ]
        },
        {
          "output_type": "display_data",
          "data": {
            "text/plain": [
              "<IPython.core.display.HTML object>"
            ],
            "text/html": [
              "Tracking run with wandb version 0.12.11"
            ]
          },
          "metadata": {}
        },
        {
          "output_type": "display_data",
          "data": {
            "text/plain": [
              "<IPython.core.display.HTML object>"
            ],
            "text/html": [
              "Run data is saved locally in <code>/content/wandb/run-20220405_044311-1ilje104</code>"
            ]
          },
          "metadata": {}
        },
        {
          "output_type": "display_data",
          "data": {
            "text/plain": [
              "<IPython.core.display.HTML object>"
            ],
            "text/html": [
              "Syncing run <strong><a href=\"https://wandb.ai/manishiitm/CS6910_Assignment2B/runs/1ilje104\" target=\"_blank\">solar-sweep-1</a></strong> to <a href=\"https://wandb.ai/manishiitm/CS6910_Assignment2B\" target=\"_blank\">Weights & Biases</a> (<a href=\"https://wandb.me/run\" target=\"_blank\">docs</a>)<br/>Sweep page:  <a href=\"https://wandb.ai/manishiitm/CS6910_Assignment2B/sweeps/ujgiykhn\" target=\"_blank\">https://wandb.ai/manishiitm/CS6910_Assignment2B/sweeps/ujgiykhn</a>"
            ]
          },
          "metadata": {}
        },
        {
          "output_type": "stream",
          "name": "stderr",
          "text": [
            "\u001b[34m\u001b[1mwandb\u001b[0m: \u001b[33mWARNING\u001b[0m Ignored wandb.init() arg project when running a sweep.\n"
          ]
        },
        {
          "output_type": "display_data",
          "data": {
            "text/plain": [
              "<IPython.core.display.HTML object>"
            ],
            "text/html": [
              "Finishing last run (ID:1ilje104) before initializing another..."
            ]
          },
          "metadata": {}
        },
        {
          "output_type": "stream",
          "name": "stdout",
          "text": [
            "\n"
          ]
        },
        {
          "output_type": "display_data",
          "data": {
            "text/plain": [
              "<IPython.core.display.HTML object>"
            ],
            "text/html": [
              "Waiting for W&B process to finish... <strong style=\"color:green\">(success).</strong>"
            ]
          },
          "metadata": {}
        },
        {
          "output_type": "display_data",
          "data": {
            "text/plain": [
              "VBox(children=(Label(value='0.000 MB of 0.000 MB uploaded (0.000 MB deduped)\\r'), FloatProgress(value=1.0, max…"
            ],
            "application/vnd.jupyter.widget-view+json": {
              "version_major": 2,
              "version_minor": 0,
              "model_id": "5a7512edf65443a2a73d501a93b3c4c7"
            }
          },
          "metadata": {}
        },
        {
          "output_type": "display_data",
          "data": {
            "text/plain": [
              "<IPython.core.display.HTML object>"
            ],
            "text/html": [
              "Synced <strong style=\"color:#cdcd00\">solar-sweep-1</strong>: <a href=\"https://wandb.ai/manishiitm/CS6910_Assignment2B/runs/1ilje104\" target=\"_blank\">https://wandb.ai/manishiitm/CS6910_Assignment2B/runs/1ilje104</a><br/>Synced 5 W&B file(s), 0 media file(s), 0 artifact file(s) and 0 other file(s)"
            ]
          },
          "metadata": {}
        },
        {
          "output_type": "display_data",
          "data": {
            "text/plain": [
              "<IPython.core.display.HTML object>"
            ],
            "text/html": [
              "Find logs at: <code>./wandb/run-20220405_044311-1ilje104/logs</code>"
            ]
          },
          "metadata": {}
        },
        {
          "output_type": "display_data",
          "data": {
            "text/plain": [
              "<IPython.core.display.HTML object>"
            ],
            "text/html": [
              "Successfully finished last run (ID:1ilje104). Initializing new run:<br/>"
            ]
          },
          "metadata": {}
        },
        {
          "output_type": "display_data",
          "data": {
            "text/plain": [
              "<IPython.core.display.HTML object>"
            ],
            "text/html": [
              "Tracking run with wandb version 0.12.11"
            ]
          },
          "metadata": {}
        },
        {
          "output_type": "display_data",
          "data": {
            "text/plain": [
              "<IPython.core.display.HTML object>"
            ],
            "text/html": [
              "Run data is saved locally in <code>/content/wandb/run-20220405_044320-1ilje104</code>"
            ]
          },
          "metadata": {}
        },
        {
          "output_type": "display_data",
          "data": {
            "text/plain": [
              "<IPython.core.display.HTML object>"
            ],
            "text/html": [
              "Syncing run <strong><a href=\"https://wandb.ai/manishiitm/CS6910_Assignment2B/runs/1ilje104\" target=\"_blank\">solar-sweep-1</a></strong> to <a href=\"https://wandb.ai/manishiitm/CS6910_Assignment2B\" target=\"_blank\">Weights & Biases</a> (<a href=\"https://wandb.me/run\" target=\"_blank\">docs</a>)<br/>Sweep page:  <a href=\"https://wandb.ai/manishiitm/CS6910_Assignment2B/sweeps/ujgiykhn\" target=\"_blank\">https://wandb.ai/manishiitm/CS6910_Assignment2B/sweeps/ujgiykhn</a>"
            ]
          },
          "metadata": {}
        },
        {
          "output_type": "stream",
          "name": "stdout",
          "text": [
            "1. Loading the dataset ...\n",
            "\n",
            "Found 9999 images belonging to 10 classes.\n",
            "Found 2000 images belonging to 10 classes.\n",
            "Downloading data from https://storage.googleapis.com/tensorflow/keras-applications/inception_v3/inception_v3_weights_tf_dim_ordering_tf_kernels_notop.h5\n",
            "87916544/87910968 [==============================] - 1s 0us/step\n",
            "87924736/87910968 [==============================] - 1s 0us/step\n",
            "Total layers in base model is 7\n",
            "\n",
            "Fine tuning the model ...\n",
            "\n",
            "Epoch 1/10\n",
            "79/79 [==============================] - 418s 5s/step - loss: 2.5751 - accuracy: 0.1258 - val_loss: 2.1090 - val_accuracy: 0.2725 - _timestamp: 1649134239.0000 - _runtime: 436.0000\n",
            "Epoch 2/10\n",
            "79/79 [==============================] - 375s 5s/step - loss: 2.3185 - accuracy: 0.2020 - val_loss: 1.9324 - val_accuracy: 0.4230 - _timestamp: 1649134645.0000 - _runtime: 842.0000\n",
            "Epoch 3/10\n",
            "79/79 [==============================] - 363s 5s/step - loss: 2.1483 - accuracy: 0.2550 - val_loss: 1.7906 - val_accuracy: 0.5210 - _timestamp: 1649135006.0000 - _runtime: 1203.0000\n",
            "Epoch 4/10\n",
            "79/79 [==============================] - 360s 5s/step - loss: 2.0183 - accuracy: 0.3173 - val_loss: 1.6749 - val_accuracy: 0.5595 - _timestamp: 1649135368.0000 - _runtime: 1565.0000\n",
            "Epoch 5/10\n",
            "79/79 [==============================] - 357s 5s/step - loss: 1.9294 - accuracy: 0.3606 - val_loss: 1.5720 - val_accuracy: 0.5970 - _timestamp: 1649135723.0000 - _runtime: 1920.0000\n",
            "Epoch 6/10\n",
            "79/79 [==============================] - 362s 5s/step - loss: 1.8451 - accuracy: 0.3905 - val_loss: 1.4762 - val_accuracy: 0.6150 - _timestamp: 1649136111.0000 - _runtime: 2308.0000\n",
            "Epoch 7/10\n",
            "79/79 [==============================] - 362s 5s/step - loss: 1.7854 - accuracy: 0.4221 - val_loss: 1.3935 - val_accuracy: 0.6435 - _timestamp: 1649136473.0000 - _runtime: 2670.0000\n",
            "Epoch 8/10\n",
            "79/79 [==============================] - 358s 5s/step - loss: 1.7332 - accuracy: 0.4398 - val_loss: 1.3312 - val_accuracy: 0.6595 - _timestamp: 1649136832.0000 - _runtime: 3029.0000\n",
            "Epoch 9/10\n",
            "79/79 [==============================] - 359s 5s/step - loss: 1.6953 - accuracy: 0.4595 - val_loss: 1.2739 - val_accuracy: 0.6715 - _timestamp: 1649137191.0000 - _runtime: 3388.0000\n",
            "Epoch 10/10\n",
            "79/79 [==============================] - 359s 5s/step - loss: 1.6420 - accuracy: 0.4767 - val_loss: 1.2213 - val_accuracy: 0.6810 - _timestamp: 1649137550.0000 - _runtime: 3747.0000\n",
            "Model tuned successfully!!\n",
            "\n",
            "\n"
          ]
        },
        {
          "output_type": "display_data",
          "data": {
            "text/plain": [
              "<IPython.core.display.HTML object>"
            ],
            "text/html": [
              "Waiting for W&B process to finish... <strong style=\"color:green\">(success).</strong>"
            ]
          },
          "metadata": {}
        },
        {
          "output_type": "display_data",
          "data": {
            "text/plain": [
              "VBox(children=(Label(value='343.491 MB of 343.491 MB uploaded (0.000 MB deduped)\\r'), FloatProgress(value=1.0,…"
            ],
            "application/vnd.jupyter.widget-view+json": {
              "version_major": 2,
              "version_minor": 0,
              "model_id": "82d33153de664f35988a21cfb17efc5b"
            }
          },
          "metadata": {}
        },
        {
          "output_type": "display_data",
          "data": {
            "text/plain": [
              "<IPython.core.display.HTML object>"
            ],
            "text/html": [
              "<style>\n",
              "    table.wandb td:nth-child(1) { padding: 0 10px; text-align: right }\n",
              "    .wandb-row { display: flex; flex-direction: row; flex-wrap: wrap; width: 100% }\n",
              "    .wandb-col { display: flex; flex-direction: column; flex-basis: 100%; flex: 1; padding: 10px; }\n",
              "    </style>\n",
              "<div class=\"wandb-row\"><div class=\"wandb-col\"><h3>Run history:</h3><br/><table class=\"wandb\"><tr><td>accuracy</td><td>▁▃▄▅▆▆▇▇██</td></tr><tr><td>epoch</td><td>▁▂▃▃▄▅▆▆▇█</td></tr><tr><td>loss</td><td>█▆▅▄▃▃▂▂▁▁</td></tr><tr><td>val_accuracy</td><td>▁▄▅▆▇▇▇███</td></tr><tr><td>val_loss</td><td>█▇▅▅▄▃▂▂▁▁</td></tr></table><br/></div><div class=\"wandb-col\"><h3>Run summary:</h3><br/><table class=\"wandb\"><tr><td>accuracy</td><td>0.47675</td></tr><tr><td>best_epoch</td><td>9</td></tr><tr><td>best_val_loss</td><td>1.22132</td></tr><tr><td>epoch</td><td>9</td></tr><tr><td>loss</td><td>1.64195</td></tr><tr><td>val_accuracy</td><td>0.681</td></tr><tr><td>val_loss</td><td>1.22132</td></tr></table><br/></div></div>"
            ]
          },
          "metadata": {}
        },
        {
          "output_type": "display_data",
          "data": {
            "text/plain": [
              "<IPython.core.display.HTML object>"
            ],
            "text/html": [
              "Synced <strong style=\"color:#cdcd00\">solar-sweep-1</strong>: <a href=\"https://wandb.ai/manishiitm/CS6910_Assignment2B/runs/1ilje104\" target=\"_blank\">https://wandb.ai/manishiitm/CS6910_Assignment2B/runs/1ilje104</a><br/>Synced 5 W&B file(s), 1 media file(s), 0 artifact file(s) and 3 other file(s)"
            ]
          },
          "metadata": {}
        },
        {
          "output_type": "display_data",
          "data": {
            "text/plain": [
              "<IPython.core.display.HTML object>"
            ],
            "text/html": [
              "Find logs at: <code>./wandb/run-20220405_044320-1ilje104/logs</code>"
            ]
          },
          "metadata": {}
        },
        {
          "output_type": "stream",
          "name": "stderr",
          "text": [
            "\u001b[34m\u001b[1mwandb\u001b[0m: Agent Starting Run: 4x4s9kvp with config:\n",
            "\u001b[34m\u001b[1mwandb\u001b[0m: \taugment_data: True\n",
            "\u001b[34m\u001b[1mwandb\u001b[0m: \tbase_model: InceptionV3\n",
            "\u001b[34m\u001b[1mwandb\u001b[0m: \tbatch_normalisation: False\n",
            "\u001b[34m\u001b[1mwandb\u001b[0m: \tdense_Size: 128\n",
            "\u001b[34m\u001b[1mwandb\u001b[0m: \tdropout: 0.2\n",
            "\u001b[34m\u001b[1mwandb\u001b[0m: \tepochs: 5\n",
            "\u001b[34m\u001b[1mwandb\u001b[0m: \tlr: 0.0002\n",
            "\u001b[34m\u001b[1mwandb\u001b[0m: \u001b[33mWARNING\u001b[0m Ignored wandb.init() arg project when running a sweep.\n"
          ]
        },
        {
          "output_type": "display_data",
          "data": {
            "text/plain": [
              "<IPython.core.display.HTML object>"
            ],
            "text/html": [
              "Tracking run with wandb version 0.12.11"
            ]
          },
          "metadata": {}
        },
        {
          "output_type": "display_data",
          "data": {
            "text/plain": [
              "<IPython.core.display.HTML object>"
            ],
            "text/html": [
              "Run data is saved locally in <code>/content/wandb/run-20220405_054605-4x4s9kvp</code>"
            ]
          },
          "metadata": {}
        },
        {
          "output_type": "display_data",
          "data": {
            "text/plain": [
              "<IPython.core.display.HTML object>"
            ],
            "text/html": [
              "Syncing run <strong><a href=\"https://wandb.ai/manishiitm/CS6910_Assignment2B/runs/4x4s9kvp\" target=\"_blank\">dainty-sweep-2</a></strong> to <a href=\"https://wandb.ai/manishiitm/CS6910_Assignment2B\" target=\"_blank\">Weights & Biases</a> (<a href=\"https://wandb.me/run\" target=\"_blank\">docs</a>)<br/>Sweep page:  <a href=\"https://wandb.ai/manishiitm/CS6910_Assignment2B/sweeps/ujgiykhn\" target=\"_blank\">https://wandb.ai/manishiitm/CS6910_Assignment2B/sweeps/ujgiykhn</a>"
            ]
          },
          "metadata": {}
        },
        {
          "output_type": "stream",
          "name": "stdout",
          "text": [
            "1. Loading the dataset ...\n",
            "\n",
            "Found 9999 images belonging to 10 classes.\n",
            "Found 2000 images belonging to 10 classes.\n",
            "Total layers in base model is 7\n",
            "\n",
            "Fine tuning the model ...\n",
            "\n",
            "Epoch 1/5\n",
            "79/79 [==============================] - 381s 5s/step - loss: 2.4551 - accuracy: 0.1237 - val_loss: 2.2616 - val_accuracy: 0.1805 - _timestamp: 1649137962.0000 - _runtime: 397.0000\n",
            "Epoch 2/5\n",
            "79/79 [==============================] - 376s 5s/step - loss: 2.3078 - accuracy: 0.1695 - val_loss: 2.1592 - val_accuracy: 0.2555 - _timestamp: 1649138345.0000 - _runtime: 780.0000\n",
            "Epoch 3/5\n",
            "79/79 [==============================] - 377s 5s/step - loss: 2.2198 - accuracy: 0.2135 - val_loss: 2.0787 - val_accuracy: 0.3145 - _timestamp: 1649138722.0000 - _runtime: 1157.0000\n",
            "Epoch 4/5\n",
            "79/79 [==============================] - 367s 5s/step - loss: 2.1451 - accuracy: 0.2506 - val_loss: 2.0041 - val_accuracy: 0.3655 - _timestamp: 1649139089.0000 - _runtime: 1524.0000\n",
            "Epoch 5/5\n",
            "79/79 [==============================] - 374s 5s/step - loss: 2.0721 - accuracy: 0.2920 - val_loss: 1.9273 - val_accuracy: 0.4090 - _timestamp: 1649139463.0000 - _runtime: 1898.0000\n",
            "Model tuned successfully!!\n",
            "\n",
            "\n"
          ]
        },
        {
          "output_type": "display_data",
          "data": {
            "text/plain": [
              "<IPython.core.display.HTML object>"
            ],
            "text/html": [
              "Waiting for W&B process to finish... <strong style=\"color:green\">(success).</strong>"
            ]
          },
          "metadata": {}
        },
        {
          "output_type": "display_data",
          "data": {
            "text/plain": [
              "VBox(children=(Label(value='148.627 MB of 148.627 MB uploaded (0.000 MB deduped)\\r'), FloatProgress(value=1.0,…"
            ],
            "application/vnd.jupyter.widget-view+json": {
              "version_major": 2,
              "version_minor": 0,
              "model_id": "efdb472c91264f9f84f40420a9968f7e"
            }
          },
          "metadata": {}
        },
        {
          "output_type": "display_data",
          "data": {
            "text/plain": [
              "<IPython.core.display.HTML object>"
            ],
            "text/html": [
              "<style>\n",
              "    table.wandb td:nth-child(1) { padding: 0 10px; text-align: right }\n",
              "    .wandb-row { display: flex; flex-direction: row; flex-wrap: wrap; width: 100% }\n",
              "    .wandb-col { display: flex; flex-direction: column; flex-basis: 100%; flex: 1; padding: 10px; }\n",
              "    </style>\n",
              "<div class=\"wandb-row\"><div class=\"wandb-col\"><h3>Run history:</h3><br/><table class=\"wandb\"><tr><td>accuracy</td><td>▁▃▅▆█</td></tr><tr><td>epoch</td><td>▁▃▅▆█</td></tr><tr><td>loss</td><td>█▅▄▂▁</td></tr><tr><td>val_accuracy</td><td>▁▃▅▇█</td></tr><tr><td>val_loss</td><td>█▆▄▃▁</td></tr></table><br/></div><div class=\"wandb-col\"><h3>Run summary:</h3><br/><table class=\"wandb\"><tr><td>accuracy</td><td>0.29203</td></tr><tr><td>best_epoch</td><td>4</td></tr><tr><td>best_val_loss</td><td>1.92729</td></tr><tr><td>epoch</td><td>4</td></tr><tr><td>loss</td><td>2.07211</td></tr><tr><td>val_accuracy</td><td>0.409</td></tr><tr><td>val_loss</td><td>1.92729</td></tr></table><br/></div></div>"
            ]
          },
          "metadata": {}
        },
        {
          "output_type": "display_data",
          "data": {
            "text/plain": [
              "<IPython.core.display.HTML object>"
            ],
            "text/html": [
              "Synced <strong style=\"color:#cdcd00\">dainty-sweep-2</strong>: <a href=\"https://wandb.ai/manishiitm/CS6910_Assignment2B/runs/4x4s9kvp\" target=\"_blank\">https://wandb.ai/manishiitm/CS6910_Assignment2B/runs/4x4s9kvp</a><br/>Synced 5 W&B file(s), 1 media file(s), 0 artifact file(s) and 3 other file(s)"
            ]
          },
          "metadata": {}
        },
        {
          "output_type": "display_data",
          "data": {
            "text/plain": [
              "<IPython.core.display.HTML object>"
            ],
            "text/html": [
              "Find logs at: <code>./wandb/run-20220405_054605-4x4s9kvp/logs</code>"
            ]
          },
          "metadata": {}
        },
        {
          "output_type": "stream",
          "name": "stderr",
          "text": [
            "\u001b[34m\u001b[1mwandb\u001b[0m: Agent Starting Run: 48j6oicb with config:\n",
            "\u001b[34m\u001b[1mwandb\u001b[0m: \taugment_data: True\n",
            "\u001b[34m\u001b[1mwandb\u001b[0m: \tbase_model: Xception\n",
            "\u001b[34m\u001b[1mwandb\u001b[0m: \tbatch_normalisation: True\n",
            "\u001b[34m\u001b[1mwandb\u001b[0m: \tdense_Size: 512\n",
            "\u001b[34m\u001b[1mwandb\u001b[0m: \tdropout: 0.37\n",
            "\u001b[34m\u001b[1mwandb\u001b[0m: \tepochs: 10\n",
            "\u001b[34m\u001b[1mwandb\u001b[0m: \tlr: 7e-05\n",
            "\u001b[34m\u001b[1mwandb\u001b[0m: \u001b[33mWARNING\u001b[0m Ignored wandb.init() arg project when running a sweep.\n"
          ]
        },
        {
          "output_type": "display_data",
          "data": {
            "text/plain": [
              "<IPython.core.display.HTML object>"
            ],
            "text/html": [
              "Tracking run with wandb version 0.12.11"
            ]
          },
          "metadata": {}
        },
        {
          "output_type": "display_data",
          "data": {
            "text/plain": [
              "<IPython.core.display.HTML object>"
            ],
            "text/html": [
              "Run data is saved locally in <code>/content/wandb/run-20220405_061808-48j6oicb</code>"
            ]
          },
          "metadata": {}
        },
        {
          "output_type": "display_data",
          "data": {
            "text/plain": [
              "<IPython.core.display.HTML object>"
            ],
            "text/html": [
              "Syncing run <strong><a href=\"https://wandb.ai/manishiitm/CS6910_Assignment2B/runs/48j6oicb\" target=\"_blank\">sparkling-sweep-3</a></strong> to <a href=\"https://wandb.ai/manishiitm/CS6910_Assignment2B\" target=\"_blank\">Weights & Biases</a> (<a href=\"https://wandb.me/run\" target=\"_blank\">docs</a>)<br/>Sweep page:  <a href=\"https://wandb.ai/manishiitm/CS6910_Assignment2B/sweeps/ujgiykhn\" target=\"_blank\">https://wandb.ai/manishiitm/CS6910_Assignment2B/sweeps/ujgiykhn</a>"
            ]
          },
          "metadata": {}
        },
        {
          "output_type": "stream",
          "name": "stdout",
          "text": [
            "1. Loading the dataset ...\n",
            "\n",
            "Found 9999 images belonging to 10 classes.\n",
            "Found 2000 images belonging to 10 classes.\n",
            "Downloading data from https://storage.googleapis.com/tensorflow/keras-applications/xception/xception_weights_tf_dim_ordering_tf_kernels_notop.h5\n",
            "83689472/83683744 [==============================] - 1s 0us/step\n",
            "83697664/83683744 [==============================] - 1s 0us/step\n",
            "Total layers in base model is 8\n",
            "\n",
            "Fine tuning the model ...\n",
            "\n",
            "Epoch 1/10\n",
            "79/79 [==============================] - 429s 5s/step - loss: 2.3425 - accuracy: 0.1339 - val_loss: 2.1006 - val_accuracy: 0.3455 - _timestamp: 1649139927.0000 - _runtime: 439.0000\n",
            "Epoch 2/10\n",
            "79/79 [==============================] - 403s 5s/step - loss: 2.1325 - accuracy: 0.2408 - val_loss: 1.8923 - val_accuracy: 0.5295 - _timestamp: 1649140332.0000 - _runtime: 844.0000\n",
            "Epoch 3/10\n",
            "79/79 [==============================] - 415s 5s/step - loss: 1.9646 - accuracy: 0.3548 - val_loss: 1.6963 - val_accuracy: 0.6075 - _timestamp: 1649140746.0000 - _runtime: 1258.0000\n",
            "Epoch 4/10\n",
            "79/79 [==============================] - 408s 5s/step - loss: 1.8170 - accuracy: 0.4250 - val_loss: 1.5165 - val_accuracy: 0.6515 - _timestamp: 1649141182.0000 - _runtime: 1694.0000\n",
            "Epoch 5/10\n",
            "79/79 [==============================] - 401s 5s/step - loss: 1.6971 - accuracy: 0.4688 - val_loss: 1.3686 - val_accuracy: 0.6730 - _timestamp: 1649141583.0000 - _runtime: 2095.0000\n",
            "Epoch 6/10\n",
            "79/79 [==============================] - 393s 5s/step - loss: 1.5996 - accuracy: 0.4986 - val_loss: 1.2460 - val_accuracy: 0.6985 - _timestamp: 1649142017.0000 - _runtime: 2529.0000\n",
            "Epoch 7/10\n",
            "79/79 [==============================] - 393s 5s/step - loss: 1.5194 - accuracy: 0.5264 - val_loss: 1.1531 - val_accuracy: 0.7145 - _timestamp: 1649142410.0000 - _runtime: 2922.0000\n",
            "Epoch 8/10\n",
            "79/79 [==============================] - 400s 5s/step - loss: 1.4741 - accuracy: 0.5397 - val_loss: 1.0827 - val_accuracy: 0.7205 - _timestamp: 1649142810.0000 - _runtime: 3322.0000\n",
            "Epoch 9/10\n",
            "79/79 [==============================] - 400s 5s/step - loss: 1.4228 - accuracy: 0.5517 - val_loss: 1.0277 - val_accuracy: 0.7350 - _timestamp: 1649143210.0000 - _runtime: 3722.0000\n",
            "Epoch 10/10\n",
            "79/79 [==============================] - 401s 5s/step - loss: 1.3708 - accuracy: 0.5688 - val_loss: 0.9852 - val_accuracy: 0.7420 - _timestamp: 1649143612.0000 - _runtime: 4124.0000\n",
            "Model tuned successfully!!\n",
            "\n",
            "\n"
          ]
        },
        {
          "output_type": "display_data",
          "data": {
            "text/plain": [
              "<IPython.core.display.HTML object>"
            ],
            "text/html": [
              "Waiting for W&B process to finish... <strong style=\"color:green\">(success).</strong>"
            ]
          },
          "metadata": {}
        },
        {
          "output_type": "display_data",
          "data": {
            "text/plain": [
              "VBox(children=(Label(value='483.392 MB of 483.392 MB uploaded (0.000 MB deduped)\\r'), FloatProgress(value=1.0,…"
            ],
            "application/vnd.jupyter.widget-view+json": {
              "version_major": 2,
              "version_minor": 0,
              "model_id": "171243e3a9a24ad090c3cf291b08bfab"
            }
          },
          "metadata": {}
        },
        {
          "output_type": "display_data",
          "data": {
            "text/plain": [
              "<IPython.core.display.HTML object>"
            ],
            "text/html": [
              "<style>\n",
              "    table.wandb td:nth-child(1) { padding: 0 10px; text-align: right }\n",
              "    .wandb-row { display: flex; flex-direction: row; flex-wrap: wrap; width: 100% }\n",
              "    .wandb-col { display: flex; flex-direction: column; flex-basis: 100%; flex: 1; padding: 10px; }\n",
              "    </style>\n",
              "<div class=\"wandb-row\"><div class=\"wandb-col\"><h3>Run history:</h3><br/><table class=\"wandb\"><tr><td>accuracy</td><td>▁▃▅▆▆▇▇███</td></tr><tr><td>epoch</td><td>▁▂▃▃▄▅▆▆▇█</td></tr><tr><td>loss</td><td>█▆▅▄▃▃▂▂▁▁</td></tr><tr><td>val_accuracy</td><td>▁▄▆▆▇▇████</td></tr><tr><td>val_loss</td><td>█▇▅▄▃▃▂▂▁▁</td></tr></table><br/></div><div class=\"wandb-col\"><h3>Run summary:</h3><br/><table class=\"wandb\"><tr><td>accuracy</td><td>0.56876</td></tr><tr><td>best_epoch</td><td>9</td></tr><tr><td>best_val_loss</td><td>0.9852</td></tr><tr><td>epoch</td><td>9</td></tr><tr><td>loss</td><td>1.37085</td></tr><tr><td>val_accuracy</td><td>0.742</td></tr><tr><td>val_loss</td><td>0.9852</td></tr></table><br/></div></div>"
            ]
          },
          "metadata": {}
        },
        {
          "output_type": "display_data",
          "data": {
            "text/plain": [
              "<IPython.core.display.HTML object>"
            ],
            "text/html": [
              "Synced <strong style=\"color:#cdcd00\">sparkling-sweep-3</strong>: <a href=\"https://wandb.ai/manishiitm/CS6910_Assignment2B/runs/48j6oicb\" target=\"_blank\">https://wandb.ai/manishiitm/CS6910_Assignment2B/runs/48j6oicb</a><br/>Synced 5 W&B file(s), 1 media file(s), 0 artifact file(s) and 3 other file(s)"
            ]
          },
          "metadata": {}
        },
        {
          "output_type": "display_data",
          "data": {
            "text/plain": [
              "<IPython.core.display.HTML object>"
            ],
            "text/html": [
              "Find logs at: <code>./wandb/run-20220405_061808-48j6oicb/logs</code>"
            ]
          },
          "metadata": {}
        },
        {
          "output_type": "stream",
          "name": "stderr",
          "text": [
            "\u001b[34m\u001b[1mwandb\u001b[0m: Agent Starting Run: yvlt54c8 with config:\n",
            "\u001b[34m\u001b[1mwandb\u001b[0m: \taugment_data: False\n",
            "\u001b[34m\u001b[1mwandb\u001b[0m: \tbase_model: ResNet50\n",
            "\u001b[34m\u001b[1mwandb\u001b[0m: \tbatch_normalisation: False\n",
            "\u001b[34m\u001b[1mwandb\u001b[0m: \tdense_Size: 512\n",
            "\u001b[34m\u001b[1mwandb\u001b[0m: \tdropout: 0.2\n",
            "\u001b[34m\u001b[1mwandb\u001b[0m: \tepochs: 5\n",
            "\u001b[34m\u001b[1mwandb\u001b[0m: \tlr: 0.0002\n",
            "\u001b[34m\u001b[1mwandb\u001b[0m: \u001b[33mWARNING\u001b[0m Ignored wandb.init() arg project when running a sweep.\n"
          ]
        },
        {
          "output_type": "display_data",
          "data": {
            "text/plain": [
              "<IPython.core.display.HTML object>"
            ],
            "text/html": [
              "Tracking run with wandb version 0.12.11"
            ]
          },
          "metadata": {}
        },
        {
          "output_type": "display_data",
          "data": {
            "text/plain": [
              "<IPython.core.display.HTML object>"
            ],
            "text/html": [
              "Run data is saved locally in <code>/content/wandb/run-20220405_072710-yvlt54c8</code>"
            ]
          },
          "metadata": {}
        },
        {
          "output_type": "display_data",
          "data": {
            "text/plain": [
              "<IPython.core.display.HTML object>"
            ],
            "text/html": [
              "Syncing run <strong><a href=\"https://wandb.ai/manishiitm/CS6910_Assignment2B/runs/yvlt54c8\" target=\"_blank\">lemon-sweep-4</a></strong> to <a href=\"https://wandb.ai/manishiitm/CS6910_Assignment2B\" target=\"_blank\">Weights & Biases</a> (<a href=\"https://wandb.me/run\" target=\"_blank\">docs</a>)<br/>Sweep page:  <a href=\"https://wandb.ai/manishiitm/CS6910_Assignment2B/sweeps/ujgiykhn\" target=\"_blank\">https://wandb.ai/manishiitm/CS6910_Assignment2B/sweeps/ujgiykhn</a>"
            ]
          },
          "metadata": {}
        },
        {
          "output_type": "stream",
          "name": "stdout",
          "text": [
            "1. Loading the dataset ...\n",
            "\n",
            "Found 9999 images belonging to 10 classes.\n",
            "Found 2000 images belonging to 10 classes.\n",
            "Downloading data from https://storage.googleapis.com/tensorflow/keras-applications/resnet/resnet50_weights_tf_dim_ordering_tf_kernels_notop.h5\n",
            "94773248/94765736 [==============================] - 1s 0us/step\n",
            "94781440/94765736 [==============================] - 1s 0us/step\n",
            "Total layers in base model is 7\n",
            "\n",
            "Fine tuning the model ...\n",
            "\n",
            "Epoch 1/5\n",
            "79/79 [==============================] - 186s 2s/step - loss: 2.4171 - accuracy: 0.1039 - val_loss: 2.2776 - val_accuracy: 0.1215 - _timestamp: 1649143828.0000 - _runtime: 198.0000\n",
            "Epoch 2/5\n",
            "79/79 [==============================] - 173s 2s/step - loss: 2.3275 - accuracy: 0.1230 - val_loss: 2.2562 - val_accuracy: 0.1565 - _timestamp: 1649144001.0000 - _runtime: 371.0000\n",
            "Epoch 3/5\n",
            "79/79 [==============================] - 172s 2s/step - loss: 2.2977 - accuracy: 0.1307 - val_loss: 2.2425 - val_accuracy: 0.1690 - _timestamp: 1649144173.0000 - _runtime: 543.0000\n",
            "Epoch 4/5\n",
            "79/79 [==============================] - 167s 2s/step - loss: 2.2775 - accuracy: 0.1428 - val_loss: 2.2364 - val_accuracy: 0.1840 - _timestamp: 1649144340.0000 - _runtime: 710.0000\n",
            "Epoch 5/5\n",
            "79/79 [==============================] - 173s 2s/step - loss: 2.2669 - accuracy: 0.1495 - val_loss: 2.2344 - val_accuracy: 0.1800 - _timestamp: 1649144513.0000 - _runtime: 883.0000\n",
            "Model tuned successfully!!\n",
            "\n",
            "\n"
          ]
        },
        {
          "output_type": "display_data",
          "data": {
            "text/plain": [
              "<IPython.core.display.HTML object>"
            ],
            "text/html": [
              "Waiting for W&B process to finish... <strong style=\"color:green\">(success).</strong>"
            ]
          },
          "metadata": {}
        },
        {
          "output_type": "display_data",
          "data": {
            "text/plain": [
              "VBox(children=(Label(value='63.274 MB of 289.886 MB uploaded (0.000 MB deduped)\\r'), FloatProgress(value=0.218…"
            ],
            "application/vnd.jupyter.widget-view+json": {
              "version_major": 2,
              "version_minor": 0,
              "model_id": "4621eee172cd49a4898443e090071bec"
            }
          },
          "metadata": {}
        },
        {
          "output_type": "display_data",
          "data": {
            "text/plain": [
              "<IPython.core.display.HTML object>"
            ],
            "text/html": [
              "<style>\n",
              "    table.wandb td:nth-child(1) { padding: 0 10px; text-align: right }\n",
              "    .wandb-row { display: flex; flex-direction: row; flex-wrap: wrap; width: 100% }\n",
              "    .wandb-col { display: flex; flex-direction: column; flex-basis: 100%; flex: 1; padding: 10px; }\n",
              "    </style>\n",
              "<div class=\"wandb-row\"><div class=\"wandb-col\"><h3>Run history:</h3><br/><table class=\"wandb\"><tr><td>accuracy</td><td>▁▄▅▇█</td></tr><tr><td>epoch</td><td>▁▃▅▆█</td></tr><tr><td>loss</td><td>█▄▂▁▁</td></tr><tr><td>val_accuracy</td><td>▁▅▆██</td></tr><tr><td>val_loss</td><td>█▅▂▁▁</td></tr></table><br/></div><div class=\"wandb-col\"><h3>Run summary:</h3><br/><table class=\"wandb\"><tr><td>accuracy</td><td>0.14951</td></tr><tr><td>best_epoch</td><td>4</td></tr><tr><td>best_val_loss</td><td>2.23437</td></tr><tr><td>epoch</td><td>4</td></tr><tr><td>loss</td><td>2.26694</td></tr><tr><td>val_accuracy</td><td>0.18</td></tr><tr><td>val_loss</td><td>2.23437</td></tr></table><br/></div></div>"
            ]
          },
          "metadata": {}
        },
        {
          "output_type": "display_data",
          "data": {
            "text/plain": [
              "<IPython.core.display.HTML object>"
            ],
            "text/html": [
              "Synced <strong style=\"color:#cdcd00\">lemon-sweep-4</strong>: <a href=\"https://wandb.ai/manishiitm/CS6910_Assignment2B/runs/yvlt54c8\" target=\"_blank\">https://wandb.ai/manishiitm/CS6910_Assignment2B/runs/yvlt54c8</a><br/>Synced 5 W&B file(s), 1 media file(s), 0 artifact file(s) and 3 other file(s)"
            ]
          },
          "metadata": {}
        },
        {
          "output_type": "display_data",
          "data": {
            "text/plain": [
              "<IPython.core.display.HTML object>"
            ],
            "text/html": [
              "Find logs at: <code>./wandb/run-20220405_072710-yvlt54c8/logs</code>"
            ]
          },
          "metadata": {}
        },
        {
          "output_type": "stream",
          "name": "stderr",
          "text": [
            "\u001b[34m\u001b[1mwandb\u001b[0m: Agent Starting Run: mc2d3ny4 with config:\n",
            "\u001b[34m\u001b[1mwandb\u001b[0m: \taugment_data: False\n",
            "\u001b[34m\u001b[1mwandb\u001b[0m: \tbase_model: InceptionV3\n",
            "\u001b[34m\u001b[1mwandb\u001b[0m: \tbatch_normalisation: False\n",
            "\u001b[34m\u001b[1mwandb\u001b[0m: \tdense_Size: 512\n",
            "\u001b[34m\u001b[1mwandb\u001b[0m: \tdropout: 0.37\n",
            "\u001b[34m\u001b[1mwandb\u001b[0m: \tepochs: 10\n",
            "\u001b[34m\u001b[1mwandb\u001b[0m: \tlr: 7e-05\n",
            "\u001b[34m\u001b[1mwandb\u001b[0m: \u001b[33mWARNING\u001b[0m Ignored wandb.init() arg project when running a sweep.\n"
          ]
        },
        {
          "output_type": "display_data",
          "data": {
            "text/plain": [
              "<IPython.core.display.HTML object>"
            ],
            "text/html": [
              "Tracking run with wandb version 0.12.11"
            ]
          },
          "metadata": {}
        },
        {
          "output_type": "display_data",
          "data": {
            "text/plain": [
              "<IPython.core.display.HTML object>"
            ],
            "text/html": [
              "Run data is saved locally in <code>/content/wandb/run-20220405_074210-mc2d3ny4</code>"
            ]
          },
          "metadata": {}
        },
        {
          "output_type": "display_data",
          "data": {
            "text/plain": [
              "<IPython.core.display.HTML object>"
            ],
            "text/html": [
              "Syncing run <strong><a href=\"https://wandb.ai/manishiitm/CS6910_Assignment2B/runs/mc2d3ny4\" target=\"_blank\">fresh-sweep-5</a></strong> to <a href=\"https://wandb.ai/manishiitm/CS6910_Assignment2B\" target=\"_blank\">Weights & Biases</a> (<a href=\"https://wandb.me/run\" target=\"_blank\">docs</a>)<br/>Sweep page:  <a href=\"https://wandb.ai/manishiitm/CS6910_Assignment2B/sweeps/ujgiykhn\" target=\"_blank\">https://wandb.ai/manishiitm/CS6910_Assignment2B/sweeps/ujgiykhn</a>"
            ]
          },
          "metadata": {}
        },
        {
          "output_type": "stream",
          "name": "stdout",
          "text": [
            "1. Loading the dataset ...\n",
            "\n",
            "Found 9999 images belonging to 10 classes.\n",
            "Found 2000 images belonging to 10 classes.\n",
            "Total layers in base model is 7\n",
            "\n",
            "Fine tuning the model ...\n",
            "\n",
            "Epoch 1/10\n",
            "79/79 [==============================] - 200s 2s/step - loss: 2.5608 - accuracy: 0.1458 - val_loss: 2.0693 - val_accuracy: 0.2965 - _timestamp: 1649144741.0000 - _runtime: 210.0000\n",
            "Epoch 2/10\n",
            "79/79 [==============================] - 195s 2s/step - loss: 2.2184 - accuracy: 0.2301 - val_loss: 1.8237 - val_accuracy: 0.4790 - _timestamp: 1649144945.0000 - _runtime: 414.0000\n",
            "Epoch 3/10\n",
            "57/79 [====================>.........] - ETA: 45s - loss: 2.0160 - accuracy: 0.3134"
          ]
        }
      ]
    },
    {
      "cell_type": "code",
      "source": [
        "# running the sweep\n",
        "wandb.agent(sweep_id, function=train_model,count=40)"
      ],
      "metadata": {
        "colab": {
          "base_uri": "https://localhost:8080/",
          "height": 1000,
          "referenced_widgets": [
            "c91819de42914f868fa4f31b0749764f",
            "e6fe7de4e62c493d9e27872f59da488d",
            "73a13ff6619d47989735745c18e87281",
            "3623ad692cf141fba9a726be92894c79",
            "1afd607f86e1486a851914198140a3d9",
            "a3affc98dab6489ebbdc66ffefcd7f5d",
            "3639f4a173814967a70501f2b138fb1b",
            "a2b39c7ad5df4fb9bc7e9632ea7c3428",
            "deb05cc9cce2426db4f697f3ecb4d627",
            "4cd41e4e56fa4fc6919976257c3a5129",
            "5e8ccf9ae5f2480d891dbce1892971c2",
            "5c0b8e6833444b17bdb2e48ac5163b44",
            "85f82677b2b242c694c1adf0a3b68c19",
            "29826dd1beab4bfcbc952eb25cfe5613",
            "85e8a8ca2b7f4de299438b5c88fe00f8",
            "a3bac2c277114399b330bcff43080082",
            "d5506af326964cddb1aabed6202226d0",
            "758d29c71e8b4634a0827c4218689fdd",
            "1016a0d1562848edbf0e2dab4f9dad2c",
            "6e5a2d0b51c746d3978e47bb290b1baf",
            "f22362a8aa5c411b822cc780b776eb2a",
            "773a1e1fb8d74ab9ba291cadd115042e",
            "606d7ee6d04b44d1862e52b9169c288c",
            "873a51fa19a547f8b329f44367bcb36a",
            "8c3e5de06c7e4532af0e829184bfffcd",
            "05818627edc24b42b6d02b061ae6bc59",
            "51f2d7242f294ed8aeffb8b26e022dfa",
            "7be005711c9a47de881298c8105be119",
            "a147141849c84a93a1e9707f55027e8a",
            "02d15fc221fc4012a21fc73282806883",
            "9be61a74262249e3857f4782f87cf50d",
            "3fcaca90bb304a208514e266ebfcb1a7",
            "7eb81aaa31754a17b74dcd9b2543d702",
            "37f2cb1a769b43cca5f70a91e3f00184",
            "4e5267b7f1e54d9d8847c565f8caa71a",
            "a0691a8b8bb1483c97e98e050be21cc1",
            "5c990963dff14cc7be3497e8e615eca8",
            "94f3982f435043448959c3672d1ec704",
            "a2e7ba3616754f699e3c2cb689153aae",
            "6f3e3632b216478f86cfe789be960393"
          ]
        },
        "id": "sTDZOf-Dz7Uy",
        "outputId": "0ff00b0d-f792-4d94-9b4f-e3a9b2ddf60c"
      },
      "execution_count": null,
      "outputs": [
        {
          "output_type": "stream",
          "name": "stderr",
          "text": [
            "\u001b[34m\u001b[1mwandb\u001b[0m: Agent Starting Run: apew36sh with config:\n",
            "\u001b[34m\u001b[1mwandb\u001b[0m: \taugment_data: True\n",
            "\u001b[34m\u001b[1mwandb\u001b[0m: \tbase_model: InceptionV3\n",
            "\u001b[34m\u001b[1mwandb\u001b[0m: \tbatch_normalisation: True\n",
            "\u001b[34m\u001b[1mwandb\u001b[0m: \tdense_Size: 128\n",
            "\u001b[34m\u001b[1mwandb\u001b[0m: \tdropout: 0.37\n",
            "\u001b[34m\u001b[1mwandb\u001b[0m: \tepochs: 10\n",
            "\u001b[34m\u001b[1mwandb\u001b[0m: \tlr: 0.0002\n",
            "\u001b[34m\u001b[1mwandb\u001b[0m: Currently logged in as: \u001b[33mmanishiitm\u001b[0m (use `wandb login --relogin` to force relogin)\n",
            "\u001b[34m\u001b[1mwandb\u001b[0m: \u001b[33mWARNING\u001b[0m Ignored wandb.init() arg project when running a sweep.\n"
          ]
        },
        {
          "output_type": "display_data",
          "data": {
            "text/plain": [
              "<IPython.core.display.HTML object>"
            ],
            "text/html": [
              "Tracking run with wandb version 0.12.13"
            ]
          },
          "metadata": {}
        },
        {
          "output_type": "display_data",
          "data": {
            "text/plain": [
              "<IPython.core.display.HTML object>"
            ],
            "text/html": [
              "Run data is saved locally in <code>/content/wandb/run-20220407_133137-apew36sh</code>"
            ]
          },
          "metadata": {}
        },
        {
          "output_type": "display_data",
          "data": {
            "text/plain": [
              "<IPython.core.display.HTML object>"
            ],
            "text/html": [
              "Syncing run <strong><a href=\"https://wandb.ai/manishiitm/CS6910_Assignment2B/runs/apew36sh\" target=\"_blank\">amber-sweep-1</a></strong> to <a href=\"https://wandb.ai/manishiitm/CS6910_Assignment2B\" target=\"_blank\">Weights & Biases</a> (<a href=\"https://wandb.me/run\" target=\"_blank\">docs</a>)<br/>Sweep page:  <a href=\"https://wandb.ai/manishiitm/CS6910_Assignment2B/sweeps/7mhcjb80\" target=\"_blank\">https://wandb.ai/manishiitm/CS6910_Assignment2B/sweeps/7mhcjb80</a>"
            ]
          },
          "metadata": {}
        },
        {
          "output_type": "stream",
          "name": "stderr",
          "text": [
            "\u001b[34m\u001b[1mwandb\u001b[0m: \u001b[33mWARNING\u001b[0m Ignored wandb.init() arg project when running a sweep.\n"
          ]
        },
        {
          "output_type": "display_data",
          "data": {
            "text/plain": [
              "<IPython.core.display.HTML object>"
            ],
            "text/html": [
              "Finishing last run (ID:apew36sh) before initializing another..."
            ]
          },
          "metadata": {}
        },
        {
          "output_type": "stream",
          "name": "stdout",
          "text": [
            "\n"
          ]
        },
        {
          "output_type": "display_data",
          "data": {
            "text/plain": [
              "<IPython.core.display.HTML object>"
            ],
            "text/html": [
              "Waiting for W&B process to finish... <strong style=\"color:green\">(success).</strong>"
            ]
          },
          "metadata": {}
        },
        {
          "output_type": "display_data",
          "data": {
            "text/plain": [
              "VBox(children=(Label(value='0.000 MB of 0.000 MB uploaded (0.000 MB deduped)\\r'), FloatProgress(value=1.0, max…"
            ],
            "application/vnd.jupyter.widget-view+json": {
              "version_major": 2,
              "version_minor": 0,
              "model_id": "c91819de42914f868fa4f31b0749764f"
            }
          },
          "metadata": {}
        },
        {
          "output_type": "display_data",
          "data": {
            "text/plain": [
              "<IPython.core.display.HTML object>"
            ],
            "text/html": [
              "Synced <strong style=\"color:#cdcd00\">amber-sweep-1</strong>: <a href=\"https://wandb.ai/manishiitm/CS6910_Assignment2B/runs/apew36sh\" target=\"_blank\">https://wandb.ai/manishiitm/CS6910_Assignment2B/runs/apew36sh</a><br/>Synced 5 W&B file(s), 0 media file(s), 0 artifact file(s) and 0 other file(s)"
            ]
          },
          "metadata": {}
        },
        {
          "output_type": "display_data",
          "data": {
            "text/plain": [
              "<IPython.core.display.HTML object>"
            ],
            "text/html": [
              "Find logs at: <code>./wandb/run-20220407_133137-apew36sh/logs</code>"
            ]
          },
          "metadata": {}
        },
        {
          "output_type": "display_data",
          "data": {
            "text/plain": [
              "<IPython.core.display.HTML object>"
            ],
            "text/html": [
              "Successfully finished last run (ID:apew36sh). Initializing new run:<br/>"
            ]
          },
          "metadata": {}
        },
        {
          "output_type": "display_data",
          "data": {
            "text/plain": [
              "<IPython.core.display.HTML object>"
            ],
            "text/html": [
              "Tracking run with wandb version 0.12.13"
            ]
          },
          "metadata": {}
        },
        {
          "output_type": "display_data",
          "data": {
            "text/plain": [
              "<IPython.core.display.HTML object>"
            ],
            "text/html": [
              "Run data is saved locally in <code>/content/wandb/run-20220407_133147-apew36sh</code>"
            ]
          },
          "metadata": {}
        },
        {
          "output_type": "display_data",
          "data": {
            "text/plain": [
              "<IPython.core.display.HTML object>"
            ],
            "text/html": [
              "Syncing run <strong><a href=\"https://wandb.ai/manishiitm/CS6910_Assignment2B/runs/apew36sh\" target=\"_blank\">amber-sweep-1</a></strong> to <a href=\"https://wandb.ai/manishiitm/CS6910_Assignment2B\" target=\"_blank\">Weights & Biases</a> (<a href=\"https://wandb.me/run\" target=\"_blank\">docs</a>)<br/>Sweep page:  <a href=\"https://wandb.ai/manishiitm/CS6910_Assignment2B/sweeps/7mhcjb80\" target=\"_blank\">https://wandb.ai/manishiitm/CS6910_Assignment2B/sweeps/7mhcjb80</a>"
            ]
          },
          "metadata": {}
        },
        {
          "output_type": "stream",
          "name": "stdout",
          "text": [
            "1. Loading the dataset ...\n",
            "\n",
            "Found 9999 images belonging to 10 classes.\n",
            "Found 2000 images belonging to 10 classes.\n",
            "Downloading data from https://storage.googleapis.com/tensorflow/keras-applications/inception_v3/inception_v3_weights_tf_dim_ordering_tf_kernels_notop.h5\n",
            "87916544/87910968 [==============================] - 1s 0us/step\n",
            "87924736/87910968 [==============================] - 1s 0us/step\n",
            "Total layers in base model is 8\n",
            "\n",
            "Fine tuning the model ...\n",
            "\n",
            "Epoch 1/10\n",
            "79/79 [==============================] - 395s 5s/step - loss: 2.6407 - accuracy: 0.1097 - val_loss: 2.2623 - val_accuracy: 0.1530 - _timestamp: 1649338729.0000 - _runtime: 416.0000\n",
            "Epoch 2/10\n",
            "79/79 [==============================] - 363s 5s/step - loss: 2.4539 - accuracy: 0.1287 - val_loss: 2.1958 - val_accuracy: 0.2205 - _timestamp: 1649339092.0000 - _runtime: 779.0000\n",
            "Epoch 3/10\n",
            "79/79 [==============================] - 358s 5s/step - loss: 2.3389 - accuracy: 0.1502 - val_loss: 2.1465 - val_accuracy: 0.2835 - _timestamp: 1649339468.0000 - _runtime: 1155.0000\n",
            "Epoch 4/10\n",
            "79/79 [==============================] - 357s 5s/step - loss: 2.2793 - accuracy: 0.1785 - val_loss: 2.1070 - val_accuracy: 0.3285 - _timestamp: 1649339825.0000 - _runtime: 1512.0000\n",
            "Epoch 5/10\n",
            "79/79 [==============================] - 354s 4s/step - loss: 2.2333 - accuracy: 0.1994 - val_loss: 2.0736 - val_accuracy: 0.3640 - _timestamp: 1649340180.0000 - _runtime: 1867.0000\n",
            "Epoch 6/10\n",
            "79/79 [==============================] - 361s 5s/step - loss: 2.1972 - accuracy: 0.2097 - val_loss: 2.0403 - val_accuracy: 0.3965 - _timestamp: 1649340540.0000 - _runtime: 2227.0000\n",
            "Epoch 7/10\n",
            "79/79 [==============================] - 354s 4s/step - loss: 2.1600 - accuracy: 0.2302 - val_loss: 2.0052 - val_accuracy: 0.4255 - _timestamp: 1649340894.0000 - _runtime: 2581.0000\n",
            "Epoch 8/10\n",
            "79/79 [==============================] - 353s 4s/step - loss: 2.1418 - accuracy: 0.2413 - val_loss: 1.9721 - val_accuracy: 0.4390 - _timestamp: 1649341247.0000 - _runtime: 2934.0000\n",
            "Epoch 9/10\n",
            "79/79 [==============================] - 357s 5s/step - loss: 2.1082 - accuracy: 0.2624 - val_loss: 1.9365 - val_accuracy: 0.4525 - _timestamp: 1649341603.0000 - _runtime: 3290.0000\n",
            "Epoch 10/10\n",
            "79/79 [==============================] - 362s 5s/step - loss: 2.0859 - accuracy: 0.2718 - val_loss: 1.9028 - val_accuracy: 0.4705 - _timestamp: 1649341966.0000 - _runtime: 3653.0000\n",
            "Model tuned successfully!!\n",
            "\n",
            "\n"
          ]
        },
        {
          "output_type": "display_data",
          "data": {
            "text/plain": [
              "<IPython.core.display.HTML object>"
            ],
            "text/html": [
              "Waiting for W&B process to finish... <strong style=\"color:green\">(success).</strong>"
            ]
          },
          "metadata": {}
        },
        {
          "output_type": "display_data",
          "data": {
            "text/plain": [
              "VBox(children=(Label(value='148.647 MB of 148.647 MB uploaded (0.000 MB deduped)\\r'), FloatProgress(value=1.0,…"
            ],
            "application/vnd.jupyter.widget-view+json": {
              "version_major": 2,
              "version_minor": 0,
              "model_id": "deb05cc9cce2426db4f697f3ecb4d627"
            }
          },
          "metadata": {}
        },
        {
          "output_type": "display_data",
          "data": {
            "text/plain": [
              "<IPython.core.display.HTML object>"
            ],
            "text/html": [
              "<style>\n",
              "    table.wandb td:nth-child(1) { padding: 0 10px; text-align: right }\n",
              "    .wandb-row { display: flex; flex-direction: row; flex-wrap: wrap; width: 100% }\n",
              "    .wandb-col { display: flex; flex-direction: column; flex-basis: 100%; flex: 1; padding: 10px; }\n",
              "    </style>\n",
              "<div class=\"wandb-row\"><div class=\"wandb-col\"><h3>Run history:</h3><br/><table class=\"wandb\"><tr><td>accuracy</td><td>▁▂▃▄▅▅▆▇██</td></tr><tr><td>epoch</td><td>▁▂▃▃▄▅▆▆▇█</td></tr><tr><td>loss</td><td>█▆▄▃▃▂▂▂▁▁</td></tr><tr><td>val_accuracy</td><td>▁▂▄▅▆▆▇▇██</td></tr><tr><td>val_loss</td><td>█▇▆▅▄▄▃▂▂▁</td></tr></table><br/></div><div class=\"wandb-col\"><h3>Run summary:</h3><br/><table class=\"wandb\"><tr><td>accuracy</td><td>0.27183</td></tr><tr><td>best_epoch</td><td>9</td></tr><tr><td>best_val_loss</td><td>1.90276</td></tr><tr><td>epoch</td><td>9</td></tr><tr><td>loss</td><td>2.08589</td></tr><tr><td>val_accuracy</td><td>0.4705</td></tr><tr><td>val_loss</td><td>1.90276</td></tr></table><br/></div></div>"
            ]
          },
          "metadata": {}
        },
        {
          "output_type": "display_data",
          "data": {
            "text/plain": [
              "<IPython.core.display.HTML object>"
            ],
            "text/html": [
              "Synced <strong style=\"color:#cdcd00\">amber-sweep-1</strong>: <a href=\"https://wandb.ai/manishiitm/CS6910_Assignment2B/runs/apew36sh\" target=\"_blank\">https://wandb.ai/manishiitm/CS6910_Assignment2B/runs/apew36sh</a><br/>Synced 5 W&B file(s), 1 media file(s), 0 artifact file(s) and 3 other file(s)"
            ]
          },
          "metadata": {}
        },
        {
          "output_type": "display_data",
          "data": {
            "text/plain": [
              "<IPython.core.display.HTML object>"
            ],
            "text/html": [
              "Find logs at: <code>./wandb/run-20220407_133147-apew36sh/logs</code>"
            ]
          },
          "metadata": {}
        },
        {
          "output_type": "stream",
          "name": "stderr",
          "text": [
            "\u001b[34m\u001b[1mwandb\u001b[0m: Agent Starting Run: azrvw1w8 with config:\n",
            "\u001b[34m\u001b[1mwandb\u001b[0m: \taugment_data: False\n",
            "\u001b[34m\u001b[1mwandb\u001b[0m: \tbase_model: InceptionResNetV2\n",
            "\u001b[34m\u001b[1mwandb\u001b[0m: \tbatch_normalisation: False\n",
            "\u001b[34m\u001b[1mwandb\u001b[0m: \tdense_Size: 512\n",
            "\u001b[34m\u001b[1mwandb\u001b[0m: \tdropout: 0.2\n",
            "\u001b[34m\u001b[1mwandb\u001b[0m: \tepochs: 5\n",
            "\u001b[34m\u001b[1mwandb\u001b[0m: \tlr: 0.0002\n",
            "\u001b[34m\u001b[1mwandb\u001b[0m: \u001b[33mWARNING\u001b[0m Ignored wandb.init() arg project when running a sweep.\n"
          ]
        },
        {
          "output_type": "display_data",
          "data": {
            "text/plain": [
              "<IPython.core.display.HTML object>"
            ],
            "text/html": [
              "Tracking run with wandb version 0.12.13"
            ]
          },
          "metadata": {}
        },
        {
          "output_type": "display_data",
          "data": {
            "text/plain": [
              "<IPython.core.display.HTML object>"
            ],
            "text/html": [
              "Run data is saved locally in <code>/content/wandb/run-20220407_143325-azrvw1w8</code>"
            ]
          },
          "metadata": {}
        },
        {
          "output_type": "display_data",
          "data": {
            "text/plain": [
              "<IPython.core.display.HTML object>"
            ],
            "text/html": [
              "Syncing run <strong><a href=\"https://wandb.ai/manishiitm/CS6910_Assignment2B/runs/azrvw1w8\" target=\"_blank\">unique-sweep-2</a></strong> to <a href=\"https://wandb.ai/manishiitm/CS6910_Assignment2B\" target=\"_blank\">Weights & Biases</a> (<a href=\"https://wandb.me/run\" target=\"_blank\">docs</a>)<br/>Sweep page:  <a href=\"https://wandb.ai/manishiitm/CS6910_Assignment2B/sweeps/7mhcjb80\" target=\"_blank\">https://wandb.ai/manishiitm/CS6910_Assignment2B/sweeps/7mhcjb80</a>"
            ]
          },
          "metadata": {}
        },
        {
          "output_type": "stream",
          "name": "stdout",
          "text": [
            "1. Loading the dataset ...\n",
            "\n",
            "Found 9999 images belonging to 10 classes.\n",
            "Found 2000 images belonging to 10 classes.\n",
            "Downloading data from https://storage.googleapis.com/tensorflow/keras-applications/inception_resnet_v2/inception_resnet_v2_weights_tf_dim_ordering_tf_kernels_notop.h5\n",
            "219062272/219055592 [==============================] - 4s 0us/step\n",
            "219070464/219055592 [==============================] - 4s 0us/step\n",
            "Total layers in base model is 7\n",
            "\n",
            "Fine tuning the model ...\n",
            "\n",
            "Epoch 1/5\n",
            "79/79 [==============================] - 289s 3s/step - loss: 1.8651 - accuracy: 0.3990 - val_loss: 1.2545 - val_accuracy: 0.6955 - _timestamp: 1649342316.0000 - _runtime: 311.0000\n",
            "Epoch 2/5\n",
            "79/79 [==============================] - 263s 3s/step - loss: 1.2148 - accuracy: 0.6561 - val_loss: 0.9155 - val_accuracy: 0.7500 - _timestamp: 1649342578.0000 - _runtime: 573.0000\n",
            "Epoch 3/5\n",
            "79/79 [==============================] - 262s 3s/step - loss: 0.9767 - accuracy: 0.7229 - val_loss: 0.8025 - val_accuracy: 0.7730 - _timestamp: 1649342840.0000 - _runtime: 835.0000\n",
            "Epoch 4/5\n",
            "79/79 [==============================] - 262s 3s/step - loss: 0.8861 - accuracy: 0.7413 - val_loss: 0.7619 - val_accuracy: 0.7800 - _timestamp: 1649343102.0000 - _runtime: 1097.0000\n",
            "Epoch 5/5\n",
            "79/79 [==============================] - 262s 3s/step - loss: 0.8312 - accuracy: 0.7571 - val_loss: 0.7326 - val_accuracy: 0.7860 - _timestamp: 1649343425.0000 - _runtime: 1420.0000\n",
            "Model tuned successfully!!\n",
            "\n",
            "\n"
          ]
        },
        {
          "output_type": "display_data",
          "data": {
            "text/plain": [
              "<IPython.core.display.HTML object>"
            ],
            "text/html": [
              "Waiting for W&B process to finish... <strong style=\"color:green\">(success).</strong>"
            ]
          },
          "metadata": {}
        },
        {
          "output_type": "display_data",
          "data": {
            "text/plain": [
              "VBox(children=(Label(value='284.026 MB of 284.026 MB uploaded (0.000 MB deduped)\\r'), FloatProgress(value=1.0,…"
            ],
            "application/vnd.jupyter.widget-view+json": {
              "version_major": 2,
              "version_minor": 0,
              "model_id": "d5506af326964cddb1aabed6202226d0"
            }
          },
          "metadata": {}
        },
        {
          "output_type": "display_data",
          "data": {
            "text/plain": [
              "<IPython.core.display.HTML object>"
            ],
            "text/html": [
              "<style>\n",
              "    table.wandb td:nth-child(1) { padding: 0 10px; text-align: right }\n",
              "    .wandb-row { display: flex; flex-direction: row; flex-wrap: wrap; width: 100% }\n",
              "    .wandb-col { display: flex; flex-direction: column; flex-basis: 100%; flex: 1; padding: 10px; }\n",
              "    </style>\n",
              "<div class=\"wandb-row\"><div class=\"wandb-col\"><h3>Run history:</h3><br/><table class=\"wandb\"><tr><td>accuracy</td><td>▁▆▇██</td></tr><tr><td>epoch</td><td>▁▃▅▆█</td></tr><tr><td>loss</td><td>█▄▂▁▁</td></tr><tr><td>val_accuracy</td><td>▁▅▇██</td></tr><tr><td>val_loss</td><td>█▃▂▁▁</td></tr></table><br/></div><div class=\"wandb-col\"><h3>Run summary:</h3><br/><table class=\"wandb\"><tr><td>accuracy</td><td>0.75708</td></tr><tr><td>best_epoch</td><td>4</td></tr><tr><td>best_val_loss</td><td>0.7326</td></tr><tr><td>epoch</td><td>4</td></tr><tr><td>loss</td><td>0.83117</td></tr><tr><td>val_accuracy</td><td>0.786</td></tr><tr><td>val_loss</td><td>0.7326</td></tr></table><br/></div></div>"
            ]
          },
          "metadata": {}
        },
        {
          "output_type": "display_data",
          "data": {
            "text/plain": [
              "<IPython.core.display.HTML object>"
            ],
            "text/html": [
              "Synced <strong style=\"color:#cdcd00\">unique-sweep-2</strong>: <a href=\"https://wandb.ai/manishiitm/CS6910_Assignment2B/runs/azrvw1w8\" target=\"_blank\">https://wandb.ai/manishiitm/CS6910_Assignment2B/runs/azrvw1w8</a><br/>Synced 5 W&B file(s), 1 media file(s), 0 artifact file(s) and 3 other file(s)"
            ]
          },
          "metadata": {}
        },
        {
          "output_type": "display_data",
          "data": {
            "text/plain": [
              "<IPython.core.display.HTML object>"
            ],
            "text/html": [
              "Find logs at: <code>./wandb/run-20220407_143325-azrvw1w8/logs</code>"
            ]
          },
          "metadata": {}
        },
        {
          "output_type": "stream",
          "name": "stderr",
          "text": [
            "\u001b[34m\u001b[1mwandb\u001b[0m: Sweep Agent: Waiting for job.\n",
            "\u001b[34m\u001b[1mwandb\u001b[0m: Job received.\n",
            "\u001b[34m\u001b[1mwandb\u001b[0m: Agent Starting Run: q7wx0zlj with config:\n",
            "\u001b[34m\u001b[1mwandb\u001b[0m: \taugment_data: False\n",
            "\u001b[34m\u001b[1mwandb\u001b[0m: \tbase_model: InceptionV3\n",
            "\u001b[34m\u001b[1mwandb\u001b[0m: \tbatch_normalisation: False\n",
            "\u001b[34m\u001b[1mwandb\u001b[0m: \tdense_Size: 128\n",
            "\u001b[34m\u001b[1mwandb\u001b[0m: \tdropout: 0.37\n",
            "\u001b[34m\u001b[1mwandb\u001b[0m: \tepochs: 5\n",
            "\u001b[34m\u001b[1mwandb\u001b[0m: \tlr: 7e-05\n",
            "\u001b[34m\u001b[1mwandb\u001b[0m: \u001b[33mWARNING\u001b[0m Ignored wandb.init() arg project when running a sweep.\n"
          ]
        },
        {
          "output_type": "display_data",
          "data": {
            "text/plain": [
              "<IPython.core.display.HTML object>"
            ],
            "text/html": [
              "Tracking run with wandb version 0.12.13"
            ]
          },
          "metadata": {}
        },
        {
          "output_type": "display_data",
          "data": {
            "text/plain": [
              "<IPython.core.display.HTML object>"
            ],
            "text/html": [
              "Run data is saved locally in <code>/content/wandb/run-20220407_145841-q7wx0zlj</code>"
            ]
          },
          "metadata": {}
        },
        {
          "output_type": "display_data",
          "data": {
            "text/plain": [
              "<IPython.core.display.HTML object>"
            ],
            "text/html": [
              "Syncing run <strong><a href=\"https://wandb.ai/manishiitm/CS6910_Assignment2B/runs/q7wx0zlj\" target=\"_blank\">fanciful-sweep-3</a></strong> to <a href=\"https://wandb.ai/manishiitm/CS6910_Assignment2B\" target=\"_blank\">Weights & Biases</a> (<a href=\"https://wandb.me/run\" target=\"_blank\">docs</a>)<br/>Sweep page:  <a href=\"https://wandb.ai/manishiitm/CS6910_Assignment2B/sweeps/7mhcjb80\" target=\"_blank\">https://wandb.ai/manishiitm/CS6910_Assignment2B/sweeps/7mhcjb80</a>"
            ]
          },
          "metadata": {}
        },
        {
          "output_type": "stream",
          "name": "stdout",
          "text": [
            "1. Loading the dataset ...\n",
            "\n",
            "Found 9999 images belonging to 10 classes.\n",
            "Found 2000 images belonging to 10 classes.\n",
            "Total layers in base model is 7\n",
            "\n",
            "Fine tuning the model ...\n",
            "\n",
            "Epoch 1/5\n",
            "79/79 [==============================] - 190s 2s/step - loss: 2.7432 - accuracy: 0.1124 - val_loss: 2.3380 - val_accuracy: 0.1245 - _timestamp: 1649343725.0000 - _runtime: 204.0000\n",
            "Epoch 2/5\n",
            "79/79 [==============================] - 181s 2s/step - loss: 2.5719 - accuracy: 0.1148 - val_loss: 2.2820 - val_accuracy: 0.1460 - _timestamp: 1649343906.0000 - _runtime: 385.0000\n",
            "Epoch 3/5\n",
            "79/79 [==============================] - 179s 2s/step - loss: 2.5076 - accuracy: 0.1249 - val_loss: 2.2439 - val_accuracy: 0.1705 - _timestamp: 1649344085.0000 - _runtime: 564.0000\n",
            "Epoch 4/5\n",
            "79/79 [==============================] - 178s 2s/step - loss: 2.4443 - accuracy: 0.1396 - val_loss: 2.2102 - val_accuracy: 0.2025 - _timestamp: 1649344263.0000 - _runtime: 742.0000\n",
            "Epoch 5/5\n",
            "79/79 [==============================] - 179s 2s/step - loss: 2.4063 - accuracy: 0.1486 - val_loss: 2.1813 - val_accuracy: 0.2305 - _timestamp: 1649344466.0000 - _runtime: 945.0000\n",
            "Model tuned successfully!!\n",
            "\n",
            "\n"
          ]
        },
        {
          "output_type": "display_data",
          "data": {
            "text/plain": [
              "<IPython.core.display.HTML object>"
            ],
            "text/html": [
              "Waiting for W&B process to finish... <strong style=\"color:green\">(success).</strong>"
            ]
          },
          "metadata": {}
        },
        {
          "output_type": "display_data",
          "data": {
            "text/plain": [
              "VBox(children=(Label(value='148.627 MB of 148.627 MB uploaded (0.000 MB deduped)\\r'), FloatProgress(value=1.0,…"
            ],
            "application/vnd.jupyter.widget-view+json": {
              "version_major": 2,
              "version_minor": 0,
              "model_id": "8c3e5de06c7e4532af0e829184bfffcd"
            }
          },
          "metadata": {}
        },
        {
          "output_type": "display_data",
          "data": {
            "text/plain": [
              "<IPython.core.display.HTML object>"
            ],
            "text/html": [
              "<style>\n",
              "    table.wandb td:nth-child(1) { padding: 0 10px; text-align: right }\n",
              "    .wandb-row { display: flex; flex-direction: row; flex-wrap: wrap; width: 100% }\n",
              "    .wandb-col { display: flex; flex-direction: column; flex-basis: 100%; flex: 1; padding: 10px; }\n",
              "    </style>\n",
              "<div class=\"wandb-row\"><div class=\"wandb-col\"><h3>Run history:</h3><br/><table class=\"wandb\"><tr><td>accuracy</td><td>▁▁▃▆█</td></tr><tr><td>epoch</td><td>▁▃▅▆█</td></tr><tr><td>loss</td><td>█▄▃▂▁</td></tr><tr><td>val_accuracy</td><td>▁▂▄▆█</td></tr><tr><td>val_loss</td><td>█▅▄▂▁</td></tr></table><br/></div><div class=\"wandb-col\"><h3>Run summary:</h3><br/><table class=\"wandb\"><tr><td>accuracy</td><td>0.14861</td></tr><tr><td>best_epoch</td><td>4</td></tr><tr><td>best_val_loss</td><td>2.18134</td></tr><tr><td>epoch</td><td>4</td></tr><tr><td>loss</td><td>2.40632</td></tr><tr><td>val_accuracy</td><td>0.2305</td></tr><tr><td>val_loss</td><td>2.18134</td></tr></table><br/></div></div>"
            ]
          },
          "metadata": {}
        },
        {
          "output_type": "display_data",
          "data": {
            "text/plain": [
              "<IPython.core.display.HTML object>"
            ],
            "text/html": [
              "Synced <strong style=\"color:#cdcd00\">fanciful-sweep-3</strong>: <a href=\"https://wandb.ai/manishiitm/CS6910_Assignment2B/runs/q7wx0zlj\" target=\"_blank\">https://wandb.ai/manishiitm/CS6910_Assignment2B/runs/q7wx0zlj</a><br/>Synced 5 W&B file(s), 1 media file(s), 0 artifact file(s) and 3 other file(s)"
            ]
          },
          "metadata": {}
        },
        {
          "output_type": "display_data",
          "data": {
            "text/plain": [
              "<IPython.core.display.HTML object>"
            ],
            "text/html": [
              "Find logs at: <code>./wandb/run-20220407_145841-q7wx0zlj/logs</code>"
            ]
          },
          "metadata": {}
        },
        {
          "output_type": "stream",
          "name": "stderr",
          "text": [
            "\u001b[34m\u001b[1mwandb\u001b[0m: Agent Starting Run: rgcu858k with config:\n",
            "\u001b[34m\u001b[1mwandb\u001b[0m: \taugment_data: False\n",
            "\u001b[34m\u001b[1mwandb\u001b[0m: \tbase_model: ResNet50\n",
            "\u001b[34m\u001b[1mwandb\u001b[0m: \tbatch_normalisation: False\n",
            "\u001b[34m\u001b[1mwandb\u001b[0m: \tdense_Size: 512\n",
            "\u001b[34m\u001b[1mwandb\u001b[0m: \tdropout: 0.37\n",
            "\u001b[34m\u001b[1mwandb\u001b[0m: \tepochs: 5\n",
            "\u001b[34m\u001b[1mwandb\u001b[0m: \tlr: 7e-05\n",
            "\u001b[34m\u001b[1mwandb\u001b[0m: \u001b[33mWARNING\u001b[0m Ignored wandb.init() arg project when running a sweep.\n"
          ]
        },
        {
          "output_type": "display_data",
          "data": {
            "text/plain": [
              "<IPython.core.display.HTML object>"
            ],
            "text/html": [
              "Tracking run with wandb version 0.12.13"
            ]
          },
          "metadata": {}
        },
        {
          "output_type": "display_data",
          "data": {
            "text/plain": [
              "<IPython.core.display.HTML object>"
            ],
            "text/html": [
              "Run data is saved locally in <code>/content/wandb/run-20220407_151510-rgcu858k</code>"
            ]
          },
          "metadata": {}
        },
        {
          "output_type": "display_data",
          "data": {
            "text/plain": [
              "<IPython.core.display.HTML object>"
            ],
            "text/html": [
              "Syncing run <strong><a href=\"https://wandb.ai/manishiitm/CS6910_Assignment2B/runs/rgcu858k\" target=\"_blank\">peach-sweep-4</a></strong> to <a href=\"https://wandb.ai/manishiitm/CS6910_Assignment2B\" target=\"_blank\">Weights & Biases</a> (<a href=\"https://wandb.me/run\" target=\"_blank\">docs</a>)<br/>Sweep page:  <a href=\"https://wandb.ai/manishiitm/CS6910_Assignment2B/sweeps/7mhcjb80\" target=\"_blank\">https://wandb.ai/manishiitm/CS6910_Assignment2B/sweeps/7mhcjb80</a>"
            ]
          },
          "metadata": {}
        },
        {
          "output_type": "stream",
          "name": "stdout",
          "text": [
            "1. Loading the dataset ...\n",
            "\n",
            "Found 9999 images belonging to 10 classes.\n",
            "Found 2000 images belonging to 10 classes.\n",
            "Downloading data from https://storage.googleapis.com/tensorflow/keras-applications/resnet/resnet50_weights_tf_dim_ordering_tf_kernels_notop.h5\n",
            "94773248/94765736 [==============================] - 3s 0us/step\n",
            "94781440/94765736 [==============================] - 3s 0us/step\n",
            "Total layers in base model is 7\n",
            "\n",
            "Fine tuning the model ...\n",
            "\n",
            "Epoch 1/5\n",
            "79/79 [==============================] - 181s 2s/step - loss: 2.6782 - accuracy: 0.1023 - val_loss: 2.3002 - val_accuracy: 0.1175 - _timestamp: 1649344707.0000 - _runtime: 197.0000\n",
            "Epoch 2/5\n",
            "79/79 [==============================] - 168s 2s/step - loss: 2.5457 - accuracy: 0.1070 - val_loss: 2.2937 - val_accuracy: 0.1260 - _timestamp: 1649344875.0000 - _runtime: 365.0000\n",
            "Epoch 3/5\n",
            "79/79 [==============================] - 166s 2s/step - loss: 2.4708 - accuracy: 0.1038 - val_loss: 2.2884 - val_accuracy: 0.1595 - _timestamp: 1649345041.0000 - _runtime: 531.0000\n",
            "Epoch 4/5\n",
            "79/79 [==============================] - 167s 2s/step - loss: 2.4145 - accuracy: 0.1083 - val_loss: 2.2860 - val_accuracy: 0.1385 - _timestamp: 1649345244.0000 - _runtime: 734.0000\n",
            "Epoch 5/5\n",
            "79/79 [==============================] - 165s 2s/step - loss: 2.3734 - accuracy: 0.1140 - val_loss: 2.2842 - val_accuracy: 0.1480 - _timestamp: 1649345409.0000 - _runtime: 899.0000\n",
            "Model tuned successfully!!\n",
            "\n",
            "\n"
          ]
        },
        {
          "output_type": "display_data",
          "data": {
            "text/plain": [
              "<IPython.core.display.HTML object>"
            ],
            "text/html": [
              "Waiting for W&B process to finish... <strong style=\"color:green\">(success).</strong>"
            ]
          },
          "metadata": {}
        },
        {
          "output_type": "display_data",
          "data": {
            "text/plain": [
              "VBox(children=(Label(value='289.886 MB of 289.886 MB uploaded (0.000 MB deduped)\\r'), FloatProgress(value=1.0,…"
            ],
            "application/vnd.jupyter.widget-view+json": {
              "version_major": 2,
              "version_minor": 0,
              "model_id": "7eb81aaa31754a17b74dcd9b2543d702"
            }
          },
          "metadata": {}
        },
        {
          "output_type": "display_data",
          "data": {
            "text/plain": [
              "<IPython.core.display.HTML object>"
            ],
            "text/html": [
              "<style>\n",
              "    table.wandb td:nth-child(1) { padding: 0 10px; text-align: right }\n",
              "    .wandb-row { display: flex; flex-direction: row; flex-wrap: wrap; width: 100% }\n",
              "    .wandb-col { display: flex; flex-direction: column; flex-basis: 100%; flex: 1; padding: 10px; }\n",
              "    </style>\n",
              "<div class=\"wandb-row\"><div class=\"wandb-col\"><h3>Run history:</h3><br/><table class=\"wandb\"><tr><td>accuracy</td><td>▁▄▂▅█</td></tr><tr><td>epoch</td><td>▁▃▅▆█</td></tr><tr><td>loss</td><td>█▅▃▂▁</td></tr><tr><td>val_accuracy</td><td>▁▂█▅▆</td></tr><tr><td>val_loss</td><td>█▅▃▂▁</td></tr></table><br/></div><div class=\"wandb-col\"><h3>Run summary:</h3><br/><table class=\"wandb\"><tr><td>accuracy</td><td>0.11401</td></tr><tr><td>best_epoch</td><td>4</td></tr><tr><td>best_val_loss</td><td>2.28425</td></tr><tr><td>epoch</td><td>4</td></tr><tr><td>loss</td><td>2.37339</td></tr><tr><td>val_accuracy</td><td>0.148</td></tr><tr><td>val_loss</td><td>2.28425</td></tr></table><br/></div></div>"
            ]
          },
          "metadata": {}
        },
        {
          "output_type": "display_data",
          "data": {
            "text/plain": [
              "<IPython.core.display.HTML object>"
            ],
            "text/html": [
              "Synced <strong style=\"color:#cdcd00\">peach-sweep-4</strong>: <a href=\"https://wandb.ai/manishiitm/CS6910_Assignment2B/runs/rgcu858k\" target=\"_blank\">https://wandb.ai/manishiitm/CS6910_Assignment2B/runs/rgcu858k</a><br/>Synced 5 W&B file(s), 1 media file(s), 0 artifact file(s) and 3 other file(s)"
            ]
          },
          "metadata": {}
        },
        {
          "output_type": "display_data",
          "data": {
            "text/plain": [
              "<IPython.core.display.HTML object>"
            ],
            "text/html": [
              "Find logs at: <code>./wandb/run-20220407_151510-rgcu858k/logs</code>"
            ]
          },
          "metadata": {}
        },
        {
          "output_type": "stream",
          "name": "stderr",
          "text": [
            "\u001b[34m\u001b[1mwandb\u001b[0m: Agent Starting Run: 49oprrrg with config:\n",
            "\u001b[34m\u001b[1mwandb\u001b[0m: \taugment_data: False\n",
            "\u001b[34m\u001b[1mwandb\u001b[0m: \tbase_model: InceptionResNetV2\n",
            "\u001b[34m\u001b[1mwandb\u001b[0m: \tbatch_normalisation: True\n",
            "\u001b[34m\u001b[1mwandb\u001b[0m: \tdense_Size: 512\n",
            "\u001b[34m\u001b[1mwandb\u001b[0m: \tdropout: 0.37\n",
            "\u001b[34m\u001b[1mwandb\u001b[0m: \tepochs: 10\n",
            "\u001b[34m\u001b[1mwandb\u001b[0m: \tlr: 0.0002\n",
            "\u001b[34m\u001b[1mwandb\u001b[0m: \u001b[33mWARNING\u001b[0m Ignored wandb.init() arg project when running a sweep.\n"
          ]
        },
        {
          "output_type": "display_data",
          "data": {
            "text/plain": [
              "<IPython.core.display.HTML object>"
            ],
            "text/html": [
              "Tracking run with wandb version 0.12.13"
            ]
          },
          "metadata": {}
        },
        {
          "output_type": "display_data",
          "data": {
            "text/plain": [
              "<IPython.core.display.HTML object>"
            ],
            "text/html": [
              "Run data is saved locally in <code>/content/wandb/run-20220407_153034-49oprrrg</code>"
            ]
          },
          "metadata": {}
        },
        {
          "output_type": "display_data",
          "data": {
            "text/plain": [
              "<IPython.core.display.HTML object>"
            ],
            "text/html": [
              "Syncing run <strong><a href=\"https://wandb.ai/manishiitm/CS6910_Assignment2B/runs/49oprrrg\" target=\"_blank\">peachy-sweep-5</a></strong> to <a href=\"https://wandb.ai/manishiitm/CS6910_Assignment2B\" target=\"_blank\">Weights & Biases</a> (<a href=\"https://wandb.me/run\" target=\"_blank\">docs</a>)<br/>Sweep page:  <a href=\"https://wandb.ai/manishiitm/CS6910_Assignment2B/sweeps/7mhcjb80\" target=\"_blank\">https://wandb.ai/manishiitm/CS6910_Assignment2B/sweeps/7mhcjb80</a>"
            ]
          },
          "metadata": {}
        },
        {
          "output_type": "stream",
          "name": "stdout",
          "text": [
            "1. Loading the dataset ...\n",
            "\n",
            "Found 9999 images belonging to 10 classes.\n",
            "Found 2000 images belonging to 10 classes.\n",
            "Total layers in base model is 8\n",
            "\n",
            "Fine tuning the model ...\n",
            "\n",
            "Epoch 1/10\n",
            "79/79 [==============================] - 280s 3s/step - loss: 2.0981 - accuracy: 0.2889 - val_loss: 1.4466 - val_accuracy: 0.6730 - _timestamp: 1649345731.0000 - _runtime: 297.0000\n",
            "Epoch 2/10\n",
            "69/79 [=========================>....] - ETA: 27s - loss: 1.5345 - accuracy: 0.5332"
          ]
        }
      ]
    }
  ]
}